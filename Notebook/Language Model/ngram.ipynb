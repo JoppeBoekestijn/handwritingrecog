{
 "cells": [
  {
   "cell_type": "code",
   "execution_count": 11,
   "metadata": {},
   "outputs": [
    {
     "data": {
      "text/plain": [
       "Hebrew_character    object\n",
       "Names               object\n",
       "Frequencies          int64\n",
       "dtype: object"
      ]
     },
     "execution_count": 11,
     "metadata": {},
     "output_type": "execute_result"
    }
   ],
   "source": [
    "import pandas as pd\n",
    "\n",
    "df = pd.read_excel (r'ngrams_frequencies_withNames.xlsx')\n",
    "df.dtypes"
   ]
  },
  {
   "cell_type": "code",
   "execution_count": 39,
   "metadata": {},
   "outputs": [
    {
     "name": "stdout",
     "output_type": "stream",
     "text": [
      "{'Alef': 1390, 'Lamed': 1828, 'Kaf': 842, 'Waw': 3841, 'Shin': 1236, 'Resh': 1584, 'Ayin': 995, 'Taw': 1491, 'Yod': 2737, 'Dalet': 835, 'Mem-medial': 1531, 'Nun-final': 411, 'Mem': 757, 'Bet': 1796, 'Nun-medial': 876, 'He': 2099, 'Het': 785, 'Pe': 467, 'Qof': 496, 'Kaf-final': 151, 'Tet': 236, 'Tasdi-final': 44, 'Tsadi': 303, 'Zayin': 248, 'Gimel': 259, 'Pe-final': 54, 'Samekh': 222}\n",
      "27\n"
     ]
    }
   ],
   "source": [
    "df2 = df['Names'].values.tolist()\n",
    "df3 = [word.replace('_',' ') for word in df2]\n",
    "#print (df3)\n",
    "df4 = [word.split() for word in df3]\n",
    "#print(df4)\n",
    "#df5 = [word.append() for word in df4]\n",
    "df5 = []\n",
    "for words in df4:\n",
    "    for word in words:\n",
    "        df5.append(word)\n",
    "dic1 = {}\n",
    "for word in df5:\n",
    "    if word not in dic1:\n",
    "        dic1[word] = 0\n",
    "    dic1[word] += 1\n",
    "print(dic1)\n",
    "print (len(dic1))"
   ]
  },
  {
   "cell_type": "code",
   "execution_count": 41,
   "metadata": {},
   "outputs": [
    {
     "name": "stdout",
     "output_type": "stream",
     "text": [
      "     Hebrew_character                                 Names  Frequencies\n",
      "0                  אל                            Alef_Lamed          800\n",
      "1                 כול                         Kaf_Waw_Lamed          788\n",
      "2                 אשר                        Alef_Shin_Resh          780\n",
      "3                  על                            Ayin_Lamed          710\n",
      "4                  את                              Alef_Taw          688\n",
      "5                  כי                               Kaf_Yod          423\n",
      "6                 לוא                        Lamed_Waw_Alef          361\n",
      "7                  עד                            Ayin_Dalet          340\n",
      "8                  די                             Dalet_Yod          339\n",
      "9                  מן                  Mem-medial_Nun-final          338\n",
      "10                 לא                            Lamed_Alef          286\n",
      "11                איש                         Alef_Yod_Shin          286\n",
      "12                 עם                              Ayin_Mem          270\n",
      "13               וכול                     Waw_Kaf_Waw_Lamed          235\n",
      "14                כיא                          Kaf_Yod_Alef          234\n",
      "15                ואת                          Waw_Alef_Taw          217\n",
      "16               ולוא                    Waw_Lamed_Waw_Alef          217\n",
      "17                בני                    Bet_Nun-medial_Yod          213\n",
      "18                 כה                                Kaf_He          209\n",
      "19               לכול                   Lamed_Kaf_Waw_Lamed          206\n",
      "20                 כל                             Kaf_Lamed          198\n",
      "21               בכול                     Bet_Kaf_Waw_Lamed          186\n",
      "22                 לו                             Lamed_Waw          185\n",
      "23                ולא                        Waw_Lamed_Alef          179\n",
      "24                הוא                           He_Waw_Alef          179\n",
      "25              ישראל              Yod_Shin_Resh_Alef_Lamed          174\n",
      "26                 בו                               Bet_Waw          156\n",
      "27                 לה                              Lamed_He          154\n",
      "28                 לי                             Lamed_Yod          152\n",
      "29                ועל                        Waw_Ayin_Lamed          134\n",
      "...               ...                                   ...          ...\n",
      "6030            ידעוך          Yod_Dalet_Ayin_Waw_Kaf-final            2\n",
      "6031           למכשול   Lamed_Mem-medial_Kaf_Shin_Waw_Lamed            2\n",
      "6032           וקדישא           Waw_Qof_Dalet_Yod_Shin_Alef            2\n",
      "6033             כבוס                    Kaf_Bet_Waw_Samekh            2\n",
      "6034            הטהור                    He_Tet_He_Waw_Resh            2\n",
      "6035             נשבר              Nun-medial_Shin_Bet_Resh            2\n",
      "6036            פרישא                 Pe_Resh_Yod_Shin_Alef            2\n",
      "6037            חזיון           Het_Zayin_Yod_Waw_Nun-final            2\n",
      "6038           בהיותם                Bet_He_Yod_Waw_Taw_Mem            2\n",
      "6039             לחמי              Lamed_Het_Mem-medial_Yod            2\n",
      "6040            מולוא         Mem-medial_Waw_Lamed_Waw_Alef            2\n",
      "6041           שתיתיא             Shin_Taw_Yod_Taw_Yod_Alef            2\n",
      "6042            והרית                   Waw_He_Resh_Yod_Taw            2\n",
      "6043             ופרח                       Waw_Pe_Resh_Het            2\n",
      "6044           מהומות  Mem-medial_He_Waw_Mem-medial_Waw_Taw            2\n",
      "6045            הכידן            He_Kaf_Yod_Dalet_Nun-final            2\n",
      "6046             היטב                        He_Yod_Tet_Bet            2\n",
      "6047            ואברם                 Waw_Alef_Bet_Resh_Mem            2\n",
      "6048            וימים            Waw_Yod_Mem-medial_Yod_Mem            2\n",
      "6049             להעם                     Lamed_He_Ayin_Mem            2\n",
      "6050           לעלמים   Lamed_Ayin_Lamed_Mem-medial_Yod_Mem            2\n",
      "6051            למרחב         Lamed_Mem-medial_Resh_Het_Bet            2\n",
      "6052             תניר               Taw_Nun-medial_Yod_Resh            2\n",
      "6053            אהבתו                   Alef_He_Bet_Taw_Waw            2\n",
      "6054         ושערוריה    Waw_Shin_Ayin_Resh_Waw_Resh_Yod_He            2\n",
      "6055           ויטמאו       Waw_Yod_Tet_Mem-medial_Alef_Waw            2\n",
      "6056             מקרה                Mem-medial_Qof_Resh_He            2\n",
      "6057             פלאך               Pe_Lamed_Alef_Kaf-final            2\n",
      "6058             באמר              Bet_Alef_Mem-medial_Resh            2\n",
      "6059             ברשע                    Bet_Resh_Shin_Ayin            2\n",
      "\n",
      "[6060 rows x 3 columns]\n"
     ]
    }
   ],
   "source": []
  }
 ],
 "metadata": {
  "kernelspec": {
   "display_name": "Python 3",
   "language": "python",
   "name": "python3"
  },
  "language_info": {
   "codemirror_mode": {
    "name": "ipython",
    "version": 3
   },
   "file_extension": ".py",
   "mimetype": "text/x-python",
   "name": "python",
   "nbconvert_exporter": "python",
   "pygments_lexer": "ipython3",
   "version": "3.7.3"
  }
 },
 "nbformat": 4,
 "nbformat_minor": 2
}
