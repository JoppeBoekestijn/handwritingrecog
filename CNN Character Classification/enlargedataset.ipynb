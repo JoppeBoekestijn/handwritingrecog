{
 "cells": [
  {
   "cell_type": "code",
   "execution_count": 1,
   "metadata": {},
   "outputs": [],
   "source": [
    "import glob\n",
    "import Augmentor\n",
    "import os\n",
    "from PIL import Image\n",
    "import PIL.ImageOps"
   ]
  },
  {
   "cell_type": "code",
   "execution_count": 2,
   "metadata": {},
   "outputs": [],
   "source": [
    "class_names = [\n",
    "    \"Alef\",\n",
    "    \"Ayin\",\n",
    "    \"Bet\",\n",
    "    \"Dalet\",\n",
    "    \"Gimel\",\n",
    "    \"He\",\n",
    "    \"Het\",\n",
    "    \"Kaf\",\n",
    "    \"Kaf-final\",\n",
    "    \"Lamed\",\n",
    "    \"Mem\",\n",
    "    \"Mem-medial\",\n",
    "    \"Nun-final\",\n",
    "    \"Nun-medial\",\n",
    "    \"Pe\",\n",
    "    \"Pe-final\",\n",
    "    \"Qof\",\n",
    "    \"Resh\",\n",
    "    \"Samekh\",\n",
    "    \"Shin\",\n",
    "    \"Taw\",\n",
    "    \"Tet\",\n",
    "    \"Tsadi-final\",\n",
    "    \"Tsadi-medial\",\n",
    "    \"Waw\",\n",
    "    \"Yod\",\n",
    "    \"Zayin\"\n",
    "]"
   ]
  },
  {
   "cell_type": "code",
   "execution_count": 3,
   "metadata": {},
   "outputs": [
    {
     "data": {
      "text/plain": [
       "['figures_monkbrill/train_cor\\\\Alef',\n",
       " 'figures_monkbrill/train_cor\\\\Ayin',\n",
       " 'figures_monkbrill/train_cor\\\\Bet',\n",
       " 'figures_monkbrill/train_cor\\\\Dalet',\n",
       " 'figures_monkbrill/train_cor\\\\Gimel',\n",
       " 'figures_monkbrill/train_cor\\\\He',\n",
       " 'figures_monkbrill/train_cor\\\\Het',\n",
       " 'figures_monkbrill/train_cor\\\\Kaf',\n",
       " 'figures_monkbrill/train_cor\\\\Kaf-final',\n",
       " 'figures_monkbrill/train_cor\\\\Lamed',\n",
       " 'figures_monkbrill/train_cor\\\\Mem',\n",
       " 'figures_monkbrill/train_cor\\\\Mem-medial',\n",
       " 'figures_monkbrill/train_cor\\\\Nun-final',\n",
       " 'figures_monkbrill/train_cor\\\\Nun-medial',\n",
       " 'figures_monkbrill/train_cor\\\\Pe',\n",
       " 'figures_monkbrill/train_cor\\\\Pe-final',\n",
       " 'figures_monkbrill/train_cor\\\\Qof',\n",
       " 'figures_monkbrill/train_cor\\\\Resh',\n",
       " 'figures_monkbrill/train_cor\\\\Samekh',\n",
       " 'figures_monkbrill/train_cor\\\\Shin',\n",
       " 'figures_monkbrill/train_cor\\\\Taw',\n",
       " 'figures_monkbrill/train_cor\\\\Tet',\n",
       " 'figures_monkbrill/train_cor\\\\Tsadi-final',\n",
       " 'figures_monkbrill/train_cor\\\\Tsadi-medial',\n",
       " 'figures_monkbrill/train_cor\\\\Waw',\n",
       " 'figures_monkbrill/train_cor\\\\Yod',\n",
       " 'figures_monkbrill/train_cor\\\\Zayin']"
      ]
     },
     "execution_count": 3,
     "metadata": {},
     "output_type": "execute_result"
    }
   ],
   "source": [
    "input_filepath = 'figures_monkbrill/train_cor/'\n",
    "character_filepaths = glob.glob(input_filepath + '*')\n",
    "character_filepaths"
   ]
  },
  {
   "cell_type": "code",
   "execution_count": 20,
   "metadata": {},
   "outputs": [],
   "source": [
    "def make_dir(filepath):\n",
    "    if not os.path.isdir(filepath):\n",
    "        os.mkdir(filepath)\n",
    "        os.mkdir(filepath + '/train_cor')\n",
    "        for name in class_names:\n",
    "            os.mkdir(filepath + '/train_cor' + '/' + name)"
   ]
  },
  {
   "cell_type": "code",
   "execution_count": 6,
   "metadata": {},
   "outputs": [],
   "source": [
    "# Reads all images from 'figures_monkbrill', inverts them, and stores them in 'inverted_figures_monkbrill'\n",
    "output_filepath = 'inverted_figures_monkbrill/train_cor/'\n",
    "make_dir('inverted_figures_monkbrill')\n",
    "for character_filepath in character_filepaths:\n",
    "    image_filepaths = glob.glob(character_filepath + '/*')\n",
    "    \n",
    "    for idx1, image_filepath in enumerate(image_filepaths):\n",
    "        image = Image.open(image_filepath)\n",
    "        image = PIL.ImageOps.invert(image)\n",
    "        image.save('inverted_' + character_filepath + '/' + str(idx1) + '.png')"
   ]
  },
  {
   "cell_type": "code",
   "execution_count": 10,
   "metadata": {},
   "outputs": [
    {
     "ename": "KeyboardInterrupt",
     "evalue": "",
     "output_type": "error",
     "traceback": [
      "\u001b[1;31m---------------------------------------------------------------------------\u001b[0m",
      "\u001b[1;31mKeyboardInterrupt\u001b[0m                         Traceback (most recent call last)",
      "\u001b[1;32m<ipython-input-10-fb63e63c3236>\u001b[0m in \u001b[0;36m<module>\u001b[1;34m()\u001b[0m\n\u001b[0;32m      6\u001b[0m     \u001b[1;32mfor\u001b[0m \u001b[0midx1\u001b[0m\u001b[1;33m,\u001b[0m \u001b[0mimage_filepath\u001b[0m \u001b[1;32min\u001b[0m \u001b[0menumerate\u001b[0m\u001b[1;33m(\u001b[0m\u001b[0mimage_filepaths\u001b[0m\u001b[1;33m)\u001b[0m\u001b[1;33m:\u001b[0m\u001b[1;33m\u001b[0m\u001b[0m\n\u001b[0;32m      7\u001b[0m \u001b[1;31m#         try:\u001b[0m\u001b[1;33m\u001b[0m\u001b[1;33m\u001b[0m\u001b[0m\n\u001b[1;32m----> 8\u001b[1;33m             \u001b[0mImage\u001b[0m\u001b[1;33m.\u001b[0m\u001b[0mopen\u001b[0m\u001b[1;33m(\u001b[0m\u001b[0mimage_filepath\u001b[0m\u001b[1;33m)\u001b[0m\u001b[1;33m.\u001b[0m\u001b[0msave\u001b[0m\u001b[1;33m(\u001b[0m\u001b[1;34m'dataaug_'\u001b[0m \u001b[1;33m+\u001b[0m \u001b[0mcharacter_filepath\u001b[0m \u001b[1;33m+\u001b[0m \u001b[1;34m'/'\u001b[0m \u001b[1;33m+\u001b[0m \u001b[0mstr\u001b[0m\u001b[1;33m(\u001b[0m\u001b[0midx1\u001b[0m\u001b[1;33m)\u001b[0m \u001b[1;33m+\u001b[0m \u001b[1;34m'.png'\u001b[0m\u001b[1;33m)\u001b[0m\u001b[1;33m\u001b[0m\u001b[0m\n\u001b[0m\u001b[0;32m      9\u001b[0m \u001b[1;31m#         except:\u001b[0m\u001b[1;33m\u001b[0m\u001b[1;33m\u001b[0m\u001b[0m\n\u001b[0;32m     10\u001b[0m \u001b[1;31m#             print(idx1, image_filepath)\u001b[0m\u001b[1;33m\u001b[0m\u001b[1;33m\u001b[0m\u001b[0m\n",
      "\u001b[1;32mc:\\users\\joppe\\anaconda3\\envs\\tensorflow\\lib\\site-packages\\PIL\\Image.py\u001b[0m in \u001b[0;36msave\u001b[1;34m(self, fp, format, **params)\u001b[0m\n\u001b[0;32m   1952\u001b[0m             \u001b[1;31m# do what we can to clean up\u001b[0m\u001b[1;33m\u001b[0m\u001b[1;33m\u001b[0m\u001b[0m\n\u001b[0;32m   1953\u001b[0m             \u001b[1;32mif\u001b[0m \u001b[0mopen_fp\u001b[0m\u001b[1;33m:\u001b[0m\u001b[1;33m\u001b[0m\u001b[0m\n\u001b[1;32m-> 1954\u001b[1;33m                 \u001b[0mfp\u001b[0m\u001b[1;33m.\u001b[0m\u001b[0mclose\u001b[0m\u001b[1;33m(\u001b[0m\u001b[1;33m)\u001b[0m\u001b[1;33m\u001b[0m\u001b[0m\n\u001b[0m\u001b[0;32m   1955\u001b[0m \u001b[1;33m\u001b[0m\u001b[0m\n\u001b[0;32m   1956\u001b[0m     \u001b[1;32mdef\u001b[0m \u001b[0mseek\u001b[0m\u001b[1;33m(\u001b[0m\u001b[0mself\u001b[0m\u001b[1;33m,\u001b[0m \u001b[0mframe\u001b[0m\u001b[1;33m)\u001b[0m\u001b[1;33m:\u001b[0m\u001b[1;33m\u001b[0m\u001b[0m\n",
      "\u001b[1;31mKeyboardInterrupt\u001b[0m: "
     ]
    }
   ],
   "source": [
    "# Converts all pgm images to png in dataaug_figures_monkbrill/train_cor/etc\n",
    "output_filepath = 'dataaug_figures_monkbrill/train_cor/'\n",
    "make_dir('dataaug_figures_monkbrill')\n",
    "for character_filepath in character_filepaths:\n",
    "    image_filepaths = glob.glob(character_filepath + '/*')\n",
    "    image_names = [os.path.splitext(x)[0] for x in image_filepaths]\n",
    "    for idx1, image_filepath in enumerate(image_filepaths):\n",
    "            Image.open(image_filepath).save('dataaug_' + character_filepath + '/' + str(idx1) + '.png')"
   ]
  },
  {
   "cell_type": "code",
   "execution_count": 4,
   "metadata": {},
   "outputs": [
    {
     "name": "stdout",
     "output_type": "stream",
     "text": [
      "Initialised with 300 image(s) found.\n",
      "Output directory set to inverted_figures_monkbrill/train_cor/Alef\\output.Initialised with 300 image(s) found.\n",
      "Output directory set to inverted_figures_monkbrill/train_cor/Ayin\\output.Initialised with 300 image(s) found.\n",
      "Output directory set to inverted_figures_monkbrill/train_cor/Bet\\output.Initialised with 91 image(s) found.\n",
      "Output directory set to inverted_figures_monkbrill/train_cor/Dalet\\output.Initialised with 300 image(s) found.\n",
      "Output directory set to inverted_figures_monkbrill/train_cor/Gimel\\output.Initialised with 300 image(s) found.\n",
      "Output directory set to inverted_figures_monkbrill/train_cor/He\\output.Initialised with 300 image(s) found.\n",
      "Output directory set to inverted_figures_monkbrill/train_cor/Het\\output.Initialised with 193 image(s) found.\n",
      "Output directory set to inverted_figures_monkbrill/train_cor/Kaf\\output.Initialised with 10 image(s) found.\n",
      "Output directory set to inverted_figures_monkbrill/train_cor/Kaf-final\\output.Initialised with 294 image(s) found.\n",
      "Output directory set to inverted_figures_monkbrill/train_cor/Lamed\\output.Initialised with 300 image(s) found.\n",
      "Output directory set to inverted_figures_monkbrill/train_cor/Mem\\output.Initialised with 300 image(s) found.\n",
      "Output directory set to inverted_figures_monkbrill/train_cor/Mem-medial\\output.Initialised with 130 image(s) found.\n",
      "Output directory set to inverted_figures_monkbrill/train_cor/Nun-final\\output.Initialised with 300 image(s) found.\n",
      "Output directory set to inverted_figures_monkbrill/train_cor/Nun-medial\\output.Initialised with 37 image(s) found.\n",
      "Output directory set to inverted_figures_monkbrill/train_cor/Pe\\output.Initialised with 15 image(s) found.\n",
      "Output directory set to inverted_figures_monkbrill/train_cor/Pe-final\\output.Initialised with 265 image(s) found.\n",
      "Output directory set to inverted_figures_monkbrill/train_cor/Qof\\output.Initialised with 78 image(s) found.\n",
      "Output directory set to inverted_figures_monkbrill/train_cor/Resh\\output.Initialised with 300 image(s) found.\n",
      "Output directory set to inverted_figures_monkbrill/train_cor/Samekh\\output.Initialised with 300 image(s) found.\n",
      "Output directory set to inverted_figures_monkbrill/train_cor/Shin\\output.Initialised with 300 image(s) found.\n",
      "Output directory set to inverted_figures_monkbrill/train_cor/Taw\\output.Initialised with 300 image(s) found.\n",
      "Output directory set to inverted_figures_monkbrill/train_cor/Tet\\output.Initialised with 73 image(s) found.\n",
      "Output directory set to inverted_figures_monkbrill/train_cor/Tsadi-final\\output.Initialised with 300 image(s) found.\n",
      "Output directory set to inverted_figures_monkbrill/train_cor/Tsadi-medial\\output.Initialised with 116 image(s) found.\n",
      "Output directory set to inverted_figures_monkbrill/train_cor/Waw\\output.Initialised with 23 image(s) found.\n",
      "Output directory set to inverted_figures_monkbrill/train_cor/Yod\\output.Initialised with 12 image(s) found.\n",
      "Output directory set to inverted_figures_monkbrill/train_cor/Zayin\\output."
     ]
    }
   ],
   "source": [
    "output_filepath = 'inverted_figures_monkbrill/train_cor/'\n",
    "pipelines = []\n",
    "for name in class_names:\n",
    "    pipelines.append(Augmentor.Pipeline(output_filepath + name))\n",
    "    \n",
    "# for p in pipelines:\n",
    "#     print(p.augmentor_images[0].image_file_name)\n",
    "#     print(\"Class %s has %s samples.\" % (p.augmentor_images[0].class_label, len(p.augmentor_images)))"
   ]
  },
  {
   "cell_type": "code",
   "execution_count": 5,
   "metadata": {},
   "outputs": [
    {
     "name": "stdout",
     "output_type": "stream",
     "text": [
      "Operations: 0\n",
      "Images: 300\n",
      "Classes: 1\n",
      "\tClass index: 0 Class label: Alef \n",
      "Dimensions: 1\n",
      "\tWidth: 32 Height: 48\n",
      "Formats: 1\n",
      "\t PNG\n",
      "\n",
      "You can remove operations using the appropriate index and the remove_operation(index) function.\n",
      "Operations: 0\n",
      "Images: 300\n",
      "Classes: 1\n",
      "\tClass index: 0 Class label: Ayin \n",
      "Dimensions: 1\n",
      "\tWidth: 32 Height: 48\n",
      "Formats: 1\n",
      "\t PNG\n",
      "\n",
      "You can remove operations using the appropriate index and the remove_operation(index) function.\n",
      "Operations: 0\n",
      "Images: 300\n",
      "Classes: 1\n",
      "\tClass index: 0 Class label: Bet \n",
      "Dimensions: 1\n",
      "\tWidth: 32 Height: 48\n",
      "Formats: 1\n",
      "\t PNG\n",
      "\n",
      "You can remove operations using the appropriate index and the remove_operation(index) function.\n",
      "Operations: 0\n",
      "Images: 91\n",
      "Classes: 1\n",
      "\tClass index: 0 Class label: Dalet \n",
      "Dimensions: 1\n",
      "\tWidth: 32 Height: 48\n",
      "Formats: 1\n",
      "\t PNG\n",
      "\n",
      "You can remove operations using the appropriate index and the remove_operation(index) function.\n"
     ]
    },
    {
     "name": "stderr",
     "output_type": "stream",
     "text": [
      "Processing <PIL.Image.Image image mode=L size=32x48 at 0x1F494A330F0>: 100%|██| 209/209 [00:00<00:00, 318.34 Samples/s]\n"
     ]
    },
    {
     "name": "stdout",
     "output_type": "stream",
     "text": [
      "Operations: 0\n",
      "Images: 300\n",
      "Classes: 1\n",
      "\tClass index: 0 Class label: Gimel \n",
      "Dimensions: 1\n",
      "\tWidth: 32 Height: 48\n",
      "Formats: 1\n",
      "\t PNG\n",
      "\n",
      "You can remove operations using the appropriate index and the remove_operation(index) function.\n",
      "Operations: 0\n",
      "Images: 300\n",
      "Classes: 1\n",
      "\tClass index: 0 Class label: He \n",
      "Dimensions: 1\n",
      "\tWidth: 32 Height: 48\n",
      "Formats: 1\n",
      "\t PNG\n",
      "\n",
      "You can remove operations using the appropriate index and the remove_operation(index) function.\n",
      "Operations: 0\n",
      "Images: 300\n",
      "Classes: 1\n",
      "\tClass index: 0 Class label: Het \n",
      "Dimensions: 1\n",
      "\tWidth: 32 Height: 48\n",
      "Formats: 1\n",
      "\t PNG\n",
      "\n",
      "You can remove operations using the appropriate index and the remove_operation(index) function.\n",
      "Operations: 0\n",
      "Images: 193\n",
      "Classes: 1\n",
      "\tClass index: 0 Class label: Kaf \n",
      "Dimensions: 1\n",
      "\tWidth: 32 Height: 48\n",
      "Formats: 1\n",
      "\t PNG\n",
      "\n",
      "You can remove operations using the appropriate index and the remove_operation(index) function.\n"
     ]
    },
    {
     "name": "stderr",
     "output_type": "stream",
     "text": [
      "Processing <PIL.Image.Image image mode=L size=32x48 at 0x1F494A33F98>: 100%|██| 107/107 [00:00<00:00, 228.77 Samples/s]\n"
     ]
    },
    {
     "name": "stdout",
     "output_type": "stream",
     "text": [
      "Operations: 0\n",
      "Images: 10\n",
      "Classes: 1\n",
      "\tClass index: 0 Class label: Kaf-final \n",
      "Dimensions: 1\n",
      "\tWidth: 32 Height: 48\n",
      "Formats: 1\n",
      "\t PNG\n",
      "\n",
      "You can remove operations using the appropriate index and the remove_operation(index) function.\n"
     ]
    },
    {
     "name": "stderr",
     "output_type": "stream",
     "text": [
      "Processing <PIL.PngImagePlugin.PngImageFile image mode=L size=32x48 at 0x1F494A345C0>: 100%|█| 290/290 [00:01<00:00, 241.11 Samples/s]\n"
     ]
    },
    {
     "name": "stdout",
     "output_type": "stream",
     "text": [
      "Operations: 0\n",
      "Images: 294\n",
      "Classes: 1\n",
      "\tClass index: 0 Class label: Lamed \n",
      "Dimensions: 1\n",
      "\tWidth: 32 Height: 48\n",
      "Formats: 1\n",
      "\t PNG\n",
      "\n",
      "You can remove operations using the appropriate index and the remove_operation(index) function.\n"
     ]
    },
    {
     "name": "stderr",
     "output_type": "stream",
     "text": [
      "Processing <PIL.Image.Image image mode=L size=32x48 at 0x1F494A2A518>: 100%|██████| 6/6 [00:00<00:00, 150.10 Samples/s]\n"
     ]
    },
    {
     "name": "stdout",
     "output_type": "stream",
     "text": [
      "Operations: 0\n",
      "Images: 300\n",
      "Classes: 1\n",
      "\tClass index: 0 Class label: Mem \n",
      "Dimensions: 1\n",
      "\tWidth: 32 Height: 48\n",
      "Formats: 1\n",
      "\t PNG\n",
      "\n",
      "You can remove operations using the appropriate index and the remove_operation(index) function.\n",
      "Operations: 0\n",
      "Images: 300\n",
      "Classes: 1\n",
      "\tClass index: 0 Class label: Mem-medial \n",
      "Dimensions: 1\n",
      "\tWidth: 32 Height: 48\n",
      "Formats: 1\n",
      "\t PNG\n",
      "\n",
      "You can remove operations using the appropriate index and the remove_operation(index) function.\n",
      "Operations: 0\n",
      "Images: 130\n",
      "Classes: 1\n",
      "\tClass index: 0 Class label: Nun-final \n",
      "Dimensions: 1\n",
      "\tWidth: 32 Height: 48\n",
      "Formats: 1\n",
      "\t PNG\n",
      "\n",
      "You can remove operations using the appropriate index and the remove_operation(index) function.\n"
     ]
    },
    {
     "name": "stderr",
     "output_type": "stream",
     "text": [
      "Processing <PIL.Image.Image image mode=L size=32x48 at 0x1F494A45BE0>: 100%|██| 170/170 [00:00<00:00, 289.79 Samples/s]\n"
     ]
    },
    {
     "name": "stdout",
     "output_type": "stream",
     "text": [
      "Operations: 0\n",
      "Images: 300\n",
      "Classes: 1\n",
      "\tClass index: 0 Class label: Nun-medial \n",
      "Dimensions: 1\n",
      "\tWidth: 32 Height: 48\n",
      "Formats: 1\n",
      "\t PNG\n",
      "\n",
      "You can remove operations using the appropriate index and the remove_operation(index) function.\n",
      "Operations: 0\n",
      "Images: 37\n",
      "Classes: 1\n",
      "\tClass index: 0 Class label: Pe \n",
      "Dimensions: 1\n",
      "\tWidth: 32 Height: 48\n",
      "Formats: 1\n",
      "\t PNG\n",
      "\n",
      "You can remove operations using the appropriate index and the remove_operation(index) function.\n"
     ]
    },
    {
     "name": "stderr",
     "output_type": "stream",
     "text": [
      "Processing <PIL.Image.Image image mode=L size=32x48 at 0x1F494A566A0>: 100%|██| 263/263 [00:00<00:00, 275.32 Samples/s]\n"
     ]
    },
    {
     "name": "stdout",
     "output_type": "stream",
     "text": [
      "Operations: 0\n",
      "Images: 15\n",
      "Classes: 1\n",
      "\tClass index: 0 Class label: Pe-final \n",
      "Dimensions: 1\n",
      "\tWidth: 32 Height: 48\n",
      "Formats: 1\n",
      "\t PNG\n",
      "\n",
      "You can remove operations using the appropriate index and the remove_operation(index) function.\n"
     ]
    },
    {
     "name": "stderr",
     "output_type": "stream",
     "text": [
      "Processing <PIL.Image.Image image mode=L size=32x48 at 0x1F494A2D160>: 100%|██| 285/285 [00:01<00:00, 249.36 Samples/s]\n"
     ]
    },
    {
     "name": "stdout",
     "output_type": "stream",
     "text": [
      "Operations: 0\n",
      "Images: 265\n",
      "Classes: 1\n",
      "\tClass index: 0 Class label: Qof \n",
      "Dimensions: 1\n",
      "\tWidth: 32 Height: 48\n",
      "Formats: 1\n",
      "\t PNG\n",
      "\n",
      "You can remove operations using the appropriate index and the remove_operation(index) function.\n"
     ]
    },
    {
     "name": "stderr",
     "output_type": "stream",
     "text": [
      "Processing <PIL.Image.Image image mode=L size=32x48 at 0x1F494A41550>: 100%|████| 35/35 [00:00<00:00, 214.86 Samples/s]\n"
     ]
    },
    {
     "name": "stdout",
     "output_type": "stream",
     "text": [
      "Operations: 0\n",
      "Images: 78\n",
      "Classes: 1\n",
      "\tClass index: 0 Class label: Resh \n",
      "Dimensions: 1\n",
      "\tWidth: 32 Height: 48\n",
      "Formats: 1\n",
      "\t PNG\n",
      "\n",
      "You can remove operations using the appropriate index and the remove_operation(index) function.\n"
     ]
    },
    {
     "name": "stderr",
     "output_type": "stream",
     "text": [
      "Processing <PIL.Image.Image image mode=L size=32x48 at 0x1F494A573C8>: 100%|██| 222/222 [00:00<00:00, 269.95 Samples/s]\n"
     ]
    },
    {
     "name": "stdout",
     "output_type": "stream",
     "text": [
      "Operations: 0\n",
      "Images: 300\n",
      "Classes: 1\n",
      "\tClass index: 0 Class label: Samekh \n",
      "Dimensions: 1\n",
      "\tWidth: 32 Height: 48\n",
      "Formats: 1\n",
      "\t PNG\n",
      "\n",
      "You can remove operations using the appropriate index and the remove_operation(index) function.\n",
      "Operations: 0\n",
      "Images: 300\n",
      "Classes: 1\n",
      "\tClass index: 0 Class label: Shin \n",
      "Dimensions: 1\n",
      "\tWidth: 32 Height: 48\n",
      "Formats: 1\n",
      "\t PNG\n",
      "\n",
      "You can remove operations using the appropriate index and the remove_operation(index) function.\n",
      "Operations: 0\n",
      "Images: 300\n",
      "Classes: 1\n",
      "\tClass index: 0 Class label: Taw \n",
      "Dimensions: 1\n",
      "\tWidth: 32 Height: 48\n",
      "Formats: 1\n",
      "\t PNG\n",
      "\n",
      "You can remove operations using the appropriate index and the remove_operation(index) function.\n",
      "Operations: 0\n",
      "Images: 300\n",
      "Classes: 1\n",
      "\tClass index: 0 Class label: Tet \n",
      "Dimensions: 1\n",
      "\tWidth: 32 Height: 48\n",
      "Formats: 1\n",
      "\t PNG\n",
      "\n",
      "You can remove operations using the appropriate index and the remove_operation(index) function.\n",
      "Operations: 0\n",
      "Images: 73\n",
      "Classes: 1\n",
      "\tClass index: 0 Class label: Tsadi-final \n",
      "Dimensions: 1\n",
      "\tWidth: 32 Height: 48\n",
      "Formats: 1\n",
      "\t PNG\n",
      "\n",
      "You can remove operations using the appropriate index and the remove_operation(index) function.\n"
     ]
    },
    {
     "name": "stderr",
     "output_type": "stream",
     "text": [
      "Processing <PIL.Image.Image image mode=L size=32x48 at 0x1F494A3EDD8>: 100%|██| 227/227 [00:00<00:00, 240.11 Samples/s]\n"
     ]
    },
    {
     "name": "stdout",
     "output_type": "stream",
     "text": [
      "Operations: 0\n",
      "Images: 300\n",
      "Classes: 1\n",
      "\tClass index: 0 Class label: Tsadi-medial \n",
      "Dimensions: 1\n",
      "\tWidth: 32 Height: 48\n",
      "Formats: 1\n",
      "\t PNG\n",
      "\n",
      "You can remove operations using the appropriate index and the remove_operation(index) function.\n",
      "Operations: 0\n",
      "Images: 116\n",
      "Classes: 1\n",
      "\tClass index: 0 Class label: Waw \n",
      "Dimensions: 1\n",
      "\tWidth: 32 Height: 48\n",
      "Formats: 1\n",
      "\t PNG\n",
      "\n",
      "You can remove operations using the appropriate index and the remove_operation(index) function.\n"
     ]
    },
    {
     "name": "stderr",
     "output_type": "stream",
     "text": [
      "Processing <PIL.Image.Image image mode=L size=32x48 at 0x1F494B68F60>: 100%|██| 184/184 [00:00<00:00, 300.84 Samples/s]\n"
     ]
    },
    {
     "name": "stdout",
     "output_type": "stream",
     "text": [
      "Operations: 0\n",
      "Images: 23\n",
      "Classes: 1\n",
      "\tClass index: 0 Class label: Yod \n",
      "Dimensions: 1\n",
      "\tWidth: 32 Height: 48\n",
      "Formats: 1\n",
      "\t PNG\n",
      "\n",
      "You can remove operations using the appropriate index and the remove_operation(index) function.\n"
     ]
    },
    {
     "name": "stderr",
     "output_type": "stream",
     "text": [
      "Processing <PIL.Image.Image image mode=L size=32x48 at 0x1F4947B8128>: 100%|██| 277/277 [00:01<00:00, 220.70 Samples/s]\n"
     ]
    },
    {
     "name": "stdout",
     "output_type": "stream",
     "text": [
      "Operations: 0\n",
      "Images: 12\n",
      "Classes: 1\n",
      "\tClass index: 0 Class label: Zayin \n",
      "Dimensions: 1\n",
      "\tWidth: 32 Height: 48\n",
      "Formats: 1\n",
      "\t PNG\n",
      "\n",
      "You can remove operations using the appropriate index and the remove_operation(index) function.\n"
     ]
    },
    {
     "name": "stderr",
     "output_type": "stream",
     "text": [
      "Processing <PIL.PngImagePlugin.PngImageFile image mode=L size=32x48 at 0x1F4947B81D0>: 100%|█| 288/288 [00:01<00:00, 274.72 Samples/s]\n"
     ]
    }
   ],
   "source": [
    "for p in pipelines:\n",
    "    p.status()\n",
    "    p.gaussian_distortion(probability=.2, grid_width=2, grid_height=2, magnitude=1, corner='bell', method='in')\n",
    "    p.random_distortion(probability=.2, grid_width=2, grid_height=2, magnitude=1)\n",
    "    p.rotate(probability=.2, max_left_rotation=15, max_right_rotation=15)\n",
    "    p.shear(probability=.2, max_shear_left=10, max_shear_right=10)\n",
    "    p.skew(probability=.2, magnitude=0.3)\n",
    "    p.zoom(probability=.2, min_factor=0.8, max_factor=1)\n",
    "    \n",
    "    number_images = len(p.augmentor_images)\n",
    "    number_generated_images = 300 - len(p.augmentor_images)\n",
    "    \n",
    "    if len(p.augmentor_images) < 300:\n",
    "        p.sample(number_generated_images)\n",
    "\n"
   ]
  },
  {
   "cell_type": "code",
   "execution_count": 21,
   "metadata": {},
   "outputs": [],
   "source": [
    "output_filepath = 'correct_figures_monkbrill/train_cor/'\n",
    "make_dir('correct_figures_monkbrill')\n",
    "for character_filepath in character_filepaths:\n",
    "    image_filepaths = glob.glob('inverted_' + character_filepath + '/*.png')\n",
    "    \n",
    "    for idx1, image_filepath in enumerate(image_filepaths):\n",
    "        image = Image.open(image_filepath)\n",
    "        image = PIL.ImageOps.invert(image)\n",
    "        image.save('correct_' + character_filepath + '/' + str(idx1) + '.png')"
   ]
  },
  {
   "cell_type": "code",
   "execution_count": 10,
   "metadata": {},
   "outputs": [
    {
     "name": "stdout",
     "output_type": "stream",
     "text": [
      "inverted_figures_monkbrill/train_cor/Alef/output/*\n",
      "[]\n"
     ]
    }
   ],
   "source": []
  }
 ],
 "metadata": {
  "kernelspec": {
   "display_name": "Python [conda env:tensorflow]",
   "language": "python",
   "name": "conda-env-tensorflow-py"
  },
  "language_info": {
   "codemirror_mode": {
    "name": "ipython",
    "version": 3
   },
   "file_extension": ".py",
   "mimetype": "text/x-python",
   "name": "python",
   "nbconvert_exporter": "python",
   "pygments_lexer": "ipython3",
   "version": "3.5.5"
  }
 },
 "nbformat": 4,
 "nbformat_minor": 2
}
