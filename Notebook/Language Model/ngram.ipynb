{
 "cells": [
  {
   "cell_type": "code",
   "execution_count": 4,
   "metadata": {},
   "outputs": [
    {
     "data": {
      "text/plain": [
       "Hebrew_character    object\n",
       "Names               object\n",
       "Frequencies          int64\n",
       "dtype: object"
      ]
     },
     "execution_count": 4,
     "metadata": {},
     "output_type": "execute_result"
    }
   ],
   "source": [
    "import pandas as pd\n",
    "\n",
    "df = pd.read_excel (r'ngrams_frequencies_withNames.xlsx')\n",
    "df.dtypes"
   ]
  },
  {
   "cell_type": "code",
   "execution_count": 5,
   "metadata": {},
   "outputs": [],
   "source": [
    "df2 = df['Names'].values.tolist()\n",
    "df3 = [word.replace('_',' ') for word in df2]\n",
    "#print (df3)\n",
    "### List met lists van woordcombo's\n",
    "df4 = [word.split() for word in df3]\n",
    "#print(df4)\n",
    "#df5 = [word.append() for word in df4]\n",
    "df5 = []\n",
    "for words in df4:\n",
    "    for word in words:\n",
    "        df5.append(word)\n",
    "dic1 = {}\n",
    "for word in df5:\n",
    "    if word not in dic1:\n",
    "        dic1[word] = 0\n",
    "    dic1[word] += 1\n",
    "#print(dic1)\n",
    "#print (len(dic1))\n",
    "#for dic in sorted(dic1): print(dic + \" \" + str(dic1[dic]))"
   ]
  },
  {
   "cell_type": "code",
   "execution_count": 10,
   "metadata": {},
   "outputs": [
    {
     "name": "stdout",
     "output_type": "stream",
     "text": [
      "2655\n"
     ]
    }
   ],
   "source": [
    "from random import randint\n",
    "## print random word (list of letters)\n",
    "print (df4[randint(0,len(df4))])"
   ]
  },
  {
   "cell_type": "code",
   "execution_count": 13,
   "metadata": {},
   "outputs": [
    {
     "name": "stdout",
     "output_type": "stream",
     "text": [
      "['Bet', 'Kaf', 'Lamed', 'Yod']\n"
     ]
    }
   ],
   "source": []
  }
 ],
 "metadata": {
  "kernelspec": {
   "display_name": "Python 3",
   "language": "python",
   "name": "python3"
  },
  "language_info": {
   "codemirror_mode": {
    "name": "ipython",
    "version": 3
   },
   "file_extension": ".py",
   "mimetype": "text/x-python",
   "name": "python",
   "nbconvert_exporter": "python",
   "pygments_lexer": "ipython3",
   "version": "3.7.3"
  }
 },
 "nbformat": 4,
 "nbformat_minor": 2
}
