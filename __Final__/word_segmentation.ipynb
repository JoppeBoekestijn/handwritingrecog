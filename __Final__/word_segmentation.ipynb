{
 "cells": [
  {
   "cell_type": "code",
   "execution_count": 109,
   "metadata": {
    "inputHidden": false,
    "outputHidden": false
   },
   "outputs": [],
   "source": [
    "import numpy as np\n",
    "import cv2\n",
    "from matplotlib import pyplot as plt\n",
    "from skimage.data import page\n",
    "from skimage.filters import threshold_sauvola\n",
    "\n",
    "import io\n",
    "from IPython.display import clear_output, Image, display\n",
    "import PIL.Image\n",
    "from keras.models import load_model\n",
    "import math\n",
    "import tensorflow as tf\n",
    "from skimage.color import rgb2gray"
   ]
  },
  {
   "cell_type": "code",
   "execution_count": 110,
   "metadata": {},
   "outputs": [],
   "source": [
    "from util.WordSegmentation import wordSegmentation, prepareImg"
   ]
  },
  {
   "cell_type": "code",
   "execution_count": 111,
>>>>>>> cde3f92208f1ac379a050557dcdb57c9411f2028
   "metadata": {},
   "outputs": [
    {
     "name": "stdout",
     "output_type": "stream",
     "text": [
      "4.1.0\n"
     ]
    }
   ],
   "source": [
    "print(cv2.__version__)"
   ]
  },
  {
   "cell_type": "code",
<<<<<<< HEAD
   "execution_count": 10,
=======
   "execution_count": 112,
>>>>>>> cde3f92208f1ac379a050557dcdb57c9411f2028
   "metadata": {
    "inputHidden": false,
    "outputHidden": false
   },
   "outputs": [],
   "source": [
    "def showarray(a, fmt='jpeg'):\n",
    "    a = np.uint8(np.clip(a, 0, 255))\n",
    "    f = io.BytesIO()\n",
    "    PIL.Image.fromarray(a).save(f, fmt)\n",
    "    display(Image(data=f.getvalue()))"
   ]
  },
  {
   "cell_type": "code",
<<<<<<< HEAD
   "execution_count": 11,
=======
   "execution_count": 113,
>>>>>>> cde3f92208f1ac379a050557dcdb57c9411f2028
   "metadata": {
    "inputHidden": false,
    "outputHidden": false
   },
   "outputs": [
    {
     "name": "stdout",
     "output_type": "stream",
     "text": [
      "_________________________________________________________________\n",
      "Layer (type)                 Output Shape              Param #   \n",
      "=================================================================\n",
      "conv2d_1 (Conv2D)            (None, 46, 30, 32)        320       \n",
      "_________________________________________________________________\n",
      "conv2d_2 (Conv2D)            (None, 44, 28, 64)        18496     \n",
      "_________________________________________________________________\n",
      "max_pooling2d_1 (MaxPooling2 (None, 22, 14, 64)        0         \n",
      "_________________________________________________________________\n",
      "dropout_1 (Dropout)          (None, 22, 14, 64)        0         \n",
      "_________________________________________________________________\n",
      "flatten_1 (Flatten)          (None, 19712)             0         \n",
      "_________________________________________________________________\n",
      "dense_1 (Dense)              (None, 128)               2523264   \n",
      "_________________________________________________________________\n",
      "dropout_2 (Dropout)          (None, 128)               0         \n",
      "_________________________________________________________________\n",
      "dense_2 (Dense)              (None, 27)                3483      \n",
      "=================================================================\n",
      "Total params: 2,545,563\n",
      "Trainable params: 2,545,563\n",
      "Non-trainable params: 0\n",
      "_________________________________________________________________\n"
     ]
    }
   ],
   "source": [
    "model = load_model('../weights.best.hdf5')\n",
    "# new_model = tf.keras.experimental.load_from_saved_model(saved_model_path)\n",
    "model.summary()\n"
   ]
  },
  {
   "cell_type": "code",
<<<<<<< HEAD
   "execution_count": 12,
=======
   "execution_count": 123,
>>>>>>> cde3f92208f1ac379a050557dcdb57c9411f2028
   "metadata": {
    "inputHidden": false,
    "outputHidden": false
   },
   "outputs": [],
   "source": [
<<<<<<< HEAD
    "img = cv2.imread('input_files_word_old/slice5.png')  #Afbeelding waar je alles op uitvoert\n",
    "\n",
    "# convert to grayscale\n",
    "gray = cv2.cvtColor(img,cv2.COLOR_BGR2GRAY)\n",
    "\n",
    "# smooth the image to avoid noises\n",
    "gray = cv2.medianBlur(gray,5)\n",
    "\n",
    "# Apply adaptive threshold\n",
    "thresh = cv2.adaptiveThreshold(gray,255,1,1,11,2)\n",
    "thresh_color = cv2.cvtColor(thresh,cv2.COLOR_GRAY2BGR)\n",
    "\n",
    "# apply some dilation and erosion to join the gaps\n",
    "thresh = cv2.dilate(thresh,None,iterations = 3)\n",
    "thresh = cv2.erode(thresh,None,iterations = 2)\n",
    "\n",
    "# Find the contours\n",
    "_, contours, hierarchy = cv2.findContours(thresh,cv2.RETR_EXTERNAL,cv2.CHAIN_APPROX_SIMPLE)\n",
    "\n",
    "thresh = img.copy()\n",
    "\n",
    "gray = cv2.cvtColor(img,cv2.COLOR_BGR2GRAY)\n",
    "\n",
    "# For each contour, find the bounding rectangle and draw it"
=======
    "import_images = []\n",
    "import_images.append(prepareImg(cv2.imread('input_files_word_old/slice4.png'), 50))"
>>>>>>> cde3f92208f1ac379a050557dcdb57c9411f2028
   ]
  },
  {
   "cell_type": "code",
<<<<<<< HEAD
   "execution_count": 20,
   "metadata": {
    "inputHidden": false,
    "outputHidden": false
   },
   "outputs": [
    {
     "data": {
      "image/jpeg": "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\n",
      "text/plain": [
       "<IPython.core.display.Image object>"
      ]
     },
     "metadata": {},
     "output_type": "display_data"
    }
   ],
   "source": [
    "# ret,thresh1 = cv2.threshold(img,127,255,cv2.THRESH_BINARY)\n",
    "# thresh1.shape\n",
    "showarray(thresh)"
=======
   "execution_count": 128,
   "metadata": {},
   "outputs": [],
   "source": [
    "res = []\n",
    "for i, img in enumerate(import_images):\n",
    "    res = wordSegmentation(img, kernelSize=5, sigma=5, theta=7, minArea=30) # fix parameters"
>>>>>>> cde3f92208f1ac379a050557dcdb57c9411f2028
   ]
  },
  {
   "cell_type": "code",
<<<<<<< HEAD
   "execution_count": 21,
   "metadata": {
    "inputHidden": false,
    "outputHidden": false
   },
=======
   "execution_count": 129,
   "metadata": {},
>>>>>>> cde3f92208f1ac379a050557dcdb57c9411f2028
   "outputs": [],
   "source": [
    "for (j, w) in enumerate(res):\n",
    "    (wordBox, wordImg) = w\n",
    "    (x, y, w, h) = wordBox\n",
    "    if (w > 20):\n",
    "        words.append(wordImg)\n",
    "        "
   ]
  },
  {
   "cell_type": "code",
<<<<<<< HEAD
   "execution_count": 24,
=======
   "execution_count": 130,
>>>>>>> cde3f92208f1ac379a050557dcdb57c9411f2028
   "metadata": {
    "inputHidden": false,
    "outputHidden": false
   },
   "outputs": [
    {
     "data": {
<<<<<<< HEAD
      "image/jpeg": "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\n",
      "text/plain": [
       "<IPython.core.display.Image object>"
      ]
     },
     "metadata": {},
     "output_type": "display_data"
    },
    {
     "data": {
      "image/jpeg": "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\n",
      "text/plain": [
       "<IPython.core.display.Image object>"
      ]
     },
     "metadata": {},
     "output_type": "display_data"
    },
    {
     "data": {
      "image/jpeg": "/9j/4AAQSkZJRgABAQAAAQABAAD/2wBDAAgGBgcGBQgHBwcJCQgKDBQNDAsLDBkSEw8UHRofHh0aHBwgJC4nICIsIxwcKDcpLDAxNDQ0Hyc5PTgyPC4zNDL/2wBDAQkJCQwLDBgNDRgyIRwhMjIyMjIyMjIyMjIyMjIyMjIyMjIyMjIyMjIyMjIyMjIyMjIyMjIyMjIyMjIyMjIyMjL/wAARCAAqAMIDASIAAhEBAxEB/8QAHwAAAQUBAQEBAQEAAAAAAAAAAAECAwQFBgcICQoL/8QAtRAAAgEDAwIEAwUFBAQAAAF9AQIDAAQRBRIhMUEGE1FhByJxFDKBkaEII0KxwRVS0fAkM2JyggkKFhcYGRolJicoKSo0NTY3ODk6Q0RFRkdISUpTVFVWV1hZWmNkZWZnaGlqc3R1dnd4eXqDhIWGh4iJipKTlJWWl5iZmqKjpKWmp6ipqrKztLW2t7i5usLDxMXGx8jJytLT1NXW19jZ2uHi4+Tl5ufo6erx8vP09fb3+Pn6/8QAHwEAAwEBAQEBAQEBAQAAAAAAAAECAwQFBgcICQoL/8QAtREAAgECBAQDBAcFBAQAAQJ3AAECAxEEBSExBhJBUQdhcRMiMoEIFEKRobHBCSMzUvAVYnLRChYkNOEl8RcYGRomJygpKjU2Nzg5OkNERUZHSElKU1RVVldYWVpjZGVmZ2hpanN0dXZ3eHl6goOEhYaHiImKkpOUlZaXmJmaoqOkpaanqKmqsrO0tba3uLm6wsPExcbHyMnK0tPU1dbX2Nna4uPk5ebn6Onq8vP09fb3+Pn6/9oADAMBAAIRAxEAPwCn8cPiRMfEFvo3hzVtSs59MeVL2S0uTHHKzCMgAo2SVIdSCBg5HrXpfwS/5JDoX/bx/wClElfPnxe8L33hz4g6nNcRyNaalcSXlrcFMLIHO5lHJ5Vm2nv0OAGFet/BT4g+G7fwJb6Hf6jBp11pu7e99PHCkvmSyOPLJbLYGM8DGRQB3nxG8Zr4F8HXGrrHHLds6wWkUm7a8rZxnA6BQzdRnbjIJFcH8H/jBceJ7xfDniNvM1Z972t2kYUTgAsUYKAFYAEggAEDBwR83mHxh+IFx4v8UXFha3W7QtPlKWyRkbJXAw0pIJD5O7af7pGACWzw+han/YniHTNW8nzvsN3Fc+Vu279jhtucHGcYzg0AfafjDxLD4P8ACd/r09vJcJaIpEKEAuzMEUZPQbmGTzgZ4PSuf+GfxMsfH+llHEdtrVugN1aA8EdPMjzyUJ7dVJweoLYf7Q1jcXfw1jmgj3x2moRTTncBsQq8YPPX5nUcevpmuI/Z413R9E/4ST+1tVsbDzvs3l/a7hIt+PNzjcRnGR09RQB6v43+Kvh/wFqNtYanFfT3U8XnBLSJW2JkgElmUckN0z905xxnrNK1Wx1zS7fU9MuY7mzuE3xSp0YfzBByCDyCCDgivkT4u65b+IPiZqt3ZX/22xTy4beRXLIAqKGCZ/h37zxwckjOcnoPAHxuuPBPhdNDn0b+0o4ZXeB/tQh8tGOSmBGc/MWOSf4sdAKAPZ/E3xi8LeFPFB0DURfG4Ty/PmhgDRwbwCN2SGOFIY7Q3B4yciuwOuaX/Yc2tx38E2mQxPM91A/mpsTO4grnONp6Z6Yr4UnnmuriW4uJZJp5XLySSMWZ2JySSeSSec1oQ+JdettLOlwa3qUWnlGQ2iXTrEVbO4bAcYOTkY5yaAPpv4d/Gaz8d65LpE2l/wBmXXlGW3zdCUTY+8oyqncByAAcgMeMc+oV8AVYsL640zUba/s5PLurWVJoX2g7XUgqcHg4IHWgD7vv7630zTrm/vJPLtbWJ5pn2k7UUEscDk4APSsPwZ450Xx1pb32jyyAxPsmt5wFlhPONwBIwQMggkHkdQQPFPGvxr0fxd8M7nQzZX0er3UUHmuIkEAkV0d9p8wtt+VsZGemaz/gX428O+Dv7e/t/UPsf2r7P5P7mSTdt8zd9xTjG5evrQB9H3Wu6PY6jBp15qtjb30+3ybaa4RJJNx2rtUnJyQQMdTWhXxJ4/19fFHjzWdYiaNoJ7grA6Kyh4kASNsNyCVVSc45J4HSuwm/aC8by6WLRDpsM4RV+2pbEykjGWwzFMnHPy45OAOMAH1XRXi/wR+Jms+LtR1LRtfuPtd1HELq3nWBI8ICFdW24HVkI+Xu2T0Fesa3reneHNHn1bVrj7PYwbfMl2M+3cwUcKCTyQOBQBoUV4vfftI+G47ORrDRtVnuhjZHOI4kbkZywZiOM/wn0461X1z9ozRJNDvY9EsNVj1N4mS2kniiVI3PAc/M2dvXG05xjjOaAPcKK+VPg78RNS0PxjHpd3JJd2euXqC4aRmkkWZ8qHXLAZZmTeSCSF9QK7f9pPVb610vQtMguZI7O9ed7mJeBKY/L2bu5ALE46ZweoGAD3Sivkj4d/GHVPAdnLp0tr/ammHLQ27zeWYHJySrbW+U85XHXkYy271PwT8eIfFPjGDRr3SY9Ngu0CW0n2kPiYbjhiQowwwqgDO7jnd8oB7JRRRQBl+IfD2m+J9Gn0vVLaOaCVGCsyKzRMVK703AhXAY4OOK+TPiJ8MtU+H15EZZPtumT4EN8kewF8ZKMuTtbgkcnI5B4YD7Hrzf462Nvd/CjUpp498lpLBNAdxGxzIsZPHX5XYc+vrigDD+DngDwpfeAdL1290O0u9QuUmSWS6BmUgTMBhGJQHCgZAB6+pzynx7+H+l6DFY+I9GtYLKGeX7Lc20I2Jv2koyIBheEYNgj+E4yWNeh/AjRJtH+GVvNP5gfUbiS8EbxlCikBF69QVjDg8ZDD6mx8Z/CWr+MfBUNlosMc93Bex3HktIELqFdCFLYGfnB5I4B74BAPPPEvxE8K6h8BoPDVrqvmauun2UJt/s8ow8bRFxuK7eNrd+ccV4XBBNdXEVvbxSTTyuEjjjUszsTgAAckk8Yr1Tw9+z94u1O8K6x5GjWq9ZHkSd2yD91UbBwQM7mXrkZxivd/CPwx8LeC9sum2Pm3wz/p12RJN/F0OAE4Yr8oXIxnNAHkngb9nxtT0uPUfFd3d2JnQtHY26qsqDjazswIBxn5NuRkZIOVHH+L/hTrWm+N7rR/Dui6zfaeHiS3upICysWRScyBQgAZiM8AY56GvruigD401X4TeONF0u41K/0GRLS2TfK6TxSFV7najE4HUnHAyTwDXefs8aFo+t/wDCSf2tpVjf+T9m8v7XbpLsz5ucbgcZwOnoK9v8d/8AJPPEv/YKuv8A0U1fKHgX4j6x8P8A7f8A2TbWM327y/M+1o7Y2bsY2sv989c9qAPrvTfDWg6NcNcaXomm2M7IUaS1tUiYrkHBKgHGQDj2FeEftLQ2K6zoE8Zj/tB7eVJwJMt5SspjyueBuaXBxzz1xxz+pftBeN763WK3Om6e4cMZbW2LMRg/KfMZxjnPTPA5654PxJ4p1nxdqMd/rl59ruo4hCr+UkeEBJAwgA6sfzoA971/wbpU/wCzzFfadoGmjVBo9pdNcpbRpLhRG8r78A52hyecnkc5r5sr678B6JqWo/A+DQdW+12d5cWV1Zt9rjbzIVZpETKtg4ClcDjgDGBXyRBBNdXEVvbxSTTyuEjjjUszsTgAAckk8YoAjrQ0zQtY1vzf7J0q+v8AyceZ9kt3l2ZzjO0HGcHr6GvWPB37Pms3955vitv7MsV3AwwTI88hwNpBG5FXJPJJPy4xzuH0HoHhzSPC2lrpui2MdpaBy+xSWLMepZmJLHoMkngAdAKAOD+EPwt/4QezfVdTbfrt3F5ciI+UtoyQ3ljHDNkAlunGF4yW4T9oLxxDfXR8GRWMgewuIrqW6aQYLGJvkVcdNsincSOQRjufouuT1/4aeD/FGqNqesaLHPeMgRpVmkiLgdN2xgCccZPOAB0AoA+LKK9I+NfhbRvCPjKzsNDs/slrJp6TMnmvJlzJICcuSeij8q9v0LwB4b1v4WaZF/YulQ319okS/bvsEbSJI8A/eZwCWBO7OQc96APNP2ctAsdQ8QaprVwsjXelpGtrhsKplEisxHc7VwO3zHjOCPY/iJ8P7P4g6HFYzXH2O6t5RLb3YhEhTsykHBKkdQCOVU84xXin7OWqta+NdQ0xrmOOC9si4ibaDLLGw27c8khWlOB2yT04+j9S1bTdGt1uNU1C0sYGcIsl1MsSlsE4BYgZwCcexoA+YNW+AXirRtGvtUuNQ0ZoLK3kuJFjmlLFUUsQMxgZwPUVj/BiCG5+LegpPFHKgeVwrqGAZYXZTz3DAEHsQDXt/jT4s+B7rwr4h0m316Oa8lsrm2jWOCVleQoygBwu0gn+LOO+cV80eHNfvvC3iCz1rTWjF3auWTzF3KwIKspHoVJHGDzwQeaAPuuis/QtT/tvw9pmreT5P260iufK3btm9A23OBnGcZwKKANCvF/jrrGqahLpPgPQk+0Xerfvbm3SLLsisDHhj8qruR2J7eXkkLnPtFFAEcEENrbxW9vFHDBEgSOONQqooGAABwABxipKKKACiiigAooooAK8T039m/RbbWWuL/Wru808OWjtFiETEbgQryAncNuQdoUnOQV6V7ZRQByem/DHwRpVu0Fv4Y010Zy5N1CLhs4A4aTcQOOmcdfU1qWPhPw3pl5HeWHh/SrS6jzsmgso43XIIOGAyMgkfjWxRQAVx+g/DHwt4b8UXniDTrHy7u4/1aEgx2uR83lLj5d3frgZC7VJFdhRQAUUUUAFFFFAHz5+0zBCtx4auFijE7pco8gUbmVTEVBPUgFmIHbcfWvY/An/ACTzw1/2CrX/ANFLXL/Fyws7z/hDPtVpBPu8S2kB82MNmN929Of4W2rkdDgZ6V6RQB8aeLPAWq2XjzXtH0XSLu9gs7jcqWMMk4hikG+JWOCc7SBz3U8nrRonwn8b65ceVD4fu7VFdFklv0NuqBj9758FgMEnaGI9ORn7LooA+dNN/Zp1KW3ZtU8SWltPvIVLW2adSuByWYoQc54x2HPPGnY/s0Wcd5G1/wCJ557UZ3xwWYiduDjDF2A5x/CfTjrXvFFAEcEENrbxW9vFHDBEgSOONQqooGAABwABxiipKKAP/9k=\n",
      "text/plain": [
       "<IPython.core.display.Image object>"
      ]
     },
     "metadata": {},
     "output_type": "display_data"
    },
    {
     "data": {
      "image/jpeg": "/9j/4AAQSkZJRgABAQAAAQABAAD/2wBDAAgGBgcGBQgHBwcJCQgKDBQNDAsLDBkSEw8UHRofHh0aHBwgJC4nICIsIxwcKDcpLDAxNDQ0Hyc5PTgyPC4zNDL/2wBDAQkJCQwLDBgNDRgyIRwhMjIyMjIyMjIyMjIyMjIyMjIyMjIyMjIyMjIyMjIyMjIyMjIyMjIyMjIyMjIyMjIyMjL/wAARCABPAFcDASIAAhEBAxEB/8QAHwAAAQUBAQEBAQEAAAAAAAAAAAECAwQFBgcICQoL/8QAtRAAAgEDAwIEAwUFBAQAAAF9AQIDAAQRBRIhMUEGE1FhByJxFDKBkaEII0KxwRVS0fAkM2JyggkKFhcYGRolJicoKSo0NTY3ODk6Q0RFRkdISUpTVFVWV1hZWmNkZWZnaGlqc3R1dnd4eXqDhIWGh4iJipKTlJWWl5iZmqKjpKWmp6ipqrKztLW2t7i5usLDxMXGx8jJytLT1NXW19jZ2uHi4+Tl5ufo6erx8vP09fb3+Pn6/8QAHwEAAwEBAQEBAQEBAQAAAAAAAAECAwQFBgcICQoL/8QAtREAAgECBAQDBAcFBAQAAQJ3AAECAxEEBSExBhJBUQdhcRMiMoEIFEKRobHBCSMzUvAVYnLRChYkNOEl8RcYGRomJygpKjU2Nzg5OkNERUZHSElKU1RVVldYWVpjZGVmZ2hpanN0dXZ3eHl6goOEhYaHiImKkpOUlZaXmJmaoqOkpaanqKmqsrO0tba3uLm6wsPExcbHyMnK0tPU1dbX2Nna4uPk5ebn6Onq8vP09fb3+Pn6/9oADAMBAAIRAxEAPwD3+iiigAooooAKKKKACiiigAoqvfX9nplnJeX93BaWseN808gjRckAZY8DJIH415H4r/aF0DTrcxeG4ZNWu3TKyyI0MEZIbruAdiCFO0AAg/eBoAj/AGkb63j8G6TYNJi6m1Dzo02n5kSNwxz04Mifn7GivnzX/Eer+KdUbUtavpLu7KBN7AKFUdAqqAFHU4AHJJ6k0UAfddFFV7C+t9T062v7OTzLW6iSaF9pG5GAKnB5GQR1oAsUUVw/if4t+DvCss1tdan9qvoeGtLJfNcHdtKk8IrAg5VmBGOnIyAdxRXzxfftL3klnIth4YggujjZJPeGVF5GcqEUnjP8Q9eelcnrfx38b6xb+RDc2mmIUdJDYQlWcMMfecsVI5wVKkZ+mAD6n1LVtN0a3W41TULSxgZwiyXUyxKWwTgFiBnAJx7GvG/E/wC0Zp1jeTWvhzTP7SjEX7u9mkaJPMI/55ldzKOM5Kk8gYGCfni+v7zU7yS8v7ue7upMb5p5DI7YAAyx5OAAPwqvQB1Hiz4heJfGu2PWb/zLWOVpYrWKNY44yfYDLYHALEkAnnk55eiigAooooA+m9V+LfjZkuI9H+GOso+/EE93bzMNu7q0aoOSvYPwT1OOeY+HPxy03w14Ot9G8QW+pXM9o7JBJbIr/ueCoYvIDkEsoAGAoUdq+i6rmws2s5rM2kBtZt/mwmMbJN5JfcvQ7izE565OetAHgHjT9oRNS0e603wzYX1nJcRBRqE0qxyQnd8wVF3dV4DbgQWyMEAnweiigAooooAKKKKACiiigAooooA+/wCiiigD4g8ceG/+ER8aapoYk8yO1l/dOWyTGwDpuOB821lzgYznHFc/X038YvhTrXjXWbfWtGuLRngsjA9rMxRnKszrsbBBLbyPm2gYHPPHzRPBNa3EtvcRSQzxOUkjkUqyMDggg8gg8YoAjooooAKKKKACiiigAooooA+/6KKKACvC/jv8OL7WLi28TaDp8l1cBBBfQW6bpHAOEkCKMuRkqxySAE4wCR7pRQB8AUVqeI9AvvC3iC80XUljF3auFfy23KwIDKwPoVIPODzyAeKy6ACiiigAooooAKKKKAP/2Q==\n",
      "text/plain": [
       "<IPython.core.display.Image object>"
      ]
     },
     "metadata": {},
     "output_type": "display_data"
    },
    {
     "data": {
      "image/jpeg": "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\n",
      "text/plain": [
       "<IPython.core.display.Image object>"
      ]
     },
     "metadata": {},
     "output_type": "display_data"
    },
    {
     "data": {
      "image/jpeg": "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\n",
      "text/plain": [
       "<IPython.core.display.Image object>"
      ]
     },
     "metadata": {},
     "output_type": "display_data"
    },
    {
     "data": {
      "image/jpeg": "/9j/4AAQSkZJRgABAQAAAQABAAD/2wBDAAgGBgcGBQgHBwcJCQgKDBQNDAsLDBkSEw8UHRofHh0aHBwgJC4nICIsIxwcKDcpLDAxNDQ0Hyc5PTgyPC4zNDL/wAALCAA0AAMBAREA/8QAHwAAAQUBAQEBAQEAAAAAAAAAAAECAwQFBgcICQoL/8QAtRAAAgEDAwIEAwUFBAQAAAF9AQIDAAQRBRIhMUEGE1FhByJxFDKBkaEII0KxwRVS0fAkM2JyggkKFhcYGRolJicoKSo0NTY3ODk6Q0RFRkdISUpTVFVWV1hZWmNkZWZnaGlqc3R1dnd4eXqDhIWGh4iJipKTlJWWl5iZmqKjpKWmp6ipqrKztLW2t7i5usLDxMXGx8jJytLT1NXW19jZ2uHi4+Tl5ufo6erx8vP09fb3+Pn6/9oACAEBAAA/APn+iivv+iiiv//Z\n",
      "text/plain": [
       "<IPython.core.display.Image object>"
      ]
     },
     "metadata": {},
     "output_type": "display_data"
    }
   ],
   "source": [
    "for word in words:\n",
    "    showarray(word)"
   ]
  },
  {
   "cell_type": "code",
   "execution_count": 30,
   "metadata": {},
   "outputs": [
    {
     "data": {
      "image/jpeg": "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\n",
=======
      "image/jpeg": "/9j/4AAQSkZJRgABAQAAAQABAAD/2wBDAAgGBgcGBQgHBwcJCQgKDBQNDAsLDBkSEw8UHRofHh0aHBwgJC4nICIsIxwcKDcpLDAxNDQ0Hyc5PTgyPC4zNDL/wAALCAAQABoBAREA/8QAHwAAAQUBAQEBAQEAAAAAAAAAAAECAwQFBgcICQoL/8QAtRAAAgEDAwIEAwUFBAQAAAF9AQIDAAQRBRIhMUEGE1FhByJxFDKBkaEII0KxwRVS0fAkM2JyggkKFhcYGRolJicoKSo0NTY3ODk6Q0RFRkdISUpTVFVWV1hZWmNkZWZnaGlqc3R1dnd4eXqDhIWGh4iJipKTlJWWl5iZmqKjpKWmp6ipqrKztLW2t7i5usLDxMXGx8jJytLT1NXW19jZ2uHi4+Tl5ufo6erx8vP09fb3+Pn6/9oACAEBAAA/AMjxB+0N4gGv3K6JFp39lw3DC3aSF2aeMZUFskEZ4bACkYAPfO38GNc8UeMde8XX11quLea3G6Hc2Ip3yI2jHO1VVHHBz93OcZHHyax8V/hbp8Md3NNbae10di3HlXCSOeWUMcsFOCeCOpPU5r6rrxv4heFtPsPH3w7fRNHtbVjqv71bK0VC6q0TFm2joqqx56DJ9aq61d+MfA3xS8QXXh3wnNqtjrYt5d6wyMquqlT868L8xckN6g8DrT8TeD/iv8SNNih1y10PTYoJ/MjgEpDZ24zlTJwcnqc5B7Yr2rQbW8sPD2mWeoXH2i+gtIoribeX8yRUAZtx5OSCcnk1/9k=\n",
>>>>>>> cde3f92208f1ac379a050557dcdb57c9411f2028
      "text/plain": [
       "<IPython.core.display.Image object>"
      ]
     },
     "metadata": {},
     "output_type": "display_data"
    }
   ],
   "source": [
<<<<<<< HEAD
    "showarray(words[2])"
=======
    "word = words[1]\n",
    "showarray(word)"
>>>>>>> cde3f92208f1ac379a050557dcdb57c9411f2028
   ]
  },
  {
   "cell_type": "code",
   "execution_count": 131,
   "metadata": {
    "inputHidden": false,
    "outputHidden": false
   },
   "outputs": [],
   "source": [
    "# def get_resized_img(img, video_size):\n",
    "#     width, height = video_size  # these are the MAX dimensions\n",
    "#     video_ratio = width / height\n",
    "#     img_ratio = img.size[0] / img.size[1]\n",
    "#     if video_ratio >= 1:  # the video is wide\n",
    "#         if img_ratio <= video_ratio:  # image is not wide enough\n",
    "#             width_new = int(height * img_ratio)\n",
    "#             size_new = width_new, height\n",
    "#         else:  # image is wider than video\n",
    "#             height_new = int(width / img_ratio)\n",
    "#             size_new = width, height_new\n",
    "#     else:  # the video is tall\n",
    "#         if img_ratio >= video_ratio:  # image is not tall enough\n",
    "#             height_new = int(width / img_ratio)\n",
    "#             size_new = width, height_new\n",
    "#         else:  # image is taller than video\n",
    "#             width_new = int(height * img_ratio)\n",
    "#             size_new = width_new, height\n",
    "#     return np.asarray(img.resize(size_new, resample=Image.LANCZOS))"
   ]
  },
  {
   "cell_type": "code",
   "execution_count": 132,
   "metadata": {
    "inputHidden": false,
    "outputHidden": false
   },
   "outputs": [
    {
     "ename": "ValueError",
     "evalue": "not enough values to unpack (expected 3, got 2)",
     "output_type": "error",
     "traceback": [
      "\u001b[0;31m---------------------------------------------------------------------------\u001b[0m",
      "\u001b[0;31mValueError\u001b[0m                                Traceback (most recent call last)",
      "\u001b[0;32m<ipython-input-132-f852a887b54d>\u001b[0m in \u001b[0;36m<module>\u001b[0;34m\u001b[0m\n\u001b[0;32m----> 1\u001b[0;31m \u001b[0mh\u001b[0m\u001b[0;34m,\u001b[0m \u001b[0mw\u001b[0m\u001b[0;34m,\u001b[0m \u001b[0m_\u001b[0m \u001b[0;34m=\u001b[0m \u001b[0mword\u001b[0m\u001b[0;34m.\u001b[0m\u001b[0mshape\u001b[0m\u001b[0;34m\u001b[0m\u001b[0;34m\u001b[0m\u001b[0m\n\u001b[0m\u001b[1;32m      2\u001b[0m \u001b[0mnum\u001b[0m \u001b[0;34m=\u001b[0m \u001b[0;36m2\u001b[0m\u001b[0;34m\u001b[0m\u001b[0;34m\u001b[0m\u001b[0m\n\u001b[1;32m      3\u001b[0m \u001b[0mchars\u001b[0m \u001b[0;34m=\u001b[0m \u001b[0;34m[\u001b[0m\u001b[0;34m]\u001b[0m\u001b[0;34m\u001b[0m\u001b[0;34m\u001b[0m\u001b[0m\n\u001b[1;32m      4\u001b[0m \u001b[0;32mfor\u001b[0m \u001b[0mi\u001b[0m \u001b[0;32min\u001b[0m \u001b[0mrange\u001b[0m\u001b[0;34m(\u001b[0m\u001b[0mnum\u001b[0m\u001b[0;34m)\u001b[0m\u001b[0;34m:\u001b[0m\u001b[0;34m\u001b[0m\u001b[0;34m\u001b[0m\u001b[0m\n\u001b[1;32m      5\u001b[0m     \u001b[0mpart\u001b[0m \u001b[0;34m=\u001b[0m \u001b[0mmath\u001b[0m\u001b[0;34m.\u001b[0m\u001b[0mfloor\u001b[0m\u001b[0;34m(\u001b[0m\u001b[0mw\u001b[0m \u001b[0;34m/\u001b[0m \u001b[0mnum\u001b[0m\u001b[0;34m)\u001b[0m\u001b[0;34m\u001b[0m\u001b[0;34m\u001b[0m\u001b[0m\n",
      "\u001b[0;31mValueError\u001b[0m: not enough values to unpack (expected 3, got 2)"
     ]
    }
   ],
   "source": [
    "h, w, _ = word.shape\n",
    "num = 2\n",
    "chars = []\n",
    "for i in range(num):\n",
    "    part = math.floor(w / num)\n",
    "    char = word[:,part * i:(part * i) + part]\n",
    "    shape = cv2.resize(char,(32,48))\n",
    "    ret,thresh1 = cv2.threshold(shape,127,255,cv2.THRESH_BINARY)\n",
    "    chars.append(thresh1)"
   ]
  },
  {
   "cell_type": "code",
   "execution_count": 133,
   "metadata": {
    "inputHidden": false,
    "outputHidden": false
   },
   "outputs": [
    {
     "ename": "NameError",
     "evalue": "name 'chars' is not defined",
     "output_type": "error",
     "traceback": [
      "\u001b[0;31m---------------------------------------------------------------------------\u001b[0m",
      "\u001b[0;31mNameError\u001b[0m                                 Traceback (most recent call last)",
      "\u001b[0;32m<ipython-input-133-93c773442830>\u001b[0m in \u001b[0;36m<module>\u001b[0;34m\u001b[0m\n\u001b[0;32m----> 1\u001b[0;31m \u001b[0mchar\u001b[0m \u001b[0;34m=\u001b[0m \u001b[0mchars\u001b[0m\u001b[0;34m[\u001b[0m\u001b[0;36m1\u001b[0m\u001b[0;34m]\u001b[0m\u001b[0;34m\u001b[0m\u001b[0;34m\u001b[0m\u001b[0m\n\u001b[0m\u001b[1;32m      2\u001b[0m \u001b[0mshowarray\u001b[0m\u001b[0;34m(\u001b[0m\u001b[0mchar\u001b[0m\u001b[0;34m)\u001b[0m\u001b[0;34m\u001b[0m\u001b[0;34m\u001b[0m\u001b[0m\n",
      "\u001b[0;31mNameError\u001b[0m: name 'chars' is not defined"
     ]
    }
   ],
   "source": [
    "char = chars[1]\n",
    "showarray(char)"
   ]
  },
  {
   "cell_type": "code",
   "execution_count": 134,
   "metadata": {
    "inputHidden": false,
    "outputHidden": false
   },
   "outputs": [
    {
     "ename": "NameError",
     "evalue": "name 'char' is not defined",
     "output_type": "error",
     "traceback": [
      "\u001b[0;31m---------------------------------------------------------------------------\u001b[0m",
      "\u001b[0;31mNameError\u001b[0m                                 Traceback (most recent call last)",
      "\u001b[0;32m<ipython-input-134-1da3c863587e>\u001b[0m in \u001b[0;36m<module>\u001b[0;34m\u001b[0m\n\u001b[0;32m----> 1\u001b[0;31m \u001b[0mchar\u001b[0m \u001b[0;34m=\u001b[0m \u001b[0mcv2\u001b[0m\u001b[0;34m.\u001b[0m\u001b[0mcvtColor\u001b[0m\u001b[0;34m(\u001b[0m\u001b[0mchar\u001b[0m\u001b[0;34m,\u001b[0m \u001b[0mcv2\u001b[0m\u001b[0;34m.\u001b[0m\u001b[0mCOLOR_BGR2GRAY\u001b[0m\u001b[0;34m)\u001b[0m\u001b[0;34m\u001b[0m\u001b[0;34m\u001b[0m\u001b[0m\n\u001b[0m\u001b[1;32m      2\u001b[0m \u001b[0mchar\u001b[0m \u001b[0;34m=\u001b[0m \u001b[0mnp\u001b[0m\u001b[0;34m.\u001b[0m\u001b[0masarray\u001b[0m\u001b[0;34m(\u001b[0m\u001b[0mchar\u001b[0m\u001b[0;34m[\u001b[0m\u001b[0;34m:\u001b[0m\u001b[0;34m]\u001b[0m\u001b[0;34m,\u001b[0m \u001b[0mdtype\u001b[0m\u001b[0;34m=\u001b[0m\u001b[0;34m'float32'\u001b[0m\u001b[0;34m)\u001b[0m\u001b[0;34m\u001b[0m\u001b[0;34m\u001b[0m\u001b[0m\n\u001b[1;32m      3\u001b[0m \u001b[0mchar\u001b[0m \u001b[0;34m=\u001b[0m \u001b[0mchar\u001b[0m\u001b[0;34m.\u001b[0m\u001b[0mreshape\u001b[0m\u001b[0;34m(\u001b[0m\u001b[0;34m(\u001b[0m\u001b[0;34m-\u001b[0m\u001b[0;36m1\u001b[0m\u001b[0;34m,\u001b[0m \u001b[0;36m48\u001b[0m\u001b[0;34m,\u001b[0m \u001b[0;36m32\u001b[0m\u001b[0;34m,\u001b[0m\u001b[0;36m1\u001b[0m\u001b[0;34m)\u001b[0m\u001b[0;34m)\u001b[0m\u001b[0;34m\u001b[0m\u001b[0;34m\u001b[0m\u001b[0m\n",
      "\u001b[0;31mNameError\u001b[0m: name 'char' is not defined"
     ]
    }
   ],
   "source": [
    "char = cv2.cvtColor(char, cv2.COLOR_BGR2GRAY)\n",
    "char = np.asarray(char[:], dtype='float32')\n",
    "char = char.reshape((-1, 48, 32,1))"
   ]
  },
  {
   "cell_type": "code",
   "execution_count": 135,
   "metadata": {
    "inputHidden": false,
    "outputHidden": false
   },
   "outputs": [
    {
     "ename": "NameError",
     "evalue": "name 'char' is not defined",
     "output_type": "error",
     "traceback": [
      "\u001b[0;31m---------------------------------------------------------------------------\u001b[0m",
      "\u001b[0;31mNameError\u001b[0m                                 Traceback (most recent call last)",
      "\u001b[0;32m<ipython-input-135-88a29558902c>\u001b[0m in \u001b[0;36m<module>\u001b[0;34m\u001b[0m\n\u001b[1;32m      1\u001b[0m \u001b[0;32mwith\u001b[0m \u001b[0mtf\u001b[0m\u001b[0;34m.\u001b[0m\u001b[0mdevice\u001b[0m\u001b[0;34m(\u001b[0m\u001b[0;34m'/cpu:0'\u001b[0m\u001b[0;34m)\u001b[0m\u001b[0;34m:\u001b[0m\u001b[0;34m\u001b[0m\u001b[0;34m\u001b[0m\u001b[0m\n\u001b[0;32m----> 2\u001b[0;31m       \u001b[0mmodel\u001b[0m\u001b[0;34m.\u001b[0m\u001b[0mpredict\u001b[0m\u001b[0;34m(\u001b[0m\u001b[0mchar\u001b[0m\u001b[0;34m)\u001b[0m\u001b[0;34m\u001b[0m\u001b[0;34m\u001b[0m\u001b[0m\n\u001b[0m\u001b[1;32m      3\u001b[0m \u001b[0mmodel\u001b[0m\u001b[0;34m.\u001b[0m\u001b[0mpredict\u001b[0m\u001b[0;34m(\u001b[0m\u001b[0;34m[\u001b[0m\u001b[0mchar\u001b[0m\u001b[0;34m]\u001b[0m\u001b[0;34m)\u001b[0m\u001b[0;34m.\u001b[0m\u001b[0mshape\u001b[0m\u001b[0;34m\u001b[0m\u001b[0;34m\u001b[0m\u001b[0m\n\u001b[1;32m      4\u001b[0m \u001b[0mprint\u001b[0m\u001b[0;34m(\u001b[0m\u001b[0mmodel\u001b[0m\u001b[0;34m.\u001b[0m\u001b[0mpredict\u001b[0m\u001b[0;34m(\u001b[0m\u001b[0;34m[\u001b[0m\u001b[0mchar\u001b[0m\u001b[0;34m]\u001b[0m\u001b[0;34m)\u001b[0m\u001b[0;34m)\u001b[0m\u001b[0;34m\u001b[0m\u001b[0;34m\u001b[0m\u001b[0m\n",
      "\u001b[0;31mNameError\u001b[0m: name 'char' is not defined"
     ]
    }
   ],
   "source": [
    "with tf.device('/cpu:0'):\n",
    "      model.predict(char)\n",
    "model.predict([char]).shape\n",
    "print(model.predict([char]))"
   ]
  },
  {
   "cell_type": "code",
   "execution_count": 136,
   "metadata": {
    "inputHidden": false,
    "outputHidden": false
   },
   "outputs": [
    {
     "ename": "NameError",
     "evalue": "name 'bounding_boxes' is not defined",
     "output_type": "error",
     "traceback": [
      "\u001b[0;31m---------------------------------------------------------------------------\u001b[0m",
      "\u001b[0;31mNameError\u001b[0m                                 Traceback (most recent call last)",
      "\u001b[0;32m<ipython-input-136-546a8f3f2565>\u001b[0m in \u001b[0;36m<module>\u001b[0;34m\u001b[0m\n\u001b[0;32m----> 1\u001b[0;31m \u001b[0;32mfor\u001b[0m \u001b[0mbox\u001b[0m \u001b[0;32min\u001b[0m \u001b[0mbounding_boxes\u001b[0m\u001b[0;34m:\u001b[0m\u001b[0;34m\u001b[0m\u001b[0;34m\u001b[0m\u001b[0m\n\u001b[0m\u001b[1;32m      2\u001b[0m     \u001b[0mxStart\u001b[0m \u001b[0;34m=\u001b[0m \u001b[0mbox\u001b[0m\u001b[0;34m[\u001b[0m\u001b[0;36m2\u001b[0m\u001b[0;34m]\u001b[0m\u001b[0;34m\u001b[0m\u001b[0;34m\u001b[0m\u001b[0m\n\u001b[1;32m      3\u001b[0m     \u001b[0mxEnd\u001b[0m \u001b[0;34m=\u001b[0m \u001b[0mbox\u001b[0m\u001b[0;34m[\u001b[0m\u001b[0;36m0\u001b[0m\u001b[0;34m]\u001b[0m\u001b[0;34m\u001b[0m\u001b[0;34m\u001b[0m\u001b[0m\n\u001b[1;32m      4\u001b[0m     \u001b[0my\u001b[0m \u001b[0;34m=\u001b[0m \u001b[0mbox\u001b[0m\u001b[0;34m[\u001b[0m\u001b[0;36m1\u001b[0m\u001b[0;34m]\u001b[0m\u001b[0;34m\u001b[0m\u001b[0;34m\u001b[0m\u001b[0m\n\u001b[1;32m      5\u001b[0m     \u001b[0mwinH\u001b[0m \u001b[0;34m=\u001b[0m \u001b[0mbox\u001b[0m\u001b[0;34m[\u001b[0m\u001b[0;36m3\u001b[0m\u001b[0;34m]\u001b[0m \u001b[0;34m-\u001b[0m \u001b[0my\u001b[0m\u001b[0;34m\u001b[0m\u001b[0;34m\u001b[0m\u001b[0m\n",
      "\u001b[0;31mNameError\u001b[0m: name 'bounding_boxes' is not defined"
     ]
    }
   ],
   "source": [
    "for box in bounding_boxes:\n",
    "    xStart = box[2]\n",
    "    xEnd = box[0]\n",
    "    y = box[1]\n",
    "    winH = box[3] - y\n",
    "    winWidth = 5\n",
    "    while(xStart-winWidth >= xEnd) :\n",
    "        hit = False\n",
    "        winW = winWidth\n",
    "        a = 0\n",
    "        # While the image is not classified and the box has not reached the edge,\n",
    "        # increase window size\n",
    "        while(not hit and xStart-winW >= xEnd) :\n",
    "            newX = xStart - winW\n",
    "            # Draw the window\n",
    "            clone = img.copy()\n",
    "            cv2.rectangle(clone, (xStart, y), (newX, y + winH), (255, 0, 0), 2)\n",
    "            cv2.rectangle(clone, (xStart,y),(xEnd,y + winH), (0,255,0), 2)\n",
    "            cv2.imshow(\"Window\", clone)\n",
    "            cv2.waitKey(0)\n",
    "            # Check if the CNN returns a high probability for a letter\n",
    "            # for prob in probabilities :\n",
    "            #     if prob >= 0.75 :\n",
    "            #         hit = True\n",
    "            #         xStart = newX\n",
    "            # # Increase size of window if nothing has been found\n",
    "            winW += 5\n",
    "            # this is done to ensure that the loop ends for now, because not\n",
    "            # connected to cnn yet.\n",
    "            hit = True\n",
    "            xStart = newX"
   ]
  },
  {
   "cell_type": "code",
   "execution_count": null,
   "metadata": {
    "inputHidden": false,
    "outputHidden": false
   },
   "outputs": [],
   "source": []
  },
  {
   "cell_type": "code",
   "execution_count": null,
   "metadata": {
    "inputHidden": false,
    "outputHidden": false
   },
   "outputs": [],
   "source": []
  },
  {
   "cell_type": "code",
   "execution_count": null,
   "metadata": {
    "inputHidden": false,
    "outputHidden": false
   },
   "outputs": [],
   "source": []
  },
  {
   "cell_type": "code",
   "execution_count": null,
   "metadata": {
    "inputHidden": false,
    "outputHidden": false
   },
   "outputs": [],
   "source": []
  }
 ],
 "metadata": {
  "kernel_info": {
   "name": "python3"
  },
  "kernelspec": {
   "display_name": "Python 3",
   "language": "python",
   "name": "python3"
  },
  "language_info": {
   "codemirror_mode": {
    "name": "ipython",
    "version": 3
   },
   "file_extension": ".py",
   "mimetype": "text/x-python",
   "name": "python",
   "nbconvert_exporter": "python",
   "pygments_lexer": "ipython3",
   "version": "3.7.3"
  },
  "nteract": {
   "version": "0.14.2"
  }
 },
 "nbformat": 4,
 "nbformat_minor": 2
}
