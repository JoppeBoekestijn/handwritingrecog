{
 "cells": [
  {
   "cell_type": "code",
   "execution_count": 13,
   "metadata": {},
   "outputs": [
    {
     "data": {
      "image/png": "[encoded data removed]",
      "text/plain": [
       "<Figure size 432x288 with 1 Axes>"
      ]
     },
     "metadata": {
      "needs_background": "light"
     },
     "output_type": "display_data"
    },
    {
     "name": "stderr",
     "output_type": "stream",
     "text": [
      "/opt/conda/lib/python3.7/site-packages/ipykernel_launcher.py:57: RuntimeWarning: invalid value encountered in double_scalars\n"
     ]
    },
    {
     "ename": "AttributeError",
     "evalue": "'dict' object has no attribute 'itervalues'",
     "output_type": "error",
     "traceback": [
      "\u001b[0;31m---------------------------------------------------------------------------\u001b[0m",
      "\u001b[0;31mAttributeError\u001b[0m                            Traceback (most recent call last)",
      "\u001b[0;32m<ipython-input-13-2b3a1aa5939c>\u001b[0m in \u001b[0;36m<module>\u001b[0;34m\u001b[0m\n\u001b[1;32m    113\u001b[0m \u001b[0mh\u001b[0m \u001b[0;34m=\u001b[0m \u001b[0mHist\u001b[0m\u001b[0;34m(\u001b[0m\u001b[0mimg\u001b[0m\u001b[0;34m)\u001b[0m\u001b[0;34m\u001b[0m\u001b[0;34m\u001b[0m\u001b[0m\n\u001b[1;32m    114\u001b[0m \u001b[0mthreshold\u001b[0m\u001b[0;34m(\u001b[0m\u001b[0mh\u001b[0m\u001b[0;34m)\u001b[0m\u001b[0;34m\u001b[0m\u001b[0;34m\u001b[0m\u001b[0m\n\u001b[0;32m--> 115\u001b[0;31m \u001b[0mop_thres\u001b[0m \u001b[0;34m=\u001b[0m \u001b[0mget_optimal_threshold\u001b[0m\u001b[0;34m(\u001b[0m\u001b[0;34m)\u001b[0m\u001b[0;34m\u001b[0m\u001b[0;34m\u001b[0m\u001b[0m\n\u001b[0m\u001b[1;32m    116\u001b[0m \u001b[0;34m\u001b[0m\u001b[0m\n\u001b[1;32m    117\u001b[0m \u001b[0mres\u001b[0m \u001b[0;34m=\u001b[0m \u001b[0mregenerate_img\u001b[0m\u001b[0;34m(\u001b[0m\u001b[0mimg\u001b[0m\u001b[0;34m,\u001b[0m \u001b[0mop_thres\u001b[0m\u001b[0;34m)\u001b[0m\u001b[0;34m\u001b[0m\u001b[0;34m\u001b[0m\u001b[0m\n",
      "\u001b[0;32m<ipython-input-13-2b3a1aa5939c>\u001b[0m in \u001b[0;36mget_optimal_threshold\u001b[0;34m()\u001b[0m\n\u001b[1;32m    102\u001b[0m \u001b[0;34m\u001b[0m\u001b[0m\n\u001b[1;32m    103\u001b[0m \u001b[0;32mdef\u001b[0m \u001b[0mget_optimal_threshold\u001b[0m\u001b[0;34m(\u001b[0m\u001b[0;34m)\u001b[0m\u001b[0;34m:\u001b[0m\u001b[0;34m\u001b[0m\u001b[0;34m\u001b[0m\u001b[0m\n\u001b[0;32m--> 104\u001b[0;31m     \u001b[0mmin_V2w\u001b[0m \u001b[0;34m=\u001b[0m \u001b[0mmin\u001b[0m\u001b[0;34m(\u001b[0m\u001b[0mthreshold_values\u001b[0m\u001b[0;34m.\u001b[0m\u001b[0mitervalues\u001b[0m\u001b[0;34m(\u001b[0m\u001b[0;34m)\u001b[0m\u001b[0;34m)\u001b[0m\u001b[0;34m\u001b[0m\u001b[0;34m\u001b[0m\u001b[0m\n\u001b[0m\u001b[1;32m    105\u001b[0m     \u001b[0moptimal_threshold\u001b[0m \u001b[0;34m=\u001b[0m \u001b[0;34m[\u001b[0m\u001b[0mk\u001b[0m \u001b[0;32mfor\u001b[0m \u001b[0mk\u001b[0m\u001b[0;34m,\u001b[0m \u001b[0mv\u001b[0m \u001b[0;32min\u001b[0m \u001b[0mthreshold_values\u001b[0m\u001b[0;34m.\u001b[0m\u001b[0miteritems\u001b[0m\u001b[0;34m(\u001b[0m\u001b[0;34m)\u001b[0m \u001b[0;32mif\u001b[0m \u001b[0mv\u001b[0m \u001b[0;34m==\u001b[0m \u001b[0mmin_V2w\u001b[0m\u001b[0;34m]\u001b[0m\u001b[0;34m\u001b[0m\u001b[0;34m\u001b[0m\u001b[0m\n\u001b[1;32m    106\u001b[0m     \u001b[0mprint\u001b[0m \u001b[0;34m(\u001b[0m\u001b[0;34m'optimal threshold'\u001b[0m\u001b[0;34m,\u001b[0m \u001b[0moptimal_threshold\u001b[0m\u001b[0;34m[\u001b[0m\u001b[0;36m0\u001b[0m\u001b[0;34m]\u001b[0m\u001b[0;34m)\u001b[0m\u001b[0;34m\u001b[0m\u001b[0;34m\u001b[0m\u001b[0m\n",
      "\u001b[0;31mAttributeError\u001b[0m: 'dict' object has no attribute 'itervalues'"
     ]
    }
   ],
   "source": [
    "import math\n",
    "import numpy as np\n",
    "from matplotlib import pyplot as plt\n",
    "from PIL import Image\n",
    "\n",
    "\n",
    "threshold_values = {}\n",
    "h = [1]\n",
    "\n",
    "\n",
    "def Hist(img):\n",
    "   row, col = img.shape \n",
    "   y = np.zeros(256)\n",
    "   for i in range(0,row):\n",
    "      for j in range(0,col):\n",
    "         y[img[i,j]] += 1\n",
    "   x = np.arange(0,256)\n",
    "   plt.bar(x, y, color='b', width=5, align='center', alpha=0.25)\n",
    "   plt.show()\n",
    "   return y\n",
    "\n",
    "\n",
    "def regenerate_img(img, threshold):\n",
    "    row, col = img.shape \n",
    "    y = np.zeros((row, col))\n",
    "    for i in range(0,row):\n",
    "        for j in range(0,col):\n",
    "            if img[i,j] >= threshold:\n",
    "                y[i,j] = 255\n",
    "            else:\n",
    "                y[i,j] = 0\n",
    "    return y\n",
    "\n",
    "\n",
    "   \n",
    "def countPixel(h):\n",
    "    cnt = 0\n",
    "    for i in range(0, len(h)):\n",
    "        if h[i]>0:\n",
    "           cnt += h[i]\n",
    "    return cnt\n",
    "\n",
    "\n",
    "def weight(s, e):\n",
    "    w = 0\n",
    "    for i in range(s, e):\n",
    "        w += h[i]\n",
    "    return w\n",
    "\n",
    "\n",
    "def mean(s, e):\n",
    "    m = 0\n",
    "    w = weight(s, e)\n",
    "    for i in range(s, e):\n",
    "        m += h[i] * i\n",
    "    \n",
    "    return m/float(w)\n",
    "\n",
    "\n",
    "def variance(s, e):\n",
    "    v = 0\n",
    "    m = mean(s, e)\n",
    "    w = weight(s, e)\n",
    "    for i in range(s, e):\n",
    "        v += ((i - m) **2) * h[i]\n",
    "    v /= w\n",
    "    return v\n",
    "            \n",
    "\n",
    "def threshold(h):\n",
    "    cnt = countPixel(h)\n",
    "    for i in range(1, len(h)):\n",
    "        vb = variance(0, i)\n",
    "        wb = weight(0, i) / float(cnt)\n",
    "        mb = mean(0, i)\n",
    "        \n",
    "        vf = variance(i, len(h))\n",
    "        wf = weight(i, len(h)) / float(cnt)\n",
    "        mf = mean(i, len(h))\n",
    "        \n",
    "        V2w = wb * (vb) + wf * (vf)\n",
    "        V2b = wb * wf * (mb - mf)**2\n",
    "        \n",
    "        fw = open(\"trace.txt\", \"a\")\n",
    "        fw.write('T='+ str(i) + \"\\n\")\n",
    "\n",
    "        fw.write('Wb='+ str(wb) + \"\\n\")\n",
    "        fw.write('Mb='+ str(mb) + \"\\n\")\n",
    "        fw.write('Vb='+ str(vb) + \"\\n\")\n",
    "        \n",
    "        fw.write('Wf='+ str(wf) + \"\\n\")\n",
    "        fw.write('Mf='+ str(mf) + \"\\n\")\n",
    "        fw.write('Vf='+ str(vf) + \"\\n\")\n",
    "\n",
    "        fw.write('within class variance='+ str(V2w) + \"\\n\")\n",
    "        fw.write('between class variance=' + str(V2b) + \"\\n\")\n",
    "        fw.write(\"\\n\")\n",
    "        \n",
    "        if not math.isnan(V2w):\n",
    "            threshold_values[i] = V2w\n",
    "\n",
    "\n",
    "def get_optimal_threshold():\n",
    "    min_V2w = min(threshold_values.itervalues())\n",
    "    optimal_threshold = [k for k, v in threshold_values.iteritems() if v == min_V2w]\n",
    "    print ('optimal threshold', optimal_threshold[0])\n",
    "    return optimal_threshold[0]\n",
    "\n",
    "\n",
    "image = Image.open('zoom.png').convert(\"L\")\n",
    "img = np.asarray(image)\n",
    "\n",
    "h = Hist(img)\n",
    "threshold(h)\n",
    "op_thres = get_optimal_threshold()\n",
    "\n",
    "res = regenerate_img(img, op_thres)\n",
    "plt.imshow(res)\n",
    "plt.savefig(\"otsu.jpg\")\n"
   ]
  },
  {
   "cell_type": "code",
   "execution_count": 12,
   "metadata": {},
   "outputs": [
    {
     "name": "stdout",
     "output_type": "stream",
     "text": [
      "/home/jovyan/work/Untitled.ipynb\n",
      "/home/jovyan/work/otsu.ipynb\n",
      "/home/jovyan/work/.ipynb_checkpoints/Untitled-checkpoint.ipynb\n",
      "/home/jovyan/work/.ipynb_checkpoints/otsu-checkpoint.ipynb\n"
     ]
    }
   ],
   "source": []
  },
  {
   "cell_type": "code",
   "execution_count": null,
   "metadata": {},
   "outputs": [],
   "source": []
  }
 ],
 "metadata": {
  "kernelspec": {
   "display_name": "Python 3",
   "language": "python",
   "name": "python3"
  },
  "language_info": {
   "codemirror_mode": {
    "name": "ipython",
    "version": 3
   },
   "file_extension": ".py",
   "mimetype": "text/x-python",
   "name": "python",
   "nbconvert_exporter": "python",
   "pygments_lexer": "ipython3",
   "version": "3.7.3"
  }
 },
 "nbformat": 4,
 "nbformat_minor": 2
}
