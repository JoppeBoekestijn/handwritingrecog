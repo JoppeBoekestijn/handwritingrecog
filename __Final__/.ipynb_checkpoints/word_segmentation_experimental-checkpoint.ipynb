{
 "cells": [
  {
   "cell_type": "code",
   "execution_count": 170,
   "metadata": {
    "inputHidden": false,
    "outputHidden": false
   },
   "outputs": [],
   "source": [
    "import numpy as np\n",
    "np.set_printoptions(suppress=True)\n",
    "import cv2\n",
    "from matplotlib import pyplot as plt\n",
    "from skimage.data import page\n",
    "from skimage.filters import threshold_sauvola\n",
    "from sklearn.preprocessing import normalize\n",
    "\n",
    "import io\n",
    "from IPython.display import clear_output, Image, display\n",
    "import PIL.Image\n",
    "from keras.models import load_model\n",
    "import math\n",
    "import tensorflow as tf\n",
    "from skimage.color import rgb2gray"
   ]
  },
  {
   "cell_type": "code",
   "execution_count": 171,
   "metadata": {},
   "outputs": [],
   "source": [
    "from util.WordSegmentation import wordSegmentation, prepareImg\n",
    "from keras.backend.tensorflow_backend import set_session\n",
    "config = tf.ConfigProto(\n",
    "    gpu_options = tf.GPUOptions(per_process_gpu_memory_fraction=0.8)\n",
    "    # device_count = {'GPU': 1}\n",
    ")\n",
    "config.gpu_options.allow_growth = True\n",
    "session = tf.Session(config=config)\n",
    "set_session(session)"
   ]
  },
  {
   "cell_type": "code",
   "execution_count": 172,
   "metadata": {},
   "outputs": [],
   "source": [
    "class_names = [\n",
    "    \"Alef\",\n",
    "    \"Ayin\",\n",
    "    \"Bet\",\n",
    "    \"Dalet\",\n",
    "    \"Gimel\",\n",
    "    \"He\",\n",
    "    \"Het\",\n",
    "    \"Kaf\",\n",
    "    \"Kaf-final\",\n",
    "    \"Lamed\",\n",
    "    \"Mem\",\n",
    "    \"Mem-medial\",\n",
    "    \"Nun-final\",\n",
    "    \"Nun-medial\",\n",
    "    \"Pe\",\n",
    "    \"Pe-final\",\n",
    "    \"Qof\",\n",
    "    \"Resh\",\n",
    "    \"Samekh\",\n",
    "    \"Shin\",\n",
    "    \"Taw\",\n",
    "    \"Tet\",\n",
    "    \"Tsadi-final\",\n",
    "    \"Tsadi-medial\",\n",
    "    \"Waw\",\n",
    "    \"Yod\",\n",
    "    \"Zayin\"\n",
    "]"
   ]
  },
  {
   "cell_type": "code",
   "execution_count": 173,
   "metadata": {
    "inputHidden": false,
    "outputHidden": false
   },
   "outputs": [],
   "source": [
    "def showarray(a, fmt='jpeg'):\n",
    "    a = np.uint8(np.clip(a, 0, 255))\n",
    "    f = io.BytesIO()\n",
    "    PIL.Image.fromarray(a).save(f, fmt)\n",
    "    display(Image(data=f.getvalue()))"
   ]
  },
  {
   "cell_type": "code",
   "execution_count": 174,
   "metadata": {
    "inputHidden": false,
    "lines_to_next_cell": 2,
    "outputHidden": false
   },
   "outputs": [
    {
     "name": "stdout",
     "output_type": "stream",
     "text": [
      "_________________________________________________________________\n",
      "Layer (type)                 Output Shape              Param #   \n",
      "=================================================================\n",
      "conv2d_1 (Conv2D)            (None, 44, 28, 6)         156       \n",
      "_________________________________________________________________\n",
      "max_pooling2d_1 (MaxPooling2 (None, 22, 14, 6)         0         \n",
      "_________________________________________________________________\n",
      "conv2d_2 (Conv2D)            (None, 18, 10, 16)        2416      \n",
      "_________________________________________________________________\n",
      "max_pooling2d_2 (MaxPooling2 (None, 9, 5, 16)          0         \n",
      "_________________________________________________________________\n",
      "flatten_1 (Flatten)          (None, 720)               0         \n",
      "_________________________________________________________________\n",
      "dense_1 (Dense)              (None, 120)               86520     \n",
      "_________________________________________________________________\n",
      "dense_2 (Dense)              (None, 84)                10164     \n",
      "_________________________________________________________________\n",
      "dense_3 (Dense)              (None, 27)                2295      \n",
      "=================================================================\n",
      "Total params: 101,551\n",
      "Trainable params: 101,551\n",
      "Non-trainable params: 0\n",
      "_________________________________________________________________\n"
     ]
    }
   ],
   "source": [
    "model = load_model('neural_net_models/lenet5.best.hdf5')\n",
    "# new_model = tf.keras.experimental.load_from_saved_model(saved_model_path)\n",
    "model.summary()"
   ]
  },
  {
   "cell_type": "code",
   "execution_count": 175,
   "metadata": {
    "inputHidden": false,
    "outputHidden": false
   },
   "outputs": [
    {
     "data": {
      "image/jpeg": "[encoded data removed]",
      "text/plain": [
       "<IPython.core.display.Image object>"
      ]
     },
     "metadata": {},
     "output_type": "display_data"
    }
   ],
   "source": [
    "import_images = []\n",
    "# import_images.append(prepareImg(cv2.imread('input_files_word_old/slice4.png'), 50))\n",
    "import_images.append(prepareImg(cv2.imread('output_files/image-data/image-data/P583-Fg002-R-C01-R01-fused/slice2_binarize.png'), 50))\n",
    "# import_images.append(prepareImg(cv2.imread('output_files/image-data/image-data/P583-Fg002-R-C01-R01-fused/slice3_binarize.png'), 50))\n",
    "showarray(import_images[0])"
   ]
  },
  {
   "cell_type": "markdown",
   "metadata": {},
   "source": [
    "### Cutting up the slice\n",
    "Manually take an line slice and cut it up into characters"
   ]
  },
  {
   "cell_type": "code",
   "execution_count": 176,
   "metadata": {},
   "outputs": [
    {
     "data": {
      "image/jpeg": "[encoded data removed]",
      "text/plain": [
       "<IPython.core.display.Image object>"
      ]
     },
     "metadata": {},
     "output_type": "display_data"
    }
   ],
   "source": [
    "test_image = []\n",
    "test_image.append(prepareImg(cv2.imread('output_files/image-data/image-data/P583-Fg002-R-C01-R01-fused/slice2_binarize.png'), 50))\n",
    "showarray(test_image[0])"
   ]
  },
  {
   "cell_type": "code",
   "execution_count": 177,
   "metadata": {},
   "outputs": [
    {
     "data": {
      "text/plain": [
       "(50, 773)"
      ]
     },
     "execution_count": 177,
     "metadata": {},
     "output_type": "execute_result"
    }
   ],
   "source": [
    "h, w = test_image[0].shape\n",
    "h, w"
   ]
  },
  {
   "cell_type": "code",
   "execution_count": null,
   "metadata": {},
   "outputs": [],
   "source": []
  },
  {
   "cell_type": "markdown",
   "metadata": {},
   "source": [
    "### Segment the line into different words"
   ]
  },
  {
   "cell_type": "code",
   "execution_count": 178,
   "metadata": {},
   "outputs": [],
   "source": [
    "res = []\n",
    "for i, img in enumerate(import_images):\n",
    "    res = wordSegmentation(img, kernelSize=5, sigma=5, theta=7, minArea=30) # fix parameters"
   ]
  },
  {
   "cell_type": "code",
   "execution_count": 179,
   "metadata": {
    "lines_to_next_cell": 2
   },
   "outputs": [],
   "source": [
    "words = []\n",
    "for (j, w) in enumerate(res):\n",
    "    (wordBox, wordImg) = w\n",
    "    (x, y, w, h) = wordBox\n",
    "    if (w > 20):\n",
    "        words.append(wordImg)"
   ]
  },
  {
   "cell_type": "code",
   "execution_count": 180,
   "metadata": {
    "inputHidden": false,
    "outputHidden": false
   },
   "outputs": [
    {
     "data": {
      "image/jpeg": "[encoded data removed]",
      "text/plain": [
       "<IPython.core.display.Image object>"
      ]
     },
     "metadata": {},
     "output_type": "display_data"
    },
    {
     "data": {
      "image/jpeg": "[encoded data removed]",
      "text/plain": [
       "<IPython.core.display.Image object>"
      ]
     },
     "metadata": {},
     "output_type": "display_data"
    },
    {
     "data": {
      "image/jpeg": "[encoded data removed]",
      "text/plain": [
       "<IPython.core.display.Image object>"
      ]
     },
     "metadata": {},
     "output_type": "display_data"
    },
    {
     "data": {
      "image/jpeg": "[encoded data removed]",
      "text/plain": [
       "<IPython.core.display.Image object>"
      ]
     },
     "metadata": {},
     "output_type": "display_data"
    }
   ],
   "source": [
    "for word in words:\n",
    "    showarray(word)"
   ]
  },
  {
   "cell_type": "code",
   "execution_count": 181,
   "metadata": {},
   "outputs": [
    {
     "name": "stdout",
     "output_type": "stream",
     "text": [
      "28\n"
     ]
    },
    {
     "data": {
      "image/jpeg": "[encoded data removed]",
      "text/plain": [
       "<IPython.core.display.Image object>"
      ]
     },
     "metadata": {},
     "output_type": "display_data"
    },
    {
     "data": {
      "image/jpeg": "[encoded data removed]",
      "text/plain": [
       "<IPython.core.display.Image object>"
      ]
     },
     "metadata": {},
     "output_type": "display_data"
    },
    {
     "data": {
      "image/jpeg": "[encoded data removed]",
      "text/plain": [
       "<IPython.core.display.Image object>"
      ]
     },
     "metadata": {},
     "output_type": "display_data"
    },
    {
     "data": {
      "image/jpeg": "[encoded data removed]",
      "text/plain": [
       "<IPython.core.display.Image object>"
      ]
     },
     "metadata": {},
     "output_type": "display_data"
    },
    {
     "data": {
      "image/jpeg": "[encoded data removed]",
      "text/plain": [
       "<IPython.core.display.Image object>"
      ]
     },
     "metadata": {},
     "output_type": "display_data"
    }
   ],
   "source": [
    "print(len(words[0][0]))\n",
    "single_characters = []\n",
    "single_characters.append(words[0])\n",
    "\n",
    "single_characters.append(words[1][:,0:22])\n",
    "single_characters.append(words[1][:,22:35])\n",
    "single_characters.append(words[1][:,35:])\n",
    "\n",
    "single_characters.append(words[2][:,0:17])\n",
    "single_characters.append(words[2][:,17:40])\n",
    "single_characters.append(words[2][:,40:60])\n",
    "single_characters.append(words[2][:,60:])\n",
    "\n",
    "single_characters.append(words[3][:,0:20])\n",
    "single_characters.append(words[3][:,15:30])\n",
    "single_characters.append(words[3][:,30:50])\n",
    "single_characters.append(words[3][:,50:])\n",
    "\n",
    "showarray(single_characters[8])\n",
    "showarray(single_characters[9])\n",
    "showarray(single_characters[10])\n",
    "showarray(single_characters[11])\n",
    "showarray(words[3])"
   ]
  },
  {
   "cell_type": "code",
   "execution_count": 182,
   "metadata": {
    "inputHidden": false,
    "outputHidden": false
   },
   "outputs": [],
   "source": [
    "word = words[1]\n",
    "h, w = word.shape\n",
    "num = 3\n",
    "chars = []\n",
    "for i in range(num):\n",
    "    part = math.floor(w / num)\n",
    "    char = word[:,part * i:(part * i) + part]\n",
    "    shape = cv2.resize(char,(32,48))\n",
    "    ret,thresh1 = cv2.threshold(shape,127,255,cv2.THRESH_BINARY)\n",
    "    chars.append(thresh1)"
   ]
  },
  {
   "cell_type": "code",
   "execution_count": 183,
   "metadata": {
    "inputHidden": false,
    "outputHidden": false
   },
   "outputs": [
    {
     "data": {
      "image/jpeg": "[encoded data removed]",
      "text/plain": [
       "<IPython.core.display.Image object>"
      ]
     },
     "metadata": {},
     "output_type": "display_data"
    },
    {
     "data": {
      "image/jpeg": "[encoded data removed]",
      "text/plain": [
       "<IPython.core.display.Image object>"
      ]
     },
     "metadata": {},
     "output_type": "display_data"
    },
    {
     "data": {
      "image/jpeg": "[encoded data removed]",
      "text/plain": [
       "<IPython.core.display.Image object>"
      ]
     },
     "metadata": {},
     "output_type": "display_data"
    }
   ],
   "source": [
    "for char in chars:\n",
    "    showarray(char)"
   ]
  },
  {
   "cell_type": "code",
   "execution_count": 184,
   "metadata": {},
   "outputs": [],
   "source": [
    "# def get_char(word, x, y):\n",
    "#     h, w = word.shape\n",
    "#     chars = []\n",
    "#     char = word[:,x:y]\n",
    "#     char = word[:,part * i:(part * i) + part]\n",
    "#     shape = cv2.resize(char,(32,48))\n",
    "#     ret,thresh1 = cv2.threshold(shape,127,255,cv2.THRESH_BINARY)\n",
    "#     chars.append(thresh1)"
   ]
  },
  {
   "cell_type": "code",
   "execution_count": 185,
   "metadata": {},
   "outputs": [],
   "source": [
    "# chars = []\n",
    "# chars.append(get_char(word[0], num = 1))\n",
    "# chars.append(get_char(word[1], num = 1, part = 40))"
   ]
  },
  {
   "cell_type": "code",
   "execution_count": 186,
   "metadata": {
    "inputHidden": false,
    "outputHidden": false
   },
   "outputs": [],
   "source": [
    "fonts = []\n",
    "for item in class_names:\n",
    "    fonts.append(cv2.imread('habbakuk/' + item + '/standard.png'))"
   ]
  },
  {
   "cell_type": "code",
   "execution_count": 187,
   "metadata": {
    "inputHidden": false,
    "outputHidden": false
   },
   "outputs": [
    {
     "name": "stdout",
     "output_type": "stream",
     "text": [
      "(48, 32)\n",
      "Predicted:  [ 0.01420728  0.00118978  5.5830984   0.00041367  0.00004164  0.01736562\n",
      "  0.0006031   0.3919945   0.0000003   0.00023342  6.6131353   0.00494704\n",
      "  0.00001593  0.13510275  1.8558989   0.00000243  0.01419464  0.0024364\n",
      " 10.903337    0.03006569  0.19710279 74.22649     0.00000295  0.00184471\n",
      "  0.00604229  0.00023944  0.00000005]\n",
      "Index of class with highest probability:  21\n",
      "Value of highest probability:  0.74226487\n",
      "Name of predicted class:  Tet\n",
      "habbabuk/Tet/standard.png\n"
     ]
    },
    {
     "data": {
      "image/jpeg": "[encoded data removed]",
      "text/plain": [
       "<IPython.core.display.Image object>"
      ]
     },
     "metadata": {},
     "output_type": "display_data"
    },
    {
     "data": {
      "image/jpeg": "[encoded data removed]",
      "text/plain": [
       "<IPython.core.display.Image object>"
      ]
     },
     "metadata": {},
     "output_type": "display_data"
    },
    {
     "name": "stdout",
     "output_type": "stream",
     "text": [
      "(48, 32)\n",
      "Predicted:  [ 0.22505248  0.08905026 61.021286    0.00159576  0.00629121  0.00412418\n",
      "  0.00121332  1.9556638   0.00003836  0.02514305  1.5055593   0.5841329\n",
      "  0.01514809  4.4767165   4.784241    0.0002629   0.00816402  0.03320865\n",
      "  5.5144544   0.04483108  0.05197727 19.627151    0.00004885  0.00416355\n",
      "  0.00818157  0.01228288  0.00001174]\n",
      "Index of class with highest probability:  2\n",
      "Value of highest probability:  0.61021286\n",
      "Name of predicted class:  Bet\n",
      "habbabuk/Bet/standard.png\n"
     ]
    },
    {
     "data": {
      "image/jpeg": "[encoded data removed]",
      "text/plain": [
       "<IPython.core.display.Image object>"
      ]
     },
     "metadata": {},
     "output_type": "display_data"
    },
    {
     "data": {
      "image/jpeg": "[encoded data removed]",
      "text/plain": [
       "<IPython.core.display.Image object>"
      ]
     },
     "metadata": {},
     "output_type": "display_data"
    },
    {
     "name": "stdout",
     "output_type": "stream",
     "text": [
      "(48, 32)\n",
      "Predicted:  [ 0.21539286  0.02984455 87.40146     0.00107798  0.00176056  0.00815066\n",
      "  0.00270358  3.7962391   0.00002794  0.0193523   0.38006192  0.333666\n",
      "  0.0064374   1.6045581   3.768591    0.00000504  0.00907378  0.03368734\n",
      "  0.5770518   0.01460517  0.01648151  1.7594659   0.00018868  0.0056855\n",
      "  0.01190936  0.00252992  0.00001047]\n",
      "Index of class with highest probability:  2\n",
      "Value of highest probability:  0.87401456\n",
      "Name of predicted class:  Bet\n",
      "habbabuk/Bet/standard.png\n"
     ]
    },
    {
     "data": {
      "image/jpeg": "[encoded data removed]",
      "text/plain": [
       "<IPython.core.display.Image object>"
      ]
     },
     "metadata": {},
     "output_type": "display_data"
    },
    {
     "data": {
      "image/jpeg": "[encoded data removed]",
      "text/plain": [
       "<IPython.core.display.Image object>"
      ]
     },
     "metadata": {},
     "output_type": "display_data"
    },
    {
     "name": "stdout",
     "output_type": "stream",
     "text": [
      "(48, 32)\n",
      "Predicted:  [ 0.24155588  0.04803509 88.12282     0.00154742  0.01241042  0.00196485\n",
      "  0.00383266  2.4988198   0.00013782  0.04174501  0.55380744  0.08051778\n",
      "  0.00605451  0.56634456  3.1961396   0.00000994  0.0046694   0.01271001\n",
      "  0.821849    0.04598554  0.05614468  3.6215763   0.00003465  0.04812831\n",
      "  0.00504901  0.00812525  0.00000464]\n",
      "Index of class with highest probability:  2\n",
      "Value of highest probability:  0.88122815\n",
      "Name of predicted class:  Bet\n",
      "habbabuk/Bet/standard.png\n"
     ]
    },
    {
     "data": {
      "image/jpeg": "[encoded data removed]",
      "text/plain": [
       "<IPython.core.display.Image object>"
      ]
     },
     "metadata": {},
     "output_type": "display_data"
    },
    {
     "data": {
      "image/jpeg": "[encoded data removed]",
      "text/plain": [
       "<IPython.core.display.Image object>"
      ]
     },
     "metadata": {},
     "output_type": "display_data"
    },
    {
     "name": "stdout",
     "output_type": "stream",
     "text": [
      "(48, 32)\n",
      "Predicted:  [ 0.05717266  0.00871817 29.308811    0.00259005  0.00030584  0.01746284\n",
      "  0.00105722  2.055058    0.00001179  0.00411255  6.82486     0.06578246\n",
      "  0.00010872  0.27628323  5.4560065   0.00004157  0.02168357  0.01380035\n",
      "  4.1195574   0.10547148  0.09666707 51.52461     0.00004278  0.03127867\n",
      "  0.00824278  0.00026693  0.00000029]\n",
      "Index of class with highest probability:  21\n",
      "Value of highest probability:  0.5152461\n",
      "Name of predicted class:  Tet\n",
      "habbabuk/Tet/standard.png\n"
     ]
    },
    {
     "data": {
      "image/jpeg": "[encoded data removed]",
      "text/plain": [
       "<IPython.core.display.Image object>"
      ]
     },
     "metadata": {},
     "output_type": "display_data"
    },
    {
     "data": {
      "image/jpeg": "[encoded data removed]",
      "text/plain": [
       "<IPython.core.display.Image object>"
      ]
     },
     "metadata": {},
     "output_type": "display_data"
    },
    {
     "name": "stdout",
     "output_type": "stream",
     "text": [
      "(48, 32)\n",
      "Predicted:  [ 0.16300742  0.00248294 16.082386    0.0284656   0.00126507  0.7477172\n",
      "  0.00320095  3.9152405   0.00005827  0.00155028 10.254507    0.00871643\n",
      "  0.00006206  0.30431426  5.171426    0.00004542  0.10836548  0.01463108\n",
      " 20.520597    0.03458839  0.5210962  41.991646    0.00025588  0.0468896\n",
      "  0.07554489  0.00192196  0.00000055]\n",
      "Index of class with highest probability:  21\n",
      "Value of highest probability:  0.41991645\n",
      "Name of predicted class:  Tet\n",
      "habbabuk/Tet/standard.png\n"
     ]
    },
    {
     "data": {
      "image/jpeg": "[encoded data removed]",
      "text/plain": [
       "<IPython.core.display.Image object>"
      ]
     },
     "metadata": {},
     "output_type": "display_data"
    },
    {
     "data": {
      "image/jpeg": "[encoded data removed]",
      "text/plain": [
       "<IPython.core.display.Image object>"
      ]
     },
     "metadata": {},
     "output_type": "display_data"
    },
    {
     "name": "stdout",
     "output_type": "stream",
     "text": [
      "(48, 32)\n",
      "Predicted:  [ 0.620611    0.00284146 44.072426    0.02530572  0.00535911  1.2890552\n",
      "  0.00705244  1.7415776   0.00023468  0.00683591  6.074269    0.02152584\n",
      "  0.00016782  0.33019266  4.006347    0.00013302  0.2842054   0.02096236\n",
      "  6.121474    0.30898005  0.70407385 34.290234    0.0006787   0.03982369\n",
      "  0.02090354  0.00472815  0.00000517]\n",
      "Index of class with highest probability:  2\n",
      "Value of highest probability:  0.44072425\n",
      "Name of predicted class:  Bet\n",
      "habbabuk/Bet/standard.png\n"
     ]
    },
    {
     "data": {
      "image/jpeg": "[encoded data removed]",
      "text/plain": [
       "<IPython.core.display.Image object>"
      ]
     },
     "metadata": {},
     "output_type": "display_data"
    },
    {
     "data": {
      "image/jpeg": "[encoded data removed]",
      "text/plain": [
       "<IPython.core.display.Image object>"
      ]
     },
     "metadata": {},
     "output_type": "display_data"
    },
    {
     "name": "stdout",
     "output_type": "stream",
     "text": [
      "(48, 32)\n",
      "Predicted:  [ 0.17041439  0.02030961 77.35689     0.00211103  0.00117025  0.01562724\n",
      "  0.00216883  3.6081903   0.00003463  0.02715132  1.8198619   0.09204005\n",
      "  0.00036673  0.47269213  5.837925    0.00000496  0.021047    0.0148131\n",
      "  1.1749916   0.09456217  0.06317846  9.125824    0.00014997  0.074485\n",
      "  0.00351071  0.00049181  0.00000077]\n",
      "Index of class with highest probability:  2\n",
      "Value of highest probability:  0.77356887\n",
      "Name of predicted class:  Bet\n",
      "habbabuk/Bet/standard.png\n"
     ]
    },
    {
     "data": {
      "image/jpeg": "[encoded data removed]",
      "text/plain": [
       "<IPython.core.display.Image object>"
      ]
     },
     "metadata": {},
     "output_type": "display_data"
    },
    {
     "data": {
      "image/jpeg": "[encoded data removed]",
      "text/plain": [
       "<IPython.core.display.Image object>"
      ]
     },
     "metadata": {},
     "output_type": "display_data"
    },
    {
     "name": "stdout",
     "output_type": "stream",
     "text": [
      "(48, 32)\n",
      "Predicted:  [ 0.06445577  0.01859897 26.124786    0.00500453  0.00039679  0.02468594\n",
      "  0.00320743  2.454776    0.00007999  0.02046359 14.7673      0.06557334\n",
      "  0.00048372  0.5196882   5.9012156   0.00013732  0.05027388  0.03301363\n",
      " 12.870984    0.15665598  0.06430976 36.765514    0.00018195  0.07068402\n",
      "  0.01652569  0.00100917  0.00000405]\n",
      "Index of class with highest probability:  21\n",
      "Value of highest probability:  0.36765516\n",
      "Name of predicted class:  Tet\n",
      "habbabuk/Tet/standard.png\n"
     ]
    },
    {
     "data": {
      "image/jpeg": "[encoded data removed]",
      "text/plain": [
       "<IPython.core.display.Image object>"
      ]
     },
     "metadata": {},
     "output_type": "display_data"
    },
    {
     "data": {
      "image/jpeg": "[encoded data removed]",
      "text/plain": [
       "<IPython.core.display.Image object>"
      ]
     },
     "metadata": {},
     "output_type": "display_data"
    },
    {
     "name": "stdout",
     "output_type": "stream",
     "text": [
      "(48, 32)\n",
      "Predicted:  [ 0.11974902  0.03072533 64.76683     0.00199499  0.00143608  0.01908198\n",
      "  0.00398598 13.668863    0.00001328  0.01436404  1.1488622   0.42589748\n",
      "  0.00304146  6.215601    6.598138    0.00000096  0.01373689  0.03706336\n",
      "  2.574197    0.01653207  0.02110453  4.2837744   0.00085464  0.01335422\n",
      "  0.01869954  0.00211712  0.00000605]\n",
      "Index of class with highest probability:  2\n",
      "Value of highest probability:  0.6476683\n",
      "Name of predicted class:  Bet\n",
      "habbabuk/Bet/standard.png\n"
     ]
    },
    {
     "data": {
      "image/jpeg": "[encoded data removed]",
      "text/plain": [
       "<IPython.core.display.Image object>"
      ]
     },
     "metadata": {},
     "output_type": "display_data"
    },
    {
     "data": {
      "image/jpeg": "[encoded data removed]",
      "text/plain": [
       "<IPython.core.display.Image object>"
      ]
     },
     "metadata": {},
     "output_type": "display_data"
    },
    {
     "name": "stdout",
     "output_type": "stream",
     "text": [
      "(48, 32)\n",
      "Predicted:  [ 0.21350636  0.00977686 63.399178    0.01153807  0.00165536  0.05659762\n",
      "  0.01175883  3.4121268   0.00028581  0.02897905  7.83369     0.15463303\n",
      "  0.00267041  0.5930178   3.641824    0.00034116  0.04667944  0.11639067\n",
      "  7.257394    0.09505827  0.18023586 12.853185    0.00146359  0.02842589\n",
      "  0.04715429  0.00240107  0.00001823]\n",
      "Index of class with highest probability:  2\n",
      "Value of highest probability:  0.6339918\n",
      "Name of predicted class:  Bet\n",
      "habbabuk/Bet/standard.png\n"
     ]
    },
    {
     "data": {
      "image/jpeg": "[encoded data removed]",
      "text/plain": [
       "<IPython.core.display.Image object>"
      ]
     },
     "metadata": {},
     "output_type": "display_data"
    },
    {
     "data": {
      "image/jpeg": "[encoded data removed]",
      "text/plain": [
       "<IPython.core.display.Image object>"
      ]
     },
     "metadata": {},
     "output_type": "display_data"
    },
    {
     "name": "stdout",
     "output_type": "stream",
     "text": [
      "(48, 32)\n",
      "Predicted:  [ 0.09554826  0.02259596 18.693811    0.03672027  0.00383084  0.10578196\n",
      "  0.01946336  9.832509    0.00116549  0.04295434 20.824188    0.25227472\n",
      "  0.00718115  1.942681   11.224121    0.00062175  0.0521364   0.08616596\n",
      " 12.067389    0.0480539   0.27118844 23.988121    0.00190417  0.21808068\n",
      "  0.15080003  0.01063186  0.00008637]\n",
      "Index of class with highest probability:  21\n",
      "Value of highest probability:  0.2398812\n",
      "Name of predicted class:  Tet\n",
      "habbabuk/Tet/standard.png\n"
     ]
    },
    {
     "data": {
      "image/jpeg": "[encoded data removed]",
      "text/plain": [
       "<IPython.core.display.Image object>"
      ]
     },
     "metadata": {},
     "output_type": "display_data"
    },
    {
     "data": {
      "image/jpeg": "[encoded data removed]",
      "text/plain": [
       "<IPython.core.display.Image object>"
      ]
     },
     "metadata": {},
     "output_type": "display_data"
    }
   ],
   "source": [
    "for character in single_characters:\n",
    "#     char_pred = cv2.cvtColor(char, cv2.COLOR_BGR2GRAY)\n",
    "    shape = cv2.resize(character,(32,48))\n",
    "    ret, thresh1 = cv2.threshold(shape,127,255,cv2.THRESH_BINARY)\n",
    "    \n",
    "    char = thresh1\n",
    "    char_pred = np.asarray(char[:], dtype='float32')\n",
    "    print(char_pred.shape)\n",
    "    char_pred = normalize(char_pred)\n",
    "    char_pred = char_pred.reshape(-1, 48, 32,1)\n",
    "\n",
    "    prediction = model.predict([char_pred])\n",
    "    for i in range(len(prediction)):\n",
    "        print('Predicted: ', prediction[i] * 100)\n",
    "    highest_index = np.argmax(prediction)\n",
    "    print('Index of class with highest probability: ',highest_index)\n",
    "    print('Value of highest probability: ', prediction[0][highest_index])\n",
    "    print('Name of predicted class: ', class_names[highest_index])\n",
    "    print('habbabuk/' + class_names[highest_index] + '/standard.png')\n",
    "    character_example = cv2.imread('habbakuk/' + str(class_names[highest_index]) + '/standard.png')\n",
    "    showarray(character_example)\n",
    "    showarray(char)"
   ]
  },
  {
   "cell_type": "code",
   "execution_count": 188,
   "metadata": {
    "inputHidden": false,
    "outputHidden": false
   },
   "outputs": [],
   "source": [
    "# for box in bounding_boxes:\n",
    "#     xStart = box[2]\n",
    "#     xEnd = box[0]\n",
    "#     y = box[1]\n",
    "#     winH = box[3] - y\n",
    "#     winWidth = 5\n",
    "#     while(xStart-winWidth >= xEnd) :\n",
    "#         hit = False\n",
    "#         winW = winWidth\n",
    "#         a = 0\n",
    "#         # While the image is not classified and the box has not reached the edge,\n",
    "#         # increase window size\n",
    "#         while(not hit and xStart-winW >= xEnd) :\n",
    "#             newX = xStart - winW\n",
    "#             # Draw the window\n",
    "#             clone = img.copy()\n",
    "#             cv2.rectangle(clone, (xStart, y), (newX, y + winH), (255, 0, 0), 2)\n",
    "#             cv2.rectangle(clone, (xStart,y),(xEnd,y + winH), (0,255,0), 2)\n",
    "#             cv2.imshow(\"Window\", clone)\n",
    "#             cv2.waitKey(0)\n",
    "#             # Check if the CNN returns a high probability for a letter\n",
    "#             # for prob in probabilities :\n",
    "#             #     if prob >= 0.75 :\n",
    "#             #         hit = True\n",
    "#             #         xStart = newX\n",
    "#             # # Increase size of window if nothing has been found\n",
    "#             winW += 5\n",
    "#             # this is done to ensure that the loop ends for now, because not\n",
    "#             # connected to cnn yet.\n",
    "#             hit = True\n",
    "#             xStart = newX"
   ]
  },
  {
   "cell_type": "code",
   "execution_count": 189,
   "metadata": {
    "inputHidden": false,
    "outputHidden": false
   },
   "outputs": [],
   "source": [
    "# def get_resized_img(img, video_size):\n",
    "#     width, height = video_size  # these are the MAX dimensions\n",
    "#     video_ratio = width / height\n",
    "#     img_ratio = img.size[0] / img.size[1]\n",
    "#     if video_ratio >= 1:  # the video is wide\n",
    "#         if img_ratio <= video_ratio:  # image is not wide enough\n",
    "#             width_new = int(height * img_ratio)\n",
    "#             size_new = width_new, height\n",
    "#         else:  # image is wider than video\n",
    "#             height_new = int(width / img_ratio)\n",
    "#             size_new = width, height_new\n",
    "#     else:  # the video is tall\n",
    "#         if img_ratio >= video_ratio:  # image is not tall enough\n",
    "#             height_new = int(width / img_ratio)\n",
    "#             size_new = width, height_new\n",
    "#         else:  # image is taller than video\n",
    "#             width_new = int(height * img_ratio)\n",
    "#             size_new = width_new, height\n",
    "#     return np.asarray(img.resize(size_new, resample=Image.LANCZOS))"
   ]
  },
  {
   "cell_type": "code",
   "execution_count": 190,
   "metadata": {
    "inputHidden": false,
    "lines_to_next_cell": 2,
    "outputHidden": false
   },
   "outputs": [],
   "source": [
    "# char = cv2.cvtColor(char, char, cv2.COLOR_BGR2GRAY)"
   ]
  },
  {
   "cell_type": "code",
   "execution_count": null,
   "metadata": {
    "inputHidden": false,
    "lines_to_next_cell": 2,
    "outputHidden": false
   },
   "outputs": [],
   "source": []
  },
  {
   "cell_type": "code",
   "execution_count": null,
   "metadata": {
    "inputHidden": false,
    "lines_to_next_cell": 2,
    "outputHidden": false
   },
   "outputs": [],
   "source": []
  },
  {
   "cell_type": "code",
   "execution_count": null,
   "metadata": {
    "inputHidden": false,
    "outputHidden": false
   },
   "outputs": [],
   "source": []
  }
 ],
 "metadata": {
  "kernel_info": {
   "name": "python3"
  },
  "kernelspec": {
   "display_name": "Python [conda env:tensorflow]",
   "language": "python",
   "name": "conda-env-tensorflow-py"
  },
  "language_info": {
   "codemirror_mode": {
    "name": "ipython",
    "version": 3
   },
   "file_extension": ".py",
   "mimetype": "text/x-python",
   "name": "python",
   "nbconvert_exporter": "python",
   "pygments_lexer": "ipython3",
   "version": "3.5.5"
  }
 },
 "nbformat": 4,
 "nbformat_minor": 2
}
