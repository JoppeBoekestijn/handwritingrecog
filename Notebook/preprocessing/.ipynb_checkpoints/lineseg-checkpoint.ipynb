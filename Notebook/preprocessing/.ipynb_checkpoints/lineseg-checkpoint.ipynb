{
 "cells": [
  {
   "cell_type": "code",
   "execution_count": 179,
   "metadata": {},
   "outputs": [
    {
     "name": "stdout",
     "output_type": "stream",
     "text": [
      "Python version: (3, 7, 3)\n",
      "OpenCV version: 4.1.0\n"
     ]
    }
   ],
   "source": [
    "from sys import version_info\n",
    "import numpy as np\n",
    "import cv2\n",
    "from matplotlib import pyplot as plt\n",
    "from scipy.signal import find_peaks\n",
    "from skimage.data import page\n",
    "from skimage.filters import threshold_sauvola\n",
    "print('Python version: ' + str(version_info[:3]))\n",
    "print('OpenCV version: ' + cv2.__version__)\n",
    "def undesired_objects (image):\n",
    "    image = image.astype('uint8')\n",
    "    nb_components, output, stats, centroids = cv2.connectedComponentsWithStats(image, connectivity=4)\n",
    "    sizes = stats[:, -1]\n",
    "\n",
    "    max_label = 1\n",
    "    max_size = sizes[1]\n",
    "    for i in range(2, nb_components):\n",
    "        if sizes[i] > max_size:\n",
    "            max_label = i\n",
    "            max_size = sizes[i]\n",
    "            \n",
    "    img2 = np.zeros(output.shape)\n",
    "    img2[output == max_label] = 255\n",
    "    cv2.imwrite(\"output_files/biggest_component.png\", img2)\n",
    "    return img2\n",
    "\n",
    "def inverted(imagem):\n",
    "    imagem = (255-imagem)\n",
    "    return imagem\n",
    "    \n",
    "def imshow_components(labels):\n",
    "    # Map component labels to hue val\n",
    "    label_hue = np.uint8(179*labels/np.max(labels))\n",
    "    blank_ch = 255*np.ones_like(label_hue)\n",
    "    labeled_img = cv2.merge([label_hue, blank_ch, blank_ch])\n",
    "\n",
    "    # cvt to BGR for display\n",
    "    labeled_img = cv2.cvtColor(labeled_img, cv2.COLOR_HSV2BGR)\n",
    "\n",
    "    # set bg label to black\n",
    "    labeled_img[label_hue==0] = 0\n",
    "\n",
    "    cv2.imwrite('output_files/connected_components.png', labeled_img)"
   ]
  },
  {
   "cell_type": "code",
   "execution_count": 168,
   "metadata": {},
   "outputs": [],
   "source": [
    "#Read image, and perform binarization using Otsu algorithm\n",
    "img = cv2.imread('input_files/test2.jpg')  #Afbeelding waar je alles op uitvoert\n",
    "gray = cv2.cvtColor(img,cv2.COLOR_BGR2GRAY)\n",
    "#Perform OTSU binarization\n",
    "ret, thresh = cv2.threshold(gray,0,255,cv2.THRESH_BINARY_INV+cv2.THRESH_OTSU)\n",
    "#Show  and save image\n",
    "cv2.imwrite('output_files/otsu.png',thresh)\n",
    "#Find connected components of image\n",
    "output_components = cv2.connectedComponentsWithStats(cv2.bitwise_not(thresh))\n",
    "# The first cell is the number of labels\n",
    "num_labels = output_components[0]\n",
    "# The second cell is the label matrix\n",
    "labels = output_components[1]\n",
    "# The third cell is the stat matrix\n",
    "stats = output_components[2]\n",
    "# The fourth cell is the centroid matrix\n",
    "centroids = output_components[3]\n",
    "#Show the components of the image\n",
    "imshow_components(labels)"
   ]
  },
  {
   "cell_type": "code",
   "execution_count": 169,
   "metadata": {},
   "outputs": [
    {
     "data": {
      "text/plain": [
       "True"
      ]
     },
     "execution_count": 169,
     "metadata": {},
     "output_type": "execute_result"
    }
   ],
   "source": [
    "#Get the biggest components, the dead sea scroll.\n",
    "largest_component = undesired_objects(cv2.bitwise_not(thresh))\n",
    "#Convert to right type\n",
    "largest_component = largest_component.astype('uint8')\n",
    "#Save file for debugging purposes. \n",
    "cv2.imwrite('output_files/is_dit_het_nou.png', largest_component)"
   ]
  },
  {
   "cell_type": "code",
   "execution_count": 170,
   "metadata": {},
   "outputs": [
    {
     "name": "stdout",
     "output_type": "stream",
     "text": [
      "[(643, 358, 960, 797)]\n"
     ]
    },
    {
     "data": {
      "text/plain": [
       "True"
      ]
     },
     "execution_count": 170,
     "metadata": {},
     "output_type": "execute_result"
    }
   ],
   "source": [
    "largest_component_copy = largest_component\n",
    "contours, hierarchy = cv2.findContours(largest_component, cv2.RETR_EXTERNAL, cv2.CHAIN_APPROX_NONE)\n",
    "bounding_boxes = [cv2.boundingRect(contour) for contour in contours]\n",
    "\n",
    "print(bounding_boxes)\n",
    "x = bounding_boxes[0][0]\n",
    "y = bounding_boxes[0][1]\n",
    "width = bounding_boxes[0][2]\n",
    "height = bounding_boxes[0][3]\n",
    "#Crop the image to get only the scroll\n",
    "crop_img = largest_component_copy[y:y+height, x:x+width]\n",
    "cv2.imwrite('output_files/crop.png', crop_img)\n",
    "#Draw rectangle around the largest component to see what is being cropped. \n",
    "cv2.rectangle(largest_component_copy,(x,y),(x+width,y+height),(255,0,0),2)\n",
    "cv2.imwrite('output_files/vierkant.png', largest_component_copy)"
   ]
  },
  {
   "cell_type": "code",
   "execution_count": 171,
   "metadata": {},
   "outputs": [],
   "source": [
    "crop_img2 = img[y:y+height, x:x+width]\n",
    "\n",
    "\n",
    "# noise removal\n",
    "kernel = np.ones((3,3),np.uint8)\n",
    "opening = cv2.morphologyEx(crop_img,cv2.MORPH_OPEN,kernel, iterations = 2)\n",
    "#Save image for debugging\n",
    "cv2.imwrite('output_files/opening.png',opening)\n",
    "# sure background area\n",
    "sure_bg = cv2.dilate(opening,kernel,iterations=3)\n",
    "# Finding sure foreground area\n",
    "dist_transform = cv2.distanceTransform(opening,cv2.DIST_L2,5)\n",
    "ret, sure_fg = cv2.threshold(dist_transform,0.7*dist_transform.max(),255,0)\n",
    "#Save image for debugging\n",
    "cv2.imwrite('output_files/dist_transform.png',dist_transform)\n",
    "# Finding unknown region\n",
    "sure_fg = np.uint8(sure_fg)\n",
    "unknown = cv2.subtract(sure_bg,sure_fg)"
   ]
  },
  {
   "cell_type": "code",
   "execution_count": 172,
   "metadata": {},
   "outputs": [
    {
     "data": {
      "text/plain": [
       "True"
      ]
     },
     "execution_count": 172,
     "metadata": {},
     "output_type": "execute_result"
    }
   ],
   "source": [
    "cv2.imwrite('output_files/fg.png',sure_fg)\n",
    "cv2.imwrite('output_files/bg.png',sure_bg)\n",
    "cv2.imwrite('output_files/unkown.png',unknown)"
   ]
  },
  {
   "cell_type": "code",
   "execution_count": 173,
   "metadata": {},
   "outputs": [
    {
     "data": {
      "text/plain": [
       "True"
      ]
     },
     "execution_count": 173,
     "metadata": {},
     "output_type": "execute_result"
    }
   ],
   "source": [
    "# Marker labelling\n",
    "ret, markers = cv2.connectedComponents(sure_fg)\n",
    "# Add one to all labels so that sure background is not 0, but 1\n",
    "markers = markers+1\n",
    "# Now, mark the region of unknown with zero\n",
    "markers[unknown==255] = 0\n",
    "cv2.imwrite('output_files/markers.png',markers)"
   ]
  },
  {
   "cell_type": "code",
   "execution_count": 174,
   "metadata": {},
   "outputs": [
    {
     "data": {
      "text/plain": [
       "True"
      ]
     },
     "execution_count": 174,
     "metadata": {},
     "output_type": "execute_result"
    }
   ],
   "source": [
    "#Perform watershed and save the result. \n",
    "markers = cv2.watershed(crop_img2,markers)\n",
    "crop_img2[markers == -1] = [0,255,0]\n",
    "cv2.imwrite('output_files/watershed_output.png',crop_img2)"
   ]
  },
  {
   "cell_type": "code",
   "execution_count": 175,
   "metadata": {},
   "outputs": [
    {
     "data": {
      "text/plain": [
       "<matplotlib.image.AxesImage at 0x7f470ed5fda0>"
      ]
     },
     "execution_count": 175,
     "metadata": {},
     "output_type": "execute_result"
    },
    {
     "data": {
      "image/png": "[encoded data removed]",
      "text/plain": [
       "<Figure size 432x288 with 1 Axes>"
      ]
     },
     "metadata": {
      "needs_background": "light"
     },
     "output_type": "display_data"
    }
   ],
   "source": [
    "plt.imshow(opening)"
   ]
  },
  {
   "cell_type": "code",
   "execution_count": 217,
   "metadata": {},
   "outputs": [
    {
     "name": "stdout",
     "output_type": "stream",
     "text": [
      "[  7  87 185 273 374 479 579 711 793]\n",
      "[1.2, 1.00390625, 0.9876373626373627, 1.001207729468599, 1.0011428571428571, 1.0011600928074247, 0.9961290322580645, 1.001980198019802, 1.2]\n"
     ]
    },
    {
     "data": {
      "image/png": "[encoded data removed]",
      "text/plain": [
       "<Figure size 432x288 with 1 Axes>"
      ]
     },
     "metadata": {
      "needs_background": "light"
     },
     "output_type": "display_data"
    }
   ],
   "source": [
    "def getHist(binary_img):    \n",
    "    height, width = binary_img.shape\n",
    "    #binary_img = binary_img[binary_img > 0] = 1\n",
    "    hist = []\n",
    "    for x in range(height):\n",
    "        # find indexes of start and end of paper\n",
    "        pixels = np.where(binary_img[x] == 1)\n",
    "        if len(pixels[0])>0:\n",
    "            rightp = pixels[0][-1]\n",
    "            leftp = pixels[0][0]\n",
    "            #calculate paper width\n",
    "            paperw = rightp-leftp\n",
    "            #sum number of white pixels\n",
    "            rowsum = binary_img[x].sum()\n",
    "            normsum = rowsum/paperw\n",
    "            #if normsum > 1: normsum = 0\n",
    "            hist.append(normsum)\n",
    "        else:\n",
    "            hist.append(0)\n",
    "    return hist\n",
    "hist = opening[opening > 0] = 1\n",
    "hist = getHist(opening)\n",
    "#plt.bar(range(1,1+len(hist)),hist)\n",
    "plt.plot(range(1,1+len(hist)),hist)\n",
    "peaks, _ = find_peaks(hist, height = sum(hist)/len(hist), distance = len(hist)/10)\n",
    "#plt.plot(hist.index[peaks], hist.water_level[hist], 'ro', label = 'positive peaks')\n",
    "print(peaks)\n",
    "#print(hist[list(peaks)])\n",
    "peakplot = [hist[i] for i in peaks]\n",
    "plt.plot(peaks,peakplot,'ro')\n",
    "print (peakplot)"
   ]
  },
  {
   "cell_type": "code",
   "execution_count": 221,
   "metadata": {},
   "outputs": [
    {
     "data": {
      "text/plain": [
       "<matplotlib.collections.LineCollection at 0x7f470d6b8e10>"
      ]
     },
     "execution_count": 221,
     "metadata": {},
     "output_type": "execute_result"
    },
    {
     "data": {
      "image/png": "[encoded data removed]",
      "text/plain": [
       "<Figure size 432x288 with 1 Axes>"
      ]
     },
     "metadata": {
      "needs_background": "light"
     },
     "output_type": "display_data"
    }
   ],
   "source": [
    "plt.imshow(opening)\n",
    "plt.hlines(peaks,0,len(opening[0])-1,colors='w')"
   ]
  },
  {
   "cell_type": "code",
   "execution_count": 61,
   "metadata": {},
   "outputs": [
    {
     "data": {
      "text/plain": [
       "676"
      ]
     },
     "execution_count": 61,
     "metadata": {},
     "output_type": "execute_result"
    }
   ],
   "source": []
  },
  {
   "cell_type": "code",
   "execution_count": 105,
   "metadata": {},
   "outputs": [
    {
     "name": "stdout",
     "output_type": "stream",
     "text": [
      "0\n",
      "3\n",
      "4\n",
      "[1, 1, 0, 1]\n",
      "[1, 1, 0, 1]\n",
      "[1, 0, 1, 1]\n"
     ]
    }
   ],
   "source": []
  }
 ],
 "metadata": {
  "kernelspec": {
   "display_name": "Python 3",
   "language": "python",
   "name": "python3"
  },
  "language_info": {
   "codemirror_mode": {
    "name": "ipython",
    "version": 3
   },
   "file_extension": ".py",
   "mimetype": "text/x-python",
   "name": "python",
   "nbconvert_exporter": "python",
   "pygments_lexer": "ipython3",
   "version": "3.7.3"
  }
 },
 "nbformat": 4,
 "nbformat_minor": 2
}
