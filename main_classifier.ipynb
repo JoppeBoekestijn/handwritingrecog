{
 "cells": [
  {
   "cell_type": "code",
   "execution_count": 1,
   "metadata": {},
   "outputs": [
    {
     "ename": "AssertionError",
     "evalue": "Please input the path to the folder containing the 20 test images",
     "output_type": "error",
     "traceback": [
      "\u001b[0;31m---------------------------------------------------------------------------\u001b[0m",
      "\u001b[0;31mAssertionError\u001b[0m                            Traceback (most recent call last)",
      "\u001b[0;32m<ipython-input-1-38b579c86a83>\u001b[0m in \u001b[0;36m<module>\u001b[0;34m\u001b[0m\n\u001b[1;32m     27\u001b[0m \u001b[0;34m\u001b[0m\u001b[0m\n\u001b[1;32m     28\u001b[0m \u001b[0;32mif\u001b[0m \u001b[0m__name__\u001b[0m \u001b[0;34m==\u001b[0m \u001b[0;34m\"__main__\"\u001b[0m\u001b[0;34m:\u001b[0m\u001b[0;34m\u001b[0m\u001b[0;34m\u001b[0m\u001b[0m\n\u001b[0;32m---> 29\u001b[0;31m     \u001b[0;32massert\u001b[0m \u001b[0mlen\u001b[0m\u001b[0;34m(\u001b[0m\u001b[0msys\u001b[0m\u001b[0;34m.\u001b[0m\u001b[0margv\u001b[0m\u001b[0;34m)\u001b[0m \u001b[0;34m==\u001b[0m \u001b[0;36m2\u001b[0m\u001b[0;34m,\u001b[0m \u001b[0;34m\"Please input the path to the folder containing the 20 test images\"\u001b[0m\u001b[0;34m\u001b[0m\u001b[0;34m\u001b[0m\u001b[0m\n\u001b[0m\u001b[1;32m     30\u001b[0m \u001b[0;34m\u001b[0m\u001b[0m\n\u001b[1;32m     31\u001b[0m     \u001b[0mmain\u001b[0m\u001b[0;34m(\u001b[0m\u001b[0msys\u001b[0m\u001b[0;34m.\u001b[0m\u001b[0margv\u001b[0m\u001b[0;34m)\u001b[0m\u001b[0;34m\u001b[0m\u001b[0;34m\u001b[0m\u001b[0m\n",
      "\u001b[0;31mAssertionError\u001b[0m: Please input the path to the folder containing the 20 test images"
     ]
    }
   ],
   "source": [
    "import sys\n",
    "\n",
    "def resize_imgs(source_dir, target_dim):\n",
    "    target_w = target_dim\n",
    "    target_h = target_dim\n",
    "\n",
    "    target_dir_name = str(target_dim) + \"x\" + str(target_dim)\n",
    "\n",
    "    cur_dir_path = os.path.dirname(os.path.realpath(__file__))\n",
    "    source_dir_path = os.path.join(cur_dir_path, os.pardir, \"data\", source_dir)\n",
    "    target_dir_path = os.path.join(source_dir_path, target_dir_name)\n",
    "\n",
    "    if not os.path.exists(target_dir_path):\n",
    "        os.makedirs(target_dir_path)\n",
    "\n",
    "    with os.scandir(source_dir_path) as entries:\n",
    "        for imageFile in entries:\n",
    "            if (imageFile.name.endswith(\".png\") or imageFile.name.endswith(\".jpg\")):\n",
    "                im = Image.open(os.path.join(source_dir_path, imageFile.name))\n",
    "                im = im.resize((target_w, target_h), Image.ANTIALIAS)\n",
    "                im.save(os.path.join(target_dir_path, imageFile.name))\n",
    "\n",
    "def main(argv):\n",
    "    source_dir = argv\n",
    "    target_dir = argv\n",
    "    print(hoi)\n",
    "\n",
    "if __name__ == \"__main__\":\n",
    "    assert len(sys.argv) == 2, \"Please input the path to the folder containing the 20 test images\"\n",
    "\n",
    "    main(sys.argv)"
   ]
  },
  {
   "cell_type": "code",
   "execution_count": null,
   "metadata": {},
   "outputs": [],
   "source": []
  }
 ],
 "metadata": {
  "kernelspec": {
   "display_name": "Python 3",
   "language": "python",
   "name": "python3"
  },
  "language_info": {
   "codemirror_mode": {
    "name": "ipython",
    "version": 3
   },
   "file_extension": ".py",
   "mimetype": "text/x-python",
   "name": "python",
   "nbconvert_exporter": "python",
   "pygments_lexer": "ipython3",
   "version": "3.7.3"
  }
 },
 "nbformat": 4,
 "nbformat_minor": 2
}
