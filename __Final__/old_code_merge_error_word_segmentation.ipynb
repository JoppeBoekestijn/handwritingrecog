{
 "cells": [
  {
   "cell_type": "markdown",
   "metadata": {},
   "source": [
    "# Word Segmentation and Character Classification"
   ]
  },
  {
   "cell_type": "markdown",
   "metadata": {},
   "source": [
    "## Imports"
   ]
  },
  {
   "cell_type": "code",
   "execution_count": 35,
   "metadata": {
    "inputHidden": false,
    "outputHidden": false
   },
   "outputs": [],
   "source": [
    "import io\n",
    "import glob\n",
    "import cv2\n",
    "import io\n",
    "import PIL.Image\n",
    "import math\n",
    "import glob\n",
    "import tensorflow as tf\n",
    "\n",
    "from matplotlib import pyplot as plt\n",
    "from IPython.display import clear_output, Image, display\n",
    "from keras.models import load_model\n",
    "from util.WordSegmentation import wordSegmentation, prepareImg\n",
    "from sklearn.preprocessing import normalize\n",
    "from natsort import natsorted\n",
    "from keras.backend.tensorflow_backend import set_session"
   ]
  },
  {
   "cell_type": "code",
   "execution_count": 41,
   "metadata": {},
   "outputs": [],
   "source": [
    "from keras.backend.tensorflow_backend import set_session\n",
    "config = tf.ConfigProto(\n",
    "    gpu_options = tf.GPUOptions(per_process_gpu_memory_fraction=0.8)\n",
    ")\n",
    "config.gpu_options.allow_growth = True\n",
    "session = tf.Session(config=config)\n",
    "set_session(session)\n",
    "\n",
    "input_files = 'output_files/image-data/image-data/'"
   ]
  },
  {
   "cell_type": "code",
   "execution_count": 3,
   "metadata": {},
   "outputs": [],
   "source": [
    "class_names = [\n",
    "    \"Alef\",\n",
    "    \"Ayin\",\n",
    "    \"Bet\",\n",
    "    \"Dalet\",\n",
    "    \"Gimel\",\n",
    "    \"He\",\n",
    "    \"Het\",\n",
    "    \"Kaf\",\n",
    "    \"Kaf-final\",\n",
    "    \"Lamed\",\n",
    "    \"Mem\",\n",
    "    \"Mem-medial\",\n",
    "    \"Nun-final\",\n",
    "    \"Nun-medial\",\n",
    "    \"Pe\",\n",
    "    \"Pe-final\",\n",
    "    \"Qof\",\n",
    "    \"Resh\",\n",
    "    \"Samekh\",\n",
    "    \"Shin\",\n",
    "    \"Taw\",\n",
    "    \"Tet\",\n",
    "    \"Tsadi-final\",\n",
    "    \"Tsadi-medial\",\n",
    "    \"Waw\",\n",
    "    \"Yod\",\n",
    "    \"Zayin\"\n",
    "]"
   ]
  },
  {
   "cell_type": "code",
   "execution_count": 4,
   "metadata": {
    "inputHidden": false,
    "outputHidden": false
   },
   "outputs": [],
   "source": [
    "def showarray(a, fmt='jpeg'):\n",
    "    a = np.uint8(np.clip(a, 0, 255))\n",
    "    f = io.BytesIO()\n",
    "    PIL.Image.fromarray(a).save(f, fmt)\n",
    "    display(Image(data=f.getvalue()))"
   ]
  },
  {
   "cell_type": "code",
   "execution_count": 5,
   "metadata": {
    "inputHidden": false,
    "lines_to_next_cell": 2,
    "outputHidden": false
   },
   "outputs": [
    {
     "name": "stdout",
     "output_type": "stream",
     "text": [
      "_________________________________________________________________\n",
      "Layer (type)                 Output Shape              Param #   \n",
      "=================================================================\n",
      "conv2d_1 (Conv2D)            (None, 44, 28, 6)         156       \n",
      "_________________________________________________________________\n",
      "max_pooling2d_1 (MaxPooling2 (None, 22, 14, 6)         0         \n",
      "_________________________________________________________________\n",
      "conv2d_2 (Conv2D)            (None, 18, 10, 16)        2416      \n",
      "_________________________________________________________________\n",
      "max_pooling2d_2 (MaxPooling2 (None, 9, 5, 16)          0         \n",
      "_________________________________________________________________\n",
      "flatten_1 (Flatten)          (None, 720)               0         \n",
      "_________________________________________________________________\n",
      "dense_1 (Dense)              (None, 120)               86520     \n",
      "_________________________________________________________________\n",
      "dense_2 (Dense)              (None, 84)                10164     \n",
      "_________________________________________________________________\n",
      "dense_3 (Dense)              (None, 27)                2295      \n",
      "=================================================================\n",
      "Total params: 101,551\n",
      "Trainable params: 101,551\n",
      "Non-trainable params: 0\n",
      "_________________________________________________________________\n"
     ]
    }
   ],
   "source": [
    "model = load_model('neural_net_models/lenet5.best.hdf5')\n",
    "model.summary()"
   ]
  },
  {
   "cell_type": "markdown",
   "metadata": {},
   "source": [
    "## Load in slices and apply word segmentation"
   ]
  },
  {
   "cell_type": "code",
   "execution_count": 146,
   "metadata": {},
   "outputs": [],
   "source": [
    "def load_slices(filepath):\n",
    "    slices = []\n",
    "    slices_filepath = filepath + '/'\n",
    "    slices_path = natsorted(glob.glob(slices_filepath + 'slice*_binarize.png'))\n",
    "    for slice_path in slices_path:\n",
    "        slices.append(prepareImg(cv2.imread(slice_path), 50))  \n",
    "    print(len(slices))\n",
    "    return slices"
   ]
  },
  {
   "cell_type": "code",
   "execution_count": 150,
   "metadata": {
    "inputHidden": false,
    "outputHidden": false
   },
   "outputs": [
    {
<<<<<<< HEAD
     "name": "stdout",
     "output_type": "stream",
     "text": [
      "output_files/image-data/image-data\\P583-Fg002-R-C01-R01-fused\n",
      "12\n",
      "14\n",
      "11\n",
      "8\n",
      "13\n",
      "8\n",
      "10\n",
      "11\n",
      "8\n",
      "12\n",
      "14\n",
      "11\n",
      "11\n",
      "9\n",
      "10\n",
      "7\n",
      "7\n",
      "9\n",
      "8\n",
      "7\n"
     ]
    },
    {
     "data": {
      "image/jpeg": "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\n",
      "text/plain": [
       "<IPython.core.display.Image object>"
      ]
     },
     "metadata": {},
     "output_type": "display_data"
    }
   ],
   "source": [
    "image_filepaths = glob.glob(input_files + '*')\n",
    "print(image_filepaths[len(image_filepaths) - 5])\n",
    "images = []\n",
    "for image_filepath in image_filepaths:\n",
    "    images.append(load_slices(image_filepath))\n",
    "\n",
    "showarray(images[15][2])"
   ]
  },
  {
   "cell_type": "markdown",
   "metadata": {},
   "source": [
    "### *TEST*"
   ]
  },
  {
   "cell_type": "code",
   "execution_count": 176,
   "metadata": {},
   "outputs": [
    {
     "data": {
      "image/jpeg": "/9j/4AAQSkZJRgABAQAAAQABAAD/2wBDAAgGBgcGBQgHBwcJCQgKDBQNDAsLDBkSEw8UHRofHh0aHBwgJC4nICIsIxwcKDcpLDAxNDQ0Hyc5PTgyPC4zNDL/wAALCAAyAwUBAREA/8QAHwAAAQUBAQEBAQEAAAAAAAAAAAECAwQFBgcICQoL/8QAtRAAAgEDAwIEAwUFBAQAAAF9AQIDAAQRBRIhMUEGE1FhByJxFDKBkaEII0KxwRVS0fAkM2JyggkKFhcYGRolJicoKSo0NTY3ODk6Q0RFRkdISUpTVFVWV1hZWmNkZWZnaGlqc3R1dnd4eXqDhIWGh4iJipKTlJWWl5iZmqKjpKWmp6ipqrKztLW2t7i5usLDxMXGx8jJytLT1NXW19jZ2uHi4+Tl5ufo6erx8vP09fb3+Pn6/9oACAEBAAA/APf6KKKKKKKKKKKKKKKKKKKKKKKKK+VPiP488Qap8VymkTXMMmj3rWunQwrljKDsY4GdxdgRg5ypAx1z9UQmVoIzOiJMVBdUcsqtjkAkDIz3wPoKfTDKomWIh9zKWBCHbgYzk4wDyODyecdDh9FFFRxzwzPKkUqO8L7JVVgSjbQ2G9DhlOD2IPepKKKKKKKKKKKKKKKKKKKKKKKKKKKKKKKKKKKKKKKKKKKKKKKKKKKKKKKKKKKKKKKKKKKKKKKKKKKKKKKKKKKKKKYZolnWAyoJnUusZYbioIBIHoCy5PuPWn1826z8Mrvw18adBk0TT9UvNJe+tbyS48l5Vt8z/MrSAYwAucsc4IyT1P0lRUYnha4e3WWMzoiu8YYblViQpI6gEqwB77T6VJRRRTY40iUrGioCxYhRjknJP1JJNOooooooooooooooooooooooooooooooooooooooooooooooooooooooooooooooooooooooooooooooooooooooooooqCC8t7ma6hhkDyWsohmUA/I5RXA/75dT+NTMwVSzEAAZJPavmXWvjHdRfGMatb3t3P4dspfs4tIpcRyxAFXcKCFcklnUn0TOMcbuvftJRlHi8P6HJkqQs984BU4/55rnOD/tdvfjM+G/xm16bXrm18T6hJeWUtvLKpjtgZUdFLfIEUdQDweBjPAzn0H4leM7/T/g8urRSJpmpamI44Bbz+cVDnd8sgAGfLB+YcA/dJ4J5rQvjfo3hnwFptnfXl5ruuJbFpGRTgOxZlR5HwflBVSQG6d66P4O/ErU/Hq6rBq1vbpcWZR0kt1KqyPn5SCTyCvXPOfbnmbDxb4g8Q/tFT6dZa5LaaZZzPAbOY/u5EhGJFVAcFmYMQx5A56LtrI/aC8aTy+ILXw1YXEkUdgFuLkxsVzMwDIOn8K4YEHq/qte9eF57q58JaNPfSiW8lsYHnkVlYPIY1LEFeDk55HHpWrWH4u8UWPg7w3da1f5aOEAJEpAaVycKoz/AJABPavMPg58Vda8X+JdQ0nXXhkMkbXVs0cQTywGAMYx1XByCcng5JyK5nxf8Yda0D4v6g9jeG90ixc2v2B8xxkhVEg6Z3CRWwxz7cHnvNZ/aB8G6fH/AMS43mqSEAjyYTEo55BMmD09Aeo98Wfhr8XIvH+t6jpjaYbKSCM3EBEm/fEGCndwMMCy9M5yemOeQt/jfK3xflt7nULeDwkjS2+4xbgdittlDLkks4AHbaRxnmovHnxoPiSNPDPgcXf2q9nSEXwYws2WwFj5BXcdvzHHBIx3HuFuYtF8PRG8upjDZWoM1xdvvk2onzPIw6tgEk9zmvEdN+OWs678U7DT9OtYP7BuLsWqQsuJHRmA81mPIYcttGBg4OT81e/UVwvxP+IqfD3SLSeOzS7vLyUpFE8mwBVGWY8EnGVGP9rr63Lb4h6LN4FtPE0t1aWwurR54rae4EZeRB88algCxD/LkDng9xXjnhj9obULHT9V/wCEhtm1G7eQSWCwosSJnO5HbOQo428MeoJ6Y9b+GfxCi+IOh3F21rHaXlrL5U0CzB+CAVcdCAeRz/dPJrkfjJ8WJ/C7jw94flCasyh7m52hvs6nkKoIxuYdz0B9SCG/A34kXniSO58P63dPc6hbp51vPJ96SIYBVj3YEg5PJBPpV34862kPw5ubW2mcyPqMVnOI2K7SYzLtb1BXbx7ir1t8WNC0L4eeGdV1q7uLi4v7QL+5iLPJJGoWUnoBh+OvfjjmsDSv2h9M1LxfBp8mlSWukzusKXc0qh1diAGcZ2qnPPJx19q9jsr211G0S7s5457eTOyWNsq2CRkHuMjrU9FFFFFFFFFFFFFFFFFFFFFFFFFFFFFFFFFFFFFFFFFFFFFFFFFFFFFFFFFFFFFFFGAM8da4f4saf4l1fwNNpfhe28+6vJViuAJliYQYJbDMyjkhVI5yrMMenzh47+GeoeAdP0ifUL2Cee/MgeOFTthK7cDcfvZ3HsMY75r6ta38P+DdHvr+CwstMs4YzNcG1t0iDBR6KBk9hXgfwW8HC90rXNe1Frq2tLuH+zLaWBV8wmVgrshYHBHyrnH8Tela3xm+xaj/AGB8PPDdtdXWqWBQLbxOxWOIRYVWycFtu07j90Z5G457/wAG/CPwx4e0G3iv9Gsr/UpIkN3NdxrcDzMfME3DCqCSBgAkAZyRXlXwT/4p34xaxoHnyzxeXcWgaMHY7RSAh2A4Awr4J/vY71rfGLwVf+GtbHxC8LyCy8phJeNE+1kmZtvmAHgh9wDDvk5BBNVtQ8I+HfGHwYu/GmnWGfEvlm5vp/tJy0yPm4Zk3bF3LvcKAOGXAHSvUPhD4gg8QfDXSmiG2WwjFhOnJ2tGoA5wM5XY3GcbsZJBrua+cdVivvjX8WptLSWaHw3pDNG8kQ4VVJBbnjfIwIHHCgHB2nNrw1pFv4K/aUOkWlgbewuoHW1BkYhUMW/cC2S3zRsvJ659MVyHx08Oz6N8Rbq/+zxRWWqATwNEMAsFUSZ4+9uyx9d4PUmvX/h78K/BR8KaDrE2jR3t9PZRzySXbtIrO6ZYGMnZgbiB8vYHrzXm2k2Fn4I/aZhstois/tjJAqg4UTxHy1HsDIq/hXMfFvwja+D/AB1LZadbvBp08STW6uSwAIwwDEknDA9fWt3xl8FtX8C+H4/EdprSXTWjI9x5UbQvA25QrI2SWwx6/KRwcdcdd4/+Jlv468O6Z4V8JZuNQ1zYLhGBQ24BB8sk4G7cME8jaD6g1x3i7wgnwe8Z+FNTgmmvLYbJ5XYqDJLG481VGPlUqy4zk8nnivqeKVJ4UliYNG6hlYdweQafXyR8TrjW/GnxX1PT7O1vrtrSU21varESY1XCswAzhS3zbj2IzjoMfxN8M/EXg/w/b6vriWtsJ7j7OtqJw82dpbd8uV2/L/ezyOK9k079nHw8tg327WdRubhxlJYlWFVGOPkIY9eevtXj2nan4j+EPjq7WOKBdQgRreWOdd8csbYYHgg4OFYEEHgZ7itHQ/h54x+KV3feIlFvFHdTPI11eOyJI+eVQAMSB06YGMZ4xUWr6Hr3wY8babeCW1uLlYjNBKAxjbIZGUjg9D+oruIPgD4q1C1RNX8UoolvZJ7qHdJMuTx5wyRukbAzkA4PJzxXoenfBTwfbaZpdrfWIv5LBJAZnHlmdnYNuk2YLYxhQSQASOetfP3xe8Nw+GPiPqFraWwt7K4C3VtGoAUK4+baBwFDhwB2AxX1N4GsLfTPAui2tpcNcWy2iPFK6hS6sNwJAJHQ9ia6CiiiiiiiiiiiiiiiiiiiiiiiiiiiiiiiiiiiiiiiiiiiiiiiiiiiiiiiiiiiiiiiiivHP2jrKGXwPp16y/v4NQVEbJ+66PuGOnVV/L3rmYfD3xR+LFtYr4gu107w/KiTK+yMB8LgN5akMxYjd8xA+YkYGBXt1n4et9E8J2+j6Tb27mwgAsxdD5TMoyrvtHUt8xIGckmvEdM+IOj/AAuk1DSLayuvEXiia+Y6petiFJJj95I2wXYK+RgqMksw6gVV8Z+K/jDeaMt9c6bPoul3LCFYrOMJKTyw3ZJlU4XBPyjjpzzyXw6ufGXhfWbi88P+FZL+8kh8lmns5nEaE5P3WUDJUcn04759Cm8B/FH4kyr/AMJdqcWk6WW81bYBW25yVAiQ844HztuAPc5Fex+GvCuneF/C8Hh608yexiDqftO12kDsWYNgAH7xHTpXF/Dn4fat4K8aeJbhWtovD95IRa26OWc4YNGeRkBVd05OSR0Iwa9Porxn42+boPiHwd4zj8zybC88m48tgGK5DhQOM5VZQecdB3rnvjh8QvCniLQoNG0uQajex3CzC5jBEcI2nIDfxEggYGR6nIAr1D4R2eq2Hwy0eHV3Jm8svEjA744SSUViScnBGOmAQuOMnyb9oK1m0jx5oev28YhMkA2zRNsdpYnznI5BAZMH6eldt+0HoCal4ATVlVPP0qdX3sxB8uQhGUDocsYzz2U89j3Hh6JfEHw40mLVgblb/SYRdCRjmTfEN2T1ycnnrXjPwLsoNL+JvibR1gtrxbNZFi1AxDevly+X8h52hw5JAP8ACK9I+NGgprvwy1I7N09gBewnJ+Up9/p1+Qv7dD2q18ItSu9U+F+iTXke2SOIwKcEbkjYoh/75Uc9zk121FeXfH7Shf8AwzkughL2F1FOCMcAkxn8PnHT0HpXd+GNbi8SeGNM1mLywLy3SVljfeEcj5kz6q2VPuK+e/jrqeleKvGGl2Hh5X1HVYI3guGtQZAx3ZSNQOpU7ycD+LGeMD6E8LadNpHhHRtNuQontLGCCUKcjeqANg/UGuM+Nng9vFHgaS6tYjJqOlk3MIUZZkx+8QfgA3qSgA61v/DbVrjW/hxoV/dpKLhrURu0rl2kKEpvJPJLbd3/AALqetdVXif7Rvh+G48Nadr8cEjXVpcC3kkjXIELgnLnGcBwoHIGXPciu8+Fmm3ek/DLQrS+EguBAZCsgwyh3Z1UjtgMBj26DpXYUUUUUUUUUUUUUUUUUUUUUUUUUUUUUUUUUUUUUUUUUUUUUUUUUUUUUUUUUUUUUUUUUVU1LTLHWNPlsNRtYrq0lx5kMq5VsEEZH1AP4VYhhitoI4IIkihjUIkaKFVFAwAAOgA7U+oIrK1gneeK2hjmkzvkSMBmycnJ781PRRRRRRXM+PfB8PjnwpNoslwLaRpEliuDGX8plPXbkZyu5ev8We1UvA3wz0DwNbRvaQC41Mx7Zr+UfO577R0RfYdsZJ612dYeveENC8T3Wn3Gs2CXb6fIZLcOzbQTjO5QcMPlXggjj650dS0yx1jT5bDUbWK6tJceZDKuVbBBGR9QD+FWIYYraCOCCJIoY1CJGihVRQMAADoAO1V7HS9P0sTDT7C1tBM5kl+zwrH5jnqzYAyfc1booorO1+1gvfD2o29xZfbontpA1r3l+U/KODgnsexr5l+G3hnxl480K40i08RXGm+GrWRllBLlXaRSWRQMBxwCylgBvzjLHPvHgn4YeHfAw86whe41Bk2Pe3By5HcKOij6DPqTXZ0UUUUUUUUUUUUUUUUUUUUUUUUUUUUUUUUUUUUUUUUUUUUUUUUUUUUUUUUUUUUUUUUUUUUUUUUUUUUUUUUUUUUUUUUUUUUUVV0/TLDSbY22m2NtZwFi/lW0SxruPU4UAZq1RRVDWJHiso2jdkY3VspKnBwZkBH0IJH41fooooooooooooooooooooooooooooooooooooor/9k=\n",
      "text/plain": [
       "<IPython.core.display.Image object>"
      ]
     },
     "metadata": {},
     "output_type": "display_data"
    }
   ],
   "source": [
    "test_image = []\n",
    "test_image.append(prepareImg(cv2.imread('output_files/image-data/image-data/P583-Fg002-R-C01-R01-fused/slice2_binarize.png'), 50))\n",
    "showarray(test_image[0])"
   ]
  },
  {
   "cell_type": "markdown",
   "metadata": {},
   "source": [
    "### Segment the line into different words"
   ]
  },
  {
   "cell_type": "code",
   "execution_count": 160,
   "metadata": {},
   "outputs": [
    {
     "name": "stdout",
     "output_type": "stream",
     "text": [
      "50 773\n"
     ]
    },
    {
     "data": {
      "image/jpeg": "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\n",
=======
     "data": {
      "image/jpeg": "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\n",
>>>>>>> bd57b4512b97cdd941a556532deb1ef09b42dde5
      "text/plain": [
       "<IPython.core.display.Image object>"
      ]
     },
     "metadata": {},
     "output_type": "display_data"
    }
   ],
   "source": [
<<<<<<< HEAD
    "h, w = images[15][2].shape\n",
    "print(h, w)\n",
    "showarray(images[15][2])"
=======
    "import_images = []\n",
    "import_images.append(prepareImg(cv2.imread('input_files_word_old/slice4.png'), 50))\n",
    "showarray(import_images[0])"
   ]
  },
  {
   "cell_type": "code",
   "execution_count": 247,
   "metadata": {},
   "outputs": [
    {
     "name": "stdout",
     "output_type": "stream",
     "text": [
      "output_files/image-data/P583-Fg002-R-C01-R01-fused\n"
     ]
    }
   ],
   "source": [
    "input_files = 'output_files/image-data/'\n",
    "\n",
    "def load_slices(filepath):\n",
    "    slices = []\n",
    "    slices_filepath = filepath + '/'\n",
    "    slices_path = natsorted(glob.glob(slices_filepath + 'slice*_binarize.png'))\n",
    "    for slice_path in slices_path:\n",
    "        slices.append(prepareImg(cv2.imread(slice_path), 50))  \n",
    "    #print(len(slices))\n",
    "    return slices\n",
    "\n",
    "image_filepaths = glob.glob(input_files + '*')\n",
    "print(image_filepaths[len(image_filepaths) - 5])\n",
    "images = []\n",
    "for image_filepath in image_filepaths:\n",
    "    images.append(load_slices(image_filepath))\n"
>>>>>>> bd57b4512b97cdd941a556532deb1ef09b42dde5
   ]
  },
  {
   "cell_type": "code",
<<<<<<< HEAD
   "execution_count": 163,
=======
   "execution_count": 333,
>>>>>>> bd57b4512b97cdd941a556532deb1ef09b42dde5
   "metadata": {},
   "outputs": [],
   "source": [
    "#Count the number of black pixels in an image and return a float with the density\n",
    "def pixel_density(image):\n",
    "    area = float(image.shape[0]*image.shape[1])\n",
    "    blackPixels = float(np.sum(image == 0))\n",
    "    density = blackPixels/area\n",
    "    return density"
   ]
  },
  {
   "cell_type": "code",
   "execution_count": 334,
   "metadata": {},
   "outputs": [
    {
     "data": {
      "text/plain": [
       "'\\nres = []\\nwords = []\\nfor i, img in enumerate(import_images):\\n    res = wordSegmentation(img, kernelSize=5, sigma=5, theta=7, minArea=30) # fix parameters\\n'"
      ]
     },
     "execution_count": 334,
     "metadata": {},
     "output_type": "execute_result"
    }
   ],
   "source": [
    "\"\"\"\n",
    "res = []\n",
<<<<<<< HEAD
    "# for i, img in enumerate(images[15]):\n",
    "res = wordSegmentation(images[15][2], kernelSize=5, sigma=5, theta=7, minArea=30) # fix parameters"
=======
    "words = []\n",
    "for i, img in enumerate(import_images):\n",
    "    res = wordSegmentation(img, kernelSize=5, sigma=5, theta=7, minArea=30) # fix parameters\n",
    "\"\"\""
   ]
  },
  {
   "cell_type": "code",
   "execution_count": 430,
   "metadata": {},
   "outputs": [
    {
     "data": {
      "image/jpeg": "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\n",
      "text/plain": [
       "<IPython.core.display.Image object>"
      ]
     },
     "metadata": {},
     "output_type": "display_data"
    }
   ],
   "source": [
    "#There still needs to come a loop through all the slices, here you can pick a slice to debug\n",
    "img = images[1][5]\n",
    "showarray(img)\n",
    "#Parameters are optimized. \n",
    "res = wordSegmentation(img, kernelSize=5, sigma=5, theta=7, minArea=100) "
>>>>>>> bd57b4512b97cdd941a556532deb1ef09b42dde5
   ]
  },
  {
   "cell_type": "code",
<<<<<<< HEAD
   "execution_count": 164,
=======
   "execution_count": 433,
>>>>>>> bd57b4512b97cdd941a556532deb1ef09b42dde5
   "metadata": {
    "lines_to_next_cell": 2
   },
   "outputs": [],
   "source": [
    "words = []\n",
<<<<<<< HEAD
    "# h, w = images[15][2].shape\n",
=======
>>>>>>> bd57b4512b97cdd941a556532deb1ef09b42dde5
    "for (j, w) in enumerate(res):\n",
    "    (wordBox, wordImg) = w\n",
    "    (x, y, w, h) = wordBox\n",
    "    if (w > 15):\n",
    "        if( h > 15):\n",
    "            words.append(wordImg)"
   ]
  },
  {
   "cell_type": "code",
<<<<<<< HEAD
   "execution_count": 165,
=======
   "execution_count": 434,
>>>>>>> bd57b4512b97cdd941a556532deb1ef09b42dde5
   "metadata": {
    "inputHidden": false,
    "outputHidden": false
   },
   "outputs": [
    {
     "data": {
<<<<<<< HEAD
      "image/jpeg": "/9j/4AAQSkZJRgABAQAAAQABAAD/2wBDAAgGBgcGBQgHBwcJCQgKDBQNDAsLDBkSEw8UHRofHh0aHBwgJC4nICIsIxwcKDcpLDAxNDQ0Hyc5PTgyPC4zNDL/wAALCAAYABwBAREA/8QAHwAAAQUBAQEBAQEAAAAAAAAAAAECAwQFBgcICQoL/8QAtRAAAgEDAwIEAwUFBAQAAAF9AQIDAAQRBRIhMUEGE1FhByJxFDKBkaEII0KxwRVS0fAkM2JyggkKFhcYGRolJicoKSo0NTY3ODk6Q0RFRkdISUpTVFVWV1hZWmNkZWZnaGlqc3R1dnd4eXqDhIWGh4iJipKTlJWWl5iZmqKjpKWmp6ipqrKztLW2t7i5usLDxMXGx8jJytLT1NXW19jZ2uHi4+Tl5ufo6erx8vP09fb3+Pn6/9oACAEBAAA/AJf2h/GkIs7fwjZT7p2kWe/CN9xQMpGw75JD47bVPesDw78dddsfDOl+HdM8PRXmpW8a20UpZ38xVBCgRKAchQo+9zg+vHK+JvHfxFj8Qw3mr3uq6TeIqvDbFHtkCg4yIzgEEg5JBzyOgxXq2rfGXU9PuYYkj0mwZ7aGV01YT+a7PGrbwsQZVU5AAJzwcgZrBu/gTqf9neIfEHijW4ZdQENxdoliPlkl2l9zsyDALdVVenQius/Zx/5J5f8A/YVk/wDRUVcr4usrb4qfHe00vT2Waw063SO+nR/lKI5aTaR7yBB/te3NeuQ+EPCWvz3mrXOgWd3Pc3L757kee0hQ+XkFs4X5OFHA9K6qaGK4gkhmjSSKRSjo4yrKRggjuK+UPAPhjx3rsetaBoGsSaTZWtwDexzTvCRJ8ybcKC2SAcjgHaM8gV9AfDz4dab8PtNmitZZbi9ughuriQ8MVBwFX+FQSx7nnknAxi+NvhRe+MvETaofFdxYQrEsMNtDbcIo5OSHG4lixzjuB2r/2Q==\n",
=======
      "image/jpeg": "/9j/4AAQSkZJRgABAQAAAQABAAD/2wBDAAgGBgcGBQgHBwcJCQgKDBQNDAsLDBkSEw8UHRofHh0aHBwgJC4nICIsIxwcKDcpLDAxNDQ0Hyc5PTgyPC4zNDL/wAALCAAVAEMBAREA/8QAHwAAAQUBAQEBAQEAAAAAAAAAAAECAwQFBgcICQoL/8QAtRAAAgEDAwIEAwUFBAQAAAF9AQIDAAQRBRIhMUEGE1FhByJxFDKBkaEII0KxwRVS0fAkM2JyggkKFhcYGRolJicoKSo0NTY3ODk6Q0RFRkdISUpTVFVWV1hZWmNkZWZnaGlqc3R1dnd4eXqDhIWGh4iJipKTlJWWl5iZmqKjpKWmp6ipqrKztLW2t7i5usLDxMXGx8jJytLT1NXW19jZ2uHi4+Tl5ufo6erx8vP09fb3+Pn6/9oACAEBAAA/AOy+MPxIm8D6Va22lPH/AGtduSpZQ4ijXGSRngnIAyPX0rS8I/EEar8Lj4u1lIoDAkpuBECFJQkDaCSeeB16muS8GftAWOt6v/Z+vWMOlJIZGiu/tGYlAyVV9wGDtGN2eW7DOBz/AMUPjg12H0bwhcSRRAstxqCEqzEHAETA5A77up4xx1r/AAZ+J/iG58W2fh3WL6fUbS7WRInnbdJG4BfcXPzMMBhgnuPTFepfGXXLrQfhpqE1lNJBc3DR26SxnBQM3zc9sqGGRyM18/fCfx7beBdfu7vURcS2c1q0flwqGJfcCvUjA6817B4Z/aA0XXfESaZe6dJplvMdsF3LOGUt2DjA2Z6Zye2cda9fr49+Mmuxa98TNTeGJ40s2+xfPjLNGSrHjtuzj2weOg5TGt3OgZxqEui2spP8bW8Mhxn/AGVY7h78j1rY+HvhSz8a+Kk0O71NtPeaF2gdYDJ5jr823GRj5Q5yT/DjqRXoF/8As4a5Ab+S01ezuI4oy1om0rLOwXO1gcKhJ4B3EdzivPvh662fxN8PC6tfMI1KGIxSZUq5cKD9VYhseq19VfEPwRB498MNpclwbaeOQTW823cFcAjkdwQSP84rxWT9m3xEPP8AK1rS227fI3eYu/8AvbvlO3HbG7PtXi1fdPhfUW1fwppOoySrLJc2cUkjqAAzlRu4HvmvO3/Z/wDDb+KRqxvbxrQ3H2h7FwrKx3btm4jOzOBg5OO+ea9Lm0Wwl0ObRktooLGWF4TFCiqqqwIOBjHcnpXxd4HuZ7Px3oM1tK8Un2+FNyHBwzhWH0IJB9jX3BXxX4wlOkfFTWJ7L9y9rq0kkRTjYVkyCPxFdD4y+L/inUvEs8+m6hc6TaBEVLWCYsB8oyScDJJJ7Dt9a5Gfxt4quZ2ml8R6qXbqRduo/IHFYNfWPwai1VvhRohtr2yjh/f7UktGdh+/kzkiQZ59q//Z\n",
      "text/plain": [
       "<IPython.core.display.Image object>"
      ]
     },
     "metadata": {},
     "output_type": "display_data"
    },
    {
     "data": {
      "image/jpeg": "/9j/4AAQSkZJRgABAQAAAQABAAD/2wBDAAgGBgcGBQgHBwcJCQgKDBQNDAsLDBkSEw8UHRofHh0aHBwgJC4nICIsIxwcKDcpLDAxNDQ0Hyc5PTgyPC4zNDL/wAALCAAQABQBAREA/8QAHwAAAQUBAQEBAQEAAAAAAAAAAAECAwQFBgcICQoL/8QAtRAAAgEDAwIEAwUFBAQAAAF9AQIDAAQRBRIhMUEGE1FhByJxFDKBkaEII0KxwRVS0fAkM2JyggkKFhcYGRolJicoKSo0NTY3ODk6Q0RFRkdISUpTVFVWV1hZWmNkZWZnaGlqc3R1dnd4eXqDhIWGh4iJipKTlJWWl5iZmqKjpKWmp6ipqrKztLW2t7i5usLDxMXGx8jJytLT1NXW19jZ2uHi4+Tl5ufo6erx8vP09fb3+Pn6/9oACAEBAAA/AMb+2h4W/aVvJZ9Rghspr4rcSeafKCvHxvPAypbBzwpB9K2Pix8Yr/T9dtLLwXr9sYI4S1zLbxxzqzk8AOwYHA/u9yc+3VeAfi5L4g8OfadV06b7XFKYWe0tppEkwqnd8qMFJJPGf518/wCt2+ueNfFeparY+HdRL3crTm3ggeYxjODyF5weM4Fdhpv7Pni2+0+G6nnsLN5dpMEzt5iKcckBcAgE8Z7V9G+GfC+meFNBttI023RIYRlmxlpHP3nYnJJJ/LgDgAV//9k=\n",
>>>>>>> bd57b4512b97cdd941a556532deb1ef09b42dde5
      "text/plain": [
       "<IPython.core.display.Image object>"
      ]
     },
     "metadata": {},
     "output_type": "display_data"
    },
    {
     "data": {
<<<<<<< HEAD
      "image/jpeg": "/9j/4AAQSkZJRgABAQAAAQABAAD/2wBDAAgGBgcGBQgHBwcJCQgKDBQNDAsLDBkSEw8UHRofHh0aHBwgJC4nICIsIxwcKDcpLDAxNDQ0Hyc5PTgyPC4zNDL/wAALCAAZAC4BAREA/8QAHwAAAQUBAQEBAQEAAAAAAAAAAAECAwQFBgcICQoL/8QAtRAAAgEDAwIEAwUFBAQAAAF9AQIDAAQRBRIhMUEGE1FhByJxFDKBkaEII0KxwRVS0fAkM2JyggkKFhcYGRolJicoKSo0NTY3ODk6Q0RFRkdISUpTVFVWV1hZWmNkZWZnaGlqc3R1dnd4eXqDhIWGh4iJipKTlJWWl5iZmqKjpKWmp6ipqrKztLW2t7i5usLDxMXGx8jJytLT1NXW19jZ2uHi4+Tl5ufo6erx8vP09fb3+Pn6/9oACAEBAAA/APQdV8cSr8KNW8URBbHEUiWEjSCZ2OfLjd1C4Vy/8HzBf4j1A88+H/xi0vwx4HjTxJq2oavqc1xJIsSK0skMfACs7kA5IZup4b8K3/hZ8XdU8ceL7/StQsbeGBoWuLUw53RBWA2MT97hhzxyOnPGT488W+ILv45aV4a0TXJdLitmhifecQvI4DksoP7zKsihW7jAxnNT/tD+MJLHTrPwtZzMkt4PtF2VJH7kEhV6chmDE8/wDsa774TXd9e/C7QrjUbg3Fy0TgyFw5KiRgmSO4UKDnnjnnNcB8VRo/h/4e6b8PdLW/udTunjktYN7NI2ZCxaTGNxZi+FxjdyANoxufDX4PaLovh63uvEWjW93rc6EzpdhZ44QWyFVSNoIAXJ5OSwBxXnejQQ+D/2nGsrZmFpJePGIrVMKFnjLKm1eNqM6+w2Z7V2fxs+Hs98q+M9B22+paehmvHSTy3dIxuWRT/fQL9SMY6AVieF/Dui/FjwBq+sX1obzxtGkkL3JuTG0koT9w2xWCBdoVMlRnYx65NdT+z74gg1LwC2jgbbnSZmV15OUkZnVumOSXGMn7ue4rl7nxlp3ww8V69ea1C+ueNL9kkmEGEtrSM8rCkrjf8AcKk/KQQEHGCah8SeOPi5rGgz6vY6HJomjDgtFGPPZHwq/f8AnPXhkVeue2R514Ok8W6R4vj1rTvD11qeqrvZftNtNJ8z8M52kEn5jyTjnPXmvT7nw/8AF74lHyNcnh0LRpiDJAMINoIBGwEux4LBXYDI6gYr1XwF4HsfAOgNpdnczXJll8+aaYAFpCqqdoA4X5cgEkjJ5NcDcfDPxXpHxK1fXPBdzpulWV3AoXzTkZYgyKF2Nj5k3dAPnAHcDr1/5Km/0/8AaIrt6KKKK//Z\n",
=======
      "image/jpeg": "/9j/4AAQSkZJRgABAQAAAQABAAD/2wBDAAgGBgcGBQgHBwcJCQgKDBQNDAsLDBkSEw8UHRofHh0aHBwgJC4nICIsIxwcKDcpLDAxNDQ0Hyc5PTgyPC4zNDL/wAALCAAXABcBAREA/8QAHwAAAQUBAQEBAQEAAAAAAAAAAAECAwQFBgcICQoL/8QAtRAAAgEDAwIEAwUFBAQAAAF9AQIDAAQRBRIhMUEGE1FhByJxFDKBkaEII0KxwRVS0fAkM2JyggkKFhcYGRolJicoKSo0NTY3ODk6Q0RFRkdISUpTVFVWV1hZWmNkZWZnaGlqc3R1dnd4eXqDhIWGh4iJipKTlJWWl5iZmqKjpKWmp6ipqrKztLW2t7i5usLDxMXGx8jJytLT1NXW19jZ2uHi4+Tl5ufo6erx8vP09fb3+Pn6/9oACAEBAAA/AOQ+E+rahqHx1sru7u7iSe7e5FwzucyDyXIVvUAquB0G0Y6CvdviJ4+0vwx4f1W3j1e1h1xbUm3ty26QM3CnaO/Oefr0rxj4d/HDVtGu1sfEt09/prgn7RMWeaIgcfMMlgcYwQTk5z1zS+L3hC58B+Mk1fRFlsdPvcvby28rAxSYxImRyuckgZ6EgdCBF4D+Feo/EzTb3XJ9eEBW5MBaaNppJGCqxJJI7Mvc9+mOfdPCnwh8J+FTaXMdmbvU7dWBvJ5GJctkH5M7BwcDj9eap/FHWPDWq/Cy8mu5Vmhuo5Dp7GJwTOgbaRxlSCCOcAjPY15v+zjrt9H4i1HQQXewltmuyoIxHIrIu7n1BAOM9F7DI+ka/9k=\n",
>>>>>>> bd57b4512b97cdd941a556532deb1ef09b42dde5
      "text/plain": [
       "<IPython.core.display.Image object>"
      ]
     },
     "metadata": {},
     "output_type": "display_data"
    },
    {
     "data": {
<<<<<<< HEAD
      "image/jpeg": "/9j/4AAQSkZJRgABAQAAAQABAAD/2wBDAAgGBgcGBQgHBwcJCQgKDBQNDAsLDBkSEw8UHRofHh0aHBwgJC4nICIsIxwcKDcpLDAxNDQ0Hyc5PTgyPC4zNDL/wAALCAAbAEsBAREA/8QAHwAAAQUBAQEBAQEAAAAAAAAAAAECAwQFBgcICQoL/8QAtRAAAgEDAwIEAwUFBAQAAAF9AQIDAAQRBRIhMUEGE1FhByJxFDKBkaEII0KxwRVS0fAkM2JyggkKFhcYGRolJicoKSo0NTY3ODk6Q0RFRkdISUpTVFVWV1hZWmNkZWZnaGlqc3R1dnd4eXqDhIWGh4iJipKTlJWWl5iZmqKjpKWmp6ipqrKztLW2t7i5usLDxMXGx8jJytLT1NXW19jZ2uHi4+Tl5ufo6erx8vP09fb3+Pn6/9oACAEBAAA/APVfiD42tPAvhibUpfLku3+S0tmbBmfj9ADk/THUivKPgZ8QNf1rxdqGla1qM99HdQvdI0xyYpAwyF/uqQT8o4GBgDmuT8bfEXWNL+M+q6vpF3OBYzNZxwXJ3R7UCpIu3OArOhbjB6Hg13Gs/tJ2CR7dD0K5lcgfPfOsYU55+VC2ePcdfbnS+FHxev8Axp4mvtI1mKzgZ42nsvKO08EZj5PznB3DHOFYnjpw9v8AGi5T4vy6xdajenw0GlgW1hGVaEKwjbYcDcW2tnqMkZxxSeNfi1e/EiS38J6HaDT7K/uooTLcv88pL4UNjIVclSQMnjqRwfoZ5tP8JeFBJMFttP0uzA2hy2xI1wFBbljgADPJ4r580T4ueKfEvxc0wwXhg0u5vFt0sCB5YgZgDux1fAzuJ4OcYBxX0zXgD+Edc+KPxdur3xJpl/Z+G9PJSJJ4mg82JSQiKSATvOWYjoCRkfLUthpbeEP2moYILK2tdO1SB/s6xR7ECeSThQuADvjwfr75rlPj/wCGbvTPHLa6Tvs9VVSjBceW8aKhQ/gAw6dSO1e2fDXwx4fsvBfh3UrTRrGO/awila78hTMXdPnO8/NyWbv0OOnFeQCK28HftQRIkX+jTXwCKgAANzHjgdgGl/IVh/G7wpF4b8dedZWCWmmX8SyQiJQsYZQA4UDgYOCR/tD1rpfiB8CrPw14Pl1nRtQvLmeyQPdRTqpEi5ALJtA245Yg5478cy+JfiJc/Fqx0fwb4etpbefUCjak0yZRCpDYBGTsBXdu4OAvqRWb8SvB1v8ACvxH4W13QbeRrSEoXMju3mXETbiXboN6kDAwPlbAr6Ws7qG+soLu3cPDPGssbDurDIP5Gpq8Z+PED6TceFfGMKh30u/VHjyQZORIvPIA/dsOn8Qrl/id8SLb4j2Efhnwrol7qLiVbhpxblnG0H/VoAW/iwWOO4wc5r1z4V+H77wz8O9M07UXf7ThpmiYAeRvYtsGADxnnOTknnGAPJf2jbGa28VaBq6bGEts0KLg53Rvu59j5o/I13Xx90aHUfhrNftsWbTZ45kYpliGYRlQewO8HvnaOO47HwhEt38OtBhvI1mSbSbdZkkUMHBiUMCDwQeeK8k+Blpcab8QfFtlp6zP4fRpIlnkj+88cuIgWwPm2M5I469K9J+K3h1vE3w51WzhtzPdxILm2VI97+YhzhR13Fdy8c/MevSqHw2Piq1+HmjW2oWDJcQxNHsuV2SKiuwQFSQRhAo5HTFehV578cIo5PhHrLOis0bQMhIyVPnIMj0OCR9Ca0fhloOlaP4D0WfT7CC3mvNPgnuJVX55XZAxLMeTyTgdB2xXY1TvNI03Ubm0ub2wtrmezfzLaSaJWaFuOVJHB4HT0HoKsyxRzRmOWNZEPVXGQfwp9FFFf//Z\n",
=======
      "image/jpeg": "/9j/4AAQSkZJRgABAQAAAQABAAD/2wBDAAgGBgcGBQgHBwcJCQgKDBQNDAsLDBkSEw8UHRofHh0aHBwgJC4nICIsIxwcKDcpLDAxNDQ0Hyc5PTgyPC4zNDL/wAALCAAuACABAREA/8QAHwAAAQUBAQEBAQEAAAAAAAAAAAECAwQFBgcICQoL/8QAtRAAAgEDAwIEAwUFBAQAAAF9AQIDAAQRBRIhMUEGE1FhByJxFDKBkaEII0KxwRVS0fAkM2JyggkKFhcYGRolJicoKSo0NTY3ODk6Q0RFRkdISUpTVFVWV1hZWmNkZWZnaGlqc3R1dnd4eXqDhIWGh4iJipKTlJWWl5iZmqKjpKWmp6ipqrKztLW2t7i5usLDxMXGx8jJytLT1NXW19jZ2uHi4+Tl5ufo6erx8vP09fb3+Pn6/9oACAEBAAA/AOB+L3ge+8J+Lbi9ldJrHVJ5bi3lXggltzIw7EFvoQR3yBP8CYY5fipYmRAxjhmdc9jsIz+pr62orP1nRNM8Q6bJp2r2UV3aSdY5B0OMZB6qeTgjBFfM/h/S77wT+0NBpGmw7lW98pUYg/6NINxOT3EZz65XFfVFFFeJ/FK3u/C/xS8NePHRZNKjaOzuG4zFkvnjOTlGYg9Mrz1GfaYpY54klidZI3UMjochgeQQe4p9FY3ivw9beKvC+oaNcqmLmFljd13eVJj5HAyOVOD17V84aHrnxW8GF/C2nWF2/wBnkfZC1mZgO52Njle/HHOe9VdC+KPj208bWseoarcu01zFFcWl1GAm0nGNmBs4bPGCeM5xX1lRTZJEiieSRgqICzMegA6mvlDRW/4WR8fEvFjK2s18bnhDxDEMruwTgkIoJzjc34V9Y0VxHxeur2z+Futz2Fw1vMqRgyKSG2GRQwBHTIJH41zPwD8HRaN4UbxBJIJLvVgCoHSKJSQB0zknJPbhfQ5//9k=\n",
>>>>>>> bd57b4512b97cdd941a556532deb1ef09b42dde5
      "text/plain": [
       "<IPython.core.display.Image object>"
      ]
     },
     "metadata": {},
     "output_type": "display_data"
    },
    {
     "data": {
<<<<<<< HEAD
      "image/jpeg": "/9j/4AAQSkZJRgABAQAAAQABAAD/2wBDAAgGBgcGBQgHBwcJCQgKDBQNDAsLDBkSEw8UHRofHh0aHBwgJC4nICIsIxwcKDcpLDAxNDQ0Hyc5PTgyPC4zNDL/wAALCAAgAEoBAREA/8QAHwAAAQUBAQEBAQEAAAAAAAAAAAECAwQFBgcICQoL/8QAtRAAAgEDAwIEAwUFBAQAAAF9AQIDAAQRBRIhMUEGE1FhByJxFDKBkaEII0KxwRVS0fAkM2JyggkKFhcYGRolJicoKSo0NTY3ODk6Q0RFRkdISUpTVFVWV1hZWmNkZWZnaGlqc3R1dnd4eXqDhIWGh4iJipKTlJWWl5iZmqKjpKWmp6ipqrKztLW2t7i5usLDxMXGx8jJytLT1NXW19jZ2uHi4+Tl5ufo6erx8vP09fb3+Pn6/9oACAEBAAA/AN/4vfFjUfBOsafpeiJZyXDR/aLnz0L4UnCrwRjOGJ74x073fF/xj8PW/guebRtagGs3VkstrCFMjxM/ZtuVV15+UnggZyOvkuhfHTxLoXhM6SFF9erMWiv72UyFIiB8m3GWIOSGLHAOMYAr3n4Y+Ok8d+FUvJntl1OBjHeW8OR5ZydpwecMoyDyM5GeCB4t8Zfile6xrFx4d0a6kt9KtHaK4eJypupBkMCR1QcgDoepzxjv/gR48n8R6LcaHqdw82o6eA8csr7nmhJ755JU4BPoy1zHx78UW2q6N4Zm0m4WSF7m6kjnjkGcwuIwykHoTuIPsK6nxL8fdD0VLD+z7FtVkurRLlvLuERYS3SNiNxDjByMccdc8c14R/aEuLvxPJF4mhtLTSZ87JYVfNtgEjOAS+cAduTngcV73aXMd7ZQXUWfLmjWRdwwcEZGfzr5Mk+Hfjzxv4w1G6l0K7snubp5JJdQzHHGGY4AYj5wBx8gPAHGKfr/AMKT4U8R+E9K1PVBdy6zcrFcx2ke3yV8xF+R2+8SGOMqMEdK9on+BHgv+wLixtrKUXrROIr6Wd2dXOdrEAhSAccY6D8a+eIdU8WfDLX9U020vZtOvObe5VVBWQDlWAYehyrAA4bg8mu68Jfs+atrelw6hrOojSRKA6W32cyS7f8AayyhDjtyeeQDxWBqfhHUvBPxOTwnZ6o8UWrrHZfbDCCXt7ghGyp99w4I+71Fem6f+zdosf2R9Q1m9lKxH7THCFUPJ2KEglVHIwQSeuR0r1K18IeH7O4sriPSbZriytorW2mlTzHhjjzsCs2SMbjyOT3zgV8k+NNDtPDfxQ1HTLqHZp0d8JPKhbbi3chwqnBwQjAZweR0NfZNhFBBp1rDav5lvHEixOGDblAAByOvHerFeQfHyOew0zw54ntI0a50jUlZC+SBnDDI7jdGv+Sa9MbxFpEfh6LXpr+GDS5YUnS4mby12OAV69zkcdcnHWvmrxUrfGb4o/8AFK6ey2qRRwz3bIEyoY5mfp2OAD8xCD6D6oryr45+BrjxR4Zg1LTLV7jVNOckRRKWeWFuGUADLEHawHpuxya9H0ae8utD0+41GEQX0ttG9zEoICSFQWUAk4wcjrV6vDfj74J1PXb/AELUtE0e4vblg9rcvACxAyDFuGeBkyfNjAzyelexaDpp0bw7pmlltxsrSK33ZznYgXPQenoK0K5T4mRSzfDPxEkNvFO/2GRtkgyAAMlh7qAWHuB1rxf4ZfB//hMvD1prHiPUb5NPUullZRsBlAwJYMSdqlvMG0KCT82eeff9C8O6P4ZsBZaNp8FnBxkRry56ZZjyx9ySa1KKKKKK/9k=\n",
=======
      "image/jpeg": "/9j/4AAQSkZJRgABAQAAAQABAAD/2wBDAAgGBgcGBQgHBwcJCQgKDBQNDAsLDBkSEw8UHRofHh0aHBwgJC4nICIsIxwcKDcpLDAxNDQ0Hyc5PTgyPC4zNDL/wAALCAAcABUBAREA/8QAHwAAAQUBAQEBAQEAAAAAAAAAAAECAwQFBgcICQoL/8QAtRAAAgEDAwIEAwUFBAQAAAF9AQIDAAQRBRIhMUEGE1FhByJxFDKBkaEII0KxwRVS0fAkM2JyggkKFhcYGRolJicoKSo0NTY3ODk6Q0RFRkdISUpTVFVWV1hZWmNkZWZnaGlqc3R1dnd4eXqDhIWGh4iJipKTlJWWl5iZmqKjpKWmp6ipqrKztLW2t7i5usLDxMXGx8jJytLT1NXW19jZ2uHi4+Tl5ufo6erx8vP09fb3+Pn6/9oACAEBAAA/APY/EfjDQPCSWr67qKWa3TlIdyM24jGfug4AyOTxzXCfGu6Ot/B+XUNF1G3m08XEMlw8b7hNFu2hRgHkSNGccfdP0Nr4Fa/qviHwFPNq97LeTW989uksx3PsCRsAW6scseTzXlf7QHi2y17xNZaTYusqaQJUnkAIxMzAOnI/h8teR3J9K5Sx+IFxbfC/VPBM9t50N1MktvPvwYMSK7LjuCU46YLHrXv3wE0iXS/hjDPKxzqN1JdqjIVKLxGB75Ee4H0YV4p8PvEFl4A+JWov4htrgJtmspY44xIUcyDORnkfKemfoaj+KXgyTQ9VbXbDS57PQNRkzbLLEY2icrlkZDynIbAPYccCvpjwL4q0nxf4Yg1DSIhBEn7qW2C48iQAEp0AI5GCOoP4Vdk8K6DL4h/t+TSbV9V8sR/aXTLADOCAeA3ON2M44zjireraTZa5pdxp2oQJNbzoyMrKDjIIyM9Dzwa+dfgFI6jxAA7Af6OcA/8AXWv/2Q==\n",
>>>>>>> bd57b4512b97cdd941a556532deb1ef09b42dde5
      "text/plain": [
       "<IPython.core.display.Image object>"
      ]
     },
     "metadata": {},
     "output_type": "display_data"
<<<<<<< HEAD
    }
   ],
   "source": [
    "for word in words:\n",
    "    showarray(word)"
   ]
  },
  {
   "cell_type": "code",
   "execution_count": 107,
   "metadata": {},
   "outputs": [
    {
     "ename": "IndexError",
     "evalue": "list index out of range",
     "output_type": "error",
     "traceback": [
      "\u001b[1;31m---------------------------------------------------------------------------\u001b[0m",
      "\u001b[1;31mIndexError\u001b[0m                                Traceback (most recent call last)",
      "\u001b[1;32m<ipython-input-107-e259fa02acef>\u001b[0m in \u001b[0;36m<module>\u001b[1;34m()\u001b[0m\n\u001b[1;32m----> 1\u001b[1;33m \u001b[0mprint\u001b[0m\u001b[1;33m(\u001b[0m\u001b[0mlen\u001b[0m\u001b[1;33m(\u001b[0m\u001b[0mwords\u001b[0m\u001b[1;33m[\u001b[0m\u001b[1;36m0\u001b[0m\u001b[1;33m]\u001b[0m\u001b[1;33m[\u001b[0m\u001b[1;36m0\u001b[0m\u001b[1;33m]\u001b[0m\u001b[1;33m)\u001b[0m\u001b[1;33m)\u001b[0m\u001b[1;33m\u001b[0m\u001b[0m\n\u001b[0m\u001b[0;32m      2\u001b[0m \u001b[0msingle_characters\u001b[0m \u001b[1;33m=\u001b[0m \u001b[1;33m[\u001b[0m\u001b[1;33m]\u001b[0m\u001b[1;33m\u001b[0m\u001b[0m\n\u001b[0;32m      3\u001b[0m \u001b[0msingle_characters\u001b[0m\u001b[1;33m.\u001b[0m\u001b[0mappend\u001b[0m\u001b[1;33m(\u001b[0m\u001b[0mwords\u001b[0m\u001b[1;33m[\u001b[0m\u001b[1;36m0\u001b[0m\u001b[1;33m]\u001b[0m\u001b[1;33m)\u001b[0m\u001b[1;33m\u001b[0m\u001b[0m\n\u001b[0;32m      4\u001b[0m \u001b[1;33m\u001b[0m\u001b[0m\n\u001b[0;32m      5\u001b[0m \u001b[0msingle_characters\u001b[0m\u001b[1;33m.\u001b[0m\u001b[0mappend\u001b[0m\u001b[1;33m(\u001b[0m\u001b[0mwords\u001b[0m\u001b[1;33m[\u001b[0m\u001b[1;36m1\u001b[0m\u001b[1;33m]\u001b[0m\u001b[1;33m[\u001b[0m\u001b[1;33m:\u001b[0m\u001b[1;33m,\u001b[0m\u001b[1;36m0\u001b[0m\u001b[1;33m:\u001b[0m\u001b[1;36m22\u001b[0m\u001b[1;33m]\u001b[0m\u001b[1;33m)\u001b[0m\u001b[1;33m\u001b[0m\u001b[0m\n",
      "\u001b[1;31mIndexError\u001b[0m: list index out of range"
     ]
    }
   ],
   "source": [
    "print(len(words[0][0]))\n",
    "single_characters = []\n",
    "single_characters.append(words[0])\n",
    "\n",
    "single_characters.append(words[1][:,0:22])\n",
    "single_characters.append(words[1][:,22:35])\n",
    "single_characters.append(words[1][:,35:])\n",
    "\n",
    "single_characters.append(words[2][:,0:17])\n",
    "single_characters.append(words[2][:,17:40])\n",
    "single_characters.append(words[2][:,40:60])\n",
    "single_characters.append(words[2][:,60:])\n",
    "\n",
    "single_characters.append(words[3][:,0:20])\n",
    "single_characters.append(words[3][:,15:30])\n",
    "single_characters.append(words[3][:,30:50])\n",
    "single_characters.append(words[3][:,50:])\n",
    "\n",
    "showarray(single_characters[8])\n",
    "showarray(single_characters[9])\n",
    "showarray(single_characters[10])\n",
    "showarray(single_characters[11])\n",
    "showarray(words[3])"
   ]
  },
  {
   "cell_type": "code",
   "execution_count": 182,
   "metadata": {
    "inputHidden": false,
    "outputHidden": false
   },
   "outputs": [],
   "source": [
    "word = words[1]\n",
    "h, w = word.shape\n",
    "num = 3\n",
    "chars = []\n",
    "for i in range(num):\n",
    "    part = math.floor(w / num)\n",
    "    char = word[:,part * i:(part * i) + part]\n",
    "    shape = cv2.resize(char,(32,48))\n",
    "    ret,thresh1 = cv2.threshold(shape,127,255,cv2.THRESH_BINARY)\n",
    "    chars.append(thresh1)"
   ]
  },
  {
   "cell_type": "code",
   "execution_count": 183,
   "metadata": {
    "inputHidden": false,
    "outputHidden": false
   },
   "outputs": [
    {
     "data": {
      "image/jpeg": "/9j/4AAQSkZJRgABAQAAAQABAAD/2wBDAAgGBgcGBQgHBwcJCQgKDBQNDAsLDBkSEw8UHRofHh0aHBwgJC4nICIsIxwcKDcpLDAxNDQ0Hyc5PTgyPC4zNDL/wAALCAAwACABAREA/8QAHwAAAQUBAQEBAQEAAAAAAAAAAAECAwQFBgcICQoL/8QAtRAAAgEDAwIEAwUFBAQAAAF9AQIDAAQRBRIhMUEGE1FhByJxFDKBkaEII0KxwRVS0fAkM2JyggkKFhcYGRolJicoKSo0NTY3ODk6Q0RFRkdISUpTVFVWV1hZWmNkZWZnaGlqc3R1dnd4eXqDhIWGh4iJipKTlJWWl5iZmqKjpKWmp6ipqrKztLW2t7i5usLDxMXGx8jJytLT1NXW19jZ2uHi4+Tl5ufo6erx8vP09fb3+Pn6/9oACAEBAAA/APf6z9d1P+xPD2p6t5PnfYbSW58rdt37ELbc4OM4xnBr5w8KfGjxtqnj7Sba71CB7G91COGS0FrGEVJHC4Ugb/lDcZY9BnPOfp+vC/grJD428Qah4q129u9S8RWCRJHJLGIo7VWEq4jCPtYMuSQUXBJIySTXWfG/xJeeHPh5J9jjgf8AtKU6fN5yk7Y5IpNxXBGG4GCcj2r5o8F+I7fwn4otdZudIg1RbfJSGZym18fK6nkBgeRkH2AOGHYaz8e/G2oai82nXUGl2vIS3hgjlwMkgs0iklsEAkYBx0Fe1/Cb4bTfD3S74315HcahfuhmEGfKjVN2wKSASfmJJOOoAHGTw/7Sekw/Z9G1ltTkE4c2qaezgqVwWaVFzkEHarHBzlOmOfIPA3gy+8deJY9HsZI4QEM1xO/IhiBALYzljlgAB1JGSBkj6b8MfBrwf4Z+1f6F/av2jZ/yFYoZ/K25+58gxndz64HpW5428aab4I8Pz6levHJOEJtrPzlSS4bKjCg8kAsCxAOBzg9K+XPsHjX4u+KP7R+yT3LXEvkfafLZbS1UDds3chFUHOOWOf4mbn6P+Hfwy0v4fWcpik+26nPkTXzx7CUzkIq5O1eATycnknhQO4r5c1Qav8d/iQy6TJdxaHbIgV7tAFsoyo3kqpILswbAzlsDJCr8vvcdxoXwz8DafBqd9Ba2NjFHbGYRFfOkxywjXJLMdzEDJ+8T0Jrj/EP7QPhHTLMNo/n6zdN0jSN4EXBH3mdcjIJxtVumDjOa4C+/aR8SSXkjWGjaVBanGyOcSSuvAzlgyg85/hHpz1r0P45P4vk8NWmn+GrK7uLS8d49QNnE0ku3A2pheQjfPuIHYAkBsN4Jpnwr8c6v5v2bwzfR+Vjd9rUW2c5xjzSu7p2zjjPUV6B4Y/Zz1G+s4brxHqf9myGX95ZQxrK/lg/89A21WPOMBgOCcnIHZ+LfgN4bvvD8sXhixj0/Vg6tDLLdzNGRn5lfdv42kkYGcgc4zn//2Q==\n",
=======
    },
    {
     "data": {
      "image/jpeg": "/9j/4AAQSkZJRgABAQAAAQABAAD/2wBDAAgGBgcGBQgHBwcJCQgKDBQNDAsLDBkSEw8UHRofHh0aHBwgJC4nICIsIxwcKDcpLDAxNDQ0Hyc5PTgyPC4zNDL/wAALCAArAB8BAREA/8QAHwAAAQUBAQEBAQEAAAAAAAAAAAECAwQFBgcICQoL/8QAtRAAAgEDAwIEAwUFBAQAAAF9AQIDAAQRBRIhMUEGE1FhByJxFDKBkaEII0KxwRVS0fAkM2JyggkKFhcYGRolJicoKSo0NTY3ODk6Q0RFRkdISUpTVFVWV1hZWmNkZWZnaGlqc3R1dnd4eXqDhIWGh4iJipKTlJWWl5iZmqKjpKWmp6ipqrKztLW2t7i5usLDxMXGx8jJytLT1NXW19jZ2uHi4+Tl5ufo6erx8vP09fb3+Pn6/9oACAEBAAA/AOQ+Mvw7l8K+IJtV0+Gd9IvXMpkKjbBK7MTHkduOOOhA5PNcJ4WsLXVPFmkWF84S1ubuKKVi2AFLAHnIxX3Ha2sFjZwWlrEsVvBGsUUajARVGAB7ACpqw/GHhqHxh4VvdBnuHt47oJmVFBKlXVxwfdRXx5pjDwh8QLb+0Ylk/snUgtwg5B8uTDevoa+36KK+W/jp4Dbw/wCI5PEFmoGnanKXcbiWW4bcz9ex+9+JGOK9y0L4qeDdd0tL1desbJj8r299OkEiNgEjDEZHPUZHvwa6DTvEOiawxXTNY0+9YcEW1ykhH/fJNaVU9V0mw1zTZtO1O1jurOYYkikGQe4+hB5BHIr521v9nPXYtUlGh6jZ3Gnk5ia7cxyKMn5WwpBIGORjPoOlecaH4d1ifxudB0+4eHU4ZZofNt2b5SgbdgjnHBH4133wz+NWo6LqKaf4ovbi/wBLnYKLmZjJLbMT94sTlk55ByQBx0wfp1WDqGU5UjIPrWT4p1tvDnhbUtZWATtZwNKIi20PjtnBxXif7OlpLf674j8QXQaS4ZVi88t1aRi75HuVU5xXDfGnQ9M8P/EGSz0mzjtLY2sUnlR5C7jkEgdugr6h8GXE134G8P3NxI0k02m20kjt1ZjEpJP41ifFvT7bUPhjrX2lXYW8JnjCyMo3r0JAI3AZzg5GcHGQK0fh/pdjpPgPRYbC1jt0ls4p5Ag+/IyKWYnuSe59vSv/2Q==\n",
>>>>>>> bd57b4512b97cdd941a556532deb1ef09b42dde5
      "text/plain": [
       "<IPython.core.display.Image object>"
      ]
     },
     "metadata": {},
     "output_type": "display_data"
    },
    {
     "data": {
<<<<<<< HEAD
      "image/jpeg": "/9j/4AAQSkZJRgABAQAAAQABAAD/2wBDAAgGBgcGBQgHBwcJCQgKDBQNDAsLDBkSEw8UHRofHh0aHBwgJC4nICIsIxwcKDcpLDAxNDQ0Hyc5PTgyPC4zNDL/wAALCAAwACABAREA/8QAHwAAAQUBAQEBAQEAAAAAAAAAAAECAwQFBgcICQoL/8QAtRAAAgEDAwIEAwUFBAQAAAF9AQIDAAQRBRIhMUEGE1FhByJxFDKBkaEII0KxwRVS0fAkM2JyggkKFhcYGRolJicoKSo0NTY3ODk6Q0RFRkdISUpTVFVWV1hZWmNkZWZnaGlqc3R1dnd4eXqDhIWGh4iJipKTlJWWl5iZmqKjpKWmp6ipqrKztLW2t7i5usLDxMXGx8jJytLT1NXW19jZ2uHi4+Tl5ufo6erx8vP09fb3+Pn6/9oACAEBAAA/APU/GfxG8OeBURdXuZGu5U3xWdum+V13AZxkBR15YjO1sZIxVzwn400LxrpzXmi3fm+VtE8LqUkhZhkBlP4jIypIOCcGugr50+J/xp1+y8Y3WkeGLyOztNPcwSyiBZGmlGN+fMU7QrAqMDnBOSCMeL6rqt9rmqXGp6ncyXN5cPvllfqx/kABgADgAADAFeqfs4/8lD1D/sFSf+jYq+h/Fl9caZ4N1y/s5PLurXT7iaF9oO11jYqcHg4IHWvhyeea6uJbi4lkmnlcvJJIxZnYnJJJ5JJ5zXvH7QHg2207S9H1PQtAtLSzgeVL2WytkjClvL8vftAOMhgCeATjqwz5X8Or+8sfiHoH2O7nt/P1C3gm8mQp5kbSpuRsdVOBkHg19r18mfF/4Zr4F1SG+0wyPot87CJWDMbZxz5ZboQRkqSckBgc7dx9n+O+q2Nl8ML+wuLmOO7v3iS1hP3pSkqO2B6BRyenIHUgH5Y0mG+udZsYNLMg1CS4jS1McmxhKWATDZG07sc5GK+59JjvodGsYtUmjn1BLeNbqWMYV5Qo3sOBwWyeg+gqS+sLPU7OSzv7SC7tZMb4Z4xIjYIIyp4OCAfwr4U1LVtS1m4W41TULu+nVAiyXUzSsFyTgFiTjJJx7mtDwjrVj4c8S2msX+mSaiLRxNDAtz5A81SCrMdrEgEZxxk4ycZB9j/4aa/6lH/ypf8A2quA8SfGfxr4j8tf7S/suFMHy9M3QbmGeS24ueD03beAcZGa6D/hnHxh/wBBLQ/+/wDN/wDGquab+zZr0twy6prmm20GwlXtVedi2RwVYIAMZ5z2HHPG3Y/s0Wcd5G1/4nnntRnfHBZiJ24OMMXYDnH8J9OOtemaB8NPB/hfVF1PR9FjgvFQosrTSSlAeu3exAOOMjnBI6E1/9k=\n",
=======
      "image/jpeg": "/9j/4AAQSkZJRgABAQAAAQABAAD/2wBDAAgGBgcGBQgHBwcJCQgKDBQNDAsLDBkSEw8UHRofHh0aHBwgJC4nICIsIxwcKDcpLDAxNDQ0Hyc5PTgyPC4zNDL/wAALCAAZAFkBAREA/8QAHwAAAQUBAQEBAQEAAAAAAAAAAAECAwQFBgcICQoL/8QAtRAAAgEDAwIEAwUFBAQAAAF9AQIDAAQRBRIhMUEGE1FhByJxFDKBkaEII0KxwRVS0fAkM2JyggkKFhcYGRolJicoKSo0NTY3ODk6Q0RFRkdISUpTVFVWV1hZWmNkZWZnaGlqc3R1dnd4eXqDhIWGh4iJipKTlJWWl5iZmqKjpKWmp6ipqrKztLW2t7i5usLDxMXGx8jJytLT1NXW19jZ2uHi4+Tl5ufo6erx8vP09fb3+Pn6/9oACAEBAAA/AG+Ffj5K3jG8ttfljOiXNy/2W4EeDbJk7QcAEqeOTyP5Ovv2jJ7Xxfcww6Va3OgxStGjxuwmlAJAkDE7cHrjb0OM10/xN+JlxpXgXRde8K3S7dQuQUleMENGAxZGVhxkjBxgjHWofB/x70LU9Imk8StHpd/Bjcsas6TDHVAMkHOflOe3J7acnx58BpcQxrf3To+d0q2j7Y8DjdkA89BgH3xXe6TrOm69Yre6VfQXlsxx5kLhgDgHB9DyODzzXk3xH+OWn6Tb3ekeGJPtWqcxNdhcwwdQSpz8zjtwV+uMVX+DPxZvvEN+vhnxBJ596yM1rdkANIFGSjAdSACd3fBzzydT9oLxDcaV4Hh0y3QY1WbypZCSCqJhiBjuSAOeMZGOcjhv2b9Uvh4q1LSBcv8A2e9i9yYP4fNDxqGHocMR78Z6CvpSivgi+s5NP1C5spiplt5Wicr0JUkHGe3FV6+ibr4XXOtfAfQLTSZzNfxompJEwCiUzAFkyTxtDcHvt7Z48B1TS73RdTn07UYDBd27bZYiQSpxnqCR3qpXsvwNbxFe2PinRtP82OzutNl8i5YOI4bvAVMOOFJDknHPyg9q8+h+H/i241STTY/D+ofa0jaUxvCY8oDjcC2MjPAx17VD4aux4Z8c6Xd6pBPCNPvo3uIjGRIm1huG045GOle8ftGwxz+BtHvmV0mW/VFRsAgPE5OR6gov618017/8EvinfXOoW/hHWmlu/NDfYrtm3OpALFHzyRgHBzkYxyCMfQFcfrXws8FeINSk1HUtBhkupP8AWSRSyQ7zkklgjAFjnknk18+fGP4c2vgbWLa50xz/AGZqJfyYDuJtygXKliTuB3ZBPPUdsn2P4GeMD4l8Ff2fcFBeaP5dttRSMw7AImPGMnaw6n7ueMivE/jbpM+lfFDUXl5S+VLqJuOVI2+p6MrDnHSvSl/Zr0xdXSY+IbltODAtbNbjzGGOR5gYAZOedvT869c8N+G9L8J6LFpOkW/k2sZLcnLOx6sx7k/yAA4AFXTqNkt8bE3luLwR+abcyr5mzON23OcZ79K+VPjXf+E9V8Xrf+G7trm7kDJqLLuMRkQhVKk9eAQSvy4CkdTXS6dc/wDCcfs6atHqtws19oE+62kZi0iIoUqWGeQVaRBnjA7laX9nTStEv77WLi8tIp9St0QQ+aoYJG2dxAPGcgDPUA47nPK+ONK/4V38Y0n0+AQ2kV1DfWas3yFchivB4UMHXHBwPxr6r/tjTP8AoI2n/f8AX/GrteM/tI/8iVpX/YRH/ot65b9mv/kYNd/69Y//AEOs/wDaO/5KHp//AGCo/wD0bLX0/RXzD8bP+SsS/wDYOj/rXj1eleDv+SL/ABB/3rL/ANG0vwG/5KpZf9e83/oBrof2k/8AkaNF/wCvJv8A0M11tf/Z\n",
>>>>>>> bd57b4512b97cdd941a556532deb1ef09b42dde5
      "text/plain": [
       "<IPython.core.display.Image object>"
      ]
     },
     "metadata": {},
     "output_type": "display_data"
    },
    {
     "data": {
<<<<<<< HEAD
      "image/jpeg": "/9j/4AAQSkZJRgABAQAAAQABAAD/2wBDAAgGBgcGBQgHBwcJCQgKDBQNDAsLDBkSEw8UHRofHh0aHBwgJC4nICIsIxwcKDcpLDAxNDQ0Hyc5PTgyPC4zNDL/wAALCAAwACABAREA/8QAHwAAAQUBAQEBAQEAAAAAAAAAAAECAwQFBgcICQoL/8QAtRAAAgEDAwIEAwUFBAQAAAF9AQIDAAQRBRIhMUEGE1FhByJxFDKBkaEII0KxwRVS0fAkM2JyggkKFhcYGRolJicoKSo0NTY3ODk6Q0RFRkdISUpTVFVWV1hZWmNkZWZnaGlqc3R1dnd4eXqDhIWGh4iJipKTlJWWl5iZmqKjpKWmp6ipqrKztLW2t7i5usLDxMXGx8jJytLT1NXW19jZ2uHi4+Tl5ufo6erx8vP09fb3+Pn6/9oACAEBAAA/AO7+E3xJm+IWl3wvrOO31CwdBMYM+VIr7thUEkg/KQQc9AQecDsPEmtw+HPDWpazP5ZSzt3lCPIIxIwHypuPQs2FHB5I4NfGl9401298aSeLRd/Z9XaUSrLAoUJgBQoHdQoC4OcjrnJz9f8AgfxJ/wAJd4L0vXDH5cl1F+9QLgCRSUfaMn5dytjJzjGear/Du40K78CabP4asp7LSG837PBOSXTErhsks3Vtx6nr+FeMftCeMvt2o23hezmsbixg23U0kLb5I7hTLG0bENgYBGVIyDXh9fafwys9NsfhvocOk3cl3Zm38xZpNoYs7F3BCkhSGZhtyduMEkjNfMHgz4peJvA6PBp9xHc2bJtWzvd0kUZ3FtyAMCpyWzg4OeQSAR7HYfBTw34x0628Uaje6rFfazEmoXEdvLGsayTASMEBjJCgscAknHc1458T/A8PgHxUml299JdwT24uo2kjCsis7qEODhiAn3sDOegr6H+B08M3wk0hIpY3eF50lVWBKN5zthvQ7WU4PYg96+ZPG2laPoni++07QL/7fpkPl+Tc+cku/Mas3zIApwxYcele/wD7O2sXF94Gu9NnScx6fdkQStEBHscbiisPvMG3Mc9A684IAz/2jPDFvPodl4nigna+t5UtJnTJQQHeQWHbDkAHj7+Dn5ccB8D/ABl/wjPi86dczWNtpmp/8fdzdts8ry45GTDFgoyzY5znIxisfwX8KvEvjX7LdW1r9m0iWUxvqExUKoX7xVMhn9BgY3cEjBI+l/hx4F/4V/4euNJ/tH7f5121z5vkeVjKIu3G5v7mc5711k8EN1by29xFHNBKhSSORQyupGCCDwQRxivjD4l6BY+F/iHq+j6Ysi2cDxtEjtuKB41fbnqQCxAzk4AySea+06KKx9Q8K6FquuWGtX2mQT6lp+fs07g5TuMjo2DyM52k5GDzX//Z\n",
=======
      "image/jpeg": "/9j/4AAQSkZJRgABAQAAAQABAAD/2wBDAAgGBgcGBQgHBwcJCQgKDBQNDAsLDBkSEw8UHRofHh0aHBwgJC4nICIsIxwcKDcpLDAxNDQ0Hyc5PTgyPC4zNDL/wAALCAAcADMBAREA/8QAHwAAAQUBAQEBAQEAAAAAAAAAAAECAwQFBgcICQoL/8QAtRAAAgEDAwIEAwUFBAQAAAF9AQIDAAQRBRIhMUEGE1FhByJxFDKBkaEII0KxwRVS0fAkM2JyggkKFhcYGRolJicoKSo0NTY3ODk6Q0RFRkdISUpTVFVWV1hZWmNkZWZnaGlqc3R1dnd4eXqDhIWGh4iJipKTlJWWl5iZmqKjpKWmp6ipqrKztLW2t7i5usLDxMXGx8jJytLT1NXW19jZ2uHi4+Tl5ufo6erx8vP09fb3+Pn6/9oACAEBAAA/AOCuPi34qsPF1/fabr1zc2DXzywwXBZ4ni3nau1uVUrjgYP0Nexal8fvDmn6PpdzHBJe3l3EJJ7W3kH+i8DKsx6nJwAB2OccZ6zwj8S/DHjRUTTb3yrxt3+hXICTDHtkhuOflJ4+hA66vKdP+Pfhm68US6PcRTW0H2hoIdQ3B4XwSAxxyqtgYOD15wMmvGtf1zXvAvxq1TUZLmaS7ivd8q/aCRPbsVdY2bn5SmwYPTA44FfWlldx39hb3kQYR3ESyqGHIDAEZ9+a+MviZGkfxL8RLGiov21zhRgda5Spba5ms7uG6tpGinhdZI5F6qwOQR9CK+tfCHxK0/U/hdD4g1zUlspYc2d1cEKCZwByq4ILEENgDHJ4wK+Ra6GK5vvHvjyyOs3pe71W8gtprhY1UgErGCFUAcLj8q+2ba3itLWG2gXZDCixouScKBgDJ9q+Mvif/wAlO8Rf9fr1n+Lda0vX9bN/pOgw6JA0aq1rDLvUsP4h8qgZGOAO2epNYVOMbqgcowRujEcGvVvhH8PvDHj7TNTh1GfUItUtZAVMLKI/KZcKeQckMGz04x71ynijwtrnwy8XQJI4823lW5sb1Eykm0gqwDAjIIGVOcH1BBP1x4a8S2PiTw3Yavbzx7LmIMRnbtYcMMHnhgR+FeBftG6ZZ2nirS723gSOe7tm89kUDzCrcMcdWwcZPYAdq8t8L6fBq3i3RtNut32e7voIJdpwdryKpwexwa+wvDnw98L+F7IW+n6Tbs3O64njWSV8nOC5GcdOOnFX9b8KaF4j0oaZqul29xZqQyR42FDnOVZcFffBGRkdCaZ4Z8JaL4PsJbLQ7P7NBLKZnBkZyWIA6sScAAAD+pJPEfH3TLW8+Gk17NEDcWNxE8EmBldzBGGfQg9PUD0r540n/kGQ/wDAv/QjX//Z\n",
      "text/plain": [
       "<IPython.core.display.Image object>"
      ]
     },
     "metadata": {},
     "output_type": "display_data"
    },
    {
     "data": {
      "image/jpeg": "/9j/4AAQSkZJRgABAQAAAQABAAD/2wBDAAgGBgcGBQgHBwcJCQgKDBQNDAsLDBkSEw8UHRofHh0aHBwgJC4nICIsIxwcKDcpLDAxNDQ0Hyc5PTgyPC4zNDL/wAALCAAaACgBAREA/8QAHwAAAQUBAQEBAQEAAAAAAAAAAAECAwQFBgcICQoL/8QAtRAAAgEDAwIEAwUFBAQAAAF9AQIDAAQRBRIhMUEGE1FhByJxFDKBkaEII0KxwRVS0fAkM2JyggkKFhcYGRolJicoKSo0NTY3ODk6Q0RFRkdISUpTVFVWV1hZWmNkZWZnaGlqc3R1dnd4eXqDhIWGh4iJipKTlJWWl5iZmqKjpKWmp6ipqrKztLW2t7i5usLDxMXGx8jJytLT1NXW19jZ2uHi4+Tl5ufo6erx8vP09fb3+Pn6/9oACAEBAAA/ALPjT9oOC3gmsfDFlKL0M0b3F4g2x4yCVUNyc4Izx6g15v4D+JPijSfF2n+Zq15e2lxciOe1uZ2dHEjfMRkna2WLZHfrkZFSfFXWtWtPjFqN6l5cR3NjMgtHzgxIFBAX2yScdDk+pqPUfjT42v8AV7PUU1IWjWsYTyLYEQynJy0iEkMTnHtjgCvpvwH4kk8XeCNM1yaFIprpG8xEBCh1dkbGSTjKkjnpXiE37OWvTa3dhdasxYbyYribc0sgPPzKBjPUE57V5xq2izeAvH62GoN539n3UUrPEpHmJlXBUHHb9e/evo3xv8KdC+JMlnrtrqDWlxLChFzBGHS4iIypI4ycEYbPTjnjHz38RvAk3w/8RpprXX2u3mgWeCfYU3DJBBHQEEHgE8FT3wPpX4OS6c3wt0aLTbkzpCjLNu6pMWLup4HRnOPbHJ613deC/tJ6KjWmia5HFiRHe1mkCclSNyAntgh8D/aNei/CS/uNR+F2hS3Mbo8cHkLuGNyRkopHA42qP/r1i/G7wVH4l8HyarHIY7zR4pLhQAMSR4BdTnngLkc+vBzXm/wA8cDSdal8MX86pZ37B7UuwAS46bf+BjA+qqAOTX0vXL/EiNJPhr4jV0VgNPlbDDPIUkH8CAaqfCb/AJJZ4f8A+vY/+hNWN8dby6s/h5/o1zNB51z5UvlOV3oYpcq2OqnuDxXypYSPFqNrJG7I6zIyspwQQRgg1//Z\n",
>>>>>>> bd57b4512b97cdd941a556532deb1ef09b42dde5
      "text/plain": [
       "<IPython.core.display.Image object>"
      ]
     },
     "metadata": {},
     "output_type": "display_data"
<<<<<<< HEAD
    }
   ],
   "source": [
    "for char in chars:\n",
    "    showarray(char)"
   ]
  },
  {
   "cell_type": "code",
   "execution_count": 184,
   "metadata": {},
   "outputs": [],
   "source": [
    "# def get_char(word, x, y):\n",
    "#     h, w = word.shape\n",
    "#     chars = []\n",
    "#     char = word[:,x:y]\n",
    "#     char = word[:,part * i:(part * i) + part]\n",
    "#     shape = cv2.resize(char,(32,48))\n",
    "#     ret,thresh1 = cv2.threshold(shape,127,255,cv2.THRESH_BINARY)\n",
    "#     chars.append(thresh1)"
   ]
  },
  {
   "cell_type": "code",
   "execution_count": 185,
   "metadata": {},
   "outputs": [],
   "source": [
    "# chars = []\n",
    "# chars.append(get_char(word[0], num = 1))\n",
    "# chars.append(get_char(word[1], num = 1, part = 40))"
   ]
  },
  {
   "cell_type": "code",
   "execution_count": 186,
   "metadata": {
    "inputHidden": false,
    "outputHidden": false
   },
   "outputs": [],
   "source": [
    "fonts = []\n",
    "for item in class_names:\n",
    "    fonts.append(cv2.imread('habbakuk/' + item + '/standard.png'))"
   ]
  },
  {
   "cell_type": "code",
   "execution_count": 105,
   "metadata": {
    "inputHidden": false,
    "outputHidden": false
   },
   "outputs": [
    {
     "ename": "NameError",
     "evalue": "name 'single_characters' is not defined",
     "output_type": "error",
     "traceback": [
      "\u001b[1;31m---------------------------------------------------------------------------\u001b[0m",
      "\u001b[1;31mNameError\u001b[0m                                 Traceback (most recent call last)",
      "\u001b[1;32m<ipython-input-105-3c82bd056332>\u001b[0m in \u001b[0;36m<module>\u001b[1;34m()\u001b[0m\n\u001b[1;32m----> 1\u001b[1;33m \u001b[1;32mfor\u001b[0m \u001b[0mcharacter\u001b[0m \u001b[1;32min\u001b[0m \u001b[0msingle_characters\u001b[0m\u001b[1;33m:\u001b[0m\u001b[1;33m\u001b[0m\u001b[0m\n\u001b[0m\u001b[0;32m      2\u001b[0m     \u001b[0mshape\u001b[0m \u001b[1;33m=\u001b[0m \u001b[0mcv2\u001b[0m\u001b[1;33m.\u001b[0m\u001b[0mresize\u001b[0m\u001b[1;33m(\u001b[0m\u001b[0mcharacter\u001b[0m\u001b[1;33m,\u001b[0m\u001b[1;33m(\u001b[0m\u001b[1;36m32\u001b[0m\u001b[1;33m,\u001b[0m\u001b[1;36m48\u001b[0m\u001b[1;33m)\u001b[0m\u001b[1;33m)\u001b[0m\u001b[1;33m\u001b[0m\u001b[0m\n\u001b[0;32m      3\u001b[0m     \u001b[0mret\u001b[0m\u001b[1;33m,\u001b[0m \u001b[0mthresh1\u001b[0m \u001b[1;33m=\u001b[0m \u001b[0mcv2\u001b[0m\u001b[1;33m.\u001b[0m\u001b[0mthreshold\u001b[0m\u001b[1;33m(\u001b[0m\u001b[0mshape\u001b[0m\u001b[1;33m,\u001b[0m\u001b[1;36m127\u001b[0m\u001b[1;33m,\u001b[0m\u001b[1;36m255\u001b[0m\u001b[1;33m,\u001b[0m\u001b[0mcv2\u001b[0m\u001b[1;33m.\u001b[0m\u001b[0mTHRESH_BINARY\u001b[0m\u001b[1;33m)\u001b[0m\u001b[1;33m\u001b[0m\u001b[0m\n\u001b[0;32m      4\u001b[0m \u001b[1;33m\u001b[0m\u001b[0m\n\u001b[0;32m      5\u001b[0m     \u001b[0mchar\u001b[0m \u001b[1;33m=\u001b[0m \u001b[0mthresh1\u001b[0m\u001b[1;33m\u001b[0m\u001b[0m\n",
      "\u001b[1;31mNameError\u001b[0m: name 'single_characters' is not defined"
     ]
    }
   ],
   "source": [
    "for character in single_characters:\n",
    "    shape = cv2.resize(character,(32,48))\n",
    "    ret, thresh1 = cv2.threshold(shape,127,255,cv2.THRESH_BINARY)\n",
    "    \n",
    "    char = thresh1\n",
    "    char_pred = np.asarray(char[:], dtype='float32')\n",
    "    char_pred = normalize(char_pred)\n",
    "    char_pred = char_pred.reshape(-1, 48, 32,1)\n",
    "\n",
    "    prediction = model.predict([char_pred])\n",
    "    for i in range(len(prediction)):\n",
    "        print('Predicted: ', prediction[i] * 100)\n",
    "    highest_index = np.argmax(prediction)\n",
    "    print('Index of class with highest probability: ',highest_index)\n",
    "    print('Value of highest probability: ', prediction[0][highest_index])\n",
    "    print('Name of predicted class: ', class_names[highest_index])\n",
    "    print('habbabuk/' + class_names[highest_index] + '/standard.png')\n",
    "    character_example = cv2.imread('habbakuk/' + str(class_names[highest_index]) + '/standard.png')\n",
    "    showarray(character_example)\n",
    "    showarray(char_pred)"
   ]
  },
  {
   "cell_type": "code",
   "execution_count": 188,
   "metadata": {
    "inputHidden": false,
    "outputHidden": false
   },
   "outputs": [],
   "source": [
    "# for box in bounding_boxes:\n",
    "#     xStart = box[2]\n",
    "#     xEnd = box[0]\n",
    "#     y = box[1]\n",
    "#     winH = box[3] - y\n",
    "#     winWidth = 5\n",
    "#     while(xStart-winWidth >= xEnd) :\n",
    "#         hit = False\n",
    "#         winW = winWidth\n",
    "#         a = 0\n",
    "#         # While the image is not classified and the box has not reached the edge,\n",
    "#         # increase window size\n",
    "#         while(not hit and xStart-winW >= xEnd) :\n",
    "#             newX = xStart - winW\n",
    "#             # Draw the window\n",
    "#             clone = img.copy()\n",
    "#             cv2.rectangle(clone, (xStart, y), (newX, y + winH), (255, 0, 0), 2)\n",
    "#             cv2.rectangle(clone, (xStart,y),(xEnd,y + winH), (0,255,0), 2)\n",
    "#             cv2.imshow(\"Window\", clone)\n",
    "#             cv2.waitKey(0)\n",
    "#             # Check if the CNN returns a high probability for a letter\n",
    "#             # for prob in probabilities :\n",
    "#             #     if prob >= 0.75 :\n",
    "#             #         hit = True\n",
    "#             #         xStart = newX\n",
    "#             # # Increase size of window if nothing has been found\n",
    "#             winW += 5\n",
    "#             # this is done to ensure that the loop ends for now, because not\n",
    "#             # connected to cnn yet.\n",
    "#             hit = True\n",
    "#             xStart = newX"
=======
    },
    {
     "data": {
      "image/jpeg": "/9j/4AAQSkZJRgABAQAAAQABAAD/2wBDAAgGBgcGBQgHBwcJCQgKDBQNDAsLDBkSEw8UHRofHh0aHBwgJC4nICIsIxwcKDcpLDAxNDQ0Hyc5PTgyPC4zNDL/wAALCAAvACMBAREA/8QAHwAAAQUBAQEBAQEAAAAAAAAAAAECAwQFBgcICQoL/8QAtRAAAgEDAwIEAwUFBAQAAAF9AQIDAAQRBRIhMUEGE1FhByJxFDKBkaEII0KxwRVS0fAkM2JyggkKFhcYGRolJicoKSo0NTY3ODk6Q0RFRkdISUpTVFVWV1hZWmNkZWZnaGlqc3R1dnd4eXqDhIWGh4iJipKTlJWWl5iZmqKjpKWmp6ipqrKztLW2t7i5usLDxMXGx8jJytLT1NXW19jZ2uHi4+Tl5ufo6erx8vP09fb3+Pn6/9oACAEBAAA/APU/iL4Oi8b+D7rTMKLxB51nIxwElXpn2Iyp64DE9RXxtqWm3mkajPp+oW0ltdwNskikGCp/zyD3HNew/s32NrP4n1a8lgR7i2tVEMjDJj3MQ2PQkDGeuMjua+lKKK8V/aH8KQ3fhu38SwQqLqxkEVw6qAXicgAsepw20Dr981y37Nt5DF4n1m0d8SzWiugPcK4B/H5xX0nRRXF+MvE/gz7WvgzxLdIG1OEZjdG2AFsIS4GFO4ZB7bcnHGfmHXdD1b4YeO4kky0tlOtxaz7WRbhA2VPXoehAJxyM19Bp8fPAzRWTtc3atO2JUNs2bYer9iP93ca9HsL+01SwgvrGdLi1nQPFKhyGU14P8fvE3iLQ/FGkRaXq1/Y2ptDJi2laNXfec5xjdgBeDnGffnxHXNe1PxJqbajq9011duoVpWVVJAGBwABX0v4c8P6b8UPgpotrqinz4bcwwXQX54XjzGGHPIwoyD1+uCPmXWdOXSNZvNOW7huxbSmPz4DlJMdwfSvT/B3wv8X654UsdSsLuygtZw7RxztIrgB2GSBxzjI9iK4Xxh4u1jxVqjtqeoveQwTSm2BACorMPu4HQhV/Kucr3vwx4wu/C/7OMt5ZEy3S3klpC9vHn7KXO7dKTkDqSDj+NBjkmuP+FHwum8bakL3Uklg0S3IZ22spujkjYjYxjKkMQcjtz0+so444YkiiRUjRQqoowFA6ADsK+YPEvwA8T2eryLoSQ6hYPl43MqxNGCThCGbkgY5710t38BIX+G9oVSK08UQRtNcyCZ5Em+8RGcnaD90ZUYyD161k/s8W1zf3uuWU8FncaI8UbXUNxGHLSAny8A8YHzE59BX0db28Fpbpb20McMMY2pHGoVVHoAOBUlf/2Q==\n",
      "text/plain": [
       "<IPython.core.display.Image object>"
      ]
     },
     "metadata": {},
     "output_type": "display_data"
    },
    {
     "data": {
      "image/jpeg": "/9j/4AAQSkZJRgABAQAAAQABAAD/2wBDAAgGBgcGBQgHBwcJCQgKDBQNDAsLDBkSEw8UHRofHh0aHBwgJC4nICIsIxwcKDcpLDAxNDQ0Hyc5PTgyPC4zNDL/wAALCAAVABQBAREA/8QAHwAAAQUBAQEBAQEAAAAAAAAAAAECAwQFBgcICQoL/8QAtRAAAgEDAwIEAwUFBAQAAAF9AQIDAAQRBRIhMUEGE1FhByJxFDKBkaEII0KxwRVS0fAkM2JyggkKFhcYGRolJicoKSo0NTY3ODk6Q0RFRkdISUpTVFVWV1hZWmNkZWZnaGlqc3R1dnd4eXqDhIWGh4iJipKTlJWWl5iZmqKjpKWmp6ipqrKztLW2t7i5usLDxMXGx8jJytLT1NXW19jZ2uHi4+Tl5ufo6erx8vP09fb3+Pn6/9oACAEBAAA/AOd+Jvxg8Q6jqWpeH7RDpVvZ3skRkt5mWdwhZCrsrYweSQOOnJxms34MeNNQ0Hxrp+lPeyf2RfSmGW3d/kV2GFZQThTu25I6jjnivrOvEvEP7O1rq+vXmpWniSe1S6laZop7bz2DMSW+fepIye+T6k9a8a8d+ELv4deLk04XzzMscd1bXaL5TEEn5gAxKkMrDrnjPpX1v4S8TWfi/wANWetWPCTr88e7JiccMh+h74GRg962683+NPhKx8ReB7i/mZorzS1M1vKoB4ONyN6gj6YIB9QcP4EeHoZfh0bqS7vVNxeyvtguZIlXAVMYVgCflzn3x2r/2Q==\n",
      "text/plain": [
       "<IPython.core.display.Image object>"
      ]
     },
     "metadata": {},
     "output_type": "display_data"
    },
    {
     "data": {
      "image/jpeg": "/9j/4AAQSkZJRgABAQAAAQABAAD/2wBDAAgGBgcGBQgHBwcJCQgKDBQNDAsLDBkSEw8UHRofHh0aHBwgJC4nICIsIxwcKDcpLDAxNDQ0Hyc5PTgyPC4zNDL/wAALCAAeAFEBAREA/8QAHwAAAQUBAQEBAQEAAAAAAAAAAAECAwQFBgcICQoL/8QAtRAAAgEDAwIEAwUFBAQAAAF9AQIDAAQRBRIhMUEGE1FhByJxFDKBkaEII0KxwRVS0fAkM2JyggkKFhcYGRolJicoKSo0NTY3ODk6Q0RFRkdISUpTVFVWV1hZWmNkZWZnaGlqc3R1dnd4eXqDhIWGh4iJipKTlJWWl5iZmqKjpKWmp6ipqrKztLW2t7i5usLDxMXGx8jJytLT1NXW19jZ2uHi4+Tl5ufo6erx8vP09fb3+Pn6/9oACAEBAAA/AOEuvFviXwJ8VdVneS4s92qPc3dgsgaORHfeRjocoRhuvI5FerfGL4la14d0rQJ/DVxDDb6tG1wl5tEjsoCnbsZSoBEinPJ+mOb/AMLfjCvji8k0nVre3s9VCGSHymIjnUfeChiSGHXGTwCexqD4ufFm18O6bc6JoV4H11z5Ujxci0HBJJ/v4OAB05JwRg+bfD34161ourxWviK+kv8ASZnVZZZgZJbcAEBlOeRkjIOeBxz19B+Ifxvh8OalpcHhqTTNWhkQy3jiTzAFyAqqyP8AK+A2dwOMr716V4W8U6Z4w0KHVtKlLwv8ro3DxOACUYdiMj8wRwa8w8efHC48J+Pjo9lYW15p9qii737llMpBJCODgAAp1Xru9jXTeNfiLZ2Pw0XXNM1H7HeajbebpvmxguzZXI2kFcgHvxXJ+BPj9b6re2+meJ4IbF3QKNQEmI2cAffBGEB55zgfTkexf2xpn/QRtP8Av+v+NeT/ALQHg+yvvDDeKU/d39h5cTndgSxM4UDHqC2R04z14r58vPE2taloVlod3fST6fZsWtoWVSYyRjAbG7HoM4Fey/CX4Q61aXS+I9UuLjSLhY2FkqKvnxswKlnjkQgDaSMHn6cGvFNU07V4NVu49StboXyzN9o8xSWL5+Yk9+e/eq99p97pd29pqFncWlymC0NxEY3XIyMqQCODmvYvjD4Qgm8LeH/GGiW8P2E2cUV0YIwowwBSQgDuWKknvtFdb+zde2z+DNVsFlBuotQMzx4OQjxoFP4lG/KvPfj94eXSPH66jCjCDVIBMWJyPNU7XA79Ah/4FXn3h3w3q3irVk0zRrRrm5YbyAQAiggFmJ4AGRz7gdTXptp+zn4qNzam7v8ASUt2kXzvLlkZ0TPzcbACQO2evfvX0J/wieif8+X/AJFf/Gvnf4++KtQ1Lxo/hvmOx0zYVRGP755I0fcw6ZG7A9OfWux+D/wfGmC38S+JbcG+IElnZSL/AKgEcO4/v88KR8vX733fcKK8T/aI8L2914ftvEyOy3Vm627rn5XjYn26hsd+hPtTvgdqFp4r+GepeEr6HdFZ7oZP9qKcuwOexDb/AKYFeWD+0Pgx8VVX7QbqO1YGQRMVFxbuOjDpnBzg5AYDrjNe8+MvD+nfF34dQXOkyJ57AXFhPKu0qw4ZG7gHkHtkA84r538F+JL/AOGHj1p7y0cNCXtL+243FMjcAemQVBGDzjrg19e6LrWn+IdIt9U0u5S4tJ13I6np6gjsR0I7Gr9Z13oGjX9/Ff3mk2FxeQkGK4mtkeRCDkbWIyMHkYrRoorzn45SQJ8KtSE0RctJCsZB+628c/ln86+XNH8T654ftry30fU7mxS82eebdtjNsJK4YfMOp6EZzzWdc3NxeXMlzdTyzzyMWkllcszseSSTyTXrfhz42ReEPh7Z6Ho+jmTUoCd010+Ycs5ZjtUhj1wBkdc9sHy7W9Xudf1u81a8EYubuUyyCMYUE9gPSvpL9nWHZ8P7ubzZG8zUHGxmyq4ROg7Zzz9BXr1f/9k=\n",
      "text/plain": [
       "<IPython.core.display.Image object>"
      ]
     },
     "metadata": {},
     "output_type": "display_data"
    },
    {
     "data": {
      "image/jpeg": "/9j/4AAQSkZJRgABAQAAAQABAAD/2wBDAAgGBgcGBQgHBwcJCQgKDBQNDAsLDBkSEw8UHRofHh0aHBwgJC4nICIsIxwcKDcpLDAxNDQ0Hyc5PTgyPC4zNDL/wAALCAAfABwBAREA/8QAHwAAAQUBAQEBAQEAAAAAAAAAAAECAwQFBgcICQoL/8QAtRAAAgEDAwIEAwUFBAQAAAF9AQIDAAQRBRIhMUEGE1FhByJxFDKBkaEII0KxwRVS0fAkM2JyggkKFhcYGRolJicoKSo0NTY3ODk6Q0RFRkdISUpTVFVWV1hZWmNkZWZnaGlqc3R1dnd4eXqDhIWGh4iJipKTlJWWl5iZmqKjpKWmp6ipqrKztLW2t7i5usLDxMXGx8jJytLT1NXW19jZ2uHi4+Tl5ufo6erx8vP09fb3+Pn6/9oACAEBAAA/AJ/2kPtM2ieG7lJClq0koliDnDMyoVOOhwFbn3968q8NfFHxT4U0q807Tr3dDcABDcbpDbnk5jBOFJzzkEH0r2H4ZfHCXxDqkGheI7eKO9uG2W13ANqSNjhXXsSc8jg5AwOp9srxn9oDW9CtPCMXh+eJZtWmKS2gxk26K2C5PYEBl98n0rwjwP4Un8aeLLTRIZGhWXc0s4QuIkVSSxA/ADOBkgZ5qz408Iar8OvFa2kk7goVuLK9hJQuoPDAg5VgRyOoIz0IJ+tfBXiGPxR4P03VVmiklmgX7R5bA7JcDepx0IPavmnVfh74+8TfEG6g1SyvZZpLopJqUkLfZwm7AdWwAVA5AHbsK+hNA0Xw18K/CqQTXtpaRFv315cssbXEmCRnJ5OAcKPQ4FeD/Gzx/ovjPUbC10aNpYrDeGvWXaJS2OFB52jHU4ySeMcnC8G3XjuLR5U8M3skNj57b1V4wPM2rn73PTbX2NXyz+0NFcQ/EaLzbuSaGWxjmiibO2AZZCo57lC2ePve1X/hz8DP+Ek0uHWtevngsbhQ9vBbEF5FI+8WOQvcYwT9O/0Zpel2Oi6bBp2m2sdrZwAiOGMYC5OT+ZJOe5Nf/9k=\n",
      "text/plain": [
       "<IPython.core.display.Image object>"
      ]
     },
     "metadata": {},
     "output_type": "display_data"
    },
    {
     "data": {
      "image/jpeg": "/9j/4AAQSkZJRgABAQAAAQABAAD/2wBDAAgGBgcGBQgHBwcJCQgKDBQNDAsLDBkSEw8UHRofHh0aHBwgJC4nICIsIxwcKDcpLDAxNDQ0Hyc5PTgyPC4zNDL/wAALCAAnACABAREA/8QAHwAAAQUBAQEBAQEAAAAAAAAAAAECAwQFBgcICQoL/8QAtRAAAgEDAwIEAwUFBAQAAAF9AQIDAAQRBRIhMUEGE1FhByJxFDKBkaEII0KxwRVS0fAkM2JyggkKFhcYGRolJicoKSo0NTY3ODk6Q0RFRkdISUpTVFVWV1hZWmNkZWZnaGlqc3R1dnd4eXqDhIWGh4iJipKTlJWWl5iZmqKjpKWmp6ipqrKztLW2t7i5usLDxMXGx8jJytLT1NXW19jZ2uHi4+Tl5ufo6erx8vP09fb3+Pn6/9oACAEBAAA/APP/AIu+Cbjwh4wmmEcK6bqUkk9n5I2hRkFk29iu4e2CPoOi/Zxnjj8dahE7gPLp7BB/eIdCf0r6dorn/GvhS08Z+FrvR7olTIN8EoGTFKPutjvz1HcEjivkawvde+GnjfzNj2upWEpjlidflkTuvI5Vh0I7EEdjX2J4b8QWHinQLTWNOk3W9wgbafvRt3RvQg8GtWuC+LXjTUfAvha01TTI7eSaS/jgZZ1JUoUdj0I67APxrldT8NaR8dPB1r4ksmfT9ciiaAgncgdTny3HdcnIYcgMM5xtrxvQfGfir4Y6lqemWrRxTCTybmCdBIquhI+Xn3PIODnvxXqfwy+OF7rHiBNG8UtbKLpittdRx7MSEjbGwHGDyAfXGc5yOQ1H4sWmv/CCTwzrUF3c62hRYrtm3q+1wQ7MTndtyp6565546b9mZpN/idQAY8WpJLcg/vcYGPrznsOvboPj/wCGdGn8GSa+0dvb6rbzRqkoQB7kMQpjJ4zgfMM5wFOMZNeCeALC41P4gaBbWy7pft0UmP8AZRt7H8FUmqPiLw7qXhXWptJ1aFYruLBIVw4IPIII7Ec+vrivef2c7rRovDusRxs41QSiS73KceUAdhB6Y5fjrnPtTfGOoX0/iLULHxnodzLp+py/ZfDccd0pgEgyolkUPkE7kbJUleQByc9d4E8C6f8AC3wnd6heLHdamkEk95cxIC2xVDGKMnB2/KDzjJ5OOAP/2Q==\n",
      "text/plain": [
       "<IPython.core.display.Image object>"
      ]
     },
     "metadata": {},
     "output_type": "display_data"
    },
    {
     "data": {
      "image/jpeg": "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\n",
      "text/plain": [
       "<IPython.core.display.Image object>"
      ]
     },
     "metadata": {},
     "output_type": "display_data"
    },
    {
     "data": {
      "image/jpeg": "/9j/4AAQSkZJRgABAQAAAQABAAD/2wBDAAgGBgcGBQgHBwcJCQgKDBQNDAsLDBkSEw8UHRofHh0aHBwgJC4nICIsIxwcKDcpLDAxNDQ0Hyc5PTgyPC4zNDL/wAALCAAfABUBAREA/8QAHwAAAQUBAQEBAQEAAAAAAAAAAAECAwQFBgcICQoL/8QAtRAAAgEDAwIEAwUFBAQAAAF9AQIDAAQRBRIhMUEGE1FhByJxFDKBkaEII0KxwRVS0fAkM2JyggkKFhcYGRolJicoKSo0NTY3ODk6Q0RFRkdISUpTVFVWV1hZWmNkZWZnaGlqc3R1dnd4eXqDhIWGh4iJipKTlJWWl5iZmqKjpKWmp6ipqrKztLW2t7i5usLDxMXGx8jJytLT1NXW19jZ2uHi4+Tl5ufo6erx8vP09fb3+Pn6/9oACAEBAAA/AH/FL4l+MfBHxIe3s5oP7Na2jkgtpolZJFPDMcYYHcrDqOB+NeReIPHuveJPFUHiO7uI4r+2KG28hMJBsbcoUHOfmJPOetfaNhdrf6da3iKVW4iSUKeoDAHH618g/GDU4dV+KWtzQZ2Qyi2JP96NQjfqprhq+3fAM8lz8PfD00zl5H0+Esx7nYK+Q/HtvcW3xB8RR3QHnf2jO7FV2htzlgQMnAIIOMnrXPV9J/BP4j2LeFJtL8Ra3YWkmnukdr9qmjgzDtwqjON2Cp55PIz2r0nXvAXhbxNfQ32saNb3V1ERtlO5ScdA20jcPZsivKvjJ8KIDYQ6z4X0m0tI7K3mkv1iKxL5aDcCF7t97pz09qreDP2eS8FzJ4xlMbNt+zx2NwNy8tu35Qjn5SME981//9k=\n",
      "text/plain": [
       "<IPython.core.display.Image object>"
      ]
     },
     "metadata": {},
     "output_type": "display_data"
    },
    {
     "data": {
      "image/jpeg": "/9j/4AAQSkZJRgABAQAAAQABAAD/2wBDAAgGBgcGBQgHBwcJCQgKDBQNDAsLDBkSEw8UHRofHh0aHBwgJC4nICIsIxwcKDcpLDAxNDQ0Hyc5PTgyPC4zNDL/wAALCAApACEBAREA/8QAHwAAAQUBAQEBAQEAAAAAAAAAAAECAwQFBgcICQoL/8QAtRAAAgEDAwIEAwUFBAQAAAF9AQIDAAQRBRIhMUEGE1FhByJxFDKBkaEII0KxwRVS0fAkM2JyggkKFhcYGRolJicoKSo0NTY3ODk6Q0RFRkdISUpTVFVWV1hZWmNkZWZnaGlqc3R1dnd4eXqDhIWGh4iJipKTlJWWl5iZmqKjpKWmp6ipqrKztLW2t7i5usLDxMXGx8jJytLT1NXW19jZ2uHi4+Tl5ufo6erx8vP09fb3+Pn6/9oACAEBAAA/APLPiP4LbwJ4ul0lZmmtnjFxayPjcYmJA3Y7gqQeBnGcDNaXwznuvEPxI8K2Wo3vm2+ny7rZJ5CBGEBcKuO+5Rgd6+wKKK5jxt4D0bx3pYtNTiKzRHNvdR8SQnvj1B7g8fiAR8lNDqvw68dxi4jA1DSrpZNoLBJACDweCVYfmDX2do+s6fr+lQalplylxaTruR0P6H0IOQQehFXqKK8y+L/w0PjfSo77TI0/tyzGI9x2+fHyfLJJABycgnjqOM5Hzvo/ibxd8N9Wnt7S4uNPmVytxaTIGjcgjOUbIz8uNw5xnB5rvfCvx98St4otY9aW2utPuZEheOOIRmIE4LqRyTzkg5BxgYzmvpisnQtHstIgnbTrm4ltruT7SoluGmVSwGSjMScMfmPJyWJ71rVjeIPCeg+KbdIdb0u3vAn3GdcOmcZ2sMEZwM4POK+SPG/h6xsvideeHvDeZIFuIra3USGQ+aVQMueuRIWHsRivrD+xrz++n/fR/wAK85/Z78WXOreH73Qr6d5pNNKG3Z2LEQsMBPopXjnocdBXsknmeU/lBTJtO0McDPbPtXH/ABXvbvTvhjrd3Y3U1rcxxxlJoJCjr+8QcMORwTXjfwE8EvrWvS+K9SjEltYyYt/OXd5s5GS3J6pwckdSCORx9LV8s/s7/wDJSJ/+wdL/AOhx19TVjeL/APkSte/7B1x/6Laub+C//JJtF/3rj/0okrva/9k=\n",
      "text/plain": [
       "<IPython.core.display.Image object>"
      ]
     },
     "metadata": {},
     "output_type": "display_data"
    },
    {
     "data": {
      "image/jpeg": "/9j/4AAQSkZJRgABAQAAAQABAAD/2wBDAAgGBgcGBQgHBwcJCQgKDBQNDAsLDBkSEw8UHRofHh0aHBwgJC4nICIsIxwcKDcpLDAxNDQ0Hyc5PTgyPC4zNDL/wAALCAAiAC8BAREA/8QAHwAAAQUBAQEBAQEAAAAAAAAAAAECAwQFBgcICQoL/8QAtRAAAgEDAwIEAwUFBAQAAAF9AQIDAAQRBRIhMUEGE1FhByJxFDKBkaEII0KxwRVS0fAkM2JyggkKFhcYGRolJicoKSo0NTY3ODk6Q0RFRkdISUpTVFVWV1hZWmNkZWZnaGlqc3R1dnd4eXqDhIWGh4iJipKTlJWWl5iZmqKjpKWmp6ipqrKztLW2t7i5usLDxMXGx8jJytLT1NXW19jZ2uHi4+Tl5ufo6erx8vP09fb3+Pn6/9oACAEBAAA/APf6KK+f/ij4qm8BfGSx1nTXEjS2SG+sxmNZlyy/M3ckAYODjYvUDFelfD74maT8QbecWsT2l9bKrTWkrAnBH3lI+8oORnAPTIGRXbV4P4c+N19c/E+603WpLS00F5p4onnUQtbBNxQuSTydoUgnq3HTFdn4N+MGi+MvFV3oVtA8DoZDaTu/y3SLjkAgMrEZbbg8An2rsPEOv2nhnSm1S/jnazjdVmkhTf5Kk43sM5Kg4ztBPPSvlH4y3UN58V9amt5454T5AR43DKf3EecEcdc11XwIh8KX7arpuru8eqXACR/6XJCJ4W4aMbGAb5sZU9cjA4NfR+nWQ07TbeyFxPcCCMRiW4ffI4Axlm7n3r4f8TxXcHizWYb+VZryO+nWeVTkPIJCGI4HU5PQV7t8P/hzp3w1to/GXjXUEsr6HcsUJlBSHcpXnbnzHK7sBcgAnqeRkeJ/ji+ueKNJsNGtLkaPb6nBNKYVJuLwJKCFVcjhsAhTyTjpyK8w8bpe3vinWNafStQs7S6vnZftduYypf5wjdg20g4z05rnoJ5rW4iuLeWSGeJw8ckbFWRgcggjkEHnNfaPw48SP4r8BaXqk7brpo/KuD6yIdpPQdcZ445xXhHx98HNo3ipfEFukS2WqE7gmQVmUDcWHT5uuR1O7I7nlotH+IHxJmtrhrfVNUQKVhubjIhUbsEB2wvXrg549q9/+Fvwoh8CJNe6jJbXmry4CzRocQLjlUJ657nA44rR+L/h+fxH8N9RtrSEzXVvtuYo1XczFDyF99pbpyeneuV8P+ItF+MXw6k8KXk62etLbruiUYw0bDY6Fgcg4XcByAxHvXIfAXVrzQfHupeE76UxrMJFNuxyBcRHnA9dofPrtHoK7r9oj/km8H/YRi/9AkrT+Bf/ACSbS/8ArpP/AOjWr0aggEEEZB6ivk34TExfHaySM7EM92pVeAR5Upx9OB+VM+I881t8cdXmgleKVZFw8bFSP3CjqK//2Q==\n",
      "text/plain": [
       "<IPython.core.display.Image object>"
      ]
     },
     "metadata": {},
     "output_type": "display_data"
    },
    {
     "data": {
      "image/jpeg": "/9j/4AAQSkZJRgABAQAAAQABAAD/2wBDAAgGBgcGBQgHBwcJCQgKDBQNDAsLDBkSEw8UHRofHh0aHBwgJC4nICIsIxwcKDcpLDAxNDQ0Hyc5PTgyPC4zNDL/wAALCAAyACUBAREA/8QAHwAAAQUBAQEBAQEAAAAAAAAAAAECAwQFBgcICQoL/8QAtRAAAgEDAwIEAwUFBAQAAAF9AQIDAAQRBRIhMUEGE1FhByJxFDKBkaEII0KxwRVS0fAkM2JyggkKFhcYGRolJicoKSo0NTY3ODk6Q0RFRkdISUpTVFVWV1hZWmNkZWZnaGlqc3R1dnd4eXqDhIWGh4iJipKTlJWWl5iZmqKjpKWmp6ipqrKztLW2t7i5usLDxMXGx8jJytLT1NXW19jZ2uHi4+Tl5ufo6erx8vP09fb3+Pn6/9oACAEBAAA/APermBbq1mt3JCSoyMV64IxxXxJ4y8KX3gzxJcaRfIflJeCQ4xNEWIVxj1x07HI7V67+zSbX7R4hBH+l7Ydp5+5ls+3XFfQdFFed/F7wJB4v8Ky3MQji1LT0aeKby9zOqqxMWcjAJwc84x05rzT9mqSMeINdiLqJGtY2VM8kBzkgegyPzFfR9FFFfJWqpffCD4vyTWInt7BZ98aoDtmtHIJj+Y/PgfLkk/MoPBHH1Xp2o2er6db6hYXCXFpcIJIpU6MD/L6HkVaryf4f/GQeKPFV/oWsW1tp83nOLEq5+cBsCNskgvjnIwDzgDvw37Ruo6nH4r0qyW4nTTxYiVEUlUMpdwxyOp2hPpntnnU0fS/+Fy/CFGvZJpfEOiNLBbzFwGnbYCodmzkMCoJJByuc15d4d8feLfh+LvS7Gc2wMuZba5h3eXIOD8rfdPr9BXonhf8AaLurW1nj8TWDXs28GGW0Cx/LjkMDx9D715x8QNDufBfxG1C1guJlaKcXVrcKSrgN86kEY+ZScZGOVOKb4m+I2v8Ai7QrHStZkgnWzk8xLjyyJXOMfMQcHj2z716X+zx4yt7Oa78J3flRfaZGu7aVmwXkwimP3JCgj6N1yKoftAXej6h4usNN0izil1lRi8mt0BeV2wqRtt5ZwF6HoGA9q6PwB8BbJdJkuPGdos11PseGGK5dTAuOQ23HzZPPJHHHeul+NPgFPFfhl9TsbffrOnrujIbBkizl0OTjgEsO+Rgda5X9n6+8NX+mSaTNpdr/AG7ZyNdLcSwozSISMMjH5gVOBjtkEdTjO+P/AIDgsZofFWl2ciLcOV1Hylygcn5ZD/dLE4J6E47nm98C/hpdWd2nizWrUx5hzp8UnU7v+WuM5HGQAR0bPpXvlIyhlKsAVIwQRwRXyT8G3aP406YiMVVnuVYKcAjyZDg+2QD+FfTnjJFfwRryuoZf7OuOCM/8s2p3hD/kStB/7B1v/wCi1rZr/9k=\n",
      "text/plain": [
       "<IPython.core.display.Image object>"
      ]
     },
     "metadata": {},
     "output_type": "display_data"
    },
    {
     "data": {
      "image/jpeg": "/9j/4AAQSkZJRgABAQAAAQABAAD/2wBDAAgGBgcGBQgHBwcJCQgKDBQNDAsLDBkSEw8UHRofHh0aHBwgJC4nICIsIxwcKDcpLDAxNDQ0Hyc5PTgyPC4zNDL/wAALCAAXABcBAREA/8QAHwAAAQUBAQEBAQEAAAAAAAAAAAECAwQFBgcICQoL/8QAtRAAAgEDAwIEAwUFBAQAAAF9AQIDAAQRBRIhMUEGE1FhByJxFDKBkaEII0KxwRVS0fAkM2JyggkKFhcYGRolJicoKSo0NTY3ODk6Q0RFRkdISUpTVFVWV1hZWmNkZWZnaGlqc3R1dnd4eXqDhIWGh4iJipKTlJWWl5iZmqKjpKWmp6ipqrKztLW2t7i5usLDxMXGx8jJytLT1NXW19jZ2uHi4+Tl5ufo6erx8vP09fb3+Pn6/9oACAEBAAA/APO/ir4gvb74sapeJLJBLp9yILZkfBi8o4DKRgg7gW9iar+PfiLf+O7vS55oDaf2fDsQLLuy5ILSZwME4X8q+lvhPreq+IPh3p2oaw/mXTF0EpXBkVWIDH1PHX2rx3xN8BvFF34zvX0prWTTbqZpkup5gvl7iWKuoBbIPGQCDweOcUfFvwG1fw14bm1i31KHUfsy+ZcQpEYykYBLMCSdwGPbjmu8/Z78XwX3h2XwvcSEXtizSwKRw0DEHg55IYtngcMvXmvaabIiSxtHIoZGBVlI4IPavlu3gs/hT8eQrG6k0233sqxlTI0ckLYBGQDhiP8AvnNf/9k=\n",
      "text/plain": [
       "<IPython.core.display.Image object>"
      ]
     },
     "metadata": {},
     "output_type": "display_data"
    },
    {
     "data": {
      "image/jpeg": "/9j/4AAQSkZJRgABAQAAAQABAAD/2wBDAAgGBgcGBQgHBwcJCQgKDBQNDAsLDBkSEw8UHRofHh0aHBwgJC4nICIsIxwcKDcpLDAxNDQ0Hyc5PTgyPC4zNDL/wAALCAAXABIBAREA/8QAHwAAAQUBAQEBAQEAAAAAAAAAAAECAwQFBgcICQoL/8QAtRAAAgEDAwIEAwUFBAQAAAF9AQIDAAQRBRIhMUEGE1FhByJxFDKBkaEII0KxwRVS0fAkM2JyggkKFhcYGRolJicoKSo0NTY3ODk6Q0RFRkdISUpTVFVWV1hZWmNkZWZnaGlqc3R1dnd4eXqDhIWGh4iJipKTlJWWl5iZmqKjpKWmp6ipqrKztLW2t7i5usLDxMXGx8jJytLT1NXW19jZ2uHi4+Tl5ufo6erx8vP09fb3+Pn6/9oACAEBAAA/APPvEHiTxR4R+LOr6o0ssWpLdyErLu2SJyqZBI3JtI29sYxXU+DPjt4ql8UWlpq6Q6jaXt0sRjjgCSRB2AGzaPmxnoQSemecj6XrE8TeH/DmtadJJ4j0+yntreNnaa4UAwoPmYh+qj5ecEdK+U/GVpo3g3x7a3/g/VrbULSOSO9t9sglEDq+fLYjqAVyO+CAcnk+z6d8ebGTTLR7zSLg3TQoZjCVCbyo3bQSSBnOMmvTvEGmNrXhrVdKSQRPe2c1ssjDIUuhXJHtmvmfxD8AvFWi2Vxe2txYajbwrvKxyGOTaBlmKsAuBg9GJPpXMw6drsUMcf8AZYOxQufPTnA+tf/Z\n",
      "text/plain": [
       "<IPython.core.display.Image object>"
      ]
     },
     "metadata": {},
     "output_type": "display_data"
    }
   ],
   "source": [
    "words.reverse()\n",
    "for word in words:\n",
    "    showarray(word)"
>>>>>>> bd57b4512b97cdd941a556532deb1ef09b42dde5
   ]
  },
  {
   "cell_type": "code",
<<<<<<< HEAD
   "execution_count": 189,
=======
   "execution_count": 429,
   "metadata": {},
   "outputs": [
    {
     "data": {
      "image/jpeg": "/9j/4AAQSkZJRgABAQAAAQABAAD/2wBDAAgGBgcGBQgHBwcJCQgKDBQNDAsLDBkSEw8UHRofHh0aHBwgJC4nICIsIxwcKDcpLDAxNDQ0Hyc5PTgyPC4zNDL/wAALCAAUABwBAREA/8QAHwAAAQUBAQEBAQEAAAAAAAAAAAECAwQFBgcICQoL/8QAtRAAAgEDAwIEAwUFBAQAAAF9AQIDAAQRBRIhMUEGE1FhByJxFDKBkaEII0KxwRVS0fAkM2JyggkKFhcYGRolJicoKSo0NTY3ODk6Q0RFRkdISUpTVFVWV1hZWmNkZWZnaGlqc3R1dnd4eXqDhIWGh4iJipKTlJWWl5iZmqKjpKWmp6ipqrKztLW2t7i5usLDxMXGx8jJytLT1NXW19jZ2uHi4+Tl5ufo6erx8vP09fb3+Pn6/9oACAEBAAA/AOD8bfGPxL4wWS0RxpmmMf8Aj1tmO5x/tv1b6DA6cV9AfBvVJdW+FujzXN4bq5j82GVmfcy7ZGCq3uE2de2D3rynw98eJrDxXr97rpvLrT7kn7DaW+1lhKkhQCSMAr1IHJ5xXtXgzx1pPjbQv7UsfMt1WUwyRXGFZXABI4OCMMMH+XSuY+LXgTQdT8F63qVtpVnFrFrC159phjCSHB3OXwRuyquPmz3xzXF/Cz4qeGfCHw2Fnq0oS9huZSltaW7GWdSVO5j93d8xGSR8qAdufNtavPhtJfvJpOkeJVt3G4I97DEI2yflAKSEr05LZrM0Lxx4i8M2L2Wkah9nt3kMrJ5Mb5YgAnLKT0UV9feOYftHw/8AEMZkdAdNnyyEZwIycc9j0Psa8n8A/Brwp4n8AaNqt8t6t5OJJJXhnwH+YqFIIIAGMjGD6k16bonw08G+HiW0/wAP2gkJz5s6mdwcY4aQkrwT0xWtB4Z0K1jMcOj2KqXZyPIU/MzFieR6k1//2Q==\n",
      "text/plain": [
       "<IPython.core.display.Image object>"
      ]
     },
     "metadata": {},
     "output_type": "display_data"
    },
    {
     "data": {
      "image/jpeg": "/9j/4AAQSkZJRgABAQAAAQABAAD/2wBDAAgGBgcGBQgHBwcJCQgKDBQNDAsLDBkSEw8UHRofHh0aHBwgJC4nICIsIxwcKDcpLDAxNDQ0Hyc5PTgyPC4zNDL/wAALCAAWABABAREA/8QAHwAAAQUBAQEBAQEAAAAAAAAAAAECAwQFBgcICQoL/8QAtRAAAgEDAwIEAwUFBAQAAAF9AQIDAAQRBRIhMUEGE1FhByJxFDKBkaEII0KxwRVS0fAkM2JyggkKFhcYGRolJicoKSo0NTY3ODk6Q0RFRkdISUpTVFVWV1hZWmNkZWZnaGlqc3R1dnd4eXqDhIWGh4iJipKTlJWWl5iZmqKjpKWmp6ipqrKztLW2t7i5usLDxMXGx8jJytLT1NXW19jZ2uHi4+Tl5ufo6erx8vP09fb3+Pn6/9oACAEBAAA/AOj8c/E3VPCHxX0jSPMtBot1DAbnz0x5QeVlaQMCCMKvfI68Vz/wehOi/GDxdoy3ZniELyb04R9sq4YjPUCQ469TXMeBPCth8U9O8T3Gq6wkvi+d1ktzNuBiUYJkwCFZWzswAdgUYHIFWPg9BJ4J+M95oOtARXkltJZIQfkL5SRTk44ZU44ydy8c17PN8K/CT+KrXxHDp72uoQXH2k/ZpWRJHHQsvTrz8uMnrnJzwn7QWhRQQ6J4nsSbbVUvUtfPicoxyGdDkc5UocEHIz34x//Z\n",
      "text/plain": [
       "<IPython.core.display.Image object>"
      ]
     },
     "metadata": {},
     "output_type": "display_data"
    },
    {
     "data": {
      "image/jpeg": "/9j/4AAQSkZJRgABAQAAAQABAAD/2wBDAAgGBgcGBQgHBwcJCQgKDBQNDAsLDBkSEw8UHRofHh0aHBwgJC4nICIsIxwcKDcpLDAxNDQ0Hyc5PTgyPC4zNDL/wAALCAAeACIBAREA/8QAHwAAAQUBAQEBAQEAAAAAAAAAAAECAwQFBgcICQoL/8QAtRAAAgEDAwIEAwUFBAQAAAF9AQIDAAQRBRIhMUEGE1FhByJxFDKBkaEII0KxwRVS0fAkM2JyggkKFhcYGRolJicoKSo0NTY3ODk6Q0RFRkdISUpTVFVWV1hZWmNkZWZnaGlqc3R1dnd4eXqDhIWGh4iJipKTlJWWl5iZmqKjpKWmp6ipqrKztLW2t7i5usLDxMXGx8jJytLT1NXW19jZ2uHi4+Tl5ufo6erx8vP09fb3+Pn6/9oACAEBAAA/AOi8D6xPq/7O9+Ipbua+tNPvLYu+4uXCOUCnqcKyAY6Yx2rwCDxr4t0rT7fSbfXNSsra1dnjhilaIqW5OcYJHfByOT6mvpr4s6hrehfCq5utPvpY72LyUnu48I+CwVmGOhJI+70zxXl+lftD3+m+GtLs5tObUNRgYLd3FxLjzoxu6EDIfGz5iD0OQSc19F2NybywtroxmIzRLIYyQSuQDjI9M15x8BNWGo/DCC2EPlnTrmW2J3Z35Ik3dOP9ZjHPT3q98Z/DQ8R/De/KuEn03/T4iTgHy1O8Hgn7hfA4+bbzjNeZXfx+SHwbp+k2ujjUr4WMUN3Pqjb42kUAOSnWQHBOSw5POe/KXUnir4g6TBZaX8P9NtrZ5vNS70rSjArFVIIMpO3HtnqBW/Z6J8dLGxt7S0F/FbQRrFFGLmABEUYA+92AFej3FtF8DPhdcyaXBNqsxug7ySjCh3woZgPuqAqj3JHIzXCzv8aPiLEf9FOmaVdKbeSMhbaLYygMxVyZWUg9Ru747ivTfhf8NoPAejE3Qgn1mc5uJ4yWUAFgoTcARwxycDOfpXf0V8i+P/ir4l8R6pfWAvmttKivS0FvCgjOI2+Qsw5J4DYzjdyBwMfQ/wAKrvWNQ+Hel3ut3/226nUskpHzCPOFDHA3Ngck8nPU9a7Oiiv/2Q==\n",
      "text/plain": [
       "<IPython.core.display.Image object>"
      ]
     },
     "metadata": {},
     "output_type": "display_data"
    },
    {
     "data": {
      "image/jpeg": "/9j/4AAQSkZJRgABAQAAAQABAAD/2wBDAAgGBgcGBQgHBwcJCQgKDBQNDAsLDBkSEw8UHRofHh0aHBwgJC4nICIsIxwcKDcpLDAxNDQ0Hyc5PTgyPC4zNDL/wAALCAAWABUBAREA/8QAHwAAAQUBAQEBAQEAAAAAAAAAAAECAwQFBgcICQoL/8QAtRAAAgEDAwIEAwUFBAQAAAF9AQIDAAQRBRIhMUEGE1FhByJxFDKBkaEII0KxwRVS0fAkM2JyggkKFhcYGRolJicoKSo0NTY3ODk6Q0RFRkdISUpTVFVWV1hZWmNkZWZnaGlqc3R1dnd4eXqDhIWGh4iJipKTlJWWl5iZmqKjpKWmp6ipqrKztLW2t7i5usLDxMXGx8jJytLT1NXW19jZ2uHi4+Tl5ufo6erx8vP09fb3+Pn6/9oACAEBAAA/AOW8W/Eu8k+Mw1O21e9TR7C8jhWOCUhTCrJ5oAGAwcoTz1+XPQY9e0v45+DdW1mz0yF76OS7k8tJZoAsasfuhjuyMnjOMeuBzXpVeH2H7NumQaylxe69NdaeshY2i23ls69lMm8+2SACecY6iv8AFn4T6Lovgwav4V0lre5sJhJPslkkJh53HDFs7TtOeyhuwr1XwL4qh8Z+D7DWY9iyypsuI1I/dzLw4xk4GeRk52lT3ro6a6LJGyOMqwII9q+e/gLomvXugatd2PiBtOszdLEIViEuZFXLNtbheGQZHJxz0Ff/2Q==\n",
      "text/plain": [
       "<IPython.core.display.Image object>"
      ]
     },
     "metadata": {},
     "output_type": "display_data"
    },
    {
     "data": {
      "image/jpeg": "/9j/4AAQSkZJRgABAQAAAQABAAD/2wBDAAgGBgcGBQgHBwcJCQgKDBQNDAsLDBkSEw8UHRofHh0aHBwgJC4nICIsIxwcKDcpLDAxNDQ0Hyc5PTgyPC4zNDL/wAALCAAZAB8BAREA/8QAHwAAAQUBAQEBAQEAAAAAAAAAAAECAwQFBgcICQoL/8QAtRAAAgEDAwIEAwUFBAQAAAF9AQIDAAQRBRIhMUEGE1FhByJxFDKBkaEII0KxwRVS0fAkM2JyggkKFhcYGRolJicoKSo0NTY3ODk6Q0RFRkdISUpTVFVWV1hZWmNkZWZnaGlqc3R1dnd4eXqDhIWGh4iJipKTlJWWl5iZmqKjpKWmp6ipqrKztLW2t7i5usLDxMXGx8jJytLT1NXW19jZ2uHi4+Tl5ufo6erx8vP09fb3+Pn6/9oACAEBAAA/AF8e/tATW99c6V4VtYisRkglvrj59zAld0IRsY4DBiTnP3RjngPhSNW1/wAay6ML+9FrqkMrX8iMzHKqzxysc5BWXYQ2QcnGfmOcaXxX4u8Oa/qiJr+qR3pd4Ll5Zn3ybQUywYn5gOh6rxgjFeofAbxd4r1jxTdadfajeajpot2mla6kMpifKhSHbkZ5G3OOpxwTXoenfBTwVp2uTan9hkuvM34tbphJBHu7hSM8cgZJxn1wR5z8IdFk8LfHLxBoskbr5FpPHHvYEmPzYmRiR1yu09uv4V6940+H+i+M9IvLa4tbaC/nUbNRS3Rpo2GMHcRkjgAjIyOMjrXiX7POoLpfjrU9GvE8m4urYqqyZVvMjbJTbjrgsfbYa+mKxPEF7o3hqzu/FOoWieZawCOS5itw8/llhhAQM7dxBxnHc461494h/aSi8kJ4a0VzKTzLqWAoHH8CNz3/AIhjA6548i0q18T+NvGU9xo0U0msXUkty72zeUEJyWO7ICDnHJHUDvX2zRXxH47/AOSieJP+wrdf+jWr64+H3/JOvDf/AGDYP/QBX//Z\n",
      "text/plain": [
       "<IPython.core.display.Image object>"
      ]
     },
     "metadata": {},
     "output_type": "display_data"
    },
    {
     "data": {
      "image/jpeg": "/9j/4AAQSkZJRgABAQAAAQABAAD/2wBDAAgGBgcGBQgHBwcJCQgKDBQNDAsLDBkSEw8UHRofHh0aHBwgJC4nICIsIxwcKDcpLDAxNDQ0Hyc5PTgyPC4zNDL/wAALCAAbABMBAREA/8QAHwAAAQUBAQEBAQEAAAAAAAAAAAECAwQFBgcICQoL/8QAtRAAAgEDAwIEAwUFBAQAAAF9AQIDAAQRBRIhMUEGE1FhByJxFDKBkaEII0KxwRVS0fAkM2JyggkKFhcYGRolJicoKSo0NTY3ODk6Q0RFRkdISUpTVFVWV1hZWmNkZWZnaGlqc3R1dnd4eXqDhIWGh4iJipKTlJWWl5iZmqKjpKWmp6ipqrKztLW2t7i5usLDxMXGx8jJytLT1NXW19jZ2uHi4+Tl5ufo6erx8vP09fb3+Pn6/9oACAEBAAA/APL9G8YeKPhxqOqaZp928OHlglt5l3Isn3fMC5wHGBg+wByOK7j4KeOfFF749j0y91DUtUs7uJjKs0plEO0EiTLZ2jscEZ3DqcCvpesnU/C+g6xI0uo6Jpt3ORjzbi0jkYcY6sM9h+QrwL4Yz2fwy+K+teHtfkt4WdfIiv5iEAGQ6eoUSKVbBYYIAPNfQFx4j0O0uHguda06GZDh45LpFZT7gnIrjfGfxl8M+EhNbRS/2nqkbFDZ25wEYEgh3xhcFSCOW6cY5r5b1e7tNe8Tz3On6fb6RbXk48u2WQmKDOAeccDOTwABngAACvZdM/Zvmn02CW78VRxzuu5ltbcyxYJ4KsWUkEYPQVzMWg6Zrf7Rt/pGo23nWNxqF20sXmMu47JH6qQR8wzwa+kNK8K6Do+mNZabpNpaQywCGXyYwrSJjHzOPmY8nkknknOa2q//2Q==\n",
      "text/plain": [
       "<IPython.core.display.Image object>"
      ]
     },
     "metadata": {},
     "output_type": "display_data"
    },
    {
     "data": {
      "image/jpeg": "/9j/4AAQSkZJRgABAQAAAQABAAD/2wBDAAgGBgcGBQgHBwcJCQgKDBQNDAsLDBkSEw8UHRofHh0aHBwgJC4nICIsIxwcKDcpLDAxNDQ0Hyc5PTgyPC4zNDL/wAALCAATABsBAREA/8QAHwAAAQUBAQEBAQEAAAAAAAAAAAECAwQFBgcICQoL/8QAtRAAAgEDAwIEAwUFBAQAAAF9AQIDAAQRBRIhMUEGE1FhByJxFDKBkaEII0KxwRVS0fAkM2JyggkKFhcYGRolJicoKSo0NTY3ODk6Q0RFRkdISUpTVFVWV1hZWmNkZWZnaGlqc3R1dnd4eXqDhIWGh4iJipKTlJWWl5iZmqKjpKWmp6ipqrKztLW2t7i5usLDxMXGx8jJytLT1NXW19jZ2uHi4+Tl5ufo6erx8vP09fb3+Pn6/9oACAEBAAA/AOK8f/FnxZq/iK5toLy70W2sp5Io7a1kaGThiP3pVjl+ACM7RjgdSfU/BXiHX/GXwO1CWPUL+PWdPW4t1uINrzXTLFuQcqTkh1XK/OSud2Sa8k8D/FrVfBXhvVNKiWW5MyD7AXlGyzc7tzBSDnJYNjpke5r1fwz8doJvDtk+saFrdzqGwrNNY2atDIQSMqS46gDPHBziqPx1+G9zqjS+L9Oa2QWtp/psPlkSSBScOCAdxCkA5xgIOew5nwD4g1rR/gxqtr4csNXm1q51QmCWz055kjTbFuYvtKdFZccsCQcDrTfhn8ErvXZI9W8TxzWenRykCxkRo5rjb65wUQnjPU4OMcGvpOysbPTLOOzsLSC1tY87IYIxGi5OThRwOST+NZ3i+NZfBWvRuMo+nXCsPUGNq5j4KWVvafCrSXgj2NceZNKck7n3lc89OFHT0r0Civ/Z\n",
      "text/plain": [
       "<IPython.core.display.Image object>"
      ]
     },
     "metadata": {},
     "output_type": "display_data"
    },
    {
     "data": {
      "image/jpeg": "/9j/4AAQSkZJRgABAQAAAQABAAD/2wBDAAgGBgcGBQgHBwcJCQgKDBQNDAsLDBkSEw8UHRofHh0aHBwgJC4nICIsIxwcKDcpLDAxNDQ0Hyc5PTgyPC4zNDL/wAALCAAZABQBAREA/8QAHwAAAQUBAQEBAQEAAAAAAAAAAAECAwQFBgcICQoL/8QAtRAAAgEDAwIEAwUFBAQAAAF9AQIDAAQRBRIhMUEGE1FhByJxFDKBkaEII0KxwRVS0fAkM2JyggkKFhcYGRolJicoKSo0NTY3ODk6Q0RFRkdISUpTVFVWV1hZWmNkZWZnaGlqc3R1dnd4eXqDhIWGh4iJipKTlJWWl5iZmqKjpKWmp6ipqrKztLW2t7i5usLDxMXGx8jJytLT1NXW19jZ2uHi4+Tl5ufo6erx8vP09fb3+Pn6/9oACAEBAAA/AOB+LniPUL74r39wGntZNLkW2tDt8t4xGchgRzyxZw3ow6cCvpfwf410PxZYRjTtYt728iiU3CIpjcNgBm8tuQue/I5618xfGa8t734sa5JbSLIiPHEzL03pGqsPwYEfUV0H7Q2h/wBn+PLfU4rfZDqVqrNJnh5UO1uM8YXy/Qc+uaxbvwd4w+Fw0XxcDANzLIPIdm8okA+XNwOGBKnBIPIz0z6F46+EGq+P/E7+LNA1XTW0/VLeCeP7SZI2A8tVGAEOQQqnnB5Ixxk+ffFrx9d+NfEK2klilpbaXLLFDH1l3HaH3kEqfmTjAHB716/4OstS+InwMn0nXYpxdlXhtbi7VkMm0BoZc9WAJAz32nOec5nwa+Imh6V8PodL1i/trKazuZY41kmVWdGO/dgkfxOw/Csz4mf8nEeE/wDrpYf+lBr6DryXwP8A8fnjH/sZr3+a1//Z\n",
      "text/plain": [
       "<IPython.core.display.Image object>"
      ]
     },
     "metadata": {},
     "output_type": "display_data"
    },
    {
     "data": {
      "image/jpeg": "/9j/4AAQSkZJRgABAQAAAQABAAD/2wBDAAgGBgcGBQgHBwcJCQgKDBQNDAsLDBkSEw8UHRofHh0aHBwgJC4nICIsIxwcKDcpLDAxNDQ0Hyc5PTgyPC4zNDL/wAALCAAZACQBAREA/8QAHwAAAQUBAQEBAQEAAAAAAAAAAAECAwQFBgcICQoL/8QAtRAAAgEDAwIEAwUFBAQAAAF9AQIDAAQRBRIhMUEGE1FhByJxFDKBkaEII0KxwRVS0fAkM2JyggkKFhcYGRolJicoKSo0NTY3ODk6Q0RFRkdISUpTVFVWV1hZWmNkZWZnaGlqc3R1dnd4eXqDhIWGh4iJipKTlJWWl5iZmqKjpKWmp6ipqrKztLW2t7i5usLDxMXGx8jJytLT1NXW19jZ2uHi4+Tl5ufo6erx8vP09fb3+Pn6/9oACAEBAAA/AOQ0zxHcaP8AH69ubTVorSxn1uVbqSWbZBJD5jbtxzg8E7SeAcGvovSPH3hTXtQSw0zXbO5u3BKQq+GbHJwDjJxzgdgT2rP+IfxG074faZDLcRPdX1zuFtaqdu/bjcWbBCgZHuc8Drj5/wBD+N3imy8YNq+p3st3YXEmbjT1wI1TBAEQOdmM54OWI+YnJNfVUN7FdW0F1aA3FvPGsscsTKVZWGQRk9xg181a18DPFd/4+1BLOxs7XR7i8llhullQRRRMSyrsHzDAIXAXGR6c1n+KPA2p/BrxJoOvQXrajarcBxNHG0HzqQWiYgsAHXI68jfxxz774q8CeGviRa6beXzSyJGnmW1xaShd8bgHrg5U8Efp1NYHxc8E2d38Knt9LtIIBoi/abdFXG2NAfMUHr93LHrkqO/I0Pgx4gGv/DPTs7vO0/NhJuAA/dgbcY6jYyfjnr1Op8MtdPiL4daLfvJLJOLcQTPK252kj+RmJ7kld2fej4k+FH8ZeB77SYEiN4dstq0vAWRTnr2JG5c/7VeW2vxduPhpoVt4R1fQGn1vTNsMix3CpD5RQMjbxuJbDLkYx79q4fWPiN4/+JYbR7WFjC8f72y0u3bEgGcliSzY5wRnbwOM13fgf4P+MrXw6pk8YX3h15pDKbC1BfGQAGch1AYgDjngDnOQNv8AZx/5J5qH/YVk/wDRUVewV8h/HD/kresf7sH/AKJSvefgf/ySPRv96f8A9HPXodf/2Q==\n",
      "text/plain": [
       "<IPython.core.display.Image object>"
      ]
     },
     "metadata": {},
     "output_type": "display_data"
    },
    {
     "data": {
      "image/jpeg": "/9j/4AAQSkZJRgABAQAAAQABAAD/2wBDAAgGBgcGBQgHBwcJCQgKDBQNDAsLDBkSEw8UHRofHh0aHBwgJC4nICIsIxwcKDcpLDAxNDQ0Hyc5PTgyPC4zNDL/wAALCAAeACQBAREA/8QAHwAAAQUBAQEBAQEAAAAAAAAAAAECAwQFBgcICQoL/8QAtRAAAgEDAwIEAwUFBAQAAAF9AQIDAAQRBRIhMUEGE1FhByJxFDKBkaEII0KxwRVS0fAkM2JyggkKFhcYGRolJicoKSo0NTY3ODk6Q0RFRkdISUpTVFVWV1hZWmNkZWZnaGlqc3R1dnd4eXqDhIWGh4iJipKTlJWWl5iZmqKjpKWmp6ipqrKztLW2t7i5usLDxMXGx8jJytLT1NXW19jZ2uHi4+Tl5ufo6erx8vP09fb3+Pn6/9oACAEBAAA/APf68t+KHxYn8Aa9pVhbafHdpNEZ7oSEqdm7aoRgeD8r5yCPu+9eefGLxnqUuteD/EOiyvZwNp32u0uIz84kdv3kbEEqdoVAVx3IOc4rntB+Lnif/hP7XVL/AFa4FjcXafabNXZoFiZsMERicYBOO/Ar62orx79oPwomqeEovEEES/a9LcCVgOXgc4I4GTtYqRkgAFz3p3wo0rw/44+D+n6frGnx340+aa3YzL80beZ5g2ODuUbWQcEdMdK8o8aeFbT4dfFexkuLV5NAa8ivI1Me5WhEgLxDJO7aPlwTkjGetfWkciTRJLE6vG6hldTkMD0IPcVX1DUrHSrRrrUby3s7ZSA01xKI0BJwMknFc9491LQx8ONVudSuYn065s2Ebo4PnFlynlnoSTgjH16V5P8As/8Ai3S9H0LWbDWNW0+whW5SeEXM6RM7Mu18biMj5E6dPxrO+LnxZ8O+MdBOiaVZXM7R3IkS9mURqNuRlByxyCRyF69K7P4M+LrqL4ewQazb6vN5Mzx2csWnXE6tAAMfOqsDht6jngKB2r5s1PUZ9X1W81K6YG4u5nnkIGBuZixwO3JNM+33n9nf2d9rn+w+b5/2bzD5fmYxv25xuxxnrivp4fADww/he00yae6F9C/mvqEWxXdioDLjbymRkA5K+vJzL4Q+BPhzw9dz3WqBdZl80m2W5T93FHyAGTo7c8kjHTAGM16jDDFbQRwQRJFDEoSONFCqigYAAHAAHav/2Q==\n",
      "text/plain": [
       "<IPython.core.display.Image object>"
      ]
     },
     "metadata": {},
     "output_type": "display_data"
    },
    {
     "data": {
      "image/jpeg": "/9j/4AAQSkZJRgABAQAAAQABAAD/2wBDAAgGBgcGBQgHBwcJCQgKDBQNDAsLDBkSEw8UHRofHh0aHBwgJC4nICIsIxwcKDcpLDAxNDQ0Hyc5PTgyPC4zNDL/wAALCAAfAC0BAREA/8QAHwAAAQUBAQEBAQEAAAAAAAAAAAECAwQFBgcICQoL/8QAtRAAAgEDAwIEAwUFBAQAAAF9AQIDAAQRBRIhMUEGE1FhByJxFDKBkaEII0KxwRVS0fAkM2JyggkKFhcYGRolJicoKSo0NTY3ODk6Q0RFRkdISUpTVFVWV1hZWmNkZWZnaGlqc3R1dnd4eXqDhIWGh4iJipKTlJWWl5iZmqKjpKWmp6ipqrKztLW2t7i5usLDxMXGx8jJytLT1NXW19jZ2uHi4+Tl5ufo6erx8vP09fb3+Pn6/9oACAEBAAA/AOP0P43+IdH8Wajqc7Tajpt7K7/2dcXDYhBYlBGxzs25xgDBHbOCMXQPiP4h07xy2tQXcyrfX/2i7sonPlTBnyyBTuxwdoOCRxit/wCOXifVrv4gvpUk6xwaOR9mMClCC6rJuJyTuAKjOcfLkAZNek/CH4tWmuaZb6F4gv1j1uJhDBJOcfa14C/MesmeCDy3BGSTiz8UvipqHgLxVo9pbWC3Fo8DT3Ku23zQW2hVbBKldpPvuHpXpul6hDq+k2WpW4cQXcCXEYcYYK6hhkdjg146f2btGbW2nOuXa6WWLC0SIeYoxwBKSRwf9npx15rzvxV4Pj+FPxO0O7eSefRhdw3kMpUF9kcil07Asox6Z3DpW5+0VpDDXtJ8Q26RPZXtqITPEMhnUlgWIGDlGXac5IU9hXm7eGtT0zwlpvjO3v7YQS3hgj+zTN59vMu4jdgDacJuGDnBU969P+Ms9v4x8BeGPG9lbsN+YLgo24RE/wADcZ4dXAOBnPuK9Z+GWrWfij4caJdNDA0lvALWSPIkMbx/Ic/3SwVWx6MOvWu1rzj41+FJfE3gOWSztWuNQsHE8KpncV6OAB1OOce3FeCah4y8U+MPANl4cj02a5stGQSXNzbwFzsUERlyowgVcjPfGSetZ2l+HfF1x4M1S7tdFubjQyqyySyBgqMrf62NcjcwCspYBtqs2cdaoN4t1mTwfH4UMynS0uPPWMRgNu54yOSMknHrXpPw48IfFqz068Gh3J0G1eVS0Wpx7fMfHLKjRsRxgE4GeOTt4+maK+cPg0l1pHxq8QaQbkMiLcxTCKMRRyNHMAGEY4XvgDoCQK+j6qHStOIQGwtcR3BukHkr8sxJJkHHDnc3zdeT61br/9k=\n",
      "text/plain": [
       "<IPython.core.display.Image object>"
      ]
     },
     "metadata": {},
     "output_type": "display_data"
    },
    {
     "data": {
      "image/jpeg": "/9j/4AAQSkZJRgABAQAAAQABAAD/2wBDAAgGBgcGBQgHBwcJCQgKDBQNDAsLDBkSEw8UHRofHh0aHBwgJC4nICIsIxwcKDcpLDAxNDQ0Hyc5PTgyPC4zNDL/wAALCAAjACcBAREA/8QAHwAAAQUBAQEBAQEAAAAAAAAAAAECAwQFBgcICQoL/8QAtRAAAgEDAwIEAwUFBAQAAAF9AQIDAAQRBRIhMUEGE1FhByJxFDKBkaEII0KxwRVS0fAkM2JyggkKFhcYGRolJicoKSo0NTY3ODk6Q0RFRkdISUpTVFVWV1hZWmNkZWZnaGlqc3R1dnd4eXqDhIWGh4iJipKTlJWWl5iZmqKjpKWmp6ipqrKztLW2t7i5usLDxMXGx8jJytLT1NXW19jZ2uHi4+Tl5ufo6erx8vP09fb3+Pn6/9oACAEBAAA/AOh+M3wtvfGH2fWtCSN9Ut08mW3ZtpnjzxhmIUFcng4yCeeAD5h8CrCNPizHHfiS3u7OCcxwujBvNA2MpH8JCs/X0x1r6toopk00VtBJPPKkUMal5JHYKqKBkkk9AB3r5W8SeM9C0v4u2fjbwrcG8ikImurZoWiKMVKSL8y9WUk5GeSTXudp8YvAV4INviGGNpm2BZopI9pwCdxK4Uc9ScHnBOK7gEEAg5B6EUtfJ3xf8Ua1F8S9fsrTX70WPyQmC3unWLb5SB0KhsddwYeuciovgm9td+NpfD+oQRXGn6zZy288Eqkhto8wEEcgjYSD27c4IofEjwtouj/EH+wPCks11v2I8Lvu8q4dz+6VsDIAKdSSCSCcg46v4kfEDxh4fhtvBIRtKWztLdJLuGdnmugFHzCXavynABwM5VhkjIrr/wBnzxbqut2msaXquoSXf2QxS27TsXkw5feCx5IBC4z0yfw5XwJ8NNRu/iFrNl418PXlxBPbzZvim2ISsynzFfgEkE425IJ6YBxk+MPBWs/BvxNY+IdGuvPsRMRa3EijcjFW/dyAdSV3cjAPPA6V3Xwr+E91FrMHjXxJdWd9JcRLeWsShnIlkw/mPkABhk4AB5OQQVFe3tGjsjMilkOVJHKnGOPTgmvnXwrJb/DH476xpVxMkGlXKSeWAruFRsSxjjJyo+XJz39Qa+jKqalpdhrFm1nqVlb3lsxDGKeMOpI6HBq2AAMDgUV87fGbTbNfizpEv2dWa7si8+/5g5UOo4PHAUdPSv/Z\n",
      "text/plain": [
       "<IPython.core.display.Image object>"
      ]
     },
     "metadata": {},
     "output_type": "display_data"
    },
    {
     "data": {
      "image/jpeg": "/9j/4AAQSkZJRgABAQAAAQABAAD/2wBDAAgGBgcGBQgHBwcJCQgKDBQNDAsLDBkSEw8UHRofHh0aHBwgJC4nICIsIxwcKDcpLDAxNDQ0Hyc5PTgyPC4zNDL/wAALCAASABABAREA/8QAHwAAAQUBAQEBAQEAAAAAAAAAAAECAwQFBgcICQoL/8QAtRAAAgEDAwIEAwUFBAQAAAF9AQIDAAQRBRIhMUEGE1FhByJxFDKBkaEII0KxwRVS0fAkM2JyggkKFhcYGRolJicoKSo0NTY3ODk6Q0RFRkdISUpTVFVWV1hZWmNkZWZnaGlqc3R1dnd4eXqDhIWGh4iJipKTlJWWl5iZmqKjpKWmp6ipqrKztLW2t7i5usLDxMXGx8jJytLT1NXW19jZ2uHi4+Tl5ufo6erx8vP09fb3+Pn6/9oACAEBAAA/APOtB+J+o+HviBqnia1hY2+pTzS3Gnmb5H3ligLbeSjMCCACcEcBjWj8Gtc1Kz8X6kLS8me+utOuZLe0fLJfXSqXRZPyY7sqeMbvmIPuWkfBbwVpOr3Go/2c160rsyQXpWSGENn5VTABAzgbtxGBznmvJPiv4et/hv8AEXRvEeiQpBa3EouUtYjsVJImXeq4GAjBl456txjAr6cryH9o0f8AFu7L/sKR/wDoqWv/2Q==\n",
      "text/plain": [
       "<IPython.core.display.Image object>"
      ]
     },
     "metadata": {},
     "output_type": "display_data"
    },
    {
     "data": {
      "image/jpeg": "/9j/4AAQSkZJRgABAQAAAQABAAD/2wBDAAgGBgcGBQgHBwcJCQgKDBQNDAsLDBkSEw8UHRofHh0aHBwgJC4nICIsIxwcKDcpLDAxNDQ0Hyc5PTgyPC4zNDL/wAALCAAWADsBAREA/8QAHwAAAQUBAQEBAQEAAAAAAAAAAAECAwQFBgcICQoL/8QAtRAAAgEDAwIEAwUFBAQAAAF9AQIDAAQRBRIhMUEGE1FhByJxFDKBkaEII0KxwRVS0fAkM2JyggkKFhcYGRolJicoKSo0NTY3ODk6Q0RFRkdISUpTVFVWV1hZWmNkZWZnaGlqc3R1dnd4eXqDhIWGh4iJipKTlJWWl5iZmqKjpKWmp6ipqrKztLW2t7i5usLDxMXGx8jJytLT1NXW19jZ2uHi4+Tl5ufo6erx8vP09fb3+Pn6/9oACAEBAAA/AOf+JXxs1DXb1tP8L3Vzp+mwSHF3DI0ctzjvxgouc4HUjrjoLviDWvEGq/s22F7q2oNK8+pCJJEdt80C71CzE/eO9T9QqE85rjYPi/4ytNC03SrXUvJXT2zHcBd0rjDAK+4lWUBsAEfwr6V7TJf6z8W/gXcNYGCHVpT5csKSYWVo3BKZP3CwAIB9QCcHNeT/APC3tXHwvh8PpqOoR6zFecXySEM1rgnaZN27duOOAPlAGfXX0L48eK9E8ObdT00am0xdbPULnKAlQMg4GJNpK5wQeeTyK5GD4reLofFb6/8A2rOZJJQ8tqHPkMgI+TYcgDAxnr3znmvsiORJoklidXjcBlZTkMD0IPcV434j+CHhTXNFuda8NrcwXM9qbmzggnXyJGZdy8EEgHjgEDnjArwrw1o3iTxxdW3hzTZri5htgZlgkuMRWyFgHcKxwOWBOOTnvX0VqHg/wJ4C+GV5pOrzwQw3UWya9ljDzzTH7rKoySVPIUcDGT3NeIfDv4ral8PrW+s4rSO+s7jMiQu+zy5sAb8gEkYABXjOBgjnOl4J+Guu/EHxXJq2vWVzaaZcSG8ubh42g+0eYSw8nKkNknPHAHcZFfSs/hLw/daJBo1xpFnLp8BBigeFdqkDG4DHB5PPufWuL+J/w407VPh3LbaJp9rZz6YDdW6QQhd4VTuQbR1YfXJAz615d4U+Oer+HvC9hpB0cXwtEMa3EkjZZdx2j6AYUewr6G8KaRJoHhLSdJndHms7SOGRkJKlwoDYJAOM5xx0rze3+HV5pPx3bXNMvYrbT7uGa4miRm8wM6MrcEFW/eEPg8D04FeXf8K18XeMvHGu6Zca1a3eo6WUE9xeTyEOGyVC/KSB7YAHavffCPwr8KeDLmK806zkl1CNWQXl1IXkwx5wOEU44yqg4yM8nPaUUVmXfhvQr+6e5vNF065uHxvlmtUd2wMDJIyeABX/2Q==\n",
      "text/plain": [
       "<IPython.core.display.Image object>"
      ]
     },
     "metadata": {},
     "output_type": "display_data"
    },
    {
     "data": {
      "image/jpeg": "/9j/4AAQSkZJRgABAQAAAQABAAD/2wBDAAgGBgcGBQgHBwcJCQgKDBQNDAsLDBkSEw8UHRofHh0aHBwgJC4nICIsIxwcKDcpLDAxNDQ0Hyc5PTgyPC4zNDL/wAALCAApACwBAREA/8QAHwAAAQUBAQEBAQEAAAAAAAAAAAECAwQFBgcICQoL/8QAtRAAAgEDAwIEAwUFBAQAAAF9AQIDAAQRBRIhMUEGE1FhByJxFDKBkaEII0KxwRVS0fAkM2JyggkKFhcYGRolJicoKSo0NTY3ODk6Q0RFRkdISUpTVFVWV1hZWmNkZWZnaGlqc3R1dnd4eXqDhIWGh4iJipKTlJWWl5iZmqKjpKWmp6ipqrKztLW2t7i5usLDxMXGx8jJytLT1NXW19jZ2uHi4+Tl5ufo6erx8vP09fb3+Pn6/9oACAEBAAA/APf6KpavpNlruk3Ol6jCJrS5QpIhOMj2I6EHnPtXzZDoFr8NP2hNIs/9IOnPNGbWSRlZ2WZDHkkYGBIWB6HC557/AFBRRRRXkXx18GT6tosHijSyU1LRwXkaPIdoQd2QRzlDlh0wCx64rpPA3xM0XxR4YgvLvUrK01CKDdewSzLGYyvDPgnhCeQe2QDXaW1zb3ttHc2s8U8Eqho5YnDK4PQgjgivFPGXx8fw/wCNpNM0uwt7/TbT91dM5ZHeUE7gjgkYHyjleobtg103xB+Kr+DLXw/qFnpQ1HT9URpWl83YNu1SoVgCMncDzxgHHXI3fH3jRfCHgefXrWFLx22JbDd+7LP91iR1XHPHXpkZyPAPhn8QvEE3xQ05tX8Q3klrfztHcRzSlomZwdoCfdX59oG0DHTgZrd+N/w98L+GbFNb015LK8vLjYtjGAYX4JZlHVAPbI5AAGa1vg94Q8St4Ja5TVtS0eG5uWmhiRYgJUKIBJh42POOOcEAEDnJ5a4/Z/16w8Oatqt/qVpHLZRSyw20KtIZ1TcTk8bchcqMHqM7Tmuo8H6WPit8DToVxcxjU9JnMVnLIeUKrmPdg52FWKZx0HQla6v4W3lr4w+GreHNetI5Z9Lb+z72ynXDKIyPL3LnI+6Bk4+ZGx0rj/jR8MNL0bw9B4i8NWKWJspAt2kJI3IxAVxluCrYHAyd+f4a53QNP8RfHbxFay61NHb6VpMKxTzQAgnJzhQxOZHxy3QAZx0B+n0RIo1jjVURQFVVGAAOgAqhoev6V4k01dR0e+ivLVjt3xn7pwDtYHlTgjggHkV8/an42tvhF418Vab4btRe/bWikC3RdUs5RuLLjrICHBzlew5xk5PhbUfHHgm81D4hXvh+7uNP1Hf9p3sIVd5G3iQpgkLuPDbQPmwDzzjar4l8afF3X00+JZZlcqyWNtuEEIBxvb0xv5dvX6Cvo34X+CJvAfhH+zLm5S4up52uZzGPkViqrtU9SAFHJ967SvKP2e/+Sbyf9f8AJ/6ClUPjd/yEtH/65SfzWvZqx9G/5CniH/sIJ/6SwVsUV//Z\n",
      "text/plain": [
       "<IPython.core.display.Image object>"
      ]
     },
     "metadata": {},
     "output_type": "display_data"
    },
    {
     "data": {
      "image/jpeg": "/9j/4AAQSkZJRgABAQAAAQABAAD/2wBDAAgGBgcGBQgHBwcJCQgKDBQNDAsLDBkSEw8UHRofHh0aHBwgJC4nICIsIxwcKDcpLDAxNDQ0Hyc5PTgyPC4zNDL/wAALCAAdABoBAREA/8QAHwAAAQUBAQEBAQEAAAAAAAAAAAECAwQFBgcICQoL/8QAtRAAAgEDAwIEAwUFBAQAAAF9AQIDAAQRBRIhMUEGE1FhByJxFDKBkaEII0KxwRVS0fAkM2JyggkKFhcYGRolJicoKSo0NTY3ODk6Q0RFRkdISUpTVFVWV1hZWmNkZWZnaGlqc3R1dnd4eXqDhIWGh4iJipKTlJWWl5iZmqKjpKWmp6ipqrKztLW2t7i5usLDxMXGx8jJytLT1NXW19jZ2uHi4+Tl5ufo6erx8vP09fb3+Pn6/9oACAEBAAA/AO78Y+OtAn1e9+H0l3c2mqX1q0KXeNkMEsiExhnDBs8r0BB3AE9QOQ+AWsXthqOveCdSldpdPdpIY+CkRVykoB68synHTqeO/uTMFUsxAUDJJ7V5Hc/tFeELe6mhSy1edY3ZBLHFHtcA43DLg4PXkCvKvjpq+k6p8RjLpEoaW2gFteOkRQ/aI5HBySAWIG0buRgDB4qHwB40u5vjRpuuai5STUZhbXItVEayl0EallBAI37Hb3GcZxX1D4p0mfXfCmraTbTLDNeWskCSNnaCykc45x6+1fOcP7OnjKWCOR7zRoWdQxie4kLISOh2xkZHTgke5rX+FfgnxB4R+Kc1nrnh+ae0ntZrdr0Rl7YA4YPvIwQwTbg4Pz8gcitX4j/Be1sUn8UeE4Y43s/9Jl0t4hJFJtbcxUMcYAySmCCBgDsangb43X2lWenW3jS3nawuI2+zaoql5JMSbSXGfmVfmBIBb5RwSSa9iTx54QkjV18U6LhgCN1/ED+ILZFUZzJ4P1PR7e3uru707UrsWS2t3MZTbMUZw6SNlyP3bAqxb7wwVC4O9rWqf2Ppwu/J87NxBBt3bf8AWSpHnOD03598Y4rzTxN4A0fxBY2vhPT4l0yHRb8NBMVM+UljeZ0AJBALY7n7oryab4xS+dJ9l8E+EIrfcfKjfTizImeASGAJA7gD6Cv/2Q==\n",
      "text/plain": [
       "<IPython.core.display.Image object>"
      ]
     },
     "metadata": {},
     "output_type": "display_data"
    },
    {
     "data": {
      "image/jpeg": "/9j/4AAQSkZJRgABAQAAAQABAAD/2wBDAAgGBgcGBQgHBwcJCQgKDBQNDAsLDBkSEw8UHRofHh0aHBwgJC4nICIsIxwcKDcpLDAxNDQ0Hyc5PTgyPC4zNDL/wAALCAAUABQBAREA/8QAHwAAAQUBAQEBAQEAAAAAAAAAAAECAwQFBgcICQoL/8QAtRAAAgEDAwIEAwUFBAQAAAF9AQIDAAQRBRIhMUEGE1FhByJxFDKBkaEII0KxwRVS0fAkM2JyggkKFhcYGRolJicoKSo0NTY3ODk6Q0RFRkdISUpTVFVWV1hZWmNkZWZnaGlqc3R1dnd4eXqDhIWGh4iJipKTlJWWl5iZmqKjpKWmp6ipqrKztLW2t7i5usLDxMXGx8jJytLT1NXW19jZ2uHi4+Tl5ufo6erx8vP09fb3+Pn6/9oACAEBAAA/AOQ+J3xR1LxFq2nrYpq2hyWKD7RavOyFbgHOcDH3ezEA+wr3vwt4xi2W3h7xLqtkPF0EcS3ltGCpZ3G5QvGHbaVLbMqDnoK7OvE/2gvBiX+j2viLTtPml1GGURXLW8e7dBtY73wM/KVAB7BjntjwltXsT4GttJEdyNSg1OW6Eo2iPynijXH94tuj9gBnrnj3/wCEWoeP7/wHDMDp9zbCZ0tpdTmkEpjGBwVU5UNuAJOeMdAK9E8GXV3qHg3TLrULl7u5nh3yyyIilsk9lAHA46du55rxX4ffDzw94l+JPjM6las9to+qMtvaRkJCVaSYYZQOg2LgAgcYORxX0LBBFbQRwQRJFDEoSOONQqooGAABwAB2r//Z\n",
      "text/plain": [
       "<IPython.core.display.Image object>"
      ]
     },
     "metadata": {},
     "output_type": "display_data"
    }
   ],
   "source": [
    "#Look for the bounding boxes over the words again to possible find characters. It will return the box of the entire word\n",
    "#when it does not find seperate characters in the word. \n",
    "#The character needs a minimum width of 15, height of 10 and maximum density of 55%\n",
    "characters = []\n",
    "temp = []\n",
    "for word in words:\n",
    "    res = wordSegmentation(word, kernelSize=3, sigma=1, theta=1, minArea=15) # fix parameters\n",
    "\n",
    "    for (j, w) in enumerate(res):\n",
    "        (charBox, charImg) = w\n",
    "        (x, y, w, h) = charBox\n",
    "        if (w > 15):\n",
    "            if( h > 15):\n",
    "                if( pixel_density(charImg) < 0.55):\n",
    "                    characters.append(charImg)\n",
    "\n",
    "for char in characters:\n",
    "    showarray(char)\n",
    "    #print(pixel_density(char))"
   ]
  },
  {
   "cell_type": "markdown",
   "metadata": {
    "inputHidden": false,
    "outputHidden": false
   },
   "source": [
    "##### word = words[2]\n",
    "h, w = word.shape\n",
    "num = 4\n",
    "chars = []\n",
    "for i in range(num):\n",
    "    part = math.floor(w / num)\n",
    "    char = word[:,part * i:(part * i) + part]\n",
    "    shape = cv2.resize(char,(32,48))\n",
    "    ret,thresh1 = cv2.threshold(shape,127,255,cv2.THRESH_BINARY)\n",
    "    chars.append(thresh1)"
   ]
  },
  {
   "cell_type": "code",
   "execution_count": 384,
   "metadata": {
    "inputHidden": false,
    "outputHidden": false
   },
   "outputs": [
    {
     "data": {
      "image/jpeg": "/9j/4AAQSkZJRgABAQAAAQABAAD/2wBDAAgGBgcGBQgHBwcJCQgKDBQNDAsLDBkSEw8UHRofHh0aHBwgJC4nICIsIxwcKDcpLDAxNDQ0Hyc5PTgyPC4zNDL/wAALCAAyAC0BAREA/8QAHwAAAQUBAQEBAQEAAAAAAAAAAAECAwQFBgcICQoL/8QAtRAAAgEDAwIEAwUFBAQAAAF9AQIDAAQRBRIhMUEGE1FhByJxFDKBkaEII0KxwRVS0fAkM2JyggkKFhcYGRolJicoKSo0NTY3ODk6Q0RFRkdISUpTVFVWV1hZWmNkZWZnaGlqc3R1dnd4eXqDhIWGh4iJipKTlJWWl5iZmqKjpKWmp6ipqrKztLW2t7i5usLDxMXGx8jJytLT1NXW19jZ2uHi4+Tl5ufo6erx8vP09fb3+Pn6/9oACAEBAAA/APejcQC5W2M0YuGQyLFuG4qCAWA64BIGfcVLWN4s8PxeKfC2o6LK4jF1EVWTaDsfqrY9iB/9avjLxL4V1jwlqjWGsWjQS8mN+qSqDjcp7jimX3ifW9T1i21e91O4n1C22GG4dsum1ty4PsTmva/hr8cYYNLurXxrqbNNE6/ZpzAzM6kEFTsU9CAcnk7u+K8V03xPq2l+KIfEcV00mpRzecZZiW8wnqG9QQSD7Gvc739pTT0sovsOgXUt0Yx5vnyLGivxkLjcWXrycH2rkJv2h/GDau93Bb6aloY9i2TwsyA5zvLBgxbHHULj+HPNeqeC/jL4c8Y2lxZ6z9l0q5EZ8yG7lXyZkOAcM2AeuNp5x6848E+KOu6Fr/jOSfw7ZRW2nQRLbqYoljWZlLEuFAGAc4GecAfQei/AvwJpeueH9R1DXdAhuo5J1W1muA3zAAhto6YB4yO+R2q38X/hDaCDVvGOl3n2dlX7Rc2jrlWbI3FCORnrg559AePEvC+hN4m8Tafoq3At2vJfLEpXcF464yM9Kh17TE0XX7/TI7pbpbSdofOVdofacE47VnV0XhDwhqfi7W7O0tLK7eze4SK5uooiywISNzE9AQuTgnnFfaGkaVaaHpNrplhEIrW2jEcagAdO5xxknJPuTTNd0xda8P6jpbMqC8tpIN7LuCllIDY74Jz+FfDY028bVhpQt2N8Z/s4h7+Zu27frniu40j4JeOdVujC+mJp6AZM17KFQdf7u4np2HevZtA+APhCwsk/teC41K7aNPN33LJGjgfNs2bTgn+9noOlejaJoWmeHNLj03SLOO0tI8lY0yeT1JJ5J9ySa0KqaVZyafo9lZSzm4kt7eOJ5m6yFVALHk9cZ6188fHjwPcaTry+MNLWUW10ym6aMH/R5hgB8gfKG45/vZ55Ar2H4Y+L28a+CLXUpyDexMbe7wuB5q45HGOVKtxwN2O1djRRRWN4u099V8G61YRwCeWexmSKI4+Zyh2jnvuxXz7+ztrd7beMrrRg1zJYXVq8jRIu5I5VK4kb+6MZXPcsoPbHZ+P/AI8J4d1e70XRNM+0Xlq7RTXF0cRq4HRVHLYPckdD161z3hn9oy//ALSji8S6damzkYK09mrK0Q/vFSW3D2GD/I/QtvPFdW0VxC4eKVA6MP4lIyD+VSUV5F8MUVPix8RVRQqi5j4AwPvSV8vu7SOzuxZ2OWZjkk+pptfdnhv/AJFbSP8Aryh/9AFf/9k=\n",
      "text/plain": [
       "<IPython.core.display.Image object>"
      ]
     },
     "metadata": {},
     "output_type": "display_data"
    },
    {
     "data": {
      "image/jpeg": "/9j/4AAQSkZJRgABAQAAAQABAAD/2wBDAAgGBgcGBQgHBwcJCQgKDBQNDAsLDBkSEw8UHRofHh0aHBwgJC4nICIsIxwcKDcpLDAxNDQ0Hyc5PTgyPC4zNDL/wAALCAAjABoBAREA/8QAHwAAAQUBAQEBAQEAAAAAAAAAAAECAwQFBgcICQoL/8QAtRAAAgEDAwIEAwUFBAQAAAF9AQIDAAQRBRIhMUEGE1FhByJxFDKBkaEII0KxwRVS0fAkM2JyggkKFhcYGRolJicoKSo0NTY3ODk6Q0RFRkdISUpTVFVWV1hZWmNkZWZnaGlqc3R1dnd4eXqDhIWGh4iJipKTlJWWl5iZmqKjpKWmp6ipqrKztLW2t7i5usLDxMXGx8jJytLT1NXW19jZ2uHi4+Tl5ufo6erx8vP09fb3+Pn6/9oACAEBAAA/AOWPx88Wt4qN6tzEmkG4yLBoEIWLOMFwN5OOc569scVqfHXxZqq+KtGbS9WaPT/sKXdo9nMVJLsfnJXr9xcckYHHU13fwO+IF34r0e60rV7qW41Swwyyuo/eQkADJHVgQck8nIOSc45TxH8f9d0bxPq2lw6Tp7xWV7Nbo7l8sEcqCeevFeO+LNCl8M+LNU0aUEfZbhkQn+JOqN1OMqVOM96xq9q/Zx1uGy8Tapo8rIrajAjxZPLNFuO0f8Bdj/wGvWdQ+DngbVNSutQu9Id7m6meeZxdSjc7EsxwGwOSeleFfHXw3/YfxAkvIoJUtdTT7QruzMGkz+8AJ9Dg7e24dBgV7Pb+H9C+JPwntriPSdPW9utPZYJmh2eRcAbSQwG4KJE7dQOQQcV8/wDgjUIfAHxXtZtb3BNNuZ7a5MI37W2vESPUAnP0H4V9kRyJLGskbBkcBlI7g15p8c/DL6/4BkubWzSe801/tCvkBkiA/eY9eACR32juBXGfs7eMJGe88J3TsyBftNnhBhBk+YCfqVI/4FXEfHDRrnTPiZf3UsSpBfqk8LJ0I2hTn0O5G/nXpPhrUvitD4W0iKw0a1ezSyhWBn8vJjCDaTlwc4x2r20gEEEZB6g15h4U8K6JpHxe12bT7BLd0g3IEZtql9hbC5wBknjGB2xXpc9tBcqFuIY5VByBIgYA/jUoGBgV/9k=\n",
      "text/plain": [
       "<IPython.core.display.Image object>"
      ]
     },
     "metadata": {},
     "output_type": "display_data"
    },
    {
     "data": {
      "image/jpeg": "/9j/4AAQSkZJRgABAQAAAQABAAD/2wBDAAgGBgcGBQgHBwcJCQgKDBQNDAsLDBkSEw8UHRofHh0aHBwgJC4nICIsIxwcKDcpLDAxNDQ0Hyc5PTgyPC4zNDL/wAALCAAqABoBAREA/8QAHwAAAQUBAQEBAQEAAAAAAAAAAAECAwQFBgcICQoL/8QAtRAAAgEDAwIEAwUFBAQAAAF9AQIDAAQRBRIhMUEGE1FhByJxFDKBkaEII0KxwRVS0fAkM2JyggkKFhcYGRolJicoKSo0NTY3ODk6Q0RFRkdISUpTVFVWV1hZWmNkZWZnaGlqc3R1dnd4eXqDhIWGh4iJipKTlJWWl5iZmqKjpKWmp6ipqrKztLW2t7i5usLDxMXGx8jJytLT1NXW19jZ2uHi4+Tl5ufo6erx8vP09fb3+Pn6/9oACAEBAAA/AMP9obxJcXvi230BHdbTT4lkZMkB5XGd2MYOFwAecZb1IrjrT4reM7Hw4mh22tSx2saGNJAB5qJ02iT7wA7Y5HGMYFdN8Mvix4ptfFel6TqF/Nqljf3cdu63cheRC7bQyucngsDg5BAxxnNfU1eRfGz4a6j4wjstW0ONZtQtEMUtuWCmWMnIKkkDKnPHcHrwAfnPVfC2v6Fbpcato19Ywu+xXuIGQM2M4BI64BrvvgR4Qh8R+MJNRu0Y22kCO4Uq2P3+/MffOPkY9COOetfVdFcR8WPCsvi7wDeWdpEsl/AVubZWIGWU8jJHBKlgOnOMnGa8C+CXiweGPHsdndyeVZaoPssxcsAkn/LMkDvu+XJ6BycgZr60orK13xLovhm1FzrWpW9lEwYp5rcvgZIVRyx9gCelfG3jW90i78cape+Gw0WmyXHmW5ClOeCWUdVBbJA4wCOB0rubT4yeNksoEOpxvtjUbnt0LHjqTjk1T8WfGLxrPq2rafBqctlai6ljjjjiWOWJAxAXeBuBA4znPFcPoXh7WfFmrfYdIs5L28cNIw3AcDqWZiAPqT1PvXsvgP8AZ/nMovPGaRrCUYCwimJcNngs6HHrwCeo/D3+1tobK0htbaJYoIUWOONBgIoGAAOwAFea6zoWkah8YLT7bpVjc+dCDL51uj7yI2Azkc9B19BXpcEENrbx29vEkUMSBI441CqigYAAHAAHapKK/9k=\n",
      "text/plain": [
       "<IPython.core.display.Image object>"
      ]
     },
     "metadata": {},
     "output_type": "display_data"
    },
    {
     "data": {
      "image/jpeg": "/9j/4AAQSkZJRgABAQAAAQABAAD/2wBDAAgGBgcGBQgHBwcJCQgKDBQNDAsLDBkSEw8UHRofHh0aHBwgJC4nICIsIxwcKDcpLDAxNDQ0Hyc5PTgyPC4zNDL/wAALCAAfABQBAREA/8QAHwAAAQUBAQEBAQEAAAAAAAAAAAECAwQFBgcICQoL/8QAtRAAAgEDAwIEAwUFBAQAAAF9AQIDAAQRBRIhMUEGE1FhByJxFDKBkaEII0KxwRVS0fAkM2JyggkKFhcYGRolJicoKSo0NTY3ODk6Q0RFRkdISUpTVFVWV1hZWmNkZWZnaGlqc3R1dnd4eXqDhIWGh4iJipKTlJWWl5iZmqKjpKWmp6ipqrKztLW2t7i5usLDxMXGx8jJytLT1NXW19jZ2uHi4+Tl5ufo6erx8vP09fb3+Pn6/9oACAEBAAA/APULH4m+FL3xFf6EdUhtr20m8nFw4RJmGAdjE4J3HbjrkHjFeYfH/V9Y0bxJ4b1HTLma2SOJ3inic4aQMDgjG0jGOucgnIx163wZpSfEPwdpniTXDD9uuEdGNvbqgbZIybmznLEgkkYHIGOMn5y8d39tqnjzXL2zKtby3khjZSCGGcZBHBBxnPvTNU8WXureFdG0C4ji8jSTKYpRuLv5jbiGyccdBjtX0z8CWu2+FGnC5SJYlmnFsUPLR+YxJb33lx9AK+SWVkYqwKsDggjBBpK+2vh/DokHgXSl8Ou7aU0bPB5j7mG52ZlY+oYsD6YxXO618EvCOueJP7ZmiuYC7eZPbQSBYp23Elm4yM552kdPXNU/it8JbXxZpz6jodpbwa9Fg5XCC6QAjYeQobphj6AE4xjz3wF4f+JFh4ddNKsJvsjXUuNuqrCNyt5bjaCejIwz3x6c1//Z\n",
      "text/plain": [
       "<IPython.core.display.Image object>"
      ]
     },
     "metadata": {},
     "output_type": "display_data"
    },
    {
     "data": {
      "image/jpeg": "/9j/4AAQSkZJRgABAQAAAQABAAD/2wBDAAgGBgcGBQgHBwcJCQgKDBQNDAsLDBkSEw8UHRofHh0aHBwgJC4nICIsIxwcKDcpLDAxNDQ0Hyc5PTgyPC4zNDL/wAALCAAcABgBAREA/8QAHwAAAQUBAQEBAQEAAAAAAAAAAAECAwQFBgcICQoL/8QAtRAAAgEDAwIEAwUFBAQAAAF9AQIDAAQRBRIhMUEGE1FhByJxFDKBkaEII0KxwRVS0fAkM2JyggkKFhcYGRolJicoKSo0NTY3ODk6Q0RFRkdISUpTVFVWV1hZWmNkZWZnaGlqc3R1dnd4eXqDhIWGh4iJipKTlJWWl5iZmqKjpKWmp6ipqrKztLW2t7i5usLDxMXGx8jJytLT1NXW19jZ2uHi4+Tl5ufo6erx8vP09fb3+Pn6/9oACAEBAAA/APOfiRoN14D+Jk7WzJGGmGo2LoigKpcsuF5ACspXB/u9MGvo/TPip4UuvDVhq17rNlZvcqoe3aYNJE54IKjJABB5I6V0ejeI9F8QwmXSNUtL1VGWEMoYryRyOo6HrXz94K1i9+Llnc+EtetrK5vbaykltdYnUmaEbgDkfxnLIP4eAScnr5z4w8Ca74HvY7fWLdAkufJuIW3xy464PX8CAfaqHhrWdV0LX7O90Z5RerKoSKPd+++YHyyFILBiAMd69B/Z6uJofiVJHFbNMk2nyxyuDgQruRtx9RuVV+rCun/aK8W2k8dn4Tg2yXEE63dywJ/dHYwVemOQ+evp615r8PfC2u6lr2la1YaVc3On2epQmeaJQQmxkdhjqSFIP41337OOnxf27qGpbn877NJBtyNu3dE2emc5964v4oaRbW3xk1SwjaXyZ7qJ2LPuYGVUZsE+7HHpxX0n8MdPi0r4d6XZQM7Rx+bguQTzK57Aetf/2Q==\n",
      "text/plain": [
       "<IPython.core.display.Image object>"
      ]
     },
     "metadata": {},
     "output_type": "display_data"
    },
    {
     "data": {
      "image/jpeg": "/9j/4AAQSkZJRgABAQAAAQABAAD/2wBDAAgGBgcGBQgHBwcJCQgKDBQNDAsLDBkSEw8UHRofHh0aHBwgJC4nICIsIxwcKDcpLDAxNDQ0Hyc5PTgyPC4zNDL/wAALCAAfABkBAREA/8QAHwAAAQUBAQEBAQEAAAAAAAAAAAECAwQFBgcICQoL/8QAtRAAAgEDAwIEAwUFBAQAAAF9AQIDAAQRBRIhMUEGE1FhByJxFDKBkaEII0KxwRVS0fAkM2JyggkKFhcYGRolJicoKSo0NTY3ODk6Q0RFRkdISUpTVFVWV1hZWmNkZWZnaGlqc3R1dnd4eXqDhIWGh4iJipKTlJWWl5iZmqKjpKWmp6ipqrKztLW2t7i5usLDxMXGx8jJytLT1NXW19jZ2uHi4+Tl5ufo6erx8vP09fb3+Pn6/9oACAEBAAA/AOr+GHhIfDjwDd63qvm/bpYGvJ4gzp5cYQMIyhO0uNp5IBBYr06+CfED4gal461yS4lkmi09CVtrTedqJkkFgOCxzyfYDtXYfAvx3qOn+LLbw5eXc02mXqtFDHI5YQScspUYOATkEDA+bJ6V9H/23p3/AD8f+ON/hUXiPQovEuhXOkXFzPb29ypSVoNu4qeo+YED/wCtXztqX7Onii3vGTTr/T7y2xlZZGaJj9Vwcfma4XSVuPBHxJsV1KRbaTTNRQXLp84VQ43kYByNuegz+NfZn9o6Z/z+Wn/f1f8AGqup+KNA0acQanren2UxGRHcXKI35E+4ryLxP+0VbWgu7TQNL8+7inMaXFy4aBlDEFwEOWBA45HXPbB8C1XUr3xDrdxqN1iW9vJd7+WmNzH0Ar0v/hD/ABL/ANADU/8AwFf/AArifGuja3pfjLU7PXJ/tWpK/myz7wfMDDIb2yCOO3TFdN4a+CPijxLpFlqsM1hb2d2u9DLKS4XJGSoB9M9a9i8EfA7QfDLWWoakz6jq8D+bvLYhRwTt2pjtxyc8jPHSvU6//9k=\n",
      "text/plain": [
       "<IPython.core.display.Image object>"
      ]
     },
     "metadata": {},
     "output_type": "display_data"
    },
    {
     "data": {
      "image/jpeg": "/9j/4AAQSkZJRgABAQAAAQABAAD/2wBDAAgGBgcGBQgHBwcJCQgKDBQNDAsLDBkSEw8UHRofHh0aHBwgJC4nICIsIxwcKDcpLDAxNDQ0Hyc5PTgyPC4zNDL/wAALCAAUABABAREA/8QAHwAAAQUBAQEBAQEAAAAAAAAAAAECAwQFBgcICQoL/8QAtRAAAgEDAwIEAwUFBAQAAAF9AQIDAAQRBRIhMUEGE1FhByJxFDKBkaEII0KxwRVS0fAkM2JyggkKFhcYGRolJicoKSo0NTY3ODk6Q0RFRkdISUpTVFVWV1hZWmNkZWZnaGlqc3R1dnd4eXqDhIWGh4iJipKTlJWWl5iZmqKjpKWmp6ipqrKztLW2t7i5usLDxMXGx8jJytLT1NXW19jZ2uHi4+Tl5ufo6erx8vP09fb3+Pn6/9oACAEBAAA/AOZ8d/HDW9eke00RrnSLF4TDPE2wyM2Tk7sbl4wMA1R+Cera+nxB0zTtPupnsWMjXFq8zCER7TubbyNw4xxycAkAk17N4q+B3hbxLqkmpp9p0+4kX547RlSN2AwDtKnaemcdeeMkmvBvBGs3Hw0+JUb6rYy7oGa1uoQh8wK3G5QcZPQj1H1zX2NXkvjL4baFq3xV0PUrlrvzNRkd7mNJQEcwIpXtkZAAOD06YPNf/9k=\n",
      "text/plain": [
       "<IPython.core.display.Image object>"
      ]
     },
     "metadata": {},
     "output_type": "display_data"
    },
    {
     "data": {
      "image/jpeg": "/9j/4AAQSkZJRgABAQAAAQABAAD/2wBDAAgGBgcGBQgHBwcJCQgKDBQNDAsLDBkSEw8UHRofHh0aHBwgJC4nICIsIxwcKDcpLDAxNDQ0Hyc5PTgyPC4zNDL/wAALCAAsACgBAREA/8QAHwAAAQUBAQEBAQEAAAAAAAAAAAECAwQFBgcICQoL/8QAtRAAAgEDAwIEAwUFBAQAAAF9AQIDAAQRBRIhMUEGE1FhByJxFDKBkaEII0KxwRVS0fAkM2JyggkKFhcYGRolJicoKSo0NTY3ODk6Q0RFRkdISUpTVFVWV1hZWmNkZWZnaGlqc3R1dnd4eXqDhIWGh4iJipKTlJWWl5iZmqKjpKWmp6ipqrKztLW2t7i5usLDxMXGx8jJytLT1NXW19jZ2uHi4+Tl5ufo6erx8vP09fb3+Pn6/9oACAEBAAA/APf65jx94RtvGvhK50mdgkoImt5dpby5VBwcAjPBI+hNfHvh/Wr3wr4ls9WtQEurKbdskTI9GUj3BI7HnqDX2xpuu6bqugQa5bXUf9nTQ+eJnYKqLjJ3HoMYIOehBz0qaw1TT9ViaXTr+1vI0baz28yyAHrglSea5/RPiV4Q8Q6sdL0zWYprzJCxlGTzCMn5SwAboelbuo61pWj+V/aep2Vl5ufL+0zrHvxjONxGcZH5ivF/it8I5vE14fFXhL7NO1xF5tzAkn/HwcDa8WBtJYZJ5GcAjJJrwrVfDeuaGpbVdIvrNBJ5XmTwMiFueAxGD0PQ9qn8I3urWPizS5NEmki1CS5SKHy2ALFmC7Tu4wc4549a+5K+KfiRcz3PxH8Q+fNJL5d/PGm9i21RI2FGegHpVz4dePrrwZrcfn3d8dEl3C7tLcglwVIBUEja2cfMCDx1qx8SPiZqPxA1EW6oYNIgmLWlsFw7dg78nL4PQcDOB3J9d+C/wsm8N58Q67A0eqSIUt7dwp8lCAdx6kOemOMDIPXjyPxD4x8d6B4mv9IuPEmsQtbXDR4lnOduflb3ypByOoOa+mNd1vT/AAx4Vh8Raky3kNnbBRKsSmWVn2DKFmGM9SO/4c/Hrpe+KfE0v2DTwbvULhnjtLVPlUsSdqjso/QCvoLwX8AdP0q60vVtavpLu6g2zSWYQCISdQCepCnH1xyMcV7TXzb+0hpEVr4i0jVo441a9geKQrnczRleSOnRwM+3sK8z1vxt4l8TWNpp+qanJcW1quyGFY0QY4AyEA3fdGM5x+Jr3D4RfB240K8tPE+vu0d+qlrexHBh3AjdIfXBPy9s888D26uB+J/xMtvh/p8CRRJdardZMNuzYCoDy745A7D1OfQ0z4t+EdL8T+HYJ77zlnspcwyQvggPgMCCCCDhT0zx165d4E+GfhTQNL0+/t9LSfUDGkxu7k+ZIG5IK54XGcfKB0GckZrv6K5X4geFNK8V+FLuDU4Sxt43mgmTAkiYDPykg9cYI7j8K//Z\n",
      "text/plain": [
       "<IPython.core.display.Image object>"
      ]
     },
     "metadata": {},
     "output_type": "display_data"
    },
    {
     "data": {
      "image/jpeg": "/9j/4AAQSkZJRgABAQAAAQABAAD/2wBDAAgGBgcGBQgHBwcJCQgKDBQNDAsLDBkSEw8UHRofHh0aHBwgJC4nICIsIxwcKDcpLDAxNDQ0Hyc5PTgyPC4zNDL/wAALCAAhABkBAREA/8QAHwAAAQUBAQEBAQEAAAAAAAAAAAECAwQFBgcICQoL/8QAtRAAAgEDAwIEAwUFBAQAAAF9AQIDAAQRBRIhMUEGE1FhByJxFDKBkaEII0KxwRVS0fAkM2JyggkKFhcYGRolJicoKSo0NTY3ODk6Q0RFRkdISUpTVFVWV1hZWmNkZWZnaGlqc3R1dnd4eXqDhIWGh4iJipKTlJWWl5iZmqKjpKWmp6ipqrKztLW2t7i5usLDxMXGx8jJytLT1NXW19jZ2uHi4+Tl5ufo6erx8vP09fb3+Pn6/9oACAEBAAA/AJP2iNR1PSdT8PXGn6jqFr5iSnEVwUj3IVKsFByGG85Pptx0NcTH8ePGcPh2DTIriAXMQC/2g8YkmZR0zuypOOCSCT9ea9J+C/xT1fxZqV1oevulzdJEbiG6WNUJUEAqyqAvcYPH417RXK+OfAOk+PtMhtNSMkUtu++C4hxvjzjcBnjBAGR7D0r5o+IvwtvPh6IJ5tUtLy1uZTHBtBSY4XJJQ5AA6cMeo6Zrqv2b3iHjDVVdkErWPyAkbj865xX0vQSACScAV498XfH/AIHufCt3oklxBq95cQs1t9jZZVt5RnY5cHCkMOQDnGcjB5+ctC1u/wDDms22q6bMYrq3cMpBIDeqtgjKnoR3FfRX/DQOlf8AQD1v/wAB0/8Ai68P8TfEDxd4gvrkanq93ErYjks4ZWjhG3t5YOOozz3qt4T8D6940u5LfR7QuI03PNJlYl9AWxgE84HfB9K9k0b9myCG5tJ9Y8QG4iXDXFpBbbNxxyok35xnvtBI9O3uX2OD/nn+pr5d8ff8l6g/6/oP/RlfSHhb/kCJ/vt/Otmiv//Z\n",
      "text/plain": [
       "<IPython.core.display.Image object>"
      ]
     },
     "metadata": {},
     "output_type": "display_data"
    },
    {
     "data": {
      "image/jpeg": "/9j/4AAQSkZJRgABAQAAAQABAAD/2wBDAAgGBgcGBQgHBwcJCQgKDBQNDAsLDBkSEw8UHRofHh0aHBwgJC4nICIsIxwcKDcpLDAxNDQ0Hyc5PTgyPC4zNDL/wAALCAAfABUBAREA/8QAHwAAAQUBAQEBAQEAAAAAAAAAAAECAwQFBgcICQoL/8QAtRAAAgEDAwIEAwUFBAQAAAF9AQIDAAQRBRIhMUEGE1FhByJxFDKBkaEII0KxwRVS0fAkM2JyggkKFhcYGRolJicoKSo0NTY3ODk6Q0RFRkdISUpTVFVWV1hZWmNkZWZnaGlqc3R1dnd4eXqDhIWGh4iJipKTlJWWl5iZmqKjpKWmp6ipqrKztLW2t7i5usLDxMXGx8jJytLT1NXW19jZ2uHi4+Tl5ufo6erx8vP09fb3+Pn6/9oACAEBAAA/APKfE+l3PgX4j3UCRSwfYb7z7QlhuMQfdEwI4+7j6HI4xivr/QfEuk+I9Kt9Q02+gnhnwoCvyr4yUI6hgMnBGcDNa1eV/GD4WyeNYItV0jyk1e1iZCjkqLlOoXPQMOQOmd3JAAr5g1HSdR0e4EGp2F1ZTMNypcRNGSM4yARyMg816h8MfirrXh7TLnTpx/aNrF5YtkmfHkD5sgHGSPu8E4GOMV9R14b+0hriwaPpGhqlu7XUj3EhY5kiCYCkDsG3MM/7J965z4L/AA0t/E+i6hquqy3EVs0qxW32dwGYqDvJyp4+ZQMeje1fStfL/wAeNG1Kf4n2pFum3UIoobMiQfvGBCkHONvzMBzx3z6fQvhLw5aeFPDFjo9nGEWGMeYc5LyEfOx56k5Pp2HFf//Z\n",
      "text/plain": [
       "<IPython.core.display.Image object>"
      ]
     },
     "metadata": {},
     "output_type": "display_data"
    },
    {
     "data": {
      "image/jpeg": "/9j/4AAQSkZJRgABAQAAAQABAAD/2wBDAAgGBgcGBQgHBwcJCQgKDBQNDAsLDBkSEw8UHRofHh0aHBwgJC4nICIsIxwcKDcpLDAxNDQ0Hyc5PTgyPC4zNDL/wAALCAAfAC0BAREA/8QAHwAAAQUBAQEBAQEAAAAAAAAAAAECAwQFBgcICQoL/8QAtRAAAgEDAwIEAwUFBAQAAAF9AQIDAAQRBRIhMUEGE1FhByJxFDKBkaEII0KxwRVS0fAkM2JyggkKFhcYGRolJicoKSo0NTY3ODk6Q0RFRkdISUpTVFVWV1hZWmNkZWZnaGlqc3R1dnd4eXqDhIWGh4iJipKTlJWWl5iZmqKjpKWmp6ipqrKztLW2t7i5usLDxMXGx8jJytLT1NXW19jZ2uHi4+Tl5ufo6erx8vP09fb3+Pn6/9oACAEBAAA/APKNV8Wa9a+Pb7WYtVuhfx3rMJfMPO1iFUjoVA424xjjGK+vtA8S6T4gtInsdUsLq48pHmitrhJDGWGcEAkjoevpWxXDePvijo/gCW0t7yC4uru4w4hhAG2PdgsSeOzYHcjBwDmvPviF8dIJdD04+CdUmhv5Jma432qkxxgEbW3qRkkgjbnockd+7+EXjXUPHHhOa91SOJbq2uWt2eIYEg2qwOOx+bH4V8iXInW6lF0JBcBz5olzv3Z53Z5zn1qzo+s6joGpw6lpd3La3cLBlkjbHfoR3B7g8HvX114S+ItjrPw3TxVqksFmIFdbwBjtR0OMDI5LDaQoz94Dk18uePPFs/jTxde6vIZVt3bZawuxPlRDhRjJAJxkgcbiTXNV9U/s+6VPp/w5a6mKFNQu5J4gpyQoAj598oa62b4b+DrnXZ9auPD1lPfTktK0ql0diMEmMnZk9c4znJ6nNY/xM+Hlh4j8DTWmmabaQ39knm2PlRrHjaOYwQOAyjGOmQvpXyJ5kqRtDvcITlkycZ9xSwQPc3EUEQ3SSuEUepJwK2vFXg/WvBup/YdYtfLcqGSRDujcH0bv0I/CvbPhD8VPDWkeBoNF1u+WxuLF3VC8bESozM+QVB5BJB6dq91orym7+Anhm98XzazNPcGymdppNOXCoZC2ThhghOvyjn3xxXRaN8J/Beg6x/aljoyfaFKtCJnaVYWXoyBicHODk5IPTFbninw3Z+LfDl5ot8XWG5UDemNyMCCGH0IH16V8maB8LvEXibVdZ07T1thPpE/kXInl24bc68YyDyjV/9k=\n",
      "text/plain": [
       "<IPython.core.display.Image object>"
      ]
     },
     "metadata": {},
     "output_type": "display_data"
    },
    {
     "data": {
      "image/jpeg": "/9j/4AAQSkZJRgABAQAAAQABAAD/2wBDAAgGBgcGBQgHBwcJCQgKDBQNDAsLDBkSEw8UHRofHh0aHBwgJC4nICIsIxwcKDcpLDAxNDQ0Hyc5PTgyPC4zNDL/wAALCAAtACIBAREA/8QAHwAAAQUBAQEBAQEAAAAAAAAAAAECAwQFBgcICQoL/8QAtRAAAgEDAwIEAwUFBAQAAAF9AQIDAAQRBRIhMUEGE1FhByJxFDKBkaEII0KxwRVS0fAkM2JyggkKFhcYGRolJicoKSo0NTY3ODk6Q0RFRkdISUpTVFVWV1hZWmNkZWZnaGlqc3R1dnd4eXqDhIWGh4iJipKTlJWWl5iZmqKjpKWmp6ipqrKztLW2t7i5usLDxMXGx8jJytLT1NXW19jZ2uHi4+Tl5ufo6erx8vP09fb3+Pn6/9oACAEBAAA/AOBvvGWqeEvjRrmsW1xK+zVZ454i+RNCspHlnOeNoAHpgY6VN8UPio3xBisbSDT2srS1dpCHkDtIxAA7DGPm+ufau1/Z78TX6x6zYaheH+xrC2WdWmPyW3zMTg9ACCxI/wBn61y3xM+MOpeKNQNhos8llpNrOWilgdlkuSrZSQnggcAhex5POMc/D8WvHUEEcKeIrorGoUFwrHAGOSRkn3NZ3jvwzc+EfGN/pNy6ybH8yKRT9+NuVJHY46j1z161inTr0WAvzZ3AsmbYLgxN5Zb03Yxn2r1T4KRtquj+N/DkJUXWpaaPJJYDlQ64wfeQVw114A8V2eq3OmS6HdteW0InliiUSERnowK5DDORxnkEVzdfc+teE9A8RvG+saRaXskYwryxgsBzxnrjk8e9aK2dsliLJII1tRH5QhVcKExjaAOgxxivlXxJo+q/BT4jW2oaU8klmxZ7WSbGJ4+N8T464yAeB2IA4r6g0bVtN8Q6bbaxps0VzBKh8uZRyAcZXnkcgZB9K4if4F+BLi4lmOnToZHLlY7l1VcnOAOw9q9IorB8XeE9N8ZaBPpepQqwYEwy/wAUMmOHU+369DXjPwL1m/8ADvi/VPA2sPJE5LGGCQ5CSpkuF5xhly3GQduc+v0JRRRXzt8fdJn0Lxho3jGxIVpNqMMniaI7lPXOCuBgY+56mvUdN+K3hi90u0uprp4JZ4UkeHyXby2ZQSuQuDjOM13FFFfPX7SWtMbvR9B8gbVQ3hm3ckksm3GP9nOc9686sdKupNPtnXVblFaJSEHReBxX/9k=\n",
      "text/plain": [
       "<IPython.core.display.Image object>"
      ]
     },
     "metadata": {},
     "output_type": "display_data"
    },
    {
     "data": {
      "image/jpeg": "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\n",
      "text/plain": [
       "<IPython.core.display.Image object>"
      ]
     },
     "metadata": {},
     "output_type": "display_data"
    },
    {
     "data": {
      "image/jpeg": "/9j/4AAQSkZJRgABAQAAAQABAAD/2wBDAAgGBgcGBQgHBwcJCQgKDBQNDAsLDBkSEw8UHRofHh0aHBwgJC4nICIsIxwcKDcpLDAxNDQ0Hyc5PTgyPC4zNDL/wAALCAAeABYBAREA/8QAHwAAAQUBAQEBAQEAAAAAAAAAAAECAwQFBgcICQoL/8QAtRAAAgEDAwIEAwUFBAQAAAF9AQIDAAQRBRIhMUEGE1FhByJxFDKBkaEII0KxwRVS0fAkM2JyggkKFhcYGRolJicoKSo0NTY3ODk6Q0RFRkdISUpTVFVWV1hZWmNkZWZnaGlqc3R1dnd4eXqDhIWGh4iJipKTlJWWl5iZmqKjpKWmp6ipqrKztLW2t7i5usLDxMXGx8jJytLT1NXW19jZ2uHi4+Tl5ufo6erx8vP09fb3+Pn6/9oACAEBAAA/APV/G3j7RfAVlb3Orm4drlysMFugaR8Y3EZIGBkZ57iuH8e61pvxO+D+p3fhu681rAx3dxbyDZJEqgswYE8ELuORkHaQCarfs4ax9q8LarpLby9jdLKMqAoSUHAB6k5Ric+o/Dlf2ivEOlarqukabY3kdxdaabhbtEyREzeXhSemflbIHTHOK4LwD4o03w3NrkeqwXclrqmlzWBNrtLoXxz8xA7f/WNeofsy/wDM0/8Abp/7WrxTxFpOpaJr15Y6rBLFdpK+4yJt3/MRvHYqcEgjj0q/H4D8US+GpvEK6NdDTIgHaVk2koQG3hTyyYOdwGMd+K9D/Z61rStK1nW4r4Mt1NbxtDKE3AIrHeuRyMloz/wGvo270jTb+ZJrzTrS5lQYV5oVdlHXgkcVbZQylWAKkYIPQ18s6p4I1rw98VdW0zw3f2lsXha6hMgJCQO4Ij5VuQcDPcDOecV//9k=\n",
      "text/plain": [
       "<IPython.core.display.Image object>"
      ]
     },
     "metadata": {},
     "output_type": "display_data"
    },
    {
     "data": {
      "image/jpeg": "/9j/4AAQSkZJRgABAQAAAQABAAD/2wBDAAgGBgcGBQgHBwcJCQgKDBQNDAsLDBkSEw8UHRofHh0aHBwgJC4nICIsIxwcKDcpLDAxNDQ0Hyc5PTgyPC4zNDL/wAALCAAYABsBAREA/8QAHwAAAQUBAQEBAQEAAAAAAAAAAAECAwQFBgcICQoL/8QAtRAAAgEDAwIEAwUFBAQAAAF9AQIDAAQRBRIhMUEGE1FhByJxFDKBkaEII0KxwRVS0fAkM2JyggkKFhcYGRolJicoKSo0NTY3ODk6Q0RFRkdISUpTVFVWV1hZWmNkZWZnaGlqc3R1dnd4eXqDhIWGh4iJipKTlJWWl5iZmqKjpKWmp6ipqrKztLW2t7i5usLDxMXGx8jJytLT1NXW19jZ2uHi4+Tl5ufo6erx8vP09fb3+Pn6/9oACAEBAAA/APLPAnju/wDA/iQakBcXUDbjcWn2kxrOxUgFjg5IJzyDVrQb7xv41+IaajpN3cNrcsgc3CkiOBAw+91AjHHykEHpgk4Ppv7Qfic2l5odrpGstDqFq8rzx2twVeLIjKbtp4PUjP1rd8EeP/G+oeDdNuT4Pl1clGX7cL5IvO2sVyVKkg8YJ7kE968d+Mfhm48O/ES/kaILaag5u7d1TapDfeH1DZB/A967PxV8WfC+meEZtC+HtpcadPOULXVvEIAgHU5+8zkKBn0Od2Rg8Z4F+GGv+O9ShuriK5t9JkYtNqEw++AedmfvsTkZ5AOc9MV9aaVpltouk2mmWSsttaxLDEGbJCqMDJ71yvxY8OHxL8PNStobM3N7CgntlSMNJvUgkJ3yQCOOTnFeLfATwZYa/r17qmq2sk0emGMwI6/umlO773HJXAOPevp5VVECqoVVGAAMAClr/9k=\n",
      "text/plain": [
       "<IPython.core.display.Image object>"
      ]
     },
     "metadata": {},
     "output_type": "display_data"
    },
    {
     "data": {
      "image/jpeg": "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\n",
      "text/plain": [
       "<IPython.core.display.Image object>"
      ]
     },
     "metadata": {},
     "output_type": "display_data"
    },
    {
     "data": {
      "image/jpeg": "/9j/4AAQSkZJRgABAQAAAQABAAD/2wBDAAgGBgcGBQgHBwcJCQgKDBQNDAsLDBkSEw8UHRofHh0aHBwgJC4nICIsIxwcKDcpLDAxNDQ0Hyc5PTgyPC4zNDL/wAALCAAfABcBAREA/8QAHwAAAQUBAQEBAQEAAAAAAAAAAAECAwQFBgcICQoL/8QAtRAAAgEDAwIEAwUFBAQAAAF9AQIDAAQRBRIhMUEGE1FhByJxFDKBkaEII0KxwRVS0fAkM2JyggkKFhcYGRolJicoKSo0NTY3ODk6Q0RFRkdISUpTVFVWV1hZWmNkZWZnaGlqc3R1dnd4eXqDhIWGh4iJipKTlJWWl5iZmqKjpKWmp6ipqrKztLW2t7i5usLDxMXGx8jJytLT1NXW19jZ2uHi4+Tl5ufo6erx8vP09fb3+Pn6/9oACAEBAAA/APSPHPxS0PwDe2dnqUF7cT3KGTbbIp2IDgE7mA5OeB6HOOM8f8YvEWmeJ/g//aGjXcV1ateQh2VsNGcE7SOzcjIOKT9nbxHf6roGq6TeSyTJprwmB5HLFUcMAgz0C+Xx9ccYrn/2lr62lv8Aw7YpMrXMEc8ksY6qrmMKT9djflXhFe//ALMv/M0/9un/ALWryf4ialqGqfEHXZdTlD3EV5LbgKcqixsUVV4HAA64Gep5Jqx45+H974IbT2lma7t7y3WUXCQMiKxz8meQWwM16F+zbq9rba1rekyFxc3sUUsOFypEe/cCex/eDH0P4+r+JvhP4T8WayurajaTLe+YjzSQzFfPVBgI4ORggAEjDcdRXR6zoGm65osul3tnBNbtE0aLImfLypXK9wQD1GDXzFpfw18S6J8WIPD9rqi2d4sbzQ6lBziIo3zbcggnlSO2T1HJ/9k=\n",
      "text/plain": [
       "<IPython.core.display.Image object>"
      ]
     },
     "metadata": {},
     "output_type": "display_data"
    },
    {
     "data": {
      "image/jpeg": "/9j/4AAQSkZJRgABAQAAAQABAAD/2wBDAAgGBgcGBQgHBwcJCQgKDBQNDAsLDBkSEw8UHRofHh0aHBwgJC4nICIsIxwcKDcpLDAxNDQ0Hyc5PTgyPC4zNDL/wAALCAAeABYBAREA/8QAHwAAAQUBAQEBAQEAAAAAAAAAAAECAwQFBgcICQoL/8QAtRAAAgEDAwIEAwUFBAQAAAF9AQIDAAQRBRIhMUEGE1FhByJxFDKBkaEII0KxwRVS0fAkM2JyggkKFhcYGRolJicoKSo0NTY3ODk6Q0RFRkdISUpTVFVWV1hZWmNkZWZnaGlqc3R1dnd4eXqDhIWGh4iJipKTlJWWl5iZmqKjpKWmp6ipqrKztLW2t7i5usLDxMXGx8jJytLT1NXW19jZ2uHi4+Tl5ufo6erx8vP09fb3+Pn6/9oACAEBAAA/AOP1G3vPgv8AFxLxYPtFllpIAMIJoHBBUddpUkj/AID6GvY7H48+BLmwjnuL64s5mBLW0trIzKQemVBU56jnvzjpW54K+Jfh7x488OlPcRXUK73trmMK+zIG4YJUjJA4OfWtTxT4R0bxjpTWGsWiyjawimAxJAxGNyN2PT2OBkGvmr4ifCaPwdpr6jpuspqMFrMtvexuoSSB2UMnAJyCCPfkdecV/gx4ffxF4tvLZLhYDHYtJuK7s/vEGOvvX1zXyT8dbm3uviheNbz20wSGONzAOVdRgq5zywP5DA6ivU/gH4JutA0i81rVLF7e9v8AasHmEbhBjPTquT1B/urxXrOpQ3VzpV5BZXItruWB0gnKhvKcqQrYPXBwce1fKng74bS6h8Tl0TWrmGSO1uHN15bM3neWfmUE4OGxjPXmvrRVVFCqoVVGAAMACv/Z\n",
      "text/plain": [
       "<IPython.core.display.Image object>"
      ]
     },
     "metadata": {},
     "output_type": "display_data"
    }
   ],
   "source": [
    "chars = characters\n",
    "for char in chars:\n",
    "    showarray(char)"
   ]
  },
  {
   "cell_type": "code",
   "execution_count": 385,
   "metadata": {
    "inputHidden": false,
    "outputHidden": false
   },
   "outputs": [],
   "source": [
    "fonts = []\n",
    "for item in class_names:\n",
    "    fonts.append(cv2.imread('habbakuk/' + item + '/standard.png'))"
   ]
  },
  {
   "cell_type": "code",
   "execution_count": 386,
   "metadata": {
    "inputHidden": false,
    "outputHidden": false
   },
   "outputs": [
    {
     "name": "stdout",
     "output_type": "stream",
     "text": [
      "(50, 45)\n"
     ]
    },
    {
     "ename": "ValueError",
     "evalue": "cannot reshape array of size 2250 into shape (48,32,1)",
     "output_type": "error",
     "traceback": [
      "\u001b[0;31m---------------------------------------------------------------------------\u001b[0m",
      "\u001b[0;31mValueError\u001b[0m                                Traceback (most recent call last)",
      "\u001b[0;32m<ipython-input-386-84d387937c79>\u001b[0m in \u001b[0;36m<module>\u001b[0;34m\u001b[0m\n\u001b[1;32m      4\u001b[0m     \u001b[0mprint\u001b[0m\u001b[0;34m(\u001b[0m\u001b[0mchar_pred\u001b[0m\u001b[0;34m.\u001b[0m\u001b[0mshape\u001b[0m\u001b[0;34m)\u001b[0m\u001b[0;34m\u001b[0m\u001b[0;34m\u001b[0m\u001b[0m\n\u001b[1;32m      5\u001b[0m     \u001b[0mchar_pred\u001b[0m \u001b[0;34m=\u001b[0m \u001b[0mnormalize\u001b[0m\u001b[0;34m(\u001b[0m\u001b[0mchar_pred\u001b[0m\u001b[0;34m)\u001b[0m\u001b[0;34m\u001b[0m\u001b[0;34m\u001b[0m\u001b[0m\n\u001b[0;32m----> 6\u001b[0;31m     \u001b[0mchar_pred\u001b[0m \u001b[0;34m=\u001b[0m \u001b[0mchar_pred\u001b[0m\u001b[0;34m.\u001b[0m\u001b[0mreshape\u001b[0m\u001b[0;34m(\u001b[0m\u001b[0;34m-\u001b[0m\u001b[0;36m1\u001b[0m\u001b[0;34m,\u001b[0m \u001b[0;36m48\u001b[0m\u001b[0;34m,\u001b[0m \u001b[0;36m32\u001b[0m\u001b[0;34m,\u001b[0m\u001b[0;36m1\u001b[0m\u001b[0;34m)\u001b[0m\u001b[0;34m\u001b[0m\u001b[0;34m\u001b[0m\u001b[0m\n\u001b[0m\u001b[1;32m      7\u001b[0m \u001b[0;34m\u001b[0m\u001b[0m\n\u001b[1;32m      8\u001b[0m     \u001b[0mprediction\u001b[0m \u001b[0;34m=\u001b[0m \u001b[0mmodel\u001b[0m\u001b[0;34m.\u001b[0m\u001b[0mpredict\u001b[0m\u001b[0;34m(\u001b[0m\u001b[0;34m[\u001b[0m\u001b[0mchar_pred\u001b[0m\u001b[0;34m]\u001b[0m\u001b[0;34m)\u001b[0m\u001b[0;34m\u001b[0m\u001b[0;34m\u001b[0m\u001b[0m\n",
      "\u001b[0;31mValueError\u001b[0m: cannot reshape array of size 2250 into shape (48,32,1)"
     ]
    }
   ],
   "source": [
    "for char in chars:\n",
    "#     char_pred = cv2.cvtColor(char, cv2.COLOR_BGR2GRAY)\n",
    "    char_pred = np.asarray(char[:], dtype='float32')\n",
    "    print(char_pred.shape)\n",
    "    char_pred = normalize(char_pred)\n",
    "    char_pred = char_pred.reshape(-1, 48, 32,1)\n",
    "\n",
    "    prediction = model.predict([char_pred])\n",
    "    for i in range(len(prediction)):\n",
    "        print('Predicted: ', prediction[i] * 100)\n",
    "    highest_index = np.argmax(prediction)\n",
    "    print('Index of class with highest probability: ',highest_index)\n",
    "    print('Value of highest probability: ', prediction[0][highest_index])\n",
    "    print('Name of predicted class: ', class_names[highest_index])\n",
    "    print('habbabuk/' + class_names[highest_index] + '/standard.png')\n",
    "    character_example = cv2.imread('habbakuk/' + str(class_names[highest_index]) + '/standard.png')\n",
    "    showarray(character_example)\n",
    "    showarray(char)"
   ]
  },
  {
   "cell_type": "code",
   "execution_count": 95,
   "metadata": {
    "inputHidden": false,
    "outputHidden": false
   },
   "outputs": [],
   "source": [
    "# for box in bounding_boxes:\n",
    "#     xStart = box[2]\n",
    "#     xEnd = box[0]\n",
    "#     y = box[1]\n",
    "#     winH = box[3] - y\n",
    "#     winWidth = 5\n",
    "#     while(xStart-winWidth >= xEnd) :\n",
    "#         hit = False\n",
    "#         winW = winWidth\n",
    "#         a = 0\n",
    "#         # While the image is not classified and the box has not reached the edge,\n",
    "#         # increase window size\n",
    "#         while(not hit and xStart-winW >= xEnd) :\n",
    "#             newX = xStart - winW\n",
    "#             # Draw the window\n",
    "#             clone = img.copy()\n",
    "#             cv2.rectangle(clone, (xStart, y), (newX, y + winH), (255, 0, 0), 2)\n",
    "#             cv2.rectangle(clone, (xStart,y),(xEnd,y + winH), (0,255,0), 2)\n",
    "#             cv2.imshow(\"Window\", clone)\n",
    "#             cv2.waitKey(0)\n",
    "#             # Check if the CNN returns a high probability for a letter\n",
    "#             # for prob in probabilities :\n",
    "#             #     if prob >= 0.75 :\n",
    "#             #         hit = True\n",
    "#             #         xStart = newX\n",
    "#             # # Increase size of window if nothing has been found\n",
    "#             winW += 5\n",
    "#             # this is done to ensure that the loop ends for now, because not\n",
    "#             # connected to cnn yet.\n",
    "#             hit = True\n",
    "#             xStart = newX"
   ]
  },
  {
   "cell_type": "code",
   "execution_count": 49,
>>>>>>> bd57b4512b97cdd941a556532deb1ef09b42dde5
   "metadata": {
    "inputHidden": false,
    "outputHidden": false
   },
   "outputs": [],
   "source": [
    "# def get_resized_img(img, video_size):\n",
    "#     width, height = video_size  # these are the MAX dimensions\n",
    "#     video_ratio = width / height\n",
    "#     img_ratio = img.size[0] / img.size[1]\n",
    "#     if video_ratio >= 1:  # the video is wide\n",
    "#         if img_ratio <= video_ratio:  # image is not wide enough\n",
    "#             width_new = int(height * img_ratio)\n",
    "#             size_new = width_new, height\n",
    "#         else:  # image is wider than video\n",
    "#             height_new = int(width / img_ratio)\n",
    "#             size_new = width, height_new\n",
    "#     else:  # the video is tall\n",
    "#         if img_ratio >= video_ratio:  # image is not tall enough\n",
    "#             height_new = int(width / img_ratio)\n",
    "#             size_new = width, height_new\n",
    "#         else:  # image is taller than video\n",
    "#             width_new = int(height * img_ratio)\n",
    "#             size_new = width_new, height\n",
    "#     return np.asarray(img.resize(size_new, resample=Image.LANCZOS))"
   ]
  },
  {
   "cell_type": "code",
   "execution_count": 190,
   "metadata": {
    "inputHidden": false,
    "lines_to_next_cell": 2,
    "outputHidden": false
   },
   "outputs": [],
   "source": [
    "# char = cv2.cvtColor(char, char, cv2.COLOR_BGR2GRAY)"
   ]
  },
  {
   "cell_type": "code",
   "execution_count": 7,
   "metadata": {
    "inputHidden": false,
    "lines_to_next_cell": 2,
    "outputHidden": false
   },
   "outputs": [
    {
     "ename": "NameError",
     "evalue": "name 'python' is not defined",
     "output_type": "error",
     "traceback": [
      "\u001b[0;31m---------------------------------------------------------------------------\u001b[0m",
      "\u001b[0;31mNameError\u001b[0m                                 Traceback (most recent call last)",
      "\u001b[0;32m<ipython-input-7-a4637bbefc43>\u001b[0m in \u001b[0;36m<module>\u001b[0;34m\u001b[0m\n\u001b[0;32m----> 1\u001b[0;31m \u001b[0mpython\u001b[0m \u001b[0;34m-\u001b[0m\u001b[0;34m-\u001b[0m\u001b[0mversion\u001b[0m\u001b[0;34m\u001b[0m\u001b[0;34m\u001b[0m\u001b[0m\n\u001b[0m",
      "\u001b[0;31mNameError\u001b[0m: name 'python' is not defined"
     ]
    }
   ],
   "source": []
  },
  {
   "cell_type": "code",
   "execution_count": null,
   "metadata": {
    "inputHidden": false,
    "lines_to_next_cell": 2,
    "outputHidden": false
   },
   "outputs": [],
   "source": []
  },
  {
   "cell_type": "code",
   "execution_count": null,
   "metadata": {
    "inputHidden": false,
    "outputHidden": false
   },
   "outputs": [],
   "source": []
  }
 ],
 "metadata": {
  "kernel_info": {
   "name": "python3"
  },
  "kernelspec": {
   "display_name": "hwr",
   "language": "python",
   "name": "hwr"
  },
  "language_info": {
   "codemirror_mode": {
    "name": "ipython",
    "version": 3
   },
   "file_extension": ".py",
   "mimetype": "text/x-python",
   "name": "python",
   "nbconvert_exporter": "python",
   "pygments_lexer": "ipython3",
   "version": "3.7.3"
  }
 },
 "nbformat": 4,
 "nbformat_minor": 2
}
