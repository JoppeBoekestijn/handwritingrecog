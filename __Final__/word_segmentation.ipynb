{
 "cells": [
  {
   "cell_type": "code",
   "execution_count": 2,
   "metadata": {
    "inputHidden": false,
    "outputHidden": false
   },
   "outputs": [
    {
     "name": "stderr",
     "output_type": "stream",
     "text": [
      "Using TensorFlow backend.\n"
     ]
    }
   ],
   "source": [
    "import numpy as np\n",
    "import cv2\n",
    "from matplotlib import pyplot as plt\n",
    "from skimage.data import page\n",
    "from skimage.filters import threshold_sauvola\n",
    "from sklearn.preprocessing import normalize\n",
    "\n",
    "import io\n",
    "from IPython.display import clear_output, Image, display\n",
    "import PIL.Image\n",
    "from keras.models import load_model\n",
    "import math\n",
    "import tensorflow as tf\n",
    "from skimage.color import rgb2gray"
   ]
  },
  {
   "cell_type": "code",
   "execution_count": 3,
   "metadata": {},
   "outputs": [],
   "source": [
    "from util.WordSegmentation import wordSegmentation, prepareImg\n",
    "from keras.backend.tensorflow_backend import set_session\n",
    "config = tf.ConfigProto(\n",
    "    gpu_options = tf.GPUOptions(per_process_gpu_memory_fraction=0.8)\n",
    "    # device_count = {'GPU': 1}\n",
    ")\n",
    "config.gpu_options.allow_growth = True\n",
    "session = tf.Session(config=config)\n",
    "set_session(session)"
   ]
  },
  {
   "cell_type": "code",
   "execution_count": 4,
   "metadata": {},
   "outputs": [],
   "source": [
    "class_names = [\n",
    "    \"Alef\",\n",
    "    \"Ayin\",\n",
    "    \"Bet\",\n",
    "    \"Dalet\",\n",
    "    \"Gimel\",\n",
    "    \"He\",\n",
    "    \"Het\",\n",
    "    \"Kaf\",\n",
    "    \"Kaf-final\",\n",
    "    \"Lamed\",\n",
    "    \"Mem\",\n",
    "    \"Mem-medial\",\n",
    "    \"Nun-final\",\n",
    "    \"Nun-medial\",\n",
    "    \"Pe\",\n",
    "    \"Pe-final\",\n",
    "    \"Qof\",\n",
    "    \"Resh\",\n",
    "    \"Samekh\",\n",
    "    \"Shin\",\n",
    "    \"Taw\",\n",
    "    \"Tet\",\n",
    "    \"Tsadi-final\",\n",
    "    \"Tsadi-medial\",\n",
    "    \"Waw\",\n",
    "    \"Yod\",\n",
    "    \"Zayin\"\n",
    "]"
   ]
  },
  {
   "cell_type": "code",
   "execution_count": 5,
   "metadata": {
    "inputHidden": false,
    "outputHidden": false
   },
   "outputs": [],
   "source": [
    "def showarray(a, fmt='jpeg'):\n",
    "    a = np.uint8(np.clip(a, 0, 255))\n",
    "    f = io.BytesIO()\n",
    "    PIL.Image.fromarray(a).save(f, fmt)\n",
    "    display(Image(data=f.getvalue()))"
   ]
  },
  {
   "cell_type": "code",
   "execution_count": 22,
   "metadata": {
    "inputHidden": false,
    "lines_to_next_cell": 2,
    "outputHidden": false
   },
   "outputs": [
    {
     "name": "stdout",
     "output_type": "stream",
     "text": [
      "_________________________________________________________________\n",
      "Layer (type)                 Output Shape              Param #   \n",
      "=================================================================\n",
      "conv2d_1 (Conv2D)            (None, 44, 28, 6)         156       \n",
      "_________________________________________________________________\n",
      "max_pooling2d_1 (MaxPooling2 (None, 22, 14, 6)         0         \n",
      "_________________________________________________________________\n",
      "batch_normalization_1 (Batch (None, 22, 14, 6)         24        \n",
      "_________________________________________________________________\n",
      "activation_1 (Activation)    (None, 22, 14, 6)         0         \n",
      "_________________________________________________________________\n",
      "conv2d_2 (Conv2D)            (None, 18, 10, 16)        2416      \n",
      "_________________________________________________________________\n",
      "max_pooling2d_2 (MaxPooling2 (None, 9, 5, 16)          0         \n",
      "_________________________________________________________________\n",
      "batch_normalization_2 (Batch (None, 9, 5, 16)          64        \n",
      "_________________________________________________________________\n",
      "activation_2 (Activation)    (None, 9, 5, 16)          0         \n",
      "_________________________________________________________________\n",
      "conv2d_3 (Conv2D)            (None, 9, 5, 120)         2040      \n",
      "_________________________________________________________________\n",
      "flatten_1 (Flatten)          (None, 5400)              0         \n",
      "_________________________________________________________________\n",
      "dense_1 (Dense)              (None, 84)                453684    \n",
      "_________________________________________________________________\n",
      "activation_3 (Activation)    (None, 84)                0         \n",
      "_________________________________________________________________\n",
      "dropout_1 (Dropout)          (None, 84)                0         \n",
      "_________________________________________________________________\n",
      "dense_2 (Dense)              (None, 27)                2295      \n",
      "_________________________________________________________________\n",
      "activation_4 (Activation)    (None, 27)                0         \n",
      "=================================================================\n",
      "Total params: 460,679\n",
      "Trainable params: 460,635\n",
      "Non-trainable params: 44\n",
      "_________________________________________________________________\n"
     ]
    }
   ],
   "source": [
    "model = load_model('batch_norm.best.hdf5')\n",
    "# new_model = tf.keras.experimental.load_from_saved_model(saved_model_path)\n",
    "model.summary()"
   ]
  },
  {
   "cell_type": "code",
   "execution_count": 23,
   "metadata": {
    "inputHidden": false,
    "outputHidden": false
   },
   "outputs": [
    {
     "data": {
      "image/jpeg": "[encoded data removed]",
      "text/plain": [
       "<IPython.core.display.Image object>"
      ]
     },
     "metadata": {},
     "output_type": "display_data"
    }
   ],
   "source": [
    "import_images = []\n",
    "# import_images.append(prepareImg(cv2.imread('input_files_word_old/slice4.png'), 50))\n",
    "import_images.append(prepareImg(cv2.imread('output_files/image-data/image-data/P583-Fg002-R-C01-R01-fused/slice2_binarize.png'), 50))\n",
    "# import_images.append(prepareImg(cv2.imread('output_files/image-data/image-data/P583-Fg002-R-C01-R01-fused/slice3_binarize.png'), 50))\n",
    "showarray(import_images[0])"
   ]
  },
  {
   "cell_type": "markdown",
   "metadata": {},
   "source": [
    "### Cutting up the slice\n",
    "Manually take an line slice and cut it up into characters"
   ]
  },
  {
   "cell_type": "code",
   "execution_count": 25,
   "metadata": {},
   "outputs": [
    {
     "data": {
      "image/jpeg": "[encoded data removed]",
      "text/plain": [
       "<IPython.core.display.Image object>"
      ]
     },
     "metadata": {},
     "output_type": "display_data"
    }
   ],
   "source": [
    "test_image = []\n",
    "test_image.append(prepareImg(cv2.imread('output_files/image-data/image-data/P583-Fg002-R-C01-R01-fused/slice2_binarize.png'), 50))\n",
    "showarray(test_image[0])"
   ]
  },
  {
   "cell_type": "code",
   "execution_count": 28,
   "metadata": {},
   "outputs": [
    {
     "data": {
      "text/plain": [
       "(50, 773)"
      ]
     },
     "execution_count": 28,
     "metadata": {},
     "output_type": "execute_result"
    }
   ],
   "source": [
    "h, w = test_image[0].shape\n",
    "h, w"
   ]
  },
  {
   "cell_type": "code",
   "execution_count": null,
   "metadata": {},
   "outputs": [],
   "source": []
  },
  {
   "cell_type": "markdown",
   "metadata": {},
   "source": [
    "### Segment the line into different words"
   ]
  },
  {
   "cell_type": "code",
   "execution_count": 29,
   "metadata": {},
   "outputs": [],
   "source": [
    "res = []\n",
    "for i, img in enumerate(import_images):\n",
    "    res = wordSegmentation(img, kernelSize=5, sigma=5, theta=7, minArea=30) # fix parameters"
   ]
  },
  {
   "cell_type": "code",
   "execution_count": 31,
   "metadata": {
    "lines_to_next_cell": 2
   },
   "outputs": [],
   "source": [
    "words = []\n",
    "for (j, w) in enumerate(res):\n",
    "    (wordBox, wordImg) = w\n",
    "    (x, y, w, h) = wordBox\n",
    "    if (w > 20):\n",
    "        words.append(wordImg)"
   ]
  },
  {
   "cell_type": "code",
   "execution_count": 32,
   "metadata": {
    "inputHidden": false,
    "outputHidden": false
   },
   "outputs": [
    {
     "data": {
      "image/jpeg": "[encoded data removed]",
      "text/plain": [
       "<IPython.core.display.Image object>"
      ]
     },
     "metadata": {},
     "output_type": "display_data"
    },
    {
     "data": {
      "image/jpeg": "[encoded data removed]",
      "text/plain": [
       "<IPython.core.display.Image object>"
      ]
     },
     "metadata": {},
     "output_type": "display_data"
    },
    {
     "data": {
      "image/jpeg": "[encoded data removed]",
      "text/plain": [
       "<IPython.core.display.Image object>"
      ]
     },
     "metadata": {},
     "output_type": "display_data"
    },
    {
     "data": {
      "image/jpeg": "[encoded data removed]",
      "text/plain": [
       "<IPython.core.display.Image object>"
      ]
     },
     "metadata": {},
     "output_type": "display_data"
    }
   ],
   "source": [
    "for word in words:\n",
    "    showarray(word)"
   ]
  },
  {
   "cell_type": "code",
   "execution_count": 71,
   "metadata": {},
   "outputs": [
    {
     "name": "stdout",
     "output_type": "stream",
     "text": [
      "28\n"
     ]
    },
    {
     "data": {
      "image/jpeg": "[encoded data removed]",
      "text/plain": [
       "<IPython.core.display.Image object>"
      ]
     },
     "metadata": {},
     "output_type": "display_data"
    },
    {
     "data": {
      "image/jpeg": "[encoded data removed]",
      "text/plain": [
       "<IPython.core.display.Image object>"
      ]
     },
     "metadata": {},
     "output_type": "display_data"
    }
   ],
   "source": [
    "print(len(words[0][0]))\n",
    "single_characters = []\n",
    "single_characters.append(words[0])\n",
    "\n",
    "single_characters.append(words[1][:,0:22])\n",
    "single_characters.append(words[1][:,22:35])\n",
    "single_characters.append(words[1][:,35:])\n",
    "\n",
    "single_characters.append(words[2][])\n",
    "single_characters.append(words[2][])\n",
    "single_characters.append(words[2][])\n",
    "single_characters.append(words[2][])\n",
    "\n",
    "showarray(single_characters[0])\n",
    "showarray(words[1])"
   ]
  },
  {
   "cell_type": "code",
   "execution_count": 39,
   "metadata": {
    "inputHidden": false,
    "outputHidden": false
   },
   "outputs": [],
   "source": [
    "word = words[1]\n",
    "h, w = word.shape\n",
    "num = 3\n",
    "chars = []\n",
    "for i in range(num):\n",
    "    part = math.floor(w / num)\n",
    "    char = word[:,part * i:(part * i) + part]\n",
    "    shape = cv2.resize(char,(32,48))\n",
    "    ret,thresh1 = cv2.threshold(shape,127,255,cv2.THRESH_BINARY)\n",
    "    chars.append(thresh1)"
   ]
  },
  {
   "cell_type": "code",
   "execution_count": 40,
   "metadata": {
    "inputHidden": false,
    "outputHidden": false
   },
   "outputs": [
    {
     "data": {
      "image/jpeg": "[encoded data removed]",
      "text/plain": [
       "<IPython.core.display.Image object>"
      ]
     },
     "metadata": {},
     "output_type": "display_data"
    },
    {
     "data": {
      "image/jpeg": "[encoded data removed]",
      "text/plain": [
       "<IPython.core.display.Image object>"
      ]
     },
     "metadata": {},
     "output_type": "display_data"
    },
    {
     "data": {
      "image/jpeg": "[encoded data removed]",
      "text/plain": [
       "<IPython.core.display.Image object>"
      ]
     },
     "metadata": {},
     "output_type": "display_data"
    }
   ],
   "source": [
    "for char in chars:\n",
    "    showarray(char)"
   ]
  },
  {
   "cell_type": "code",
   "execution_count": null,
   "metadata": {},
   "outputs": [],
   "source": [
    "def get_char(word, x, y):\n",
    "    h, w = word.shape\n",
    "    chars = []\n",
    "    char = word[:,x:y]\n",
    "    char = word[:,part * i:(part * i) + part]\n",
    "    shape = cv2.resize(char,(32,48))\n",
    "    ret,thresh1 = cv2.threshold(shape,127,255,cv2.THRESH_BINARY)\n",
    "    chars.append(thresh1)"
   ]
  },
  {
   "cell_type": "code",
   "execution_count": null,
   "metadata": {},
   "outputs": [],
   "source": [
    "chars = []\n",
    "chars.append(get_char(word[0], num = 1))\n",
    "chars.append(get_char(word[1], num = 1, part = 40))"
   ]
  },
  {
   "cell_type": "code",
   "execution_count": 109,
   "metadata": {
    "inputHidden": false,
    "outputHidden": false
   },
   "outputs": [],
   "source": [
    "fonts = []\n",
    "for item in class_names:\n",
    "    fonts.append(cv2.imread('habbakuk/' + item + '/standard.png'))"
   ]
  },
  {
   "cell_type": "code",
   "execution_count": 114,
   "metadata": {
    "inputHidden": false,
    "outputHidden": false
   },
   "outputs": [
    {
     "name": "stdout",
     "output_type": "stream",
     "text": [
      "(48, 32)\n",
      "Predicted:  [6.7035506e-07 3.7434093e-05 8.2992196e-01 2.4722362e-06 3.7271735e-12\n",
      " 2.4352733e-02 2.1290813e-05 7.0359939e-01 1.8574927e-12 1.4832595e-09\n",
      " 1.3328763e+00 3.4706034e-05 5.2947755e-12 2.0543346e-06 5.7090167e-04\n",
      " 5.0595930e-11 1.1065767e+00 1.4203623e-07 8.9207108e+01 3.3028971e-02\n",
      " 5.3151703e-06 6.7618713e+00 1.6215855e-10 8.8498815e-08 1.2447937e-06\n",
      " 4.2667529e-11 1.6573350e-18]\n",
      "Index of class with highest probability:  18\n",
      "Value of highest probability:  0.89207107\n",
      "Name of predicted class:  Samekh\n",
      "habbabuk/Samekh/standard.png\n"
     ]
    },
    {
     "data": {
      "image/jpeg": "[encoded data removed]",
      "text/plain": [
       "<IPython.core.display.Image object>"
      ]
     },
     "metadata": {},
     "output_type": "display_data"
    },
    {
     "data": {
      "image/jpeg": "[encoded data removed]",
      "text/plain": [
       "<IPython.core.display.Image object>"
      ]
     },
     "metadata": {},
     "output_type": "display_data"
    },
    {
     "name": "stdout",
     "output_type": "stream",
     "text": [
      "(48, 32)\n",
      "Predicted:  [1.94959604e-04 8.83834073e-05 2.59066162e+01 1.16467499e-03\n",
      " 4.08499083e-08 1.86264515e-01 4.56028065e-04 2.81528115e+00\n",
      " 9.44021572e-09 9.65101549e-07 6.65542936e+00 7.66199722e-04\n",
      " 1.58541980e-08 2.39675908e-04 1.57521255e-02 1.15288245e-07\n",
      " 3.47197175e+00 2.29126294e-04 4.70431137e+01 8.81421715e-02\n",
      " 1.06965257e-02 1.37997513e+01 4.39362857e-08 3.56278069e-05\n",
      " 3.82107752e-03 7.59472869e-07 7.73169777e-14]\n",
      "Index of class with highest probability:  18\n",
      "Value of highest probability:  0.47043112\n",
      "Name of predicted class:  Samekh\n",
      "habbabuk/Samekh/standard.png\n"
     ]
    },
    {
     "data": {
      "image/jpeg": "[encoded data removed]",
      "text/plain": [
       "<IPython.core.display.Image object>"
      ]
     },
     "metadata": {},
     "output_type": "display_data"
    },
    {
     "data": {
      "image/jpeg": "[encoded data removed]",
      "text/plain": [
       "<IPython.core.display.Image object>"
      ]
     },
     "metadata": {},
     "output_type": "display_data"
    },
    {
     "name": "stdout",
     "output_type": "stream",
     "text": [
      "(48, 32)\n",
      "Predicted:  [1.5626008e-05 3.8343569e-06 9.1494637e+01 4.6577578e-04 9.4739967e-09\n",
      " 2.0193807e-03 2.8488600e-06 4.4246044e+00 3.7512695e-09 3.8842180e-07\n",
      " 5.4627454e-01 7.7557412e-04 2.4404311e-08 9.3241018e-05 4.4594813e-02\n",
      " 4.2631925e-09 3.1589333e-02 7.2478288e-05 1.2610711e+00 3.8923926e-04\n",
      " 9.6453167e-03 2.1828349e+00 1.2754389e-09 2.1567766e-04 6.8322418e-04\n",
      " 9.5229716e-08 2.9309444e-14]\n",
      "Index of class with highest probability:  2\n",
      "Value of highest probability:  0.9149464\n",
      "Name of predicted class:  Bet\n",
      "habbabuk/Bet/standard.png\n"
     ]
    },
    {
     "data": {
      "image/jpeg": "[encoded data removed]",
      "text/plain": [
       "<IPython.core.display.Image object>"
      ]
     },
     "metadata": {},
     "output_type": "display_data"
    },
    {
     "data": {
      "image/jpeg": "[encoded data removed]",
      "text/plain": [
       "<IPython.core.display.Image object>"
      ]
     },
     "metadata": {},
     "output_type": "display_data"
    },
    {
     "name": "stdout",
     "output_type": "stream",
     "text": [
      "(48, 32)\n",
      "Predicted:  [2.09305767e-06 2.20427264e-05 8.18937683e+01 1.44123173e-04\n",
      " 6.00323624e-10 1.81334966e-03 1.35450205e-06 1.00527115e+01\n",
      " 7.65683073e-10 2.57511260e-07 6.35453641e-01 5.77906845e-04\n",
      " 3.63625596e-09 7.92105857e-05 6.60410672e-02 2.86884821e-10\n",
      " 1.74894974e-01 1.21737303e-05 5.02662086e+00 1.75006484e-04\n",
      " 1.07430865e-03 2.14650154e+00 1.64079361e-09 3.71709502e-05\n",
      " 7.88983089e-05 3.95385458e-09 2.06929471e-15]\n",
      "Index of class with highest probability:  2\n",
      "Value of highest probability:  0.81893766\n",
      "Name of predicted class:  Bet\n",
      "habbabuk/Bet/standard.png\n"
     ]
    },
    {
     "data": {
      "image/jpeg": "[encoded data removed]",
      "text/plain": [
       "<IPython.core.display.Image object>"
      ]
     },
     "metadata": {},
     "output_type": "display_data"
    },
    {
     "data": {
      "image/jpeg": "[encoded data removed]",
      "text/plain": [
       "<IPython.core.display.Image object>"
      ]
     },
     "metadata": {},
     "output_type": "display_data"
    }
   ],
   "source": [
    "for char in chars:\n",
    "#     char_pred = cv2.cvtColor(char, cv2.COLOR_BGR2GRAY)\n",
    "    char_pred = np.asarray(char[:], dtype='float32')\n",
    "    print(char_pred.shape)\n",
    "    char_pred = normalize(char_pred)\n",
    "    char_pred = char_pred.reshape(-1, 48, 32,1)\n",
    "\n",
    "    prediction = model.predict([char_pred])\n",
    "    for i in range(len(prediction)):\n",
    "        print('Predicted: ', prediction[i] * 100)\n",
    "    highest_index = np.argmax(prediction)\n",
    "    print('Index of class with highest probability: ',highest_index)\n",
    "    print('Value of highest probability: ', prediction[0][highest_index])\n",
    "    print('Name of predicted class: ', class_names[highest_index])\n",
    "    print('habbabuk/' + class_names[highest_index] + '/standard.png')\n",
    "    character_example = cv2.imread('habbakuk/' + str(class_names[highest_index]) + '/standard.png')\n",
    "    showarray(character_example)\n",
    "    showarray(char)"
   ]
  },
  {
   "cell_type": "code",
   "execution_count": 95,
   "metadata": {
    "inputHidden": false,
    "outputHidden": false
   },
   "outputs": [],
   "source": [
    "# for box in bounding_boxes:\n",
    "#     xStart = box[2]\n",
    "#     xEnd = box[0]\n",
    "#     y = box[1]\n",
    "#     winH = box[3] - y\n",
    "#     winWidth = 5\n",
    "#     while(xStart-winWidth >= xEnd) :\n",
    "#         hit = False\n",
    "#         winW = winWidth\n",
    "#         a = 0\n",
    "#         # While the image is not classified and the box has not reached the edge,\n",
    "#         # increase window size\n",
    "#         while(not hit and xStart-winW >= xEnd) :\n",
    "#             newX = xStart - winW\n",
    "#             # Draw the window\n",
    "#             clone = img.copy()\n",
    "#             cv2.rectangle(clone, (xStart, y), (newX, y + winH), (255, 0, 0), 2)\n",
    "#             cv2.rectangle(clone, (xStart,y),(xEnd,y + winH), (0,255,0), 2)\n",
    "#             cv2.imshow(\"Window\", clone)\n",
    "#             cv2.waitKey(0)\n",
    "#             # Check if the CNN returns a high probability for a letter\n",
    "#             # for prob in probabilities :\n",
    "#             #     if prob >= 0.75 :\n",
    "#             #         hit = True\n",
    "#             #         xStart = newX\n",
    "#             # # Increase size of window if nothing has been found\n",
    "#             winW += 5\n",
    "#             # this is done to ensure that the loop ends for now, because not\n",
    "#             # connected to cnn yet.\n",
    "#             hit = True\n",
    "#             xStart = newX"
   ]
  },
  {
   "cell_type": "code",
   "execution_count": 49,
   "metadata": {
    "inputHidden": false,
    "outputHidden": false
   },
   "outputs": [],
   "source": [
    "# def get_resized_img(img, video_size):\n",
    "#     width, height = video_size  # these are the MAX dimensions\n",
    "#     video_ratio = width / height\n",
    "#     img_ratio = img.size[0] / img.size[1]\n",
    "#     if video_ratio >= 1:  # the video is wide\n",
    "#         if img_ratio <= video_ratio:  # image is not wide enough\n",
    "#             width_new = int(height * img_ratio)\n",
    "#             size_new = width_new, height\n",
    "#         else:  # image is wider than video\n",
    "#             height_new = int(width / img_ratio)\n",
    "#             size_new = width, height_new\n",
    "#     else:  # the video is tall\n",
    "#         if img_ratio >= video_ratio:  # image is not tall enough\n",
    "#             height_new = int(width / img_ratio)\n",
    "#             size_new = width, height_new\n",
    "#         else:  # image is taller than video\n",
    "#             width_new = int(height * img_ratio)\n",
    "#             size_new = width_new, height\n",
    "#     return np.asarray(img.resize(size_new, resample=Image.LANCZOS))"
   ]
  },
  {
   "cell_type": "code",
   "execution_count": null,
   "metadata": {
    "inputHidden": false,
    "lines_to_next_cell": 2,
    "outputHidden": false
   },
   "outputs": [],
   "source": [
    "# char = cv2.cvtColor(char, char, cv2.COLOR_BGR2GRAY)"
   ]
  },
  {
   "cell_type": "code",
   "execution_count": null,
   "metadata": {
    "inputHidden": false,
    "lines_to_next_cell": 2,
    "outputHidden": false
   },
   "outputs": [],
   "source": []
  },
  {
   "cell_type": "code",
   "execution_count": null,
   "metadata": {
    "inputHidden": false,
    "lines_to_next_cell": 2,
    "outputHidden": false
   },
   "outputs": [],
   "source": []
  },
  {
   "cell_type": "code",
   "execution_count": null,
   "metadata": {
    "inputHidden": false,
    "outputHidden": false
   },
   "outputs": [],
   "source": []
  }
 ],
 "metadata": {
  "kernel_info": {
   "name": "python3"
  },
  "kernelspec": {
   "display_name": "Python [conda env:tensorflow]",
   "language": "python",
   "name": "conda-env-tensorflow-py"
  },
  "language_info": {
   "codemirror_mode": {
    "name": "ipython",
    "version": 3
   },
   "file_extension": ".py",
   "mimetype": "text/x-python",
   "name": "python",
   "nbconvert_exporter": "python",
   "pygments_lexer": "ipython3",
   "version": "3.5.5"
  }
 },
 "nbformat": 4,
 "nbformat_minor": 2
}
