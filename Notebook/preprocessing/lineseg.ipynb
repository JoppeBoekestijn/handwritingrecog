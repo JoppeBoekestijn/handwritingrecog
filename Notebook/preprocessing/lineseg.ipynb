{
 "cells": [
  {
   "cell_type": "code",
   "execution_count": 121,
   "metadata": {},
   "outputs": [
    {
     "name": "stdout",
     "output_type": "stream",
     "text": [
      "Python version: (3, 7, 3)\n",
      "OpenCV version: 4.1.0\n"
     ]
    }
   ],
   "source": [
    "from sys import version_info\n",
    "import numpy as np\n",
    "import cv2\n",
    "#import imutils\n",
    "from matplotlib import pyplot as plt\n",
    "from scipy.signal import find_peaks_cwt, find_peaks\n",
    "from skimage.data import page\n",
    "from skimage.filters import threshold_sauvola\n",
    "print('Python version: ' + str(version_info[:3]))\n",
    "print('OpenCV version: ' + cv2.__version__)\n",
    "def undesired_objects (image):\n",
    "    image = image.astype('uint8')\n",
    "    nb_components, output, stats, centroids = cv2.connectedComponentsWithStats(image, connectivity=4)\n",
    "    sizes = stats[:, -1]\n",
    "\n",
    "    max_label = 1\n",
    "    max_size = sizes[1]\n",
    "    for i in range(2, nb_components):\n",
    "        if sizes[i] > max_size:\n",
    "            max_label = i\n",
    "            max_size = sizes[i]\n",
    "            \n",
    "    img2 = np.zeros(output.shape)\n",
    "    img2[output == max_label] = 255\n",
    "    cv2.imwrite(\"output_files/biggest_component.png\", img2)\n",
    "    return img2\n",
    "\n",
    "def inverted(imagem):\n",
    "    imagem = (255-imagem)\n",
    "    return imagem\n",
    "    \n",
    "def imshow_components(labels):\n",
    "    # Map component labels to hue val\n",
    "    label_hue = np.uint8(179*labels/np.max(labels))\n",
    "    blank_ch = 255*np.ones_like(label_hue)\n",
    "    labeled_img = cv2.merge([label_hue, blank_ch, blank_ch])\n",
    "\n",
    "    # cvt to BGR for display\n",
    "    labeled_img = cv2.cvtColor(labeled_img, cv2.COLOR_HSV2BGR)\n",
    "\n",
    "    # set bg label to black\n",
    "    labeled_img[label_hue==0] = 0\n",
    "\n",
    "    cv2.imwrite('output_files/connected_components.png', labeled_img)"
   ]
  },
  {
   "cell_type": "code",
   "execution_count": 122,
   "metadata": {},
   "outputs": [],
   "source": [
    "#Read image, and perform binarization using Otsu algorithm\n",
    "img = cv2.imread('input_files/test7.jpg')  #Afbeelding waar je alles op uitvoert\n",
    "gray = cv2.cvtColor(img,cv2.COLOR_BGR2GRAY)\n",
    "#Perform OTSU binarization\n",
    "ret, thresh = cv2.threshold(gray,0,255,cv2.THRESH_BINARY_INV+cv2.THRESH_OTSU)\n",
    "#Show  and save image\n",
    "cv2.imwrite('output_files/otsu.png',thresh)\n",
    "#Find connected components of image\n",
    "output_components = cv2.connectedComponentsWithStats(cv2.bitwise_not(thresh))\n",
    "# The first cell is the number of labels\n",
    "num_labels = output_components[0]\n",
    "# The second cell is the label matrix\n",
    "labels = output_components[1]\n",
    "# The third cell is the stat matrix\n",
    "stats = output_components[2]\n",
    "# The fourth cell is the centroid matrix\n",
    "centroids = output_components[3]\n",
    "#Show the components of the image\n",
    "imshow_components(labels)"
   ]
  },
  {
   "cell_type": "code",
   "execution_count": 123,
   "metadata": {},
   "outputs": [
    {
     "data": {
      "text/plain": [
       "True"
      ]
     },
     "execution_count": 123,
     "metadata": {},
     "output_type": "execute_result"
    }
   ],
   "source": [
    "#Get the biggest components, the dead sea scroll.\n",
    "largest_component = undesired_objects(cv2.bitwise_not(thresh))\n",
    "#Convert to right type\n",
    "largest_component = largest_component.astype('uint8')\n",
    "#Save file for debugging purposes. \n",
    "cv2.imwrite('output_files/is_dit_het_nou.png', largest_component)"
   ]
  },
  {
   "cell_type": "code",
   "execution_count": 124,
   "metadata": {},
   "outputs": [
    {
     "name": "stdout",
     "output_type": "stream",
     "text": [
      "[(740, 279, 933, 1027)]\n"
     ]
    },
    {
     "data": {
      "text/plain": [
       "True"
      ]
     },
     "execution_count": 124,
     "metadata": {},
     "output_type": "execute_result"
    }
   ],
   "source": [
    "largest_component_copy = largest_component\n",
    "contours, hierarchy = cv2.findContours(largest_component, cv2.RETR_EXTERNAL, cv2.CHAIN_APPROX_NONE)\n",
    "bounding_boxes = [cv2.boundingRect(contour) for contour in contours]\n",
    "\n",
    "print(bounding_boxes)\n",
    "x = bounding_boxes[0][0]\n",
    "y = bounding_boxes[0][1]\n",
    "width = bounding_boxes[0][2]\n",
    "height = bounding_boxes[0][3]\n",
    "#Crop the image to get only the scroll\n",
    "crop_img = largest_component_copy[y:y+height, x:x+width]\n",
    "cv2.imwrite('output_files/crop.png', crop_img)\n",
    "#Draw rectangle around the largest component to see what is being cropped. \n",
    "cv2.rectangle(largest_component_copy,(x,y),(x+width,y+height),(255,0,0),2)\n",
    "cv2.imwrite('output_files/vierkant.png', largest_component_copy)"
   ]
  },
  {
   "cell_type": "code",
   "execution_count": 125,
   "metadata": {},
   "outputs": [],
   "source": [
    "crop_img2 = img[y:y+height, x:x+width]\n",
    "\n",
    "\n",
    "# noise removal\n",
    "kernel = np.ones((3,3),np.uint8)\n",
    "opening = cv2.morphologyEx(crop_img,cv2.MORPH_OPEN,kernel, iterations = 2)\n",
    "#Save image for debugging\n",
    "cv2.imwrite('output_files/opening.png',opening)\n",
    "# sure background area\n",
    "sure_bg = cv2.dilate(opening,kernel,iterations=3)\n",
    "# Finding sure foreground area\n",
    "dist_transform = cv2.distanceTransform(opening,cv2.DIST_L2,5)\n",
    "ret, sure_fg = cv2.threshold(dist_transform,0.7*dist_transform.max(),255,0)\n",
    "#Save image for debugging\n",
    "cv2.imwrite('output_files/dist_transform.png',dist_transform)\n",
    "# Finding unknown region\n",
    "sure_fg = np.uint8(sure_fg)\n",
    "unknown = cv2.subtract(sure_bg,sure_fg)"
   ]
  },
  {
   "cell_type": "code",
   "execution_count": 126,
   "metadata": {},
   "outputs": [
    {
     "data": {
      "text/plain": [
       "True"
      ]
     },
     "execution_count": 126,
     "metadata": {},
     "output_type": "execute_result"
    }
   ],
   "source": [
    "cv2.imwrite('output_files/fg.png',sure_fg)\n",
    "cv2.imwrite('output_files/bg.png',sure_bg)\n",
    "cv2.imwrite('output_files/unkown.png',unknown)"
   ]
  },
  {
   "cell_type": "code",
   "execution_count": 127,
   "metadata": {},
   "outputs": [
    {
     "data": {
      "text/plain": [
       "True"
      ]
     },
     "execution_count": 127,
     "metadata": {},
     "output_type": "execute_result"
    }
   ],
   "source": [
    "# Marker labelling\n",
    "ret, markers = cv2.connectedComponents(sure_fg)\n",
    "# Add one to all labels so that sure background is not 0, but 1\n",
    "markers = markers+1\n",
    "# Now, mark the region of unknown with zero\n",
    "markers[unknown==255] = 0\n",
    "cv2.imwrite('output_files/markers.png',markers)"
   ]
  },
  {
   "cell_type": "code",
   "execution_count": 128,
   "metadata": {},
   "outputs": [
    {
     "data": {
      "text/plain": [
       "True"
      ]
     },
     "execution_count": 128,
     "metadata": {},
     "output_type": "execute_result"
    }
   ],
   "source": [
    "#Perform watershed and save the result. \n",
    "markers = cv2.watershed(crop_img2,markers)\n",
    "crop_img2[markers == -1] = [0,255,0]\n",
    "cv2.imwrite('output_files/watershed_output.png',crop_img2)"
   ]
  },
  {
   "cell_type": "code",
   "execution_count": 10,
   "metadata": {},
   "outputs": [
    {
     "data": {
      "text/plain": [
       "<matplotlib.image.AxesImage at 0x7f31ce5a4908>"
      ]
     },
     "execution_count": 10,
     "metadata": {},
     "output_type": "execute_result"
    },
    {
     "data": {
      "image/png": "[encoded data removed]",
      "text/plain": [
       "<Figure size 432x288 with 1 Axes>"
      ]
     },
     "metadata": {
      "needs_background": "light"
     },
     "output_type": "display_data"
    }
   ],
   "source": [
    "plt.imshow(opening)"
   ]
  },
  {
   "cell_type": "code",
   "execution_count": 120,
   "metadata": {},
   "outputs": [
    {
     "ename": "NameError",
     "evalue": "name 'imutils' is not defined",
     "output_type": "error",
     "traceback": [
      "\u001b[0;31m---------------------------------------------------------------------------\u001b[0m",
      "\u001b[0;31mNameError\u001b[0m                                 Traceback (most recent call last)",
      "\u001b[0;32m<ipython-input-120-9cd2128338b0>\u001b[0m in \u001b[0;36m<module>\u001b[0;34m\u001b[0m\n\u001b[1;32m     26\u001b[0m \u001b[0mhists\u001b[0m \u001b[0;34m=\u001b[0m \u001b[0;34m[\u001b[0m\u001b[0;34m]\u001b[0m\u001b[0;34m\u001b[0m\u001b[0;34m\u001b[0m\u001b[0m\n\u001b[1;32m     27\u001b[0m \u001b[0;32mfor\u001b[0m \u001b[0mangle\u001b[0m \u001b[0;32min\u001b[0m \u001b[0mnp\u001b[0m\u001b[0;34m.\u001b[0m\u001b[0marange\u001b[0m\u001b[0;34m(\u001b[0m\u001b[0;34m-\u001b[0m\u001b[0;36m45\u001b[0m\u001b[0;34m,\u001b[0m\u001b[0;36m50\u001b[0m\u001b[0;34m,\u001b[0m\u001b[0;36m5\u001b[0m\u001b[0;34m)\u001b[0m\u001b[0;34m:\u001b[0m\u001b[0;34m\u001b[0m\u001b[0;34m\u001b[0m\u001b[0m\n\u001b[0;32m---> 28\u001b[0;31m     \u001b[0mrotated\u001b[0m \u001b[0;34m=\u001b[0m \u001b[0mimutils\u001b[0m\u001b[0;34m.\u001b[0m\u001b[0mrotate_bound\u001b[0m\u001b[0;34m(\u001b[0m\u001b[0mcrop_img\u001b[0m\u001b[0;34m,\u001b[0m \u001b[0mangle\u001b[0m\u001b[0;34m)\u001b[0m\u001b[0;34m\u001b[0m\u001b[0;34m\u001b[0m\u001b[0m\n\u001b[0m\u001b[1;32m     29\u001b[0m     \u001b[0mopening\u001b[0m \u001b[0;34m=\u001b[0m \u001b[0mcv2\u001b[0m\u001b[0;34m.\u001b[0m\u001b[0mmorphologyEx\u001b[0m\u001b[0;34m(\u001b[0m\u001b[0mrotated\u001b[0m\u001b[0;34m,\u001b[0m\u001b[0mcv2\u001b[0m\u001b[0;34m.\u001b[0m\u001b[0mMORPH_OPEN\u001b[0m\u001b[0;34m,\u001b[0m\u001b[0mkernel\u001b[0m\u001b[0;34m,\u001b[0m \u001b[0miterations\u001b[0m \u001b[0;34m=\u001b[0m \u001b[0;36m2\u001b[0m\u001b[0;34m)\u001b[0m\u001b[0;34m\u001b[0m\u001b[0;34m\u001b[0m\u001b[0m\n\u001b[1;32m     30\u001b[0m     \u001b[0mhist\u001b[0m \u001b[0;34m=\u001b[0m \u001b[0mopening\u001b[0m\u001b[0;34m[\u001b[0m\u001b[0mopening\u001b[0m \u001b[0;34m>\u001b[0m \u001b[0;36m0\u001b[0m\u001b[0;34m]\u001b[0m \u001b[0;34m=\u001b[0m \u001b[0;36m1\u001b[0m\u001b[0;34m\u001b[0m\u001b[0;34m\u001b[0m\u001b[0m\n",
      "\u001b[0;31mNameError\u001b[0m: name 'imutils' is not defined"
     ]
    }
   ],
   "source": [
    "def getHist(inputimg):    \n",
    "    if np.amax(inputimg) == 255:\n",
    "        binary_img = inputimg[inputimg > 0] = 1\n",
    "    else:\n",
    "        binary_img = inputimg    \n",
    "    height, width = binary_img.shape\n",
    "    hist = []\n",
    "    for x in range(height):\n",
    "        # find indexes of start and end of paper\n",
    "        pixels = np.where(binary_img[x] == 1)\n",
    "        if len(pixels[0])>0:\n",
    "            rightp = pixels[0][-1]\n",
    "            leftp = pixels[0][0]\n",
    "            #calculate paper width\n",
    "            paperw = rightp-leftp\n",
    "            #sum number of white pixels\n",
    "            rowsum = binary_img[x].sum()\n",
    "            normsum = rowsum/paperw\n",
    "            #if normsum > 1.1: normsum = 0\n",
    "            hist.append(normsum)\n",
    "        else:\n",
    "            hist.append(0)\n",
    "    return hist\n",
    "\n",
    "i = 0\n",
    "hists = []\n",
    "for angle in np.arange(-45,50,5):\n",
    "    rotated = imutils.rotate_bound(crop_img, angle)\n",
    "    opening = cv2.morphologyEx(rotated,cv2.MORPH_OPEN,kernel, iterations = 2)\n",
    "    hist = opening[opening > 0] = 1  \n",
    "    hists.append(getHist(opening))\n",
    "    i += 1\n",
    "    \n",
    "avg = 0\n",
    "best_peaks = []\n",
    "for j in range(i):\n",
    "    hist = hists[j]\n",
    "    #plt.bar(range(1,1+len(hist)),hist)\n",
    "    plt.plot(range(1,1+len(hist)),hist)\n",
    "    peaks, _ = find_peaks(hist, height = sum(hist)/len(hist), distance = len(hist)/10)\n",
    "   # plt.plot(hist.index[peaks], hist.water_level[hist], 'ro', label = 'positive peaks')\n",
    "    print(peaks)\n",
    "   # print(hist[list(peaks)])\n",
    "    peakplot = [hist[i] for i in peaks]\n",
    "    plt.plot(peaks,peakplot,'ro')\n",
    "    #print (peakplot)\n",
    "    if np.mean(peaks) > avg :\n",
    "        avg = np.mean(peaks)\n",
    "        best_peaks = peaks\n",
    "        index_angle = j\n",
    "\n",
    "best_angle = -45+index_angle*5\n",
    "print(best_peaks)\n",
    "rotated = imutils.rotate_bound(crop_img,best_angle)\n",
    "opening = cv2.morphologyEx(rotated,cv2.MORPH_OPEN,kernel, iterations = 2)"
   ]
  },
  {
   "cell_type": "code",
   "execution_count": 48,
   "metadata": {},
   "outputs": [
    {
     "data": {
      "text/plain": [
       "<matplotlib.collections.LineCollection at 0x7f31be82e0f0>"
      ]
     },
     "execution_count": 48,
     "metadata": {},
     "output_type": "execute_result"
    },
    {
     "data": {
      "image/png": "[encoded data removed]",
      "text/plain": [
       "<Figure size 432x288 with 1 Axes>"
      ]
     },
     "metadata": {
      "needs_background": "light"
     },
     "output_type": "display_data"
    }
   ],
   "source": [
    "plt.imshow(opening)\n",
    "plt.hlines(best_peaks,0,len(opening[0])-1,colors='w')"
   ]
  },
  {
   "cell_type": "code",
   "execution_count": 129,
   "metadata": {},
   "outputs": [],
   "source": [
    "def getHist(inputimg, mask):    \n",
    "    #inputimg = cv2.bitwise_not(inputimg)\n",
    "    if np.amax(inputimg) == 255:\n",
    "        binary_img = inputimg / 255\n",
    "    else:\n",
    "        binary_img = inputimg  \n",
    "    height, width = binary_img.shape\n",
    "    hist = []\n",
    "    for x in range(height):\n",
    "        # find indexes of start and end of paper\n",
    "        pixels = np.where(mask[x] == 0)\n",
    "        if len(pixels[0])>0:\n",
    "            rightp = pixels[0][-1]\n",
    "            leftp = pixels[0][0]\n",
    "            #calculate paper width\n",
    "            paperw = rightp-leftp\n",
    "            #sum number of white pixels\n",
    "            rowsum = binary_img[x].sum()\n",
    "            normsum = rowsum/paperw\n",
    "            #normsum = rowsum\n",
    "            #if normsum > 1.1: normsum = 0\n",
    "            hist.append(normsum)\n",
    "        else:\n",
    "            hist.append(0)\n",
    "    return hist\n",
    "\n",
    "# slices papyrus in little papyri\n",
    "def sliceImg(inputimg, slices, folder, original, mask):\n",
    "    if np.amax(inputimg) == 1:\n",
    "        paper = inputimg * 255\n",
    "    else:\n",
    "        paper = inputimg\n",
    "    height, width = paper.shape\n",
    "    lastslice = 0\n",
    "    for x in range(height):\n",
    "        if sum(paper[x]) > 0:\n",
    "            lastslice = x\n",
    "            break\n",
    "    paper = cv2.bitwise_not(paper)\n",
    "    mask = mask.astype('uint8')\n",
    "    original = cv2.bitwise_and(original, original, mask=mask)\n",
    "    for y in range(len(slices)):\n",
    "        #check if slice is big enough\n",
    "        #if slices[y]-lastslice > height/(len(slices)*4):\n",
    "        #cv2.imwrite(folder+'slice'+str(y)+'.png',paper[lastslice:slices[y]])\n",
    "        cv2.imwrite(folder+'slice'+str(y)+'.png',original[lastslice:slices[y]])        \n",
    "        lastslice = slices[y]\n",
    "    #cv2.imwrite(folder+'slice'+str(y+1)+'.png',original[lastslice:])  \n",
    "\n",
    "def imshow_components2(labels):\n",
    "    # Map component labels to hue val\n",
    "    label_hue = np.uint8(179*labels/np.max(labels))\n",
    "    blank_ch = 255*np.ones_like(label_hue)\n",
    "    labeled_img = cv2.merge([label_hue, blank_ch, blank_ch])\n",
    "\n",
    "    # cvt to BGR for display\n",
    "    labeled_img = cv2.cvtColor(labeled_img, cv2.COLOR_HSV2BGR)\n",
    "\n",
    "    # set bg label to black\n",
    "    labeled_img[label_hue==0] = 0\n",
    "\n",
    "    return labeled_img\n",
    "\n",
    "\n",
    "def hole_removal (image, percentile):\n",
    "    image = image.astype('uint8')\n",
    "    nb_components, output, stats, centroids = cv2.connectedComponentsWithStats(image, connectivity=8)\n",
    "    sizes = stats[:, -1]\n",
    "    #Show components of the image\n",
    "    imshow_components(output)\n",
    "    #Calculate the threshold to remove holes\n",
    "    sizes_copy = np.delete(sizes, np.argmax(sizes))\n",
    "    avg = np.average(sizes_copy)\n",
    "    #The x percentile is used as a threshold\n",
    "    val = np.percentile(sizes_copy, percentile)\n",
    "    var_threshold = val\n",
    "    print(avg)\n",
    "    print(val)\n",
    "    #We also create an absolute threshold to not accidentally remove small characters\n",
    "    abs_threshold = 1500\n",
    "    #Calculate the pixel density for each component\n",
    "    pixel_density = np.zeros(nb_components+1)\n",
    "    for i in range(2, nb_components):\n",
    "        #convert connected component to an image and get white pixel density\n",
    "        img1 = np.zeros(output.shape)\n",
    "        img1[output == i] = 255\n",
    "        cv2.imwrite(\"output_files/biggest_componenttemp.png\", img1)\n",
    "        pixel_density[i] = pixel_density_connected_component(img1, image)\n",
    "        #raw_input(\"Press Enter to continue...\")\n",
    "    \n",
    "    #Calculate the desnity threshold with a percentile. \n",
    "    density_threshold = np.percentile(pixel_density, 25)\n",
    "    #Create empty image, only add components smaller than the threshold\n",
    "    img2 = np.zeros(output.shape)\n",
    "    for i in range(2, nb_components):\n",
    "        if sizes[i] <= var_threshold:\n",
    "            img2[output == i] = 255\n",
    "        elif sizes[i] <= abs_threshold:\n",
    "            img2[output == i] = 255\n",
    "        #elif sizes[i] > var_threshold:\n",
    "         #   if pixel_density[i] <= density_threshold:\n",
    "         #       img2[output == i] = 255\n",
    "    return img2\n",
    "\n",
    "def pixel_density_connected_component (connectedComponent, image):\n",
    "\t#Make sure image is of correct type\n",
    "\tconnectedComponent = connectedComponent.astype('uint8')\n",
    "\t\n",
    "\t#Create bounding box around largest component with contours\n",
    "\tcontours, hierarchy = cv2.findContours(connectedComponent, cv2.RETR_EXTERNAL, cv2.CHAIN_APPROX_NONE)\n",
    "\tbounding_boxes = [cv2.boundingRect(contour) for contour in contours]\n",
    "\n",
    "\t#Get the appropriate coordinates\n",
    "\tx = bounding_boxes[0][0]\n",
    "\ty = bounding_boxes[0][1]\n",
    "\twidth = bounding_boxes[0][2]\n",
    "\theight = bounding_boxes[0][3]\n",
    "\t\n",
    "\t#Crop image to bounding box arround component\n",
    "\tcrop_img = image[y:y+height, x:x+width]\n",
    "\tcv2.imwrite('output_files/cropped_component.png', crop_img)\n",
    "\t#Calculate density of the this newly create image of component\n",
    "\tarea = float(crop_img.shape[0]*crop_img.shape[1])\n",
    "\twhitePixels = float(np.sum(crop_img == 255))\n",
    "\tdensity = whitePixels/area\n",
    "\t#print(\"whitePixels: {}\".format(whitePixels))\n",
    "\t#print(\"area: {}\".format(area))\n",
    "\t#print(\"density: {}\".format(density))\n",
    "\t\n",
    "\treturn density\n",
    "\n",
    "def inverted(imagem):\n",
    "    imagem = (255-imagem)\n",
    "    return imagem\n",
    "\n",
    "def img_fill(im_th):  # n = binary image threshold\n",
    "    # Copy the thresholded image.\n",
    "    im_floodfill = im_th.copy()\n",
    "\n",
    "    # Mask used to flood filling.\n",
    "    # Notice the size needs to be 2 pixels than the image.\n",
    "    h, w = im_th.shape[:2]\n",
    "    mask = np.zeros((h + 2, w + 2), np.uint8)\n",
    "\n",
    "    # Floodfill from point (0, 0)\n",
    "    cv2.floodFill(im_floodfill, mask, (0, 0), 255);\n",
    "\n",
    "    # Invert floodfilled image\n",
    "    im_floodfill_inv = cv2.bitwise_not(im_floodfill)\n",
    "\n",
    "    # Combine the two images to get the foreground.\n",
    "    fill_image = im_th | im_floodfill_inv\n",
    "\n",
    "    return fill_image \n"
   ]
  },
  {
   "cell_type": "code",
   "execution_count": 130,
   "metadata": {},
   "outputs": [],
   "source": [
    "#(NOT USED ATM) Appends all images from one folder in a list\n",
    "import glob\n",
    "#import cv2\n",
    "def readFolder(path):\n",
    "    extension = 'jpg'\n",
    "    image_list = []\n",
    "    if len(glob.glob(path+'*.'+extension)) > 0:\n",
    "        for filename in glob.glob(path+'*.'+extension):\n",
    "            image_list.append(cv2.imread(filename))\n",
    "    else:\n",
    "        print('ERROR: There were no {} files found in folder {}'.format(extension, path))\n",
    "    return image_list\n",
    "\n",
    "imlist = readFolder('input_files/image-data/')"
   ]
  },
  {
   "cell_type": "code",
   "execution_count": null,
   "metadata": {},
   "outputs": [],
   "source": []
  },
  {
   "cell_type": "code",
   "execution_count": 131,
   "metadata": {},
   "outputs": [
    {
     "name": "stdout",
     "output_type": "stream",
     "text": [
      "Started with processing of 20 files\n",
      "Processing P168-Fg016-R-C01-R01-fused\n",
      "439.6363636363636\n",
      "2213.304\n",
      "Processing P172-Fg001-R-C01-R01-fused\n",
      "513.3988439306358\n",
      "5045.920000000015\n",
      "Processing P583-Fg002-R-C01-R01-fused\n",
      "735.1276595744681\n",
      "4348.614000000011\n",
      "Processing P123-Fg001-R-C01-R01-fused\n",
      "537.3381443298969\n",
      "3345.9920000000484\n",
      "Processing P342-Fg001-R-C01-R01-fused\n",
      "394.9870550161812\n",
      "7390.244000000124\n",
      "Processing P123-Fg002-R-C01-R01-fused\n",
      "391.3893967093236\n",
      "2539.6880000000006\n",
      "Processing P632-Fg001-R-C01-R01-fused\n",
      "154.2887473460722\n",
      "1237.7200000000034\n",
      "Processing P583-Fg006-R-C01-R01-fused\n",
      "957.4468085106383\n",
      "5693.812000000013\n",
      "Processing P632-Fg002-R-C01-R01-fused\n",
      "386.2808988764045\n",
      "2126.7620000000024\n",
      "Processing P21-Fg006-R-C01-R01-fused\n",
      "106.26984126984127\n",
      "2044.8000000000866\n",
      "Processing P344-Fg001-R-C01-R01-fused\n",
      "301.88878416588125\n",
      "4552.320000000063\n",
      "Processing P423-1-Fg002-R-C02-R01-fused\n",
      "650.7762430939226\n",
      "5382.032000000093\n",
      "Processing P166-Fg007-R-C01-R01-fused\n",
      "196.41734417344173\n",
      "3691.488000000003\n",
      "Processing P513-Fg001-R-C01-R01-fused\n",
      "611.1058495821727\n",
      "7810.58000000003\n",
      "Processing P22-Fg008-R-C01-R01-fused\n",
      "120.20501138952164\n",
      "907.0440000000019\n",
      "Processing P423-1-Fg002-R-C01-R01-fused\n",
      "628.2871794871795\n",
      "4763.364000000051\n",
      "Processing P846-Fg001-R-C01-R01-fused\n",
      "255.69892473118279\n",
      "1221.2100000000028\n",
      "Processing P564-Fg003-R-C01-R01-fused\n",
      "531.5025906735751\n",
      "2517.9840000000004\n",
      "Processing P166-Fg002-R-C01-R01-fused\n",
      "238.95638629283488\n",
      "8641.56000000006\n",
      "Processing P106-Fg002-R-C01-R01-fused\n",
      "323.8491620111732\n",
      "1802.2900000000002\n",
      "FINISHED! Files saved in folders in the image-data folder\n"
     ]
    }
   ],
   "source": [
    "import glob\n",
    "import os\n",
    "# Processes all images in a folder and saves them to separate folders\n",
    "def processImages(path):\n",
    "    extension = 'jpg'\n",
    "    if len(glob.glob(path+'*.'+extension)) > 0:\n",
    "        print('Started with processing of {} files'.format(len(glob.glob(path+'*.'+extension))))\n",
    "        for file in glob.glob(path+'*.'+extension):\n",
    "            newfolder = 'output_files/image-data/'+file.rsplit('.',1)[0].rsplit('/',1)[1]+'/'\n",
    "            print('Processing ' + newfolder.rsplit('/',1)[0].rsplit('/',1)[1])\n",
    "            if not os.path.exists(newfolder):\n",
    "                os.mkdir(newfolder)\n",
    "            \n",
    "            #Read image, and perform binarization using Otsu algorithm\n",
    "            img = cv2.imread(file)\n",
    "            cv2.imwrite(newfolder+'original.png',img)\n",
    "            \n",
    "            gray = cv2.cvtColor(img,cv2.COLOR_BGR2GRAY)\n",
    "            #Perform OTSU binarization\n",
    "            ret, thresh = cv2.threshold(gray,0,255,cv2.THRESH_BINARY_INV+cv2.THRESH_OTSU)\n",
    "            #Show  and save image\n",
    "            cv2.imwrite(newfolder+'otsu.png',thresh)\n",
    "            \n",
    "            #Find connected components of image\n",
    "            output_components = cv2.connectedComponentsWithStats(cv2.bitwise_not(thresh))\n",
    "            # The first cell is the number of labels\n",
    "            num_labels = output_components[0]\n",
    "            # The second cell is the label matrix\n",
    "            labels = output_components[1]\n",
    "            # The third cell is the stat matrix\n",
    "            stats = output_components[2]\n",
    "            # The fourth cell is the centroid matrix\n",
    "            centroids = output_components[3]\n",
    "            #print the components of the image\n",
    "            labeled_img = imshow_components2(labels)\n",
    "            cv2.imwrite(newfolder+'connected_components.png', labeled_img)\n",
    "            \n",
    "            #Get the biggest components, the dead sea scroll.\n",
    "            largest_component = undesired_objects(cv2.bitwise_not(thresh))\n",
    "            #Convert to right type\n",
    "            largest_component = largest_component.astype('uint8')\n",
    "            #Save file for debugging purposes.\n",
    "            cv2.imwrite(newfolder+'is_dit_het_nou.png', largest_component)\n",
    "            \n",
    "            #Lex 09-06\n",
    "            crop_img = largest_component\n",
    "            ###################################################################\n",
    "            kernel2 = np.array([[1,1,1],[1,1,1],[1,1,1]])\n",
    "            kernel3 = np.array([[1,1],[1,1]])\n",
    "            dilated_img = cv2.dilate(crop_img,kernel2,iterations = 2)\n",
    "            cv2.imwrite(newfolder+'dilated.png', dilated_img)\n",
    "\n",
    "            #Get the countours of the scroll\n",
    "            contours, hierarchy = cv2.findContours(dilated_img, cv2.RETR_EXTERNAL, cv2.CHAIN_APPROX_NONE)\n",
    "            img2 = np.zeros(crop_img.shape)\n",
    "            img_contour = cv2.drawContours(img2, contours, -1, 255, -1)\n",
    "\n",
    "            #dilate and erode to fill up the edges of the scroll.\n",
    "            img_contour = cv2.dilate(img_contour,kernel2,iterations = 6)\n",
    "            img_contour = cv2.erode(img_contour,kernel2,iterations = 10)\n",
    "            cv2.imwrite(newfolder+'contours.png', img_contour)\n",
    "\n",
    "            #Convert the shape of the scroll to binarized image and invert.  \n",
    "            ret, mask = cv2.threshold(img_contour, 127, 255, cv2.THRESH_BINARY)\n",
    "            mask = mask.astype('uint8')\n",
    "            mask = cv2.bitwise_not(mask)\n",
    "            cv2.imwrite(newfolder+'mask.png', mask)\n",
    "\n",
    "            #Add the mask to the original image to delete background. \n",
    "            added = crop_img + mask\n",
    "            #added = cv2.morphologyEx(added, cv2.MORPH_CLOSE, kernel3, iterations = 3)\n",
    "            #added = cv2.morphologyEx(added, cv2.MORPH_CLOSE, kernel2, iterations = 1)\n",
    "            cv2.imwrite(newfolder+'added.png', added)\n",
    "\n",
    "            #Get rid of noise, especially at the edges\n",
    "            added = cv2.morphologyEx(added, cv2.MORPH_CLOSE, kernel2, iterations = 1)\n",
    "\n",
    "            #To debug: show largest connected component of the result. \n",
    "            mask = undesired_objects(cv2.bitwise_not(added))\n",
    "            cv2.imwrite(newfolder+'added_inv.png', cv2.bitwise_not(added))\n",
    "\n",
    "            output_hole_removal = hole_removal(cv2.bitwise_not(added), 99.4)\n",
    "            output_hole_removal = output_hole_removal.astype('uint8')\n",
    "            cv2.imwrite(newfolder+'holes_removed.png', cv2.bitwise_not(output_hole_removal))\n",
    "            \n",
    "            \n",
    "            # noise removal\n",
    "            kernel = np.ones((3,3),np.uint8)\n",
    "            opening = cv2.morphologyEx(largest_component,cv2.MORPH_OPEN,kernel, iterations = 2)\n",
    "            #Save image for debugging\n",
    "            cv2.imwrite(newfolder+'opening.png',opening)\n",
    "            \n",
    "            #hist = getHist(opening)\n",
    "            hist = getHist(output_hole_removal, img_contour)\n",
    "            #peaks, _ = find_peaks(hist, height = sum(hist)/len(hist), distance = len(hist)/20)\n",
    "            #peaks, _ = find_peaks(hist, distance = len(hist)/40, height = max(hist)/2)\n",
    "            #widths=np.arange(1)\n",
    "            #peaks = find_peaks_cwt(hist, widths)\n",
    "            peaks, _ = find_peaks(hist, width=5, distance = len(hist)/40)\n",
    "            peaks2 = []\n",
    "            for x in range(len(peaks)-1):\n",
    "                peaks2.append(int((peaks[x]+peaks[x+1])/2))\n",
    "            sliceImg(output_hole_removal,peaks2,newfolder,img,img_contour)\n",
    "            peakplot = [hist[i] for i in peaks]\n",
    "            plt.plot(range(1,1+len(hist)),hist)\n",
    "            plt.plot(peaks,peakplot,'ro')\n",
    "            plt.savefig(newfolder+'histogram.png',dpi=300)\n",
    "            plt.close()\n",
    "            \n",
    "            #plt.imshow(output_hole_removal)\n",
    "            plt.imshow(cv2.bitwise_and(img, img, mask=img_contour.astype('uint8')))\n",
    "            plt.hlines(peaks2,0,len(output_hole_removal[0])-1,colors='w')\n",
    "            plt.savefig(newfolder+'holes_removed_lines.png',dpi=300)\n",
    "            plt.close()\n",
    "            \n",
    "        print('FINISHED! Files saved in folders in the {} folder'.format(path.rsplit('/',1)[0].rsplit('/',1)[1]))\n",
    "    else:\n",
    "        print('ERROR: There were no {} files found in folder {}'.format(extension, path))\n",
    "\n",
    "\n",
    "processImages('input_files/image-data/')"
   ]
  },
  {
   "cell_type": "code",
   "execution_count": null,
   "metadata": {},
   "outputs": [],
   "source": []
  }
 ],
 "metadata": {
  "kernelspec": {
   "display_name": "Python 3",
   "language": "python",
   "name": "python3"
  },
  "language_info": {
   "codemirror_mode": {
    "name": "ipython",
    "version": 3
   },
   "file_extension": ".py",
   "mimetype": "text/x-python",
   "name": "python",
   "nbconvert_exporter": "python",
   "pygments_lexer": "ipython3",
   "version": "3.7.3"
  }
 },
 "nbformat": 4,
 "nbformat_minor": 2
}
