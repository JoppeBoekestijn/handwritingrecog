{
 "cells": [
  {
   "cell_type": "markdown",
   "metadata": {},
   "source": [
    "# Word Segmentation and Character Classification"
   ]
  },
  {
   "cell_type": "markdown",
   "metadata": {},
   "source": [
    "## Imports"
   ]
  },
  {
   "cell_type": "code",
<<<<<<< HEAD
   "execution_count": 192,
=======
   "execution_count": 58,
>>>>>>> bd57b4512b97cdd941a556532deb1ef09b42dde5
   "metadata": {
    "inputHidden": false,
    "outputHidden": false
   },
   "outputs": [],
   "source": [
    "import numpy as np\n",
    "np.set_printoptions(suppress=True)\n",
    "import cv2\n",
    "import io\n",
<<<<<<< HEAD
    "import glob\n",
    "from IPython.display import clear_output, Image, display\n",
=======
>>>>>>> bd57b4512b97cdd941a556532deb1ef09b42dde5
    "import PIL.Image\n",
    "import math\n",
    "import glob\n",
    "import tensorflow as tf\n",
    "\n",
    "from matplotlib import pyplot as plt\n",
    "from IPython.display import clear_output, Image, display\n",
    "from keras.models import load_model\n",
    "from util.WordSegmentation import wordSegmentation, prepareImg\n",
    "from sklearn.preprocessing import normalize\n",
    "from natsort import natsorted\n",
    "from keras.backend.tensorflow_backend import set_session"
   ]
  },
  {
   "cell_type": "code",
<<<<<<< HEAD
   "execution_count": 193,
=======
   "execution_count": 59,
>>>>>>> bd57b4512b97cdd941a556532deb1ef09b42dde5
   "metadata": {},
   "outputs": [],
   "source": [
    "config = tf.ConfigProto(\n",
    "    gpu_options = tf.GPUOptions(per_process_gpu_memory_fraction=0.8)\n",
    ")\n",
    "config.gpu_options.allow_growth = True\n",
    "session = tf.Session(config=config)\n",
    "set_session(session)\n",
    "\n",
    "input_files = 'output_files/image_data/image_data/'"
   ]
  },
  {
   "cell_type": "code",
<<<<<<< HEAD
   "execution_count": 194,
=======
   "execution_count": 46,
>>>>>>> bd57b4512b97cdd941a556532deb1ef09b42dde5
   "metadata": {},
   "outputs": [],
   "source": [
    "class_names = [\n",
    "    \"Alef\",\n",
    "    \"Ayin\",\n",
    "    \"Bet\",\n",
    "    \"Dalet\",\n",
    "    \"Gimel\",\n",
    "    \"He\",\n",
    "    \"Het\",\n",
    "    \"Kaf\",\n",
    "    \"Kaf-final\",\n",
    "    \"Lamed\",\n",
    "    \"Mem\",\n",
    "    \"Mem-medial\",\n",
    "    \"Nun-final\",\n",
    "    \"Nun-medial\",\n",
    "    \"Pe\",\n",
    "    \"Pe-final\",\n",
    "    \"Qof\",\n",
    "    \"Resh\",\n",
    "    \"Samekh\",\n",
    "    \"Shin\",\n",
    "    \"Taw\",\n",
    "    \"Tet\",\n",
    "    \"Tsadi-final\",\n",
    "    \"Tsadi-medial\",\n",
    "    \"Waw\",\n",
    "    \"Yod\",\n",
    "    \"Zayin\"\n",
    "]"
   ]
  },
  {
   "cell_type": "code",
<<<<<<< HEAD
   "execution_count": 195,
=======
   "execution_count": 47,
>>>>>>> bd57b4512b97cdd941a556532deb1ef09b42dde5
   "metadata": {
    "inputHidden": false,
    "outputHidden": false
   },
   "outputs": [],
   "source": [
    "def showarray(a, fmt='jpeg'):\n",
    "    a = np.uint8(np.clip(a, 0, 255))\n",
    "    f = io.BytesIO()\n",
    "    PIL.Image.fromarray(a).save(f, fmt)\n",
    "    display(Image(data=f.getvalue()))"
   ]
  },
  {
   "cell_type": "code",
<<<<<<< HEAD
   "execution_count": 196,
=======
   "execution_count": 48,
>>>>>>> bd57b4512b97cdd941a556532deb1ef09b42dde5
   "metadata": {
    "inputHidden": false,
    "lines_to_next_cell": 2,
    "outputHidden": false
   },
   "outputs": [
    {
     "name": "stdout",
     "output_type": "stream",
     "text": [
      "_________________________________________________________________\n",
      "Layer (type)                 Output Shape              Param #   \n",
      "=================================================================\n",
      "conv2d_1 (Conv2D)            (None, 44, 28, 6)         156       \n",
      "_________________________________________________________________\n",
      "max_pooling2d_1 (MaxPooling2 (None, 22, 14, 6)         0         \n",
      "_________________________________________________________________\n",
      "conv2d_2 (Conv2D)            (None, 18, 10, 16)        2416      \n",
      "_________________________________________________________________\n",
      "max_pooling2d_2 (MaxPooling2 (None, 9, 5, 16)          0         \n",
      "_________________________________________________________________\n",
      "flatten_1 (Flatten)          (None, 720)               0         \n",
      "_________________________________________________________________\n",
      "dense_1 (Dense)              (None, 120)               86520     \n",
      "_________________________________________________________________\n",
      "dense_2 (Dense)              (None, 84)                10164     \n",
      "_________________________________________________________________\n",
      "dense_3 (Dense)              (None, 27)                2295      \n",
      "=================================================================\n",
      "Total params: 101,551\n",
      "Trainable params: 101,551\n",
      "Non-trainable params: 0\n",
      "_________________________________________________________________\n"
     ]
    }
   ],
   "source": [
    "model = load_model('neural_net_models/lenet5.best.hdf5')\n",
    "model.summary()"
   ]
  },
  {
   "cell_type": "markdown",
   "metadata": {},
   "source": [
    "## Load in slices and apply word segmentation"
   ]
  },
  {
   "cell_type": "code",
<<<<<<< HEAD
   "execution_count": null,
   "metadata": {},
   "outputs": [],
   "source": [
    "slices = []\n",
    "def load_slices(filepath):\n",
    "    slices_filepath = input_files + '/' + filepath + '/'\n",
    "    slices_path = glob.glob(slices_filepath)\n",
    "    print(slices_path)\n",
    "    all_slices_path = glob.glob(input_files + '/' + filepath + '/' + 'slice*_binarize.png')\n",
    "    print(all_slices_path)\n",
    "#     for slice_path in slices_path:\n",
    "#         slices.append(prepareImg(cv2.imread(slices_filepath + '/' + all_slices_path), 50))\n"
   ]
  },
  {
   "cell_type": "code",
   "execution_count": 175,
=======
   "execution_count": 49,
>>>>>>> bd57b4512b97cdd941a556532deb1ef09b42dde5
   "metadata": {
    "inputHidden": false,
    "outputHidden": false
   },
   "outputs": [
    {
     "data": {
<<<<<<< HEAD
      "image/jpeg": "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\n",
=======
      "image/jpeg": "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\n",
>>>>>>> bd57b4512b97cdd941a556532deb1ef09b42dde5
      "text/plain": [
       "<IPython.core.display.Image object>"
      ]
     },
     "metadata": {},
     "output_type": "display_data"
    }
   ],
   "source": [
    "images_files = glob.glob(input_files)\n",
    "load_slices(images_files[0])\n",
    "\n",
    "\n",
    "import_images = []\n",
<<<<<<< HEAD
    "# import_images.append(prepareImg(cv2.imread('input_files_word_old/slice4.png'), 50))\n",
    "import_images.append(prepareImg(cv2.imread('output_files/image-data/image-data/P583-Fg002-R-C01-R01-fused/slice2_binarize.png'), 50))\n",
    "# import_images.append(prepareImg(cv2.imread('output_files/image-data/image-data/P583-Fg002-R-C01-R01-fused/slice3_binarize.png'), 50))\n",
    "showarray(import_images[0])"
   ]
  },
  {
   "cell_type": "markdown",
   "metadata": {},
   "source": [
    "### Cutting up the slice\n",
    "Manually take an line slice and cut it up into characters"
   ]
  },
  {
   "cell_type": "code",
   "execution_count": 176,
   "metadata": {},
   "outputs": [
    {
     "data": {
      "image/jpeg": "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\n",
      "text/plain": [
       "<IPython.core.display.Image object>"
      ]
     },
     "metadata": {},
     "output_type": "display_data"
    }
   ],
   "source": [
    "test_image = []\n",
    "test_image.append(prepareImg(cv2.imread('output_files/image-data/image-data/P583-Fg002-R-C01-R01-fused/slice2_binarize.png'), 50))\n",
    "showarray(test_image[0])"
=======
    "import_images.append(prepareImg(cv2.imread('input_files_word_old/slice4.png'), 50))\n",
    "showarray(import_images[0])"
>>>>>>> bd57b4512b97cdd941a556532deb1ef09b42dde5
   ]
  },
  {
   "cell_type": "code",
<<<<<<< HEAD
   "execution_count": 177,
   "metadata": {},
   "outputs": [
    {
     "data": {
      "text/plain": [
       "(50, 773)"
      ]
     },
     "execution_count": 177,
     "metadata": {},
     "output_type": "execute_result"
    }
   ],
   "source": [
    "h, w = test_image[0].shape\n",
    "h, w"
=======
   "execution_count": 247,
   "metadata": {},
   "outputs": [
    {
     "name": "stdout",
     "output_type": "stream",
     "text": [
      "output_files/image-data/P583-Fg002-R-C01-R01-fused\n"
     ]
    }
   ],
   "source": [
    "input_files = 'output_files/image-data/'\n",
    "\n",
    "def load_slices(filepath):\n",
    "    slices = []\n",
    "    slices_filepath = filepath + '/'\n",
    "    slices_path = natsorted(glob.glob(slices_filepath + 'slice*_binarize.png'))\n",
    "    for slice_path in slices_path:\n",
    "        slices.append(prepareImg(cv2.imread(slice_path), 50))  \n",
    "    #print(len(slices))\n",
    "    return slices\n",
    "\n",
    "image_filepaths = glob.glob(input_files + '*')\n",
    "print(image_filepaths[len(image_filepaths) - 5])\n",
    "images = []\n",
    "for image_filepath in image_filepaths:\n",
    "    images.append(load_slices(image_filepath))\n"
>>>>>>> bd57b4512b97cdd941a556532deb1ef09b42dde5
   ]
  },
  {
   "cell_type": "code",
<<<<<<< HEAD
   "execution_count": null,
   "metadata": {},
   "outputs": [],
   "source": []
  },
  {
   "cell_type": "markdown",
   "metadata": {},
   "source": [
    "### Segment the line into different words"
   ]
  },
  {
   "cell_type": "code",
   "execution_count": 178,
=======
   "execution_count": 333,
>>>>>>> bd57b4512b97cdd941a556532deb1ef09b42dde5
   "metadata": {},
   "outputs": [],
   "source": [
    "#Count the number of black pixels in an image and return a float with the density\n",
    "def pixel_density(image):\n",
    "    area = float(image.shape[0]*image.shape[1])\n",
    "    blackPixels = float(np.sum(image == 0))\n",
    "    density = blackPixels/area\n",
    "    return density"
   ]
  },
  {
   "cell_type": "code",
   "execution_count": 334,
   "metadata": {},
   "outputs": [
    {
     "data": {
      "text/plain": [
       "'\\nres = []\\nwords = []\\nfor i, img in enumerate(import_images):\\n    res = wordSegmentation(img, kernelSize=5, sigma=5, theta=7, minArea=30) # fix parameters\\n'"
      ]
     },
     "execution_count": 334,
     "metadata": {},
     "output_type": "execute_result"
    }
   ],
   "source": [
    "\"\"\"\n",
    "res = []\n",
    "for i, img in enumerate(import_images):\n",
    "    res = wordSegmentation(img, kernelSize=5, sigma=5, theta=7, minArea=30) # fix parameters\n",
    "\"\"\""
   ]
  },
  {
   "cell_type": "code",
<<<<<<< HEAD
   "execution_count": 179,
=======
   "execution_count": 380,
   "metadata": {},
   "outputs": [
    {
     "data": {
      "image/jpeg": "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\n",
      "text/plain": [
       "<IPython.core.display.Image object>"
      ]
     },
     "metadata": {},
     "output_type": "display_data"
    }
   ],
   "source": [
    "#There still needs to come a loop through all the slices, here you can pick a slice to debug\n",
    "img = images[1][7]\n",
    "showarray(img)\n",
    "#Parameters are optimized. \n",
    "res = wordSegmentation(img, kernelSize=5, sigma=5, theta=7, minArea=100) "
   ]
  },
  {
   "cell_type": "code",
   "execution_count": 381,
>>>>>>> bd57b4512b97cdd941a556532deb1ef09b42dde5
   "metadata": {
    "lines_to_next_cell": 2
   },
   "outputs": [],
   "source": [
    "words = []\n",
    "for (j, w) in enumerate(res):\n",
    "    (wordBox, wordImg) = w\n",
    "    (x, y, w, h) = wordBox\n",
    "    if (w > 20):\n",
    "        if( h > 15):\n",
    "            words.append(wordImg)"
   ]
  },
  {
   "cell_type": "code",
<<<<<<< HEAD
   "execution_count": 180,
=======
   "execution_count": 382,
>>>>>>> bd57b4512b97cdd941a556532deb1ef09b42dde5
   "metadata": {
    "inputHidden": false,
    "outputHidden": false
   },
   "outputs": [
    {
     "data": {
<<<<<<< HEAD
      "image/jpeg": "/9j/4AAQSkZJRgABAQAAAQABAAD/2wBDAAgGBgcGBQgHBwcJCQgKDBQNDAsLDBkSEw8UHRofHh0aHBwgJC4nICIsIxwcKDcpLDAxNDQ0Hyc5PTgyPC4zNDL/wAALCAAYABwBAREA/8QAHwAAAQUBAQEBAQEAAAAAAAAAAAECAwQFBgcICQoL/8QAtRAAAgEDAwIEAwUFBAQAAAF9AQIDAAQRBRIhMUEGE1FhByJxFDKBkaEII0KxwRVS0fAkM2JyggkKFhcYGRolJicoKSo0NTY3ODk6Q0RFRkdISUpTVFVWV1hZWmNkZWZnaGlqc3R1dnd4eXqDhIWGh4iJipKTlJWWl5iZmqKjpKWmp6ipqrKztLW2t7i5usLDxMXGx8jJytLT1NXW19jZ2uHi4+Tl5ufo6erx8vP09fb3+Pn6/9oACAEBAAA/AJf2h/GkIs7fwjZT7p2kWe/CN9xQMpGw75JD47bVPesDw78dddsfDOl+HdM8PRXmpW8a20UpZ38xVBCgRKAchQo+9zg+vHK+JvHfxFj8Qw3mr3uq6TeIqvDbFHtkCg4yIzgEEg5JBzyOgxXq2rfGXU9PuYYkj0mwZ7aGV01YT+a7PGrbwsQZVU5AAJzwcgZrBu/gTqf9neIfEHijW4ZdQENxdoliPlkl2l9zsyDALdVVenQius/Zx/5J5f8A/YVk/wDRUVcr4usrb4qfHe00vT2Waw063SO+nR/lKI5aTaR7yBB/te3NeuQ+EPCWvz3mrXOgWd3Pc3L757kee0hQ+XkFs4X5OFHA9K6qaGK4gkhmjSSKRSjo4yrKRggjuK+UPAPhjx3rsetaBoGsSaTZWtwDexzTvCRJ8ybcKC2SAcjgHaM8gV9AfDz4dab8PtNmitZZbi9ughuriQ8MVBwFX+FQSx7nnknAxi+NvhRe+MvETaofFdxYQrEsMNtDbcIo5OSHG4lixzjuB2r/2Q==\n",
=======
      "image/jpeg": "/9j/4AAQSkZJRgABAQAAAQABAAD/2wBDAAgGBgcGBQgHBwcJCQgKDBQNDAsLDBkSEw8UHRofHh0aHBwgJC4nICIsIxwcKDcpLDAxNDQ0Hyc5PTgyPC4zNDL/wAALCAAyAC0BAREA/8QAHwAAAQUBAQEBAQEAAAAAAAAAAAECAwQFBgcICQoL/8QAtRAAAgEDAwIEAwUFBAQAAAF9AQIDAAQRBRIhMUEGE1FhByJxFDKBkaEII0KxwRVS0fAkM2JyggkKFhcYGRolJicoKSo0NTY3ODk6Q0RFRkdISUpTVFVWV1hZWmNkZWZnaGlqc3R1dnd4eXqDhIWGh4iJipKTlJWWl5iZmqKjpKWmp6ipqrKztLW2t7i5usLDxMXGx8jJytLT1NXW19jZ2uHi4+Tl5ufo6erx8vP09fb3+Pn6/9oACAEBAAA/APejcQC5W2M0YuGQyLFuG4qCAWA64BIGfcVLWN4s8PxeKfC2o6LK4jF1EVWTaDsfqrY9iB/9avjLxL4V1jwlqjWGsWjQS8mN+qSqDjcp7jimX3ifW9T1i21e91O4n1C22GG4dsum1ty4PsTmva/hr8cYYNLurXxrqbNNE6/ZpzAzM6kEFTsU9CAcnk7u+K8V03xPq2l+KIfEcV00mpRzecZZiW8wnqG9QQSD7Gvc739pTT0sovsOgXUt0Yx5vnyLGivxkLjcWXrycH2rkJv2h/GDau93Bb6aloY9i2TwsyA5zvLBgxbHHULj+HPNeqeC/jL4c8Y2lxZ6z9l0q5EZ8yG7lXyZkOAcM2AeuNp5x6848E+KOu6Fr/jOSfw7ZRW2nQRLbqYoljWZlLEuFAGAc4GecAfQei/AvwJpeueH9R1DXdAhuo5J1W1muA3zAAhto6YB4yO+R2q38X/hDaCDVvGOl3n2dlX7Rc2jrlWbI3FCORnrg559AePEvC+hN4m8Tafoq3At2vJfLEpXcF464yM9Kh17TE0XX7/TI7pbpbSdofOVdofacE47VnV0XhDwhqfi7W7O0tLK7eze4SK5uooiywISNzE9AQuTgnnFfaGkaVaaHpNrplhEIrW2jEcagAdO5xxknJPuTTNd0xda8P6jpbMqC8tpIN7LuCllIDY74Jz+FfDY028bVhpQt2N8Z/s4h7+Zu27frniu40j4JeOdVujC+mJp6AZM17KFQdf7u4np2HevZtA+APhCwsk/teC41K7aNPN33LJGjgfNs2bTgn+9noOlejaJoWmeHNLj03SLOO0tI8lY0yeT1JJ5J9ySa0KqaVZyafo9lZSzm4kt7eOJ5m6yFVALHk9cZ6188fHjwPcaTry+MNLWUW10ym6aMH/R5hgB8gfKG45/vZ55Ar2H4Y+L28a+CLXUpyDexMbe7wuB5q45HGOVKtxwN2O1djRRRWN4u099V8G61YRwCeWexmSKI4+Zyh2jnvuxXz7+ztrd7beMrrRg1zJYXVq8jRIu5I5VK4kb+6MZXPcsoPbHZ+P/AI8J4d1e70XRNM+0Xlq7RTXF0cRq4HRVHLYPckdD161z3hn9oy//ALSji8S6damzkYK09mrK0Q/vFSW3D2GD/I/QtvPFdW0VxC4eKVA6MP4lIyD+VSUV5F8MUVPix8RVRQqi5j4AwPvSV8vu7SOzuxZ2OWZjkk+pptfdnhv/AJFbSP8Aryh/9AFf/9k=\n",
      "text/plain": [
       "<IPython.core.display.Image object>"
      ]
     },
     "metadata": {},
     "output_type": "display_data"
    },
    {
     "data": {
      "image/jpeg": "/9j/4AAQSkZJRgABAQAAAQABAAD/2wBDAAgGBgcGBQgHBwcJCQgKDBQNDAsLDBkSEw8UHRofHh0aHBwgJC4nICIsIxwcKDcpLDAxNDQ0Hyc5PTgyPC4zNDL/wAALCAAjABsBAREA/8QAHwAAAQUBAQEBAQEAAAAAAAAAAAECAwQFBgcICQoL/8QAtRAAAgEDAwIEAwUFBAQAAAF9AQIDAAQRBRIhMUEGE1FhByJxFDKBkaEII0KxwRVS0fAkM2JyggkKFhcYGRolJicoKSo0NTY3ODk6Q0RFRkdISUpTVFVWV1hZWmNkZWZnaGlqc3R1dnd4eXqDhIWGh4iJipKTlJWWl5iZmqKjpKWmp6ipqrKztLW2t7i5usLDxMXGx8jJytLT1NXW19jZ2uHi4+Tl5ufo6erx8vP09fb3+Pn6/9oACAEBAAA/AMLxj8cPFcHja+i0a6S0020nMKW0lvG/mbDhizEbvmIPQjAx35rU+M3jW+1Twl4TvdLv1hstQR55BbSEP5ygAqSOQF3MMZ65yOBWn8CviRqOs31z4c16/uLy4KedZTTDc2ASXVm6k8gjOeARkYAqT4gfGzWfCPjjUdCtNNsZoLXytskpbcd0auc4Pqxryf4teHm8OfEjVLcIRb3L/a4D/eSTk9yeG3Lz/dzXE16V8C9bh0b4l26TsiJqED2QZzjDMVZQPcsgH419Ba78KvB/iTWbjVtV0x5r242+ZILmRM7VCjgMAOFFeQ/tGeG/suuWHiGGCXy7xPIuJSzMokUfKOeFyoPAxnaTjOTXd/C6w8O+N/hRY2+o6NZXDWwezn3QAEMowGDdQ2xlO4EEEnFeANp8/wAO/iZZ2+sbZX0i+t55/sx3B1BST5c45KkdcV9laZqVrrGl2upWMnmWtzGssT4xlSMjjtXOfEzw03irwFqOnQWiXV6FEtojEAiVTwQT0ONw/EjvXh3wC8Xy6P4sfw7cs/2PUgfLQICUuBjBJ6gFQwPXnHvU/wC0Zo1zD4usdY8pRaXNoIQ69S6Mc7vwdcH/AArV+HWofEq28B6ZFoOk282mASmCSTZlsyuT1cH7xPavoOvL7jwpocHxxsb+HT0juZIDcsyMygy4cbtoOM4Azxyck8k16bLDFcRmOaJJEPVXUEfkaVESNFSNVVFGAqjAAr//2Q==\n",
      "text/plain": [
       "<IPython.core.display.Image object>"
      ]
     },
     "metadata": {},
     "output_type": "display_data"
    },
    {
     "data": {
      "image/jpeg": "/9j/4AAQSkZJRgABAQAAAQABAAD/2wBDAAgGBgcGBQgHBwcJCQgKDBQNDAsLDBkSEw8UHRofHh0aHBwgJC4nICIsIxwcKDcpLDAxNDQ0Hyc5PTgyPC4zNDL/wAALCAAqABoBAREA/8QAHwAAAQUBAQEBAQEAAAAAAAAAAAECAwQFBgcICQoL/8QAtRAAAgEDAwIEAwUFBAQAAAF9AQIDAAQRBRIhMUEGE1FhByJxFDKBkaEII0KxwRVS0fAkM2JyggkKFhcYGRolJicoKSo0NTY3ODk6Q0RFRkdISUpTVFVWV1hZWmNkZWZnaGlqc3R1dnd4eXqDhIWGh4iJipKTlJWWl5iZmqKjpKWmp6ipqrKztLW2t7i5usLDxMXGx8jJytLT1NXW19jZ2uHi4+Tl5ufo6erx8vP09fb3+Pn6/9oACAEBAAA/AMP9obxJcXvi230BHdbTT4lkZMkB5XGd2MYOFwAecZb1IrjrT4reM7Hw4mh22tSx2saGNJAB5qJ02iT7wA7Y5HGMYFdN8Mvix4ptfFel6TqF/Nqljf3cdu63cheRC7bQyucngsDg5BAxxnNfU1eRfGz4a6j4wjstW0ONZtQtEMUtuWCmWMnIKkkDKnPHcHrwAfnPVfC2v6Fbpcato19Ywu+xXuIGQM2M4BI64BrvvgR4Qh8R+MJNRu0Y22kCO4Uq2P3+/MffOPkY9COOetfVdFcR8WPCsvi7wDeWdpEsl/AVubZWIGWU8jJHBKlgOnOMnGa8C+CXiweGPHsdndyeVZaoPssxcsAkn/LMkDvu+XJ6BycgZr60orK13xLovhm1FzrWpW9lEwYp5rcvgZIVRyx9gCelfG3jW90i78cape+Gw0WmyXHmW5ClOeCWUdVBbJA4wCOB0rubT4yeNksoEOpxvtjUbnt0LHjqTjk1T8WfGLxrPq2rafBqctlai6ljjjjiWOWJAxAXeBuBA4znPFcPoXh7WfFmrfYdIs5L28cNIw3AcDqWZiAPqT1PvXsvgP8AZ/nMovPGaRrCUYCwimJcNngs6HHrwCeo/D3+1tobK0htbaJYoIUWOONBgIoGAAOwAFea6zoWkah8YLT7bpVjc+dCDL51uj7yI2Azkc9B19BXpcEENrbx29vEkUMSBI441CqigYAAHAAHapKK/9k=\n",
>>>>>>> bd57b4512b97cdd941a556532deb1ef09b42dde5
      "text/plain": [
       "<IPython.core.display.Image object>"
      ]
     },
     "metadata": {},
     "output_type": "display_data"
    },
    {
     "data": {
<<<<<<< HEAD
      "image/jpeg": "/9j/4AAQSkZJRgABAQAAAQABAAD/2wBDAAgGBgcGBQgHBwcJCQgKDBQNDAsLDBkSEw8UHRofHh0aHBwgJC4nICIsIxwcKDcpLDAxNDQ0Hyc5PTgyPC4zNDL/wAALCAAZAC4BAREA/8QAHwAAAQUBAQEBAQEAAAAAAAAAAAECAwQFBgcICQoL/8QAtRAAAgEDAwIEAwUFBAQAAAF9AQIDAAQRBRIhMUEGE1FhByJxFDKBkaEII0KxwRVS0fAkM2JyggkKFhcYGRolJicoKSo0NTY3ODk6Q0RFRkdISUpTVFVWV1hZWmNkZWZnaGlqc3R1dnd4eXqDhIWGh4iJipKTlJWWl5iZmqKjpKWmp6ipqrKztLW2t7i5usLDxMXGx8jJytLT1NXW19jZ2uHi4+Tl5ufo6erx8vP09fb3+Pn6/9oACAEBAAA/APQdV8cSr8KNW8URBbHEUiWEjSCZ2OfLjd1C4Vy/8HzBf4j1A88+H/xi0vwx4HjTxJq2oavqc1xJIsSK0skMfACs7kA5IZup4b8K3/hZ8XdU8ceL7/StQsbeGBoWuLUw53RBWA2MT97hhzxyOnPGT488W+ILv45aV4a0TXJdLitmhifecQvI4DksoP7zKsihW7jAxnNT/tD+MJLHTrPwtZzMkt4PtF2VJH7kEhV6chmDE8/wDsa774TXd9e/C7QrjUbg3Fy0TgyFw5KiRgmSO4UKDnnjnnNcB8VRo/h/4e6b8PdLW/udTunjktYN7NI2ZCxaTGNxZi+FxjdyANoxufDX4PaLovh63uvEWjW93rc6EzpdhZ44QWyFVSNoIAXJ5OSwBxXnejQQ+D/2nGsrZmFpJePGIrVMKFnjLKm1eNqM6+w2Z7V2fxs+Hs98q+M9B22+paehmvHSTy3dIxuWRT/fQL9SMY6AVieF/Dui/FjwBq+sX1obzxtGkkL3JuTG0koT9w2xWCBdoVMlRnYx65NdT+z74gg1LwC2jgbbnSZmV15OUkZnVumOSXGMn7ue4rl7nxlp3ww8V69ea1C+ueNL9kkmEGEtrSM8rCkrjf8AcKk/KQQEHGCah8SeOPi5rGgz6vY6HJomjDgtFGPPZHwq/f8AnPXhkVeue2R514Ok8W6R4vj1rTvD11qeqrvZftNtNJ8z8M52kEn5jyTjnPXmvT7nw/8AF74lHyNcnh0LRpiDJAMINoIBGwEux4LBXYDI6gYr1XwF4HsfAOgNpdnczXJll8+aaYAFpCqqdoA4X5cgEkjJ5NcDcfDPxXpHxK1fXPBdzpulWV3AoXzTkZYgyKF2Nj5k3dAPnAHcDr1/5Km/0/8AaIrt6KKKK//Z\n",
=======
      "image/jpeg": "/9j/4AAQSkZJRgABAQAAAQABAAD/2wBDAAgGBgcGBQgHBwcJCQgKDBQNDAsLDBkSEw8UHRofHh0aHBwgJC4nICIsIxwcKDcpLDAxNDQ0Hyc5PTgyPC4zNDL/wAALCAAoACYBAREA/8QAHwAAAQUBAQEBAQEAAAAAAAAAAAECAwQFBgcICQoL/8QAtRAAAgEDAwIEAwUFBAQAAAF9AQIDAAQRBRIhMUEGE1FhByJxFDKBkaEII0KxwRVS0fAkM2JyggkKFhcYGRolJicoKSo0NTY3ODk6Q0RFRkdISUpTVFVWV1hZWmNkZWZnaGlqc3R1dnd4eXqDhIWGh4iJipKTlJWWl5iZmqKjpKWmp6ipqrKztLW2t7i5usLDxMXGx8jJytLT1NXW19jZ2uHi4+Tl5ufo6erx8vP09fb3+Pn6/9oACAEBAAA/APf6yvEuiR+I/DOo6NKyqt5A0QdkDBGI4bHqDgj3FfJngXXbj4dfEuNr5diwTvY36AqcLu2tz0+VgG4PO3rg19P3fxJ8F2NwsE/iXTt7JvGyYOuM46rkA+3Wuhsr601G2W5sbqC6t2JCywSB1OODgjiqQ8SaOfET+H/7QhXVVjWX7MxwzKQT8ufvHCkkDkDmvOvjx4m1rw1oujzaNe3FnJJdMHliIwQFyFIPXPXpjg57Z4/+wLz43+DJdetdO0nTtdtrsxTSpuX7YVRTg8HZhWXBJbJBztHNeM6zo2oeH9Vn0zVLZ7a8gbDxtz9CCOCD2IrpPh94v8V+Gb+4Tw3by3/mREyWflySoOVzJsQjB4Az749K0fjg9s/xV1P7OACqRCXAxl9gz9eMVmXnj+91L4c/8ItqJubuZdQF1HdzTl9kYTb5eCM9STnPevZv2briZvB2rWzWzLBHqHmJcE8OzRqGUD1UKp/4GPSvJvjD4ttPGHjyS6sNrWlpAtpFKpOJQrMxbkDHLkfhXV/Bfw1r2h68+tX2jXq6fd6aRBMke8PvaN1IA5wVBNeaeN3Enj7xHIu4K2qXJG5Sp5lbqDyPoawa+sPhJ4Z0o/CT7JBfS3VtrCtLclTsaKR41jkQEcjaUODXIWv7NCCYm78TM0WOBDabWz9Sxr36vJfHPwL07xZ4gbWLLUm02a4Ytdp5XmLIeOVGRtPBz1yT25zW8c/AzSLzwtGfDVt5OsWNuscfzBRdhcZ8zjG8jJDDGSeeMYxP2e4/EGmatrOlX1jqNvp4G5lmgKRx3A25BLAEOUK8DtgntXv1Ff/Z\n",
>>>>>>> bd57b4512b97cdd941a556532deb1ef09b42dde5
      "text/plain": [
       "<IPython.core.display.Image object>"
      ]
     },
     "metadata": {},
     "output_type": "display_data"
    },
    {
     "data": {
<<<<<<< HEAD
      "image/jpeg": "/9j/4AAQSkZJRgABAQAAAQABAAD/2wBDAAgGBgcGBQgHBwcJCQgKDBQNDAsLDBkSEw8UHRofHh0aHBwgJC4nICIsIxwcKDcpLDAxNDQ0Hyc5PTgyPC4zNDL/wAALCAAbAEsBAREA/8QAHwAAAQUBAQEBAQEAAAAAAAAAAAECAwQFBgcICQoL/8QAtRAAAgEDAwIEAwUFBAQAAAF9AQIDAAQRBRIhMUEGE1FhByJxFDKBkaEII0KxwRVS0fAkM2JyggkKFhcYGRolJicoKSo0NTY3ODk6Q0RFRkdISUpTVFVWV1hZWmNkZWZnaGlqc3R1dnd4eXqDhIWGh4iJipKTlJWWl5iZmqKjpKWmp6ipqrKztLW2t7i5usLDxMXGx8jJytLT1NXW19jZ2uHi4+Tl5ufo6erx8vP09fb3+Pn6/9oACAEBAAA/APVfiD42tPAvhibUpfLku3+S0tmbBmfj9ADk/THUivKPgZ8QNf1rxdqGla1qM99HdQvdI0xyYpAwyF/uqQT8o4GBgDmuT8bfEXWNL+M+q6vpF3OBYzNZxwXJ3R7UCpIu3OArOhbjB6Hg13Gs/tJ2CR7dD0K5lcgfPfOsYU55+VC2ePcdfbnS+FHxev8Axp4mvtI1mKzgZ42nsvKO08EZj5PznB3DHOFYnjpw9v8AGi5T4vy6xdajenw0GlgW1hGVaEKwjbYcDcW2tnqMkZxxSeNfi1e/EiS38J6HaDT7K/uooTLcv88pL4UNjIVclSQMnjqRwfoZ5tP8JeFBJMFttP0uzA2hy2xI1wFBbljgADPJ4r580T4ueKfEvxc0wwXhg0u5vFt0sCB5YgZgDux1fAzuJ4OcYBxX0zXgD+Edc+KPxdur3xJpl/Z+G9PJSJJ4mg82JSQiKSATvOWYjoCRkfLUthpbeEP2moYILK2tdO1SB/s6xR7ECeSThQuADvjwfr75rlPj/wCGbvTPHLa6Tvs9VVSjBceW8aKhQ/gAw6dSO1e2fDXwx4fsvBfh3UrTRrGO/awila78hTMXdPnO8/NyWbv0OOnFeQCK28HftQRIkX+jTXwCKgAANzHjgdgGl/IVh/G7wpF4b8dedZWCWmmX8SyQiJQsYZQA4UDgYOCR/tD1rpfiB8CrPw14Pl1nRtQvLmeyQPdRTqpEi5ALJtA245Yg5478cy+JfiJc/Fqx0fwb4etpbefUCjak0yZRCpDYBGTsBXdu4OAvqRWb8SvB1v8ACvxH4W13QbeRrSEoXMju3mXETbiXboN6kDAwPlbAr6Ws7qG+soLu3cPDPGssbDurDIP5Gpq8Z+PED6TceFfGMKh30u/VHjyQZORIvPIA/dsOn8Qrl/id8SLb4j2Efhnwrol7qLiVbhpxblnG0H/VoAW/iwWOO4wc5r1z4V+H77wz8O9M07UXf7ThpmiYAeRvYtsGADxnnOTknnGAPJf2jbGa28VaBq6bGEts0KLg53Rvu59j5o/I13Xx90aHUfhrNftsWbTZ45kYpliGYRlQewO8HvnaOO47HwhEt38OtBhvI1mSbSbdZkkUMHBiUMCDwQeeK8k+Blpcab8QfFtlp6zP4fRpIlnkj+88cuIgWwPm2M5I469K9J+K3h1vE3w51WzhtzPdxILm2VI97+YhzhR13Fdy8c/MevSqHw2Piq1+HmjW2oWDJcQxNHsuV2SKiuwQFSQRhAo5HTFehV578cIo5PhHrLOis0bQMhIyVPnIMj0OCR9Ca0fhloOlaP4D0WfT7CC3mvNPgnuJVX55XZAxLMeTyTgdB2xXY1TvNI03Ubm0ub2wtrmezfzLaSaJWaFuOVJHB4HT0HoKsyxRzRmOWNZEPVXGQfwp9FFFf//Z\n",
=======
      "image/jpeg": "/9j/4AAQSkZJRgABAQAAAQABAAD/2wBDAAgGBgcGBQgHBwcJCQgKDBQNDAsLDBkSEw8UHRofHh0aHBwgJC4nICIsIxwcKDcpLDAxNDQ0Hyc5PTgyPC4zNDL/wAALCAAgACkBAREA/8QAHwAAAQUBAQEBAQEAAAAAAAAAAAECAwQFBgcICQoL/8QAtRAAAgEDAwIEAwUFBAQAAAF9AQIDAAQRBRIhMUEGE1FhByJxFDKBkaEII0KxwRVS0fAkM2JyggkKFhcYGRolJicoKSo0NTY3ODk6Q0RFRkdISUpTVFVWV1hZWmNkZWZnaGlqc3R1dnd4eXqDhIWGh4iJipKTlJWWl5iZmqKjpKWmp6ipqrKztLW2t7i5usLDxMXGx8jJytLT1NXW19jZ2uHi4+Tl5ufo6erx8vP09fb3+Pn6/9oACAEBAAA/AOr+GHhIfDjwDd63qvm/bpYGvJ4gzp5cYQMIyhO0uNp5IBBYr06+CfED4gal461yS4lkmi09CVtrTedqJkkFgOCxzyfYDtXYfAvx3qOn+LLbw5eXc02mXqtFDHI5YQScspUYOATkEDA+bJ6V2HxA+PKaTdPp3heOOa6hllgupLuBtqFeAU+YZ53dR2Feb+C/ih43j8WWEP8Aat7qcd3exiWzldX83c2CqF+E68YKqOM8V9b1leI9Ci8S6Fc6RcXM9vb3KlJWg27ip6j5gQP/AK1fO2pfs6eKLe8ZNOv9PvLbGVlkZomP1XBx+ZrhdJW48EfEmxXUpFtpNM1FBcunzhVDjeRgHI256DP417744+B2l+L9WGsaXqX9mzzndcYj86OYk53j5hg4Prg4HTknwrSXPw7+KcB1KN5F0q+Ky7QAzICRuAyf4TuAz7Z719Nf8Le8Bf8AQyW3/fuT/wCJroNT8UaBo04g1PW9PspiMiO4uURvyJ9xXkXif9oq2tBd2mgaX593FOY0uLlw0DKGILgIcsCBxyOue2D4FqupXviHW7jUbrEt7eS738tMbmPoBX234Zhlt/CmjwTRtHLHYwo6OMFWCAEEdjmuA+J3wffx7r1nq1rqqWcqRLbzJJDuBQMx3Lgj5huxg8HjkY50v+FOeHf+frUf++4//iK+dvFfgfxpD4s1KLULC+1K8ybiS7hhaRZU/vggdPbt07Vs+H/gX4s17TrTUN1lZ29yNwW4kYSIuSMlQv44z3r1/wAEfA7QfDLWWoakz6jq8D+bvLYhRwTt2pjtxyc8jPHSvU6KK//Z\n",
>>>>>>> bd57b4512b97cdd941a556532deb1ef09b42dde5
      "text/plain": [
       "<IPython.core.display.Image object>"
      ]
     },
     "metadata": {},
     "output_type": "display_data"
    },
    {
     "data": {
<<<<<<< HEAD
      "image/jpeg": "/9j/4AAQSkZJRgABAQAAAQABAAD/2wBDAAgGBgcGBQgHBwcJCQgKDBQNDAsLDBkSEw8UHRofHh0aHBwgJC4nICIsIxwcKDcpLDAxNDQ0Hyc5PTgyPC4zNDL/wAALCAAgAEoBAREA/8QAHwAAAQUBAQEBAQEAAAAAAAAAAAECAwQFBgcICQoL/8QAtRAAAgEDAwIEAwUFBAQAAAF9AQIDAAQRBRIhMUEGE1FhByJxFDKBkaEII0KxwRVS0fAkM2JyggkKFhcYGRolJicoKSo0NTY3ODk6Q0RFRkdISUpTVFVWV1hZWmNkZWZnaGlqc3R1dnd4eXqDhIWGh4iJipKTlJWWl5iZmqKjpKWmp6ipqrKztLW2t7i5usLDxMXGx8jJytLT1NXW19jZ2uHi4+Tl5ufo6erx8vP09fb3+Pn6/9oACAEBAAA/AN/4vfFjUfBOsafpeiJZyXDR/aLnz0L4UnCrwRjOGJ74x073fF/xj8PW/guebRtagGs3VkstrCFMjxM/ZtuVV15+UnggZyOvkuhfHTxLoXhM6SFF9erMWiv72UyFIiB8m3GWIOSGLHAOMYAr3n4Y+Ok8d+FUvJntl1OBjHeW8OR5ZydpwecMoyDyM5GeCB4t8Zfile6xrFx4d0a6kt9KtHaK4eJypupBkMCR1QcgDoepzxjv/gR48n8R6LcaHqdw82o6eA8csr7nmhJ755JU4BPoy1zHx78UW2q6N4Zm0m4WSF7m6kjnjkGcwuIwykHoTuIPsK6nxL8fdD0VLD+z7FtVkurRLlvLuERYS3SNiNxDjByMccdc8c14R/aEuLvxPJF4mhtLTSZ87JYVfNtgEjOAS+cAduTngcV73aXMd7ZQXUWfLmjWRdwwcEZGfzr5Mk+Hfjzxv4w1G6l0K7snubp5JJdQzHHGGY4AYj5wBx8gPAHGKfr/AMKT4U8R+E9K1PVBdy6zcrFcx2ke3yV8xF+R2+8SGOMqMEdK9on+BHgv+wLixtrKUXrROIr6Wd2dXOdrEAhSAccY6D8a+eIdU8WfDLX9U020vZtOvObe5VVBWQDlWAYehyrAA4bg8mu68Jfs+atrelw6hrOojSRKA6W32cyS7f8AayyhDjtyeeQDxWBqfhHUvBPxOTwnZ6o8UWrrHZfbDCCXt7ghGyp99w4I+71Fem6f+zdosf2R9Q1m9lKxH7THCFUPJ2KEglVHIwQSeuR0r1K18IeH7O4sriPSbZriytorW2mlTzHhjjzsCs2SMbjyOT3zgV8k+NNDtPDfxQ1HTLqHZp0d8JPKhbbi3chwqnBwQjAZweR0NfZNhFBBp1rDav5lvHEixOGDblAAByOvHerFeQfHyOew0zw54ntI0a50jUlZC+SBnDDI7jdGv+Sa9MbxFpEfh6LXpr+GDS5YUnS4mby12OAV69zkcdcnHWvmrxUrfGb4o/8AFK6ey2qRRwz3bIEyoY5mfp2OAD8xCD6D6oryr45+BrjxR4Zg1LTLV7jVNOckRRKWeWFuGUADLEHawHpuxya9H0ae8utD0+41GEQX0ttG9zEoICSFQWUAk4wcjrV6vDfj74J1PXb/AELUtE0e4vblg9rcvACxAyDFuGeBkyfNjAzyelexaDpp0bw7pmlltxsrSK33ZznYgXPQenoK0K5T4mRSzfDPxEkNvFO/2GRtkgyAAMlh7qAWHuB1rxf4ZfB//hMvD1prHiPUb5NPUullZRsBlAwJYMSdqlvMG0KCT82eeff9C8O6P4ZsBZaNp8FnBxkRry56ZZjyx9ySa1KKKKKK/9k=\n",
=======
      "image/jpeg": "/9j/4AAQSkZJRgABAQAAAQABAAD/2wBDAAgGBgcGBQgHBwcJCQgKDBQNDAsLDBkSEw8UHRofHh0aHBwgJC4nICIsIxwcKDcpLDAxNDQ0Hyc5PTgyPC4zNDL/wAALCAAsACgBAREA/8QAHwAAAQUBAQEBAQEAAAAAAAAAAAECAwQFBgcICQoL/8QAtRAAAgEDAwIEAwUFBAQAAAF9AQIDAAQRBRIhMUEGE1FhByJxFDKBkaEII0KxwRVS0fAkM2JyggkKFhcYGRolJicoKSo0NTY3ODk6Q0RFRkdISUpTVFVWV1hZWmNkZWZnaGlqc3R1dnd4eXqDhIWGh4iJipKTlJWWl5iZmqKjpKWmp6ipqrKztLW2t7i5usLDxMXGx8jJytLT1NXW19jZ2uHi4+Tl5ufo6erx8vP09fb3+Pn6/9oACAEBAAA/APf65jx94RtvGvhK50mdgkoImt5dpby5VBwcAjPBI+hNfHvh/Wr3wr4ls9WtQEurKbdskTI9GUj3BI7HnqDX2xpuu6bqugQa5bXUf9nTQ+eJnYKqLjJ3HoMYIOehBz0qaw1TT9ViaXTr+1vI0baz28yyAHrglSea5/RPiV4Q8Q6sdL0zWYprzJCxlGTzCMn5SwAboelbuo61pWj+V/aep2Vl5ufL+0zrHvxjONxGcZH5ivF/it8I5vE14fFXhL7NO1xF5tzAkn/HwcDa8WBtJYZJ5GcAjJJrwrVfDeuaGpbVdIvrNBJ5XmTwMiFueAxGD0PQ9qn8I3urWPizS5NEmki1CS5SKHy2ALFmC7Tu4wc4549a+5K+KfiRcz3PxH8Q+fNJL5d/PGm9i21RI2FGegHpVz4dePrrwZrcfn3d8dEl3C7tLcglwVIBUEja2cfMCDx1qx8SPiZqPxA1EW6oYNIgmLWlsFw7dg78nL4PQcDOB3J9d+C/wsm8N58Q67A0eqSIUt7dwp8lCAdx6kOemOMDIPXjyPxD4x8d6B4mv9IuPEmsQtbXDR4lnOduflb3ypByOoOa+mNd1vT/AAx4Vh8Raky3kNnbBRKsSmWVn2DKFmGM9SO/4c/Hrpe+KfE0v2DTwbvULhnjtLVPlUsSdqjso/QCvoLwX8AdP0q60vVtavpLu6g2zSWYQCISdQCepCnH1xyMcV7TXzb+0hpEVr4i0jVo441a9geKQrnczRleSOnRwM+3sK8z1vxt4l8TWNpp+qanJcW1quyGFY0QY4AyEA3fdGM5x+Jr3D4RfB240K8tPE+vu0d+qlrexHBh3AjdIfXBPy9s888D26uB+J/xMtvh/p8CRRJdardZMNuzYCoDy745A7D1OfQ0z4t+EdL8T+HYJ77zlnspcwyQvggPgMCCCCDhT0zx165d4E+GfhTQNL0+/t9LSfUDGkxu7k+ZIG5IK54XGcfKB0GckZrv6K5X4geFNK8V+FLuDU4Sxt43mgmTAkiYDPykg9cYI7j8K//Z\n",
>>>>>>> bd57b4512b97cdd941a556532deb1ef09b42dde5
      "text/plain": [
       "<IPython.core.display.Image object>"
      ]
     },
     "metadata": {},
     "output_type": "display_data"
    }
   ],
   "source": [
    "for word in words:\n",
    "    showarray(word)"
   ]
  },
  {
   "cell_type": "code",
   "execution_count": 181,
   "metadata": {},
   "outputs": [
    {
<<<<<<< HEAD
     "name": "stdout",
     "output_type": "stream",
     "text": [
      "28\n"
     ]
    },
    {
     "data": {
      "image/jpeg": "/9j/4AAQSkZJRgABAQAAAQABAAD/2wBDAAgGBgcGBQgHBwcJCQgKDBQNDAsLDBkSEw8UHRofHh0aHBwgJC4nICIsIxwcKDcpLDAxNDQ0Hyc5PTgyPC4zNDL/wAALCAAgABQBAREA/8QAHwAAAQUBAQEBAQEAAAAAAAAAAAECAwQFBgcICQoL/8QAtRAAAgEDAwIEAwUFBAQAAAF9AQIDAAQRBRIhMUEGE1FhByJxFDKBkaEII0KxwRVS0fAkM2JyggkKFhcYGRolJicoKSo0NTY3ODk6Q0RFRkdISUpTVFVWV1hZWmNkZWZnaGlqc3R1dnd4eXqDhIWGh4iJipKTlJWWl5iZmqKjpKWmp6ipqrKztLW2t7i5usLDxMXGx8jJytLT1NXW19jZ2uHi4+Tl5ufo6erx8vP09fb3+Pn6/9oACAEBAAA/AN/4vfFjUfBOsafpeiJZyXDR/aLnz0L4UnCrwRjOGJ74x073fF/xj8PW/guebRtagGs3VkstrCFMjxM/ZtuVV15+UnggZyOvmXgz496n4a0Eabqmnza3IkrNHczXux1Q4whyjFsHcck9CB0ArGk+Hfjzxv4w1G6l0K7snubp5JJdQzHHGGY4AYj5wBx8gPAHGKfr/wAKT4U8R+E9K1PVBdy6zcrFcx2ke3yV8xF+R2+8SGOMqMEdK9zsvgh4BtLVIZNHe6dc5mnuZN7c99pA9uAOleh15B8fI57DTPDnie0jRrnSNSVkL5IGcMMjuN0a/wCSa9W0+/t9U0211CzfzLa6hSaJ8EbkYAg4PI4NWa5T4mRSzfDPxEkNvFO/2GRtkgyAAMlh7qAWHuB1rw/wB8I9b8YeEbbVZ/E13pVuXeO0t/KMoMQOdwxIu0Fy/GPU/wAVf//Z\n",
=======
     "data": {
      "image/jpeg": "/9j/4AAQSkZJRgABAQAAAQABAAD/2wBDAAgGBgcGBQgHBwcJCQgKDBQNDAsLDBkSEw8UHRofHh0aHBwgJC4nICIsIxwcKDcpLDAxNDQ0Hyc5PTgyPC4zNDL/wAALCAAhABoBAREA/8QAHwAAAQUBAQEBAQEAAAAAAAAAAAECAwQFBgcICQoL/8QAtRAAAgEDAwIEAwUFBAQAAAF9AQIDAAQRBRIhMUEGE1FhByJxFDKBkaEII0KxwRVS0fAkM2JyggkKFhcYGRolJicoKSo0NTY3ODk6Q0RFRkdISUpTVFVWV1hZWmNkZWZnaGlqc3R1dnd4eXqDhIWGh4iJipKTlJWWl5iZmqKjpKWmp6ipqrKztLW2t7i5usLDxMXGx8jJytLT1NXW19jZ2uHi4+Tl5ufo6erx8vP09fb3+Pn6/9oACAEBAAA/AN/9oe5vLLwhplzZ3l7bk3vkv5E5RGBRmwwByTlAR2HzeoryrSvjl4x0rw9JpguY7qclvKvroGSaMH3PDYPI3Zx06DFdr8JfjB4g1rxbFoXiGdL1L0MIZhEkbROqk4wigEEA9fz7V9AVh+LfCmm+M9Al0jVEYxMQ8cifficZw6+/JH0JHevm34jfBu48D6fLq8Or29zpokWNElBScsxPygAFWwBnOR0PHFVvgU8S/FXT/NZBmKYJuI5bYcY9+tfW9Fee/EH4geBtO0W60zWbiDVPP3QS2FqyyyAjruwR5ZB6EkHPTkcfJFpd3FhdxXdpNJDcQsHjkjYqysOhBHIr6M0/9oGz/s21+26Nqsl35Kec8Nunls+BuK5fpnOPavMviH8QPGV14o1HTrvVLqyjtZJLb7NaStEjJuP3gpwxIx17Vyfh3wzrHi7V0sNKtZJ53yWcg7EHcu2OB05Pcj1r2DSP2a7iW3tZtX8QrBKSDPbW9tvwM/dEhYc477cA+uOfd7DRrHTNOtbC2iK29tCkMQLkkKoAHPfgV83/ALQv/I82v/XAf0r3vwd/x5XP/XQfyrpKK//Z\n",
      "text/plain": [
       "<IPython.core.display.Image object>"
      ]
     },
     "metadata": {},
     "output_type": "display_data"
    },
    {
     "data": {
      "image/jpeg": "/9j/4AAQSkZJRgABAQAAAQABAAD/2wBDAAgGBgcGBQgHBwcJCQgKDBQNDAsLDBkSEw8UHRofHh0aHBwgJC4nICIsIxwcKDcpLDAxNDQ0Hyc5PTgyPC4zNDL/wAALCAAfABYBAREA/8QAHwAAAQUBAQEBAQEAAAAAAAAAAAECAwQFBgcICQoL/8QAtRAAAgEDAwIEAwUFBAQAAAF9AQIDAAQRBRIhMUEGE1FhByJxFDKBkaEII0KxwRVS0fAkM2JyggkKFhcYGRolJicoKSo0NTY3ODk6Q0RFRkdISUpTVFVWV1hZWmNkZWZnaGlqc3R1dnd4eXqDhIWGh4iJipKTlJWWl5iZmqKjpKWmp6ipqrKztLW2t7i5usLDxMXGx8jJytLT1NXW19jZ2uHi4+Tl5ufo6erx8vP09fb3+Pn6/9oACAEBAAA/APPvjJ4cfw98R9R2W7x2d8RdW7Egh9wG/GOmH3DB5xj1BP0n4B8Zab4p8JWN3HqEUl1HDHHdo0g3pKcL8wOD8zdD37Zrra4P4pfDpPH+iQx28kVvqlo5a3mkztIIwUYjPBODnBIx7mvlDWvDms+Hbgwavpl1ZtvZFaWMhXK9drdGHI5BPWu1+FvxH1jwncz2SsbvTjCzLaSvhUfcPmU4JHVuBwd2etfW1eW/HzXF0r4dmzCW8kupXC2+yU/MqAFy6juQVUZ7bhXkvwV8Ax+MNS1K6vpJotPtoRHuhcK7SsQQBlSMBVbP1X3r6sr54/aTsLw32i6iYV+wrG8AlDjPmE7sFfoOv16d/UvhZ4Rh8IeB7K3MAjv7lBPeNuyWkPOMgkYAwBjjjPUmv//Z\n",
>>>>>>> bd57b4512b97cdd941a556532deb1ef09b42dde5
      "text/plain": [
       "<IPython.core.display.Image object>"
      ]
     },
     "metadata": {},
     "output_type": "display_data"
    },
    {
     "data": {
<<<<<<< HEAD
      "image/jpeg": "/9j/4AAQSkZJRgABAQAAAQABAAD/2wBDAAgGBgcGBQgHBwcJCQgKDBQNDAsLDBkSEw8UHRofHh0aHBwgJC4nICIsIxwcKDcpLDAxNDQ0Hyc5PTgyPC4zNDL/wAALCAAgAA8BAREA/8QAHwAAAQUBAQEBAQEAAAAAAAAAAAECAwQFBgcICQoL/8QAtRAAAgEDAwIEAwUFBAQAAAF9AQIDAAQRBRIhMUEGE1FhByJxFDKBkaEII0KxwRVS0fAkM2JyggkKFhcYGRolJicoKSo0NTY3ODk6Q0RFRkdISUpTVFVWV1hZWmNkZWZnaGlqc3R1dnd4eXqDhIWGh4iJipKTlJWWl5iZmqKjpKWmp6ipqrKztLW2t7i5usLDxMXGx8jJytLT1NXW19jZ2uHi4+Tl5ufo6erx8vP09fb3+Pn6/9oACAEBAAA/AON8MfHHxL4f0/VYblm1W4u5BLby3kpK2znO/CgZKnjCgqARwOTXs/wh+JMnjrTLqDVJLRNYtXyYoQVMkOBiTB/2iQcdOOmRlNO+BXgS1sGhm066upJBnzrm5YSJkdBsKrx16dfwr5+1O18S/CLxzPFZ3klrdxqRDcogKTwt0OGBDDjkEHDL6jNfVXhPxRba54D07xFc3MEcclqJLqVv3ccci8S/e6KGVuT2HWvA/ivr1v8AE/xdp+l+ENPk1CeyilV7mKPmbkHAPXYuDgnjLnHqavwr+F1x4902efVNSvbTQ7W4Ijgix++lKYcrkkIRiPJ2ncOM8cfRXhnwboHg+0+z6Lp0VuWAEkx+aWT/AHnPJ+nQdgK//9k=\n",
=======
      "image/jpeg": "/9j/4AAQSkZJRgABAQAAAQABAAD/2wBDAAgGBgcGBQgHBwcJCQgKDBQNDAsLDBkSEw8UHRofHh0aHBwgJC4nICIsIxwcKDcpLDAxNDQ0Hyc5PTgyPC4zNDL/wAALCAAfAC8BAREA/8QAHwAAAQUBAQEBAQEAAAAAAAAAAAECAwQFBgcICQoL/8QAtRAAAgEDAwIEAwUFBAQAAAF9AQIDAAQRBRIhMUEGE1FhByJxFDKBkaEII0KxwRVS0fAkM2JyggkKFhcYGRolJicoKSo0NTY3ODk6Q0RFRkdISUpTVFVWV1hZWmNkZWZnaGlqc3R1dnd4eXqDhIWGh4iJipKTlJWWl5iZmqKjpKWmp6ipqrKztLW2t7i5usLDxMXGx8jJytLT1NXW19jZ2uHi4+Tl5ufo6erx8vP09fb3+Pn6/9oACAEBAAA/APP/AIqa7qx+KuryDUrpHtJvJt2SUr5SDBAXHTnnjvz1r6Q8A+NLHxL4a0sz6vp82syWqvc28U6eYGHBJQHI5x2HWuvrk/Hvj/TPAGkx3d9FLcT3BZba3i4MjAZOW6KBkZPJ54Brzzxf8eNKuPBTy+F725tdcklRUjltlLRLnLMdwKEYBXjJyenetj4KfEPWfG1tqdtrXlSz2PlMtwiBC4fcMMo4z8ucjHXpXzx49FyvxA8QfahKJf7QnP73O7bvO3r224x7YrEtbu5sbqO6tLiW3uIjujlhco6H1BHINfWfwp+Ih8X+Dri81mW3gvdNfZdylgism0ESngBc/MCOnyk8AgV4F8V/Hn/Cc+K2mtHlGlWqCG1RiQG7tJtzgFievB2hc8iuDr6J/Zr0qeLTdc1din2e4ljt0APzbowWbI9MSL+teo6r8P8AwprmuJrOp6JbXV+oUGSTOHC9NyZ2v6fMDwAOgFQeJvAGh654Pu9Ct9MsbQMhNqYoFjEMvJVhtHHJ5x1BPrXxtdQXml3l1YXAeCaJ2iniDfxKcEHHB5qrXReI/BGu+FraxutStNtvewiaKWM7lAOPlY9m5HB9a9a/Z88babYWt14XvpVt55p2uraR+Ff5AGUt2ICZH4819B0V5j4q+COg+KfFo12W7ubYTMGvLeFVxMQMAg/wE45659jzWla/BrwHaanHfR6FGxRcCCWV5Iic/eKsTk9uePaux1TTrbWNKu9NvELW91C0MgHB2sCDg9jz1r5h8LeAL+x+Nd5oNqyv/ZayzF5mALQsoCHjIyRKhx9enSv/2Q==\n",
>>>>>>> bd57b4512b97cdd941a556532deb1ef09b42dde5
      "text/plain": [
       "<IPython.core.display.Image object>"
      ]
     },
     "metadata": {},
     "output_type": "display_data"
    },
    {
     "data": {
<<<<<<< HEAD
      "image/jpeg": "/9j/4AAQSkZJRgABAQAAAQABAAD/2wBDAAgGBgcGBQgHBwcJCQgKDBQNDAsLDBkSEw8UHRofHh0aHBwgJC4nICIsIxwcKDcpLDAxNDQ0Hyc5PTgyPC4zNDL/wAALCAAgABQBAREA/8QAHwAAAQUBAQEBAQEAAAAAAAAAAAECAwQFBgcICQoL/8QAtRAAAgEDAwIEAwUFBAQAAAF9AQIDAAQRBRIhMUEGE1FhByJxFDKBkaEII0KxwRVS0fAkM2JyggkKFhcYGRolJicoKSo0NTY3ODk6Q0RFRkdISUpTVFVWV1hZWmNkZWZnaGlqc3R1dnd4eXqDhIWGh4iJipKTlJWWl5iZmqKjpKWmp6ipqrKztLW2t7i5usLDxMXGx8jJytLT1NXW19jZ2uHi4+Tl5ufo6erx8vP09fb3+Pn6/9oACAEBAAA/AN/42/Ey48L2qeHtFmMWqXcW+a4Q/NbxHI+U9nODz1A5HJBHCfA74hXlh4qGg6rezTWepsRE08pbypySRjJ/jJIPqxHvXsvij4qeGfCWsHStRnle6WNZHWAK2zPQNlhg4wcehB714P4W+Hfij4t3914j1XUPs0Ez4e/mhy0zAbcIg2ggYAJyAOgyQQE+InwxuPhjHpGsWOqSXe6fBmaAJ5Uy4ZMDJHOGOD/d711ejfAk+LNMh8R6p4llN1qyJfMY7VesqiRs84zuZhxx06dB638OPD934W+H2kaPfbftcEbNKqkEKzuzlcjg43YyOOKs+NvDEPjDwhqGiybVeePMEjdI5V5Rs4JAyBnHYkd65z4K2mtab8PY9M1vT5LGWzupooY5EKs0ZO/cc9fmZwCOCAPqfQ6KK//Z\n",
=======
      "image/jpeg": "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\n",
>>>>>>> bd57b4512b97cdd941a556532deb1ef09b42dde5
      "text/plain": [
       "<IPython.core.display.Image object>"
      ]
     },
     "metadata": {},
     "output_type": "display_data"
    },
    {
     "data": {
<<<<<<< HEAD
      "image/jpeg": "/9j/4AAQSkZJRgABAQAAAQABAAD/2wBDAAgGBgcGBQgHBwcJCQgKDBQNDAsLDBkSEw8UHRofHh0aHBwgJC4nICIsIxwcKDcpLDAxNDQ0Hyc5PTgyPC4zNDL/wAALCAAgABgBAREA/8QAHwAAAQUBAQEBAQEAAAAAAAAAAAECAwQFBgcICQoL/8QAtRAAAgEDAwIEAwUFBAQAAAF9AQIDAAQRBRIhMUEGE1FhByJxFDKBkaEII0KxwRVS0fAkM2JyggkKFhcYGRolJicoKSo0NTY3ODk6Q0RFRkdISUpTVFVWV1hZWmNkZWZnaGlqc3R1dnd4eXqDhIWGh4iJipKTlJWWl5iZmqKjpKWmp6ipqrKztLW2t7i5usLDxMXGx8jJytLT1NXW19jZ2uHi4+Tl5ufo6erx8vP09fb3+Pn6/9oACAEBAAA/AK+veKbfSf2oIbu6nWGzt/Ls5ZA+Fw8OMuc4AV5ATnptz2rV8T/tFW2n3t/YaHo4u3gkaKK7muB5Tkcbwq53KSOMMMjB46VofDD40J4k/wCJV4h8qLVnmSO2MKNi53k54xhduBkk8g8c1d8OfAXw5oGvR6q97fXjW1ws9pHIwQRlcEbio+chhnPyjoMHnPU694E0a98Ma/Y2Ok2cV3qcMxabywHkmYmRWZ+pxJhgCcDA7Cvmz4MQ2EnxS0yPUS6MCzW5D7MTKMqDkHOQGGOOSOex+v6K+fb34b6m37RMV5aaTcQ6L9si1P7WMmLIAd/m5wTKGGzrzwAuDX0FRRX/2Q==\n",
=======
      "image/jpeg": "/9j/4AAQSkZJRgABAQAAAQABAAD/2wBDAAgGBgcGBQgHBwcJCQgKDBQNDAsLDBkSEw8UHRofHh0aHBwgJC4nICIsIxwcKDcpLDAxNDQ0Hyc5PTgyPC4zNDL/wAALCAAeABYBAREA/8QAHwAAAQUBAQEBAQEAAAAAAAAAAAECAwQFBgcICQoL/8QAtRAAAgEDAwIEAwUFBAQAAAF9AQIDAAQRBRIhMUEGE1FhByJxFDKBkaEII0KxwRVS0fAkM2JyggkKFhcYGRolJicoKSo0NTY3ODk6Q0RFRkdISUpTVFVWV1hZWmNkZWZnaGlqc3R1dnd4eXqDhIWGh4iJipKTlJWWl5iZmqKjpKWmp6ipqrKztLW2t7i5usLDxMXGx8jJytLT1NXW19jZ2uHi4+Tl5ufo6erx8vP09fb3+Pn6/9oACAEBAAA/APV/G3j7RfAVlb3Orm4drlysMFugaR8Y3EZIGBkZ57iuH8e61pvxO+D+p3fhu681rAx3dxbyDZJEqgswYE8ELuORkHaQCarfs4ax9q8LarpLby9jdLKMqAoSUHAB6k5Ric+o/Dlf2ivEOlarqukabY3kdxdaabhbtEyREzeXhSemflbIHTHOK4LwD4o03w3NrkeqwXclrqmlzWBNrtLoXxz8xA7f/WNeofsy/wDM0/8Abp/7WrxTxFpOpaJr15Y6rBLFdpK+4yJt3/MRvHYqcEgjj0q/H4D8US+GpvEK6NdDTIgHaVk2koQG3hTyyYOdwGMd+K9D/Z61rStK1nW4r4Mt1NbxtDKE3AIrHeuRyMloz/wGvo270jTb+ZJrzTrS5lQYV5oVdlHXgkcVbZQylWAKkYIPQ18s6p4I1rw98VdW0zw3f2lsXha6hMgJCQO4Ij5VuQcDPcDOecV//9k=\n",
>>>>>>> bd57b4512b97cdd941a556532deb1ef09b42dde5
      "text/plain": [
       "<IPython.core.display.Image object>"
      ]
     },
     "metadata": {},
     "output_type": "display_data"
    },
    {
     "data": {
<<<<<<< HEAD
      "image/jpeg": "/9j/4AAQSkZJRgABAQAAAQABAAD/2wBDAAgGBgcGBQgHBwcJCQgKDBQNDAsLDBkSEw8UHRofHh0aHBwgJC4nICIsIxwcKDcpLDAxNDQ0Hyc5PTgyPC4zNDL/wAALCAAgAEoBAREA/8QAHwAAAQUBAQEBAQEAAAAAAAAAAAECAwQFBgcICQoL/8QAtRAAAgEDAwIEAwUFBAQAAAF9AQIDAAQRBRIhMUEGE1FhByJxFDKBkaEII0KxwRVS0fAkM2JyggkKFhcYGRolJicoKSo0NTY3ODk6Q0RFRkdISUpTVFVWV1hZWmNkZWZnaGlqc3R1dnd4eXqDhIWGh4iJipKTlJWWl5iZmqKjpKWmp6ipqrKztLW2t7i5usLDxMXGx8jJytLT1NXW19jZ2uHi4+Tl5ufo6erx8vP09fb3+Pn6/9oACAEBAAA/AN/4vfFjUfBOsafpeiJZyXDR/aLnz0L4UnCrwRjOGJ74x073fF/xj8PW/guebRtagGs3VkstrCFMjxM/ZtuVV15+UnggZyOvkuhfHTxLoXhM6SFF9erMWiv72UyFIiB8m3GWIOSGLHAOMYAr3n4Y+Ok8d+FUvJntl1OBjHeW8OR5ZydpwecMoyDyM5GeCB4t8Zfile6xrFx4d0a6kt9KtHaK4eJypupBkMCR1QcgDoepzxjv/gR48n8R6LcaHqdw82o6eA8csr7nmhJ755JU4BPoy1zHx78UW2q6N4Zm0m4WSF7m6kjnjkGcwuIwykHoTuIPsK6nxL8fdD0VLD+z7FtVkurRLlvLuERYS3SNiNxDjByMccdc8c14R/aEuLvxPJF4mhtLTSZ87JYVfNtgEjOAS+cAduTngcV73aXMd7ZQXUWfLmjWRdwwcEZGfzr5Mk+Hfjzxv4w1G6l0K7snubp5JJdQzHHGGY4AYj5wBx8gPAHGKfr/AMKT4U8R+E9K1PVBdy6zcrFcx2ke3yV8xF+R2+8SGOMqMEdK9on+BHgv+wLixtrKUXrROIr6Wd2dXOdrEAhSAccY6D8a+eIdU8WfDLX9U020vZtOvObe5VVBWQDlWAYehyrAA4bg8mu68Jfs+atrelw6hrOojSRKA6W32cyS7f8AayyhDjtyeeQDxWBqfhHUvBPxOTwnZ6o8UWrrHZfbDCCXt7ghGyp99w4I+71Fem6f+zdosf2R9Q1m9lKxH7THCFUPJ2KEglVHIwQSeuR0r1K18IeH7O4sriPSbZriytorW2mlTzHhjjzsCs2SMbjyOT3zgV8k+NNDtPDfxQ1HTLqHZp0d8JPKhbbi3chwqnBwQjAZweR0NfZNhFBBp1rDav5lvHEixOGDblAAByOvHerFeQfHyOew0zw54ntI0a50jUlZC+SBnDDI7jdGv+Sa9MbxFpEfh6LXpr+GDS5YUnS4mby12OAV69zkcdcnHWvmrxUrfGb4o/8AFK6ey2qRRwz3bIEyoY5mfp2OAD8xCD6D6oryr45+BrjxR4Zg1LTLV7jVNOckRRKWeWFuGUADLEHawHpuxya9H0ae8utD0+41GEQX0ttG9zEoICSFQWUAk4wcjrV6vDfj74J1PXb/AELUtE0e4vblg9rcvACxAyDFuGeBkyfNjAzyelexaDpp0bw7pmlltxsrSK33ZznYgXPQenoK0K5T4mRSzfDPxEkNvFO/2GRtkgyAAMlh7qAWHuB1rxf4ZfB//hMvD1prHiPUb5NPUullZRsBlAwJYMSdqlvMG0KCT82eeff9C8O6P4ZsBZaNp8FnBxkRry56ZZjyx9ySa1KKKKKK/9k=\n",
=======
      "image/jpeg": "/9j/4AAQSkZJRgABAQAAAQABAAD/2wBDAAgGBgcGBQgHBwcJCQgKDBQNDAsLDBkSEw8UHRofHh0aHBwgJC4nICIsIxwcKDcpLDAxNDQ0Hyc5PTgyPC4zNDL/wAALCAAYABsBAREA/8QAHwAAAQUBAQEBAQEAAAAAAAAAAAECAwQFBgcICQoL/8QAtRAAAgEDAwIEAwUFBAQAAAF9AQIDAAQRBRIhMUEGE1FhByJxFDKBkaEII0KxwRVS0fAkM2JyggkKFhcYGRolJicoKSo0NTY3ODk6Q0RFRkdISUpTVFVWV1hZWmNkZWZnaGlqc3R1dnd4eXqDhIWGh4iJipKTlJWWl5iZmqKjpKWmp6ipqrKztLW2t7i5usLDxMXGx8jJytLT1NXW19jZ2uHi4+Tl5ufo6erx8vP09fb3+Pn6/9oACAEBAAA/APLPAnju/wDA/iQakBcXUDbjcWn2kxrOxUgFjg5IJzyDVrQb7xv41+IaajpN3cNrcsgc3CkiOBAw+91AjHHykEHpgk4Ppv7Qfic2l5odrpGstDqFq8rzx2twVeLIjKbtp4PUjP1rd8EeP/G+oeDdNuT4Pl1clGX7cL5IvO2sVyVKkg8YJ7kE968d+Mfhm48O/ES/kaILaag5u7d1TapDfeH1DZB/A967PxV8WfC+meEZtC+HtpcadPOULXVvEIAgHU5+8zkKBn0Od2Rg8Z4F+GGv+O9ShuriK5t9JkYtNqEw++AedmfvsTkZ5AOc9MV9aaVpltouk2mmWSsttaxLDEGbJCqMDJ71yvxY8OHxL8PNStobM3N7CgntlSMNJvUgkJ3yQCOOTnFeLfATwZYa/r17qmq2sk0emGMwI6/umlO773HJXAOPevp5VVECqoVVGAAMAClr/9k=\n",
      "text/plain": [
       "<IPython.core.display.Image object>"
      ]
     },
     "metadata": {},
     "output_type": "display_data"
    },
    {
     "data": {
      "image/jpeg": "/9j/4AAQSkZJRgABAQAAAQABAAD/2wBDAAgGBgcGBQgHBwcJCQgKDBQNDAsLDBkSEw8UHRofHh0aHBwgJC4nICIsIxwcKDcpLDAxNDQ0Hyc5PTgyPC4zNDL/wAALCAAsADoBAREA/8QAHwAAAQUBAQEBAQEAAAAAAAAAAAECAwQFBgcICQoL/8QAtRAAAgEDAwIEAwUFBAQAAAF9AQIDAAQRBRIhMUEGE1FhByJxFDKBkaEII0KxwRVS0fAkM2JyggkKFhcYGRolJicoKSo0NTY3ODk6Q0RFRkdISUpTVFVWV1hZWmNkZWZnaGlqc3R1dnd4eXqDhIWGh4iJipKTlJWWl5iZmqKjpKWmp6ipqrKztLW2t7i5usLDxMXGx8jJytLT1NXW19jZ2uHi4+Tl5ufo6erx8vP09fb3+Pn6/9oACAEBAAA/APf6q3Wp2FjPbwXd9bW81y2yCOaVUaVsgYUE/MckcD1FWqKoa3pFrr+iXmlXsayW91EY3DDOM9D9QcEe4FfMfhvxpq3wZ8W6r4duoxfaclziWIEKe2JU64JTHBPpnpXs+mfHDwJqQt1bVJbSaZgvlXNu6lCTj5mAKD67sV6DDNFcwRzwSpLDIodJEYMrqRkEEdQR3r498Q/E7xJeeNLzVbHXb9LZbmQ2kQkKIsO47FKKcfdwD39880fEP4jz+N9e0zVLaCbT3sYQsaicttkDFi68Dafu+/yjmvqfQ9bm1DwJY67NbNFNNp63RidgeSm7qCeD1HfB5APFeG/Bv4keIdR+In9lanfS3lrqpmfZK2RDIFaTK+g4I2jA5HoK1fjh8T9Q07UG8LaHcS2jooa8uYnAZtwyEUjleMEkEHnHTrjfBjS/DvjiLXdO8RabJf6s487+0ZpS7iMgIACT8rA5Oe+efuiuH+J/hLTfBXjBtH0u8uLmJYEkc3AG9GbPy5AAPG05A747V32g/D3xNe+HdMu7ewVoZ7SKSNvPjGVZAQcE+hqh4z+BniVfFt4/h+zju9NuXaeE+eqmIE5KNvI5BPHJyBnOcgc78NfAFn4v8T6roOsXFxY3VrbSGNUKhlmVgpDKw5AycgYPHUVnf294x+Hl9f8Ah2LUriy8pmjmtjtkQ7gOQDkcjByPWrHgHSPENjND4606ykm0zRrrddvFMivsUAyKATkgoxzx0Jr2rxP8GtI8f6y/im01mW2i1G2ilUJGHDsV4fk8Ars49j615J4R1if4QfE+5h1lGligV7a7W1+cupG5GTJUddh56AnjNX/AWlP8VPi1d6vq9u7WIka8uEWPMfXEcLHGAMY68kI3fkfVQGBiivnj42QP4I8eaJ4r0GQWd3eLIZhCNvmPGV3M3Y7g4BGOdvOc1H8aptD8R+BPD3jHTrNY7i+n8tpimyQqFbKvjqQyYzz04ODVf4Ey6hPHqvhy7026k0PWYZALlkPkxuqlXxnhiwIBA5+UcYzj0P4beN/C9pb2/gmLXDc3enqIYrudRFHd5Y4WLLEkjIXacHjgHtwX7Si6cutaF5KRLqLQStcFVw7R5URlj3GRIB9DXv2hXVxfeH9NvLu2a2uZ7WKWWBgQYnZASpB54JI59Kv0V5v8Wr7wJLp9po3jK9nhaVvtFv8AZdxljK8bsAEAHJHzAg845GRHN4H8D/ETwno1npN4P7J0t2WI2TjeuV+ZGLAlSTtY5GTwe+a8x8VeCNX0uGz8O6/4usrDwna3siae1zCvnEeWZDIEUZdQz7Cd3BOcAYrzTw7aWk+ryGfXF0n7NG08F15ZYtIpBVRgggnse2K91+E+h6d8SPB1xqPjG3OsX1vqLQxXNzIxkWNY42CbgQduXY7enJr3AAAADoKK8C+PXjLxFoPiPTtO0nV7mytXtBOy25CFn3uuSw+bGAOM49q+fndpHZ3JZmOST3Nez/s2/wDI46t/2D//AGotfRmp6XY61p02n6lax3VnMAJIZBlWwQR+RAP4V5zF8APA0eom6aG/lhLM32R7o+UAc4GQA+Bnj5s8DJPOeX+NHhrS/Dun6M+gwf2SLi4MFwtifKEynbjfj7xHOM9Nx9an+GI1rWNb8SaFceK9cWzsooUiKzIzgEHozoxX6rj9BXuQ4Ff/2Q==\n",
      "text/plain": [
       "<IPython.core.display.Image object>"
      ]
     },
     "metadata": {},
     "output_type": "display_data"
    },
    {
     "data": {
      "image/jpeg": "/9j/4AAQSkZJRgABAQAAAQABAAD/2wBDAAgGBgcGBQgHBwcJCQgKDBQNDAsLDBkSEw8UHRofHh0aHBwgJC4nICIsIxwcKDcpLDAxNDQ0Hyc5PTgyPC4zNDL/wAALCAAfABcBAREA/8QAHwAAAQUBAQEBAQEAAAAAAAAAAAECAwQFBgcICQoL/8QAtRAAAgEDAwIEAwUFBAQAAAF9AQIDAAQRBRIhMUEGE1FhByJxFDKBkaEII0KxwRVS0fAkM2JyggkKFhcYGRolJicoKSo0NTY3ODk6Q0RFRkdISUpTVFVWV1hZWmNkZWZnaGlqc3R1dnd4eXqDhIWGh4iJipKTlJWWl5iZmqKjpKWmp6ipqrKztLW2t7i5usLDxMXGx8jJytLT1NXW19jZ2uHi4+Tl5ufo6erx8vP09fb3+Pn6/9oACAEBAAA/APSPHPxS0PwDe2dnqUF7cT3KGTbbIp2IDgE7mA5OeB6HOOM8f8YvEWmeJ/g//aGjXcV1ateQh2VsNGcE7SOzcjIOKT9nbxHf6roGq6TeSyTJprwmB5HLFUcMAgz0C+Xx9ccYrn/2lr62lv8Aw7YpMrXMEc8ksY6qrmMKT9djflXhFe//ALMv/M0/9un/ALWryf4ialqGqfEHXZdTlD3EV5LbgKcqixsUVV4HAA64Gep5Jqx45+H974IbT2lma7t7y3WUXCQMiKxz8meQWwM16F+zbq9rba1rekyFxc3sUUsOFypEe/cCex/eDH0P4+r+JvhP4T8WayurajaTLe+YjzSQzFfPVBgI4ORggAEjDcdRXR6zoGm65osul3tnBNbtE0aLImfLypXK9wQD1GDXzFpfw18S6J8WIPD9rqi2d4sbzQ6lBziIo3zbcggnlSO2T1HJ/9k=\n",
      "text/plain": [
       "<IPython.core.display.Image object>"
      ]
     },
     "metadata": {},
     "output_type": "display_data"
    },
    {
     "data": {
      "image/jpeg": "/9j/4AAQSkZJRgABAQAAAQABAAD/2wBDAAgGBgcGBQgHBwcJCQgKDBQNDAsLDBkSEw8UHRofHh0aHBwgJC4nICIsIxwcKDcpLDAxNDQ0Hyc5PTgyPC4zNDL/wAALCAAeABYBAREA/8QAHwAAAQUBAQEBAQEAAAAAAAAAAAECAwQFBgcICQoL/8QAtRAAAgEDAwIEAwUFBAQAAAF9AQIDAAQRBRIhMUEGE1FhByJxFDKBkaEII0KxwRVS0fAkM2JyggkKFhcYGRolJicoKSo0NTY3ODk6Q0RFRkdISUpTVFVWV1hZWmNkZWZnaGlqc3R1dnd4eXqDhIWGh4iJipKTlJWWl5iZmqKjpKWmp6ipqrKztLW2t7i5usLDxMXGx8jJytLT1NXW19jZ2uHi4+Tl5ufo6erx8vP09fb3+Pn6/9oACAEBAAA/AOP1G3vPgv8AFxLxYPtFllpIAMIJoHBBUddpUkj/AID6GvY7H48+BLmwjnuL64s5mBLW0trIzKQemVBU56jnvzjpW54K+Jfh7x488OlPcRXUK73trmMK+zIG4YJUjJA4OfWtTxT4R0bxjpTWGsWiyjawimAxJAxGNyN2PT2OBkGvmr4ifCaPwdpr6jpuspqMFrMtvexuoSSB2UMnAJyCCPfkdecV/gx4ffxF4tvLZLhYDHYtJuK7s/vEGOvvX1zXyT8dbm3uviheNbz20wSGONzAOVdRgq5zywP5DA6ivU/gH4JutA0i81rVLF7e9v8AasHmEbhBjPTquT1B/urxXrOpQ3VzpV5BZXItruWB0gnKhvKcqQrYPXBwce1fKng74bS6h8Tl0TWrmGSO1uHN15bM3neWfmUE4OGxjPXmvrRVVFCqoVVGAAMACv/Z\n",
>>>>>>> bd57b4512b97cdd941a556532deb1ef09b42dde5
      "text/plain": [
       "<IPython.core.display.Image object>"
      ]
     },
     "metadata": {},
     "output_type": "display_data"
    }
   ],
   "source": [
<<<<<<< HEAD
    "print(len(words[0][0]))\n",
    "single_characters = []\n",
    "single_characters.append(words[0])\n",
    "\n",
    "single_characters.append(words[1][:,0:22])\n",
    "single_characters.append(words[1][:,22:35])\n",
    "single_characters.append(words[1][:,35:])\n",
    "\n",
    "single_characters.append(words[2][:,0:17])\n",
    "single_characters.append(words[2][:,17:40])\n",
    "single_characters.append(words[2][:,40:60])\n",
    "single_characters.append(words[2][:,60:])\n",
    "\n",
    "single_characters.append(words[3][:,0:20])\n",
    "single_characters.append(words[3][:,15:30])\n",
    "single_characters.append(words[3][:,30:50])\n",
    "single_characters.append(words[3][:,50:])\n",
    "\n",
    "showarray(single_characters[8])\n",
    "showarray(single_characters[9])\n",
    "showarray(single_characters[10])\n",
    "showarray(single_characters[11])\n",
    "showarray(words[3])"
=======
    "words.reverse()\n",
    "for word in words:\n",
    "    showarray(word)"
>>>>>>> bd57b4512b97cdd941a556532deb1ef09b42dde5
   ]
  },
  {
   "cell_type": "code",
<<<<<<< HEAD
   "execution_count": 182,
=======
   "execution_count": 383,
   "metadata": {},
   "outputs": [
    {
     "data": {
      "image/jpeg": "/9j/4AAQSkZJRgABAQAAAQABAAD/2wBDAAgGBgcGBQgHBwcJCQgKDBQNDAsLDBkSEw8UHRofHh0aHBwgJC4nICIsIxwcKDcpLDAxNDQ0Hyc5PTgyPC4zNDL/wAALCAAyAC0BAREA/8QAHwAAAQUBAQEBAQEAAAAAAAAAAAECAwQFBgcICQoL/8QAtRAAAgEDAwIEAwUFBAQAAAF9AQIDAAQRBRIhMUEGE1FhByJxFDKBkaEII0KxwRVS0fAkM2JyggkKFhcYGRolJicoKSo0NTY3ODk6Q0RFRkdISUpTVFVWV1hZWmNkZWZnaGlqc3R1dnd4eXqDhIWGh4iJipKTlJWWl5iZmqKjpKWmp6ipqrKztLW2t7i5usLDxMXGx8jJytLT1NXW19jZ2uHi4+Tl5ufo6erx8vP09fb3+Pn6/9oACAEBAAA/APejcQC5W2M0YuGQyLFuG4qCAWA64BIGfcVLWN4s8PxeKfC2o6LK4jF1EVWTaDsfqrY9iB/9avjLxL4V1jwlqjWGsWjQS8mN+qSqDjcp7jimX3ifW9T1i21e91O4n1C22GG4dsum1ty4PsTmva/hr8cYYNLurXxrqbNNE6/ZpzAzM6kEFTsU9CAcnk7u+K8V03xPq2l+KIfEcV00mpRzecZZiW8wnqG9QQSD7Gvc739pTT0sovsOgXUt0Yx5vnyLGivxkLjcWXrycH2rkJv2h/GDau93Bb6aloY9i2TwsyA5zvLBgxbHHULj+HPNeqeC/jL4c8Y2lxZ6z9l0q5EZ8yG7lXyZkOAcM2AeuNp5x6848E+KOu6Fr/jOSfw7ZRW2nQRLbqYoljWZlLEuFAGAc4GecAfQei/AvwJpeueH9R1DXdAhuo5J1W1muA3zAAhto6YB4yO+R2q38X/hDaCDVvGOl3n2dlX7Rc2jrlWbI3FCORnrg559AePEvC+hN4m8Tafoq3At2vJfLEpXcF464yM9Kh17TE0XX7/TI7pbpbSdofOVdofacE47VnV0XhDwhqfi7W7O0tLK7eze4SK5uooiywISNzE9AQuTgnnFfaGkaVaaHpNrplhEIrW2jEcagAdO5xxknJPuTTNd0xda8P6jpbMqC8tpIN7LuCllIDY74Jz+FfDY028bVhpQt2N8Z/s4h7+Zu27frniu40j4JeOdVujC+mJp6AZM17KFQdf7u4np2HevZtA+APhCwsk/teC41K7aNPN33LJGjgfNs2bTgn+9noOlejaJoWmeHNLj03SLOO0tI8lY0yeT1JJ5J9ySa0KqaVZyafo9lZSzm4kt7eOJ5m6yFVALHk9cZ6188fHjwPcaTry+MNLWUW10ym6aMH/R5hgB8gfKG45/vZ55Ar2H4Y+L28a+CLXUpyDexMbe7wuB5q45HGOVKtxwN2O1djRRRWN4u099V8G61YRwCeWexmSKI4+Zyh2jnvuxXz7+ztrd7beMrrRg1zJYXVq8jRIu5I5VK4kb+6MZXPcsoPbHZ+P/AI8J4d1e70XRNM+0Xlq7RTXF0cRq4HRVHLYPckdD161z3hn9oy//ALSji8S6damzkYK09mrK0Q/vFSW3D2GD/I/QtvPFdW0VxC4eKVA6MP4lIyD+VSUV5F8MUVPix8RVRQqi5j4AwPvSV8vu7SOzuxZ2OWZjkk+pptfdnhv/AJFbSP8Aryh/9AFf/9k=\n",
      "text/plain": [
       "<IPython.core.display.Image object>"
      ]
     },
     "metadata": {},
     "output_type": "display_data"
    },
    {
     "data": {
      "image/jpeg": "/9j/4AAQSkZJRgABAQAAAQABAAD/2wBDAAgGBgcGBQgHBwcJCQgKDBQNDAsLDBkSEw8UHRofHh0aHBwgJC4nICIsIxwcKDcpLDAxNDQ0Hyc5PTgyPC4zNDL/wAALCAAjABoBAREA/8QAHwAAAQUBAQEBAQEAAAAAAAAAAAECAwQFBgcICQoL/8QAtRAAAgEDAwIEAwUFBAQAAAF9AQIDAAQRBRIhMUEGE1FhByJxFDKBkaEII0KxwRVS0fAkM2JyggkKFhcYGRolJicoKSo0NTY3ODk6Q0RFRkdISUpTVFVWV1hZWmNkZWZnaGlqc3R1dnd4eXqDhIWGh4iJipKTlJWWl5iZmqKjpKWmp6ipqrKztLW2t7i5usLDxMXGx8jJytLT1NXW19jZ2uHi4+Tl5ufo6erx8vP09fb3+Pn6/9oACAEBAAA/AOWPx88Wt4qN6tzEmkG4yLBoEIWLOMFwN5OOc569scVqfHXxZqq+KtGbS9WaPT/sKXdo9nMVJLsfnJXr9xcckYHHU13fwO+IF34r0e60rV7qW41Swwyyuo/eQkADJHVgQck8nIOSc45TxH8f9d0bxPq2lw6Tp7xWV7Nbo7l8sEcqCeevFeO+LNCl8M+LNU0aUEfZbhkQn+JOqN1OMqVOM96xq9q/Zx1uGy8Tapo8rIrajAjxZPLNFuO0f8Bdj/wGvWdQ+DngbVNSutQu9Id7m6meeZxdSjc7EsxwGwOSeleFfHXw3/YfxAkvIoJUtdTT7QruzMGkz+8AJ9Dg7e24dBgV7Pb+H9C+JPwntriPSdPW9utPZYJmh2eRcAbSQwG4KJE7dQOQQcV8/wDgjUIfAHxXtZtb3BNNuZ7a5MI37W2vESPUAnP0H4V9kRyJLGskbBkcBlI7g15p8c/DL6/4BkubWzSe801/tCvkBkiA/eY9eACR32juBXGfs7eMJGe88J3TsyBftNnhBhBk+YCfqVI/4FXEfHDRrnTPiZf3UsSpBfqk8LJ0I2hTn0O5G/nXpPhrUvitD4W0iKw0a1ezSyhWBn8vJjCDaTlwc4x2r20gEEEZB6g15h4U8K6JpHxe12bT7BLd0g3IEZtql9hbC5wBknjGB2xXpc9tBcqFuIY5VByBIgYA/jUoGBgV/9k=\n",
      "text/plain": [
       "<IPython.core.display.Image object>"
      ]
     },
     "metadata": {},
     "output_type": "display_data"
    },
    {
     "data": {
      "image/jpeg": "/9j/4AAQSkZJRgABAQAAAQABAAD/2wBDAAgGBgcGBQgHBwcJCQgKDBQNDAsLDBkSEw8UHRofHh0aHBwgJC4nICIsIxwcKDcpLDAxNDQ0Hyc5PTgyPC4zNDL/wAALCAAqABoBAREA/8QAHwAAAQUBAQEBAQEAAAAAAAAAAAECAwQFBgcICQoL/8QAtRAAAgEDAwIEAwUFBAQAAAF9AQIDAAQRBRIhMUEGE1FhByJxFDKBkaEII0KxwRVS0fAkM2JyggkKFhcYGRolJicoKSo0NTY3ODk6Q0RFRkdISUpTVFVWV1hZWmNkZWZnaGlqc3R1dnd4eXqDhIWGh4iJipKTlJWWl5iZmqKjpKWmp6ipqrKztLW2t7i5usLDxMXGx8jJytLT1NXW19jZ2uHi4+Tl5ufo6erx8vP09fb3+Pn6/9oACAEBAAA/AMP9obxJcXvi230BHdbTT4lkZMkB5XGd2MYOFwAecZb1IrjrT4reM7Hw4mh22tSx2saGNJAB5qJ02iT7wA7Y5HGMYFdN8Mvix4ptfFel6TqF/Nqljf3cdu63cheRC7bQyucngsDg5BAxxnNfU1eRfGz4a6j4wjstW0ONZtQtEMUtuWCmWMnIKkkDKnPHcHrwAfnPVfC2v6Fbpcato19Ywu+xXuIGQM2M4BI64BrvvgR4Qh8R+MJNRu0Y22kCO4Uq2P3+/MffOPkY9COOetfVdFcR8WPCsvi7wDeWdpEsl/AVubZWIGWU8jJHBKlgOnOMnGa8C+CXiweGPHsdndyeVZaoPssxcsAkn/LMkDvu+XJ6BycgZr60orK13xLovhm1FzrWpW9lEwYp5rcvgZIVRyx9gCelfG3jW90i78cape+Gw0WmyXHmW5ClOeCWUdVBbJA4wCOB0rubT4yeNksoEOpxvtjUbnt0LHjqTjk1T8WfGLxrPq2rafBqctlai6ljjjjiWOWJAxAXeBuBA4znPFcPoXh7WfFmrfYdIs5L28cNIw3AcDqWZiAPqT1PvXsvgP8AZ/nMovPGaRrCUYCwimJcNngs6HHrwCeo/D3+1tobK0htbaJYoIUWOONBgIoGAAOwAFea6zoWkah8YLT7bpVjc+dCDL51uj7yI2Azkc9B19BXpcEENrbx29vEkUMSBI441CqigYAAHAAHapKK/9k=\n",
      "text/plain": [
       "<IPython.core.display.Image object>"
      ]
     },
     "metadata": {},
     "output_type": "display_data"
    },
    {
     "data": {
      "image/jpeg": "/9j/4AAQSkZJRgABAQAAAQABAAD/2wBDAAgGBgcGBQgHBwcJCQgKDBQNDAsLDBkSEw8UHRofHh0aHBwgJC4nICIsIxwcKDcpLDAxNDQ0Hyc5PTgyPC4zNDL/wAALCAAfABQBAREA/8QAHwAAAQUBAQEBAQEAAAAAAAAAAAECAwQFBgcICQoL/8QAtRAAAgEDAwIEAwUFBAQAAAF9AQIDAAQRBRIhMUEGE1FhByJxFDKBkaEII0KxwRVS0fAkM2JyggkKFhcYGRolJicoKSo0NTY3ODk6Q0RFRkdISUpTVFVWV1hZWmNkZWZnaGlqc3R1dnd4eXqDhIWGh4iJipKTlJWWl5iZmqKjpKWmp6ipqrKztLW2t7i5usLDxMXGx8jJytLT1NXW19jZ2uHi4+Tl5ufo6erx8vP09fb3+Pn6/9oACAEBAAA/APULH4m+FL3xFf6EdUhtr20m8nFw4RJmGAdjE4J3HbjrkHjFeYfH/V9Y0bxJ4b1HTLma2SOJ3inic4aQMDgjG0jGOucgnIx163wZpSfEPwdpniTXDD9uuEdGNvbqgbZIybmznLEgkkYHIGOMn5y8d39tqnjzXL2zKtby3khjZSCGGcZBHBBxnPvTNU8WXureFdG0C4ji8jSTKYpRuLv5jbiGyccdBjtX0z8CWu2+FGnC5SJYlmnFsUPLR+YxJb33lx9AK+SWVkYqwKsDggjBBpK+2vh/DokHgXSl8Ou7aU0bPB5j7mG52ZlY+oYsD6YxXO618EvCOueJP7ZmiuYC7eZPbQSBYp23Elm4yM552kdPXNU/it8JbXxZpz6jodpbwa9Fg5XCC6QAjYeQobphj6AE4xjz3wF4f+JFh4ddNKsJvsjXUuNuqrCNyt5bjaCejIwz3x6c1//Z\n",
      "text/plain": [
       "<IPython.core.display.Image object>"
      ]
     },
     "metadata": {},
     "output_type": "display_data"
    },
    {
     "data": {
      "image/jpeg": "/9j/4AAQSkZJRgABAQAAAQABAAD/2wBDAAgGBgcGBQgHBwcJCQgKDBQNDAsLDBkSEw8UHRofHh0aHBwgJC4nICIsIxwcKDcpLDAxNDQ0Hyc5PTgyPC4zNDL/wAALCAAcABgBAREA/8QAHwAAAQUBAQEBAQEAAAAAAAAAAAECAwQFBgcICQoL/8QAtRAAAgEDAwIEAwUFBAQAAAF9AQIDAAQRBRIhMUEGE1FhByJxFDKBkaEII0KxwRVS0fAkM2JyggkKFhcYGRolJicoKSo0NTY3ODk6Q0RFRkdISUpTVFVWV1hZWmNkZWZnaGlqc3R1dnd4eXqDhIWGh4iJipKTlJWWl5iZmqKjpKWmp6ipqrKztLW2t7i5usLDxMXGx8jJytLT1NXW19jZ2uHi4+Tl5ufo6erx8vP09fb3+Pn6/9oACAEBAAA/APOfiRoN14D+Jk7WzJGGmGo2LoigKpcsuF5ACspXB/u9MGvo/TPip4UuvDVhq17rNlZvcqoe3aYNJE54IKjJABB5I6V0ejeI9F8QwmXSNUtL1VGWEMoYryRyOo6HrXz94K1i9+Llnc+EtetrK5vbaykltdYnUmaEbgDkfxnLIP4eAScnr5z4w8Ca74HvY7fWLdAkufJuIW3xy464PX8CAfaqHhrWdV0LX7O90Z5RerKoSKPd+++YHyyFILBiAMd69B/Z6uJofiVJHFbNMk2nyxyuDgQruRtx9RuVV+rCun/aK8W2k8dn4Tg2yXEE63dywJ/dHYwVemOQ+evp615r8PfC2u6lr2la1YaVc3On2epQmeaJQQmxkdhjqSFIP41337OOnxf27qGpbn877NJBtyNu3dE2emc5964v4oaRbW3xk1SwjaXyZ7qJ2LPuYGVUZsE+7HHpxX0n8MdPi0r4d6XZQM7Rx+bguQTzK57Aetf/2Q==\n",
      "text/plain": [
       "<IPython.core.display.Image object>"
      ]
     },
     "metadata": {},
     "output_type": "display_data"
    },
    {
     "data": {
      "image/jpeg": "/9j/4AAQSkZJRgABAQAAAQABAAD/2wBDAAgGBgcGBQgHBwcJCQgKDBQNDAsLDBkSEw8UHRofHh0aHBwgJC4nICIsIxwcKDcpLDAxNDQ0Hyc5PTgyPC4zNDL/wAALCAAfABkBAREA/8QAHwAAAQUBAQEBAQEAAAAAAAAAAAECAwQFBgcICQoL/8QAtRAAAgEDAwIEAwUFBAQAAAF9AQIDAAQRBRIhMUEGE1FhByJxFDKBkaEII0KxwRVS0fAkM2JyggkKFhcYGRolJicoKSo0NTY3ODk6Q0RFRkdISUpTVFVWV1hZWmNkZWZnaGlqc3R1dnd4eXqDhIWGh4iJipKTlJWWl5iZmqKjpKWmp6ipqrKztLW2t7i5usLDxMXGx8jJytLT1NXW19jZ2uHi4+Tl5ufo6erx8vP09fb3+Pn6/9oACAEBAAA/AOr+GHhIfDjwDd63qvm/bpYGvJ4gzp5cYQMIyhO0uNp5IBBYr06+CfED4gal461yS4lkmi09CVtrTedqJkkFgOCxzyfYDtXYfAvx3qOn+LLbw5eXc02mXqtFDHI5YQScspUYOATkEDA+bJ6V9H/23p3/AD8f+ON/hUXiPQovEuhXOkXFzPb29ypSVoNu4qeo+YED/wCtXztqX7Onii3vGTTr/T7y2xlZZGaJj9Vwcfma4XSVuPBHxJsV1KRbaTTNRQXLp84VQ43kYByNuegz+NfZn9o6Z/z+Wn/f1f8AGqup+KNA0acQanren2UxGRHcXKI35E+4ryLxP+0VbWgu7TQNL8+7inMaXFy4aBlDEFwEOWBA45HXPbB8C1XUr3xDrdxqN1iW9vJd7+WmNzH0Ar0v/hD/ABL/ANADU/8AwFf/AArifGuja3pfjLU7PXJ/tWpK/myz7wfMDDIb2yCOO3TFdN4a+CPijxLpFlqsM1hb2d2u9DLKS4XJGSoB9M9a9i8EfA7QfDLWWoakz6jq8D+bvLYhRwTt2pjtxyc8jPHSvU6//9k=\n",
      "text/plain": [
       "<IPython.core.display.Image object>"
      ]
     },
     "metadata": {},
     "output_type": "display_data"
    },
    {
     "data": {
      "image/jpeg": "/9j/4AAQSkZJRgABAQAAAQABAAD/2wBDAAgGBgcGBQgHBwcJCQgKDBQNDAsLDBkSEw8UHRofHh0aHBwgJC4nICIsIxwcKDcpLDAxNDQ0Hyc5PTgyPC4zNDL/wAALCAAUABABAREA/8QAHwAAAQUBAQEBAQEAAAAAAAAAAAECAwQFBgcICQoL/8QAtRAAAgEDAwIEAwUFBAQAAAF9AQIDAAQRBRIhMUEGE1FhByJxFDKBkaEII0KxwRVS0fAkM2JyggkKFhcYGRolJicoKSo0NTY3ODk6Q0RFRkdISUpTVFVWV1hZWmNkZWZnaGlqc3R1dnd4eXqDhIWGh4iJipKTlJWWl5iZmqKjpKWmp6ipqrKztLW2t7i5usLDxMXGx8jJytLT1NXW19jZ2uHi4+Tl5ufo6erx8vP09fb3+Pn6/9oACAEBAAA/AOZ8d/HDW9eke00RrnSLF4TDPE2wyM2Tk7sbl4wMA1R+Cera+nxB0zTtPupnsWMjXFq8zCER7TubbyNw4xxycAkAk17N4q+B3hbxLqkmpp9p0+4kX547RlSN2AwDtKnaemcdeeMkmvBvBGs3Hw0+JUb6rYy7oGa1uoQh8wK3G5QcZPQj1H1zX2NXkvjL4baFq3xV0PUrlrvzNRkd7mNJQEcwIpXtkZAAOD06YPNf/9k=\n",
      "text/plain": [
       "<IPython.core.display.Image object>"
      ]
     },
     "metadata": {},
     "output_type": "display_data"
    },
    {
     "data": {
      "image/jpeg": "/9j/4AAQSkZJRgABAQAAAQABAAD/2wBDAAgGBgcGBQgHBwcJCQgKDBQNDAsLDBkSEw8UHRofHh0aHBwgJC4nICIsIxwcKDcpLDAxNDQ0Hyc5PTgyPC4zNDL/wAALCAAsACgBAREA/8QAHwAAAQUBAQEBAQEAAAAAAAAAAAECAwQFBgcICQoL/8QAtRAAAgEDAwIEAwUFBAQAAAF9AQIDAAQRBRIhMUEGE1FhByJxFDKBkaEII0KxwRVS0fAkM2JyggkKFhcYGRolJicoKSo0NTY3ODk6Q0RFRkdISUpTVFVWV1hZWmNkZWZnaGlqc3R1dnd4eXqDhIWGh4iJipKTlJWWl5iZmqKjpKWmp6ipqrKztLW2t7i5usLDxMXGx8jJytLT1NXW19jZ2uHi4+Tl5ufo6erx8vP09fb3+Pn6/9oACAEBAAA/APf65jx94RtvGvhK50mdgkoImt5dpby5VBwcAjPBI+hNfHvh/Wr3wr4ls9WtQEurKbdskTI9GUj3BI7HnqDX2xpuu6bqugQa5bXUf9nTQ+eJnYKqLjJ3HoMYIOehBz0qaw1TT9ViaXTr+1vI0baz28yyAHrglSea5/RPiV4Q8Q6sdL0zWYprzJCxlGTzCMn5SwAboelbuo61pWj+V/aep2Vl5ufL+0zrHvxjONxGcZH5ivF/it8I5vE14fFXhL7NO1xF5tzAkn/HwcDa8WBtJYZJ5GcAjJJrwrVfDeuaGpbVdIvrNBJ5XmTwMiFueAxGD0PQ9qn8I3urWPizS5NEmki1CS5SKHy2ALFmC7Tu4wc4549a+5K+KfiRcz3PxH8Q+fNJL5d/PGm9i21RI2FGegHpVz4dePrrwZrcfn3d8dEl3C7tLcglwVIBUEja2cfMCDx1qx8SPiZqPxA1EW6oYNIgmLWlsFw7dg78nL4PQcDOB3J9d+C/wsm8N58Q67A0eqSIUt7dwp8lCAdx6kOemOMDIPXjyPxD4x8d6B4mv9IuPEmsQtbXDR4lnOduflb3ypByOoOa+mNd1vT/AAx4Vh8Raky3kNnbBRKsSmWVn2DKFmGM9SO/4c/Hrpe+KfE0v2DTwbvULhnjtLVPlUsSdqjso/QCvoLwX8AdP0q60vVtavpLu6g2zSWYQCISdQCepCnH1xyMcV7TXzb+0hpEVr4i0jVo441a9geKQrnczRleSOnRwM+3sK8z1vxt4l8TWNpp+qanJcW1quyGFY0QY4AyEA3fdGM5x+Jr3D4RfB240K8tPE+vu0d+qlrexHBh3AjdIfXBPy9s888D26uB+J/xMtvh/p8CRRJdardZMNuzYCoDy745A7D1OfQ0z4t+EdL8T+HYJ77zlnspcwyQvggPgMCCCCDhT0zx165d4E+GfhTQNL0+/t9LSfUDGkxu7k+ZIG5IK54XGcfKB0GckZrv6K5X4geFNK8V+FLuDU4Sxt43mgmTAkiYDPykg9cYI7j8K//Z\n",
      "text/plain": [
       "<IPython.core.display.Image object>"
      ]
     },
     "metadata": {},
     "output_type": "display_data"
    },
    {
     "data": {
      "image/jpeg": "/9j/4AAQSkZJRgABAQAAAQABAAD/2wBDAAgGBgcGBQgHBwcJCQgKDBQNDAsLDBkSEw8UHRofHh0aHBwgJC4nICIsIxwcKDcpLDAxNDQ0Hyc5PTgyPC4zNDL/wAALCAAhABkBAREA/8QAHwAAAQUBAQEBAQEAAAAAAAAAAAECAwQFBgcICQoL/8QAtRAAAgEDAwIEAwUFBAQAAAF9AQIDAAQRBRIhMUEGE1FhByJxFDKBkaEII0KxwRVS0fAkM2JyggkKFhcYGRolJicoKSo0NTY3ODk6Q0RFRkdISUpTVFVWV1hZWmNkZWZnaGlqc3R1dnd4eXqDhIWGh4iJipKTlJWWl5iZmqKjpKWmp6ipqrKztLW2t7i5usLDxMXGx8jJytLT1NXW19jZ2uHi4+Tl5ufo6erx8vP09fb3+Pn6/9oACAEBAAA/AJP2iNR1PSdT8PXGn6jqFr5iSnEVwUj3IVKsFByGG85Pptx0NcTH8ePGcPh2DTIriAXMQC/2g8YkmZR0zuypOOCSCT9ea9J+C/xT1fxZqV1oevulzdJEbiG6WNUJUEAqyqAvcYPH417RXK+OfAOk+PtMhtNSMkUtu++C4hxvjzjcBnjBAGR7D0r5o+IvwtvPh6IJ5tUtLy1uZTHBtBSY4XJJQ5AA6cMeo6Zrqv2b3iHjDVVdkErWPyAkbj865xX0vQSACScAV498XfH/AIHufCt3oklxBq95cQs1t9jZZVt5RnY5cHCkMOQDnGcjB5+ctC1u/wDDms22q6bMYrq3cMpBIDeqtgjKnoR3FfRX/DQOlf8AQD1v/wAB0/8Ai68P8TfEDxd4gvrkanq93ErYjks4ZWjhG3t5YOOozz3qt4T8D6940u5LfR7QuI03PNJlYl9AWxgE84HfB9K9k0b9myCG5tJ9Y8QG4iXDXFpBbbNxxyok35xnvtBI9O3uX2OD/nn+pr5d8ff8l6g/6/oP/RlfSHhb/kCJ/vt/Otmiv//Z\n",
      "text/plain": [
       "<IPython.core.display.Image object>"
      ]
     },
     "metadata": {},
     "output_type": "display_data"
    },
    {
     "data": {
      "image/jpeg": "/9j/4AAQSkZJRgABAQAAAQABAAD/2wBDAAgGBgcGBQgHBwcJCQgKDBQNDAsLDBkSEw8UHRofHh0aHBwgJC4nICIsIxwcKDcpLDAxNDQ0Hyc5PTgyPC4zNDL/wAALCAAfABUBAREA/8QAHwAAAQUBAQEBAQEAAAAAAAAAAAECAwQFBgcICQoL/8QAtRAAAgEDAwIEAwUFBAQAAAF9AQIDAAQRBRIhMUEGE1FhByJxFDKBkaEII0KxwRVS0fAkM2JyggkKFhcYGRolJicoKSo0NTY3ODk6Q0RFRkdISUpTVFVWV1hZWmNkZWZnaGlqc3R1dnd4eXqDhIWGh4iJipKTlJWWl5iZmqKjpKWmp6ipqrKztLW2t7i5usLDxMXGx8jJytLT1NXW19jZ2uHi4+Tl5ufo6erx8vP09fb3+Pn6/9oACAEBAAA/APKfE+l3PgX4j3UCRSwfYb7z7QlhuMQfdEwI4+7j6HI4xivr/QfEuk+I9Kt9Q02+gnhnwoCvyr4yUI6hgMnBGcDNa1eV/GD4WyeNYItV0jyk1e1iZCjkqLlOoXPQMOQOmd3JAAr5g1HSdR0e4EGp2F1ZTMNypcRNGSM4yARyMg816h8MfirrXh7TLnTpx/aNrF5YtkmfHkD5sgHGSPu8E4GOMV9R14b+0hriwaPpGhqlu7XUj3EhY5kiCYCkDsG3MM/7J965z4L/AA0t/E+i6hquqy3EVs0qxW32dwGYqDvJyp4+ZQMeje1fStfL/wAeNG1Kf4n2pFum3UIoobMiQfvGBCkHONvzMBzx3z6fQvhLw5aeFPDFjo9nGEWGMeYc5LyEfOx56k5Pp2HFf//Z\n",
      "text/plain": [
       "<IPython.core.display.Image object>"
      ]
     },
     "metadata": {},
     "output_type": "display_data"
    },
    {
     "data": {
      "image/jpeg": "/9j/4AAQSkZJRgABAQAAAQABAAD/2wBDAAgGBgcGBQgHBwcJCQgKDBQNDAsLDBkSEw8UHRofHh0aHBwgJC4nICIsIxwcKDcpLDAxNDQ0Hyc5PTgyPC4zNDL/wAALCAAfAC0BAREA/8QAHwAAAQUBAQEBAQEAAAAAAAAAAAECAwQFBgcICQoL/8QAtRAAAgEDAwIEAwUFBAQAAAF9AQIDAAQRBRIhMUEGE1FhByJxFDKBkaEII0KxwRVS0fAkM2JyggkKFhcYGRolJicoKSo0NTY3ODk6Q0RFRkdISUpTVFVWV1hZWmNkZWZnaGlqc3R1dnd4eXqDhIWGh4iJipKTlJWWl5iZmqKjpKWmp6ipqrKztLW2t7i5usLDxMXGx8jJytLT1NXW19jZ2uHi4+Tl5ufo6erx8vP09fb3+Pn6/9oACAEBAAA/APKNV8Wa9a+Pb7WYtVuhfx3rMJfMPO1iFUjoVA424xjjGK+vtA8S6T4gtInsdUsLq48pHmitrhJDGWGcEAkjoevpWxXDePvijo/gCW0t7yC4uru4w4hhAG2PdgsSeOzYHcjBwDmvPviF8dIJdD04+CdUmhv5Jma432qkxxgEbW3qRkkgjbnockd+7+EXjXUPHHhOa91SOJbq2uWt2eIYEg2qwOOx+bH4V8iXInW6lF0JBcBz5olzv3Z53Z5zn1qzo+s6joGpw6lpd3La3cLBlkjbHfoR3B7g8HvX114S+ItjrPw3TxVqksFmIFdbwBjtR0OMDI5LDaQoz94Dk18uePPFs/jTxde6vIZVt3bZawuxPlRDhRjJAJxkgcbiTXNV9U/s+6VPp/w5a6mKFNQu5J4gpyQoAj598oa62b4b+DrnXZ9auPD1lPfTktK0ql0diMEmMnZk9c4znJ6nNY/xM+Hlh4j8DTWmmabaQ39knm2PlRrHjaOYwQOAyjGOmQvpXyJ5kqRtDvcITlkycZ9xSwQPc3EUEQ3SSuEUepJwK2vFXg/WvBup/YdYtfLcqGSRDujcH0bv0I/CvbPhD8VPDWkeBoNF1u+WxuLF3VC8bESozM+QVB5BJB6dq91orym7+Anhm98XzazNPcGymdppNOXCoZC2ThhghOvyjn3xxXRaN8J/Beg6x/aljoyfaFKtCJnaVYWXoyBicHODk5IPTFbninw3Z+LfDl5ot8XWG5UDemNyMCCGH0IH16V8maB8LvEXibVdZ07T1thPpE/kXInl24bc68YyDyjV/9k=\n",
      "text/plain": [
       "<IPython.core.display.Image object>"
      ]
     },
     "metadata": {},
     "output_type": "display_data"
    },
    {
     "data": {
      "image/jpeg": "/9j/4AAQSkZJRgABAQAAAQABAAD/2wBDAAgGBgcGBQgHBwcJCQgKDBQNDAsLDBkSEw8UHRofHh0aHBwgJC4nICIsIxwcKDcpLDAxNDQ0Hyc5PTgyPC4zNDL/wAALCAAtACIBAREA/8QAHwAAAQUBAQEBAQEAAAAAAAAAAAECAwQFBgcICQoL/8QAtRAAAgEDAwIEAwUFBAQAAAF9AQIDAAQRBRIhMUEGE1FhByJxFDKBkaEII0KxwRVS0fAkM2JyggkKFhcYGRolJicoKSo0NTY3ODk6Q0RFRkdISUpTVFVWV1hZWmNkZWZnaGlqc3R1dnd4eXqDhIWGh4iJipKTlJWWl5iZmqKjpKWmp6ipqrKztLW2t7i5usLDxMXGx8jJytLT1NXW19jZ2uHi4+Tl5ufo6erx8vP09fb3+Pn6/9oACAEBAAA/AOBvvGWqeEvjRrmsW1xK+zVZ454i+RNCspHlnOeNoAHpgY6VN8UPio3xBisbSDT2srS1dpCHkDtIxAA7DGPm+ufau1/Z78TX6x6zYaheH+xrC2WdWmPyW3zMTg9ACCxI/wBn61y3xM+MOpeKNQNhos8llpNrOWilgdlkuSrZSQnggcAhex5POMc/D8WvHUEEcKeIrorGoUFwrHAGOSRkn3NZ3jvwzc+EfGN/pNy6ybH8yKRT9+NuVJHY46j1z161inTr0WAvzZ3AsmbYLgxN5Zb03Yxn2r1T4KRtquj+N/DkJUXWpaaPJJYDlQ64wfeQVw114A8V2eq3OmS6HdteW0InliiUSERnowK5DDORxnkEVzdfc+teE9A8RvG+saRaXskYwryxgsBzxnrjk8e9aK2dsliLJII1tRH5QhVcKExjaAOgxxivlXxJo+q/BT4jW2oaU8klmxZ7WSbGJ4+N8T464yAeB2IA4r6g0bVtN8Q6bbaxps0VzBKh8uZRyAcZXnkcgZB9K4if4F+BLi4lmOnToZHLlY7l1VcnOAOw9q9IorB8XeE9N8ZaBPpepQqwYEwy/wAUMmOHU+369DXjPwL1m/8ADvi/VPA2sPJE5LGGCQ5CSpkuF5xhly3GQduc+v0JRRRXzt8fdJn0Lxho3jGxIVpNqMMniaI7lPXOCuBgY+56mvUdN+K3hi90u0uprp4JZ4UkeHyXby2ZQSuQuDjOM13FFFfPX7SWtMbvR9B8gbVQ3hm3ckksm3GP9nOc9686sdKupNPtnXVblFaJSEHReBxX/9k=\n",
      "text/plain": [
       "<IPython.core.display.Image object>"
      ]
     },
     "metadata": {},
     "output_type": "display_data"
    },
    {
     "data": {
      "image/jpeg": "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\n",
      "text/plain": [
       "<IPython.core.display.Image object>"
      ]
     },
     "metadata": {},
     "output_type": "display_data"
    },
    {
     "data": {
      "image/jpeg": "/9j/4AAQSkZJRgABAQAAAQABAAD/2wBDAAgGBgcGBQgHBwcJCQgKDBQNDAsLDBkSEw8UHRofHh0aHBwgJC4nICIsIxwcKDcpLDAxNDQ0Hyc5PTgyPC4zNDL/wAALCAAeABYBAREA/8QAHwAAAQUBAQEBAQEAAAAAAAAAAAECAwQFBgcICQoL/8QAtRAAAgEDAwIEAwUFBAQAAAF9AQIDAAQRBRIhMUEGE1FhByJxFDKBkaEII0KxwRVS0fAkM2JyggkKFhcYGRolJicoKSo0NTY3ODk6Q0RFRkdISUpTVFVWV1hZWmNkZWZnaGlqc3R1dnd4eXqDhIWGh4iJipKTlJWWl5iZmqKjpKWmp6ipqrKztLW2t7i5usLDxMXGx8jJytLT1NXW19jZ2uHi4+Tl5ufo6erx8vP09fb3+Pn6/9oACAEBAAA/APV/G3j7RfAVlb3Orm4drlysMFugaR8Y3EZIGBkZ57iuH8e61pvxO+D+p3fhu681rAx3dxbyDZJEqgswYE8ELuORkHaQCarfs4ax9q8LarpLby9jdLKMqAoSUHAB6k5Ric+o/Dlf2ivEOlarqukabY3kdxdaabhbtEyREzeXhSemflbIHTHOK4LwD4o03w3NrkeqwXclrqmlzWBNrtLoXxz8xA7f/WNeofsy/wDM0/8Abp/7WrxTxFpOpaJr15Y6rBLFdpK+4yJt3/MRvHYqcEgjj0q/H4D8US+GpvEK6NdDTIgHaVk2koQG3hTyyYOdwGMd+K9D/Z61rStK1nW4r4Mt1NbxtDKE3AIrHeuRyMloz/wGvo270jTb+ZJrzTrS5lQYV5oVdlHXgkcVbZQylWAKkYIPQ18s6p4I1rw98VdW0zw3f2lsXha6hMgJCQO4Ij5VuQcDPcDOecV//9k=\n",
      "text/plain": [
       "<IPython.core.display.Image object>"
      ]
     },
     "metadata": {},
     "output_type": "display_data"
    },
    {
     "data": {
      "image/jpeg": "/9j/4AAQSkZJRgABAQAAAQABAAD/2wBDAAgGBgcGBQgHBwcJCQgKDBQNDAsLDBkSEw8UHRofHh0aHBwgJC4nICIsIxwcKDcpLDAxNDQ0Hyc5PTgyPC4zNDL/wAALCAAYABsBAREA/8QAHwAAAQUBAQEBAQEAAAAAAAAAAAECAwQFBgcICQoL/8QAtRAAAgEDAwIEAwUFBAQAAAF9AQIDAAQRBRIhMUEGE1FhByJxFDKBkaEII0KxwRVS0fAkM2JyggkKFhcYGRolJicoKSo0NTY3ODk6Q0RFRkdISUpTVFVWV1hZWmNkZWZnaGlqc3R1dnd4eXqDhIWGh4iJipKTlJWWl5iZmqKjpKWmp6ipqrKztLW2t7i5usLDxMXGx8jJytLT1NXW19jZ2uHi4+Tl5ufo6erx8vP09fb3+Pn6/9oACAEBAAA/APLPAnju/wDA/iQakBcXUDbjcWn2kxrOxUgFjg5IJzyDVrQb7xv41+IaajpN3cNrcsgc3CkiOBAw+91AjHHykEHpgk4Ppv7Qfic2l5odrpGstDqFq8rzx2twVeLIjKbtp4PUjP1rd8EeP/G+oeDdNuT4Pl1clGX7cL5IvO2sVyVKkg8YJ7kE968d+Mfhm48O/ES/kaILaag5u7d1TapDfeH1DZB/A967PxV8WfC+meEZtC+HtpcadPOULXVvEIAgHU5+8zkKBn0Od2Rg8Z4F+GGv+O9ShuriK5t9JkYtNqEw++AedmfvsTkZ5AOc9MV9aaVpltouk2mmWSsttaxLDEGbJCqMDJ71yvxY8OHxL8PNStobM3N7CgntlSMNJvUgkJ3yQCOOTnFeLfATwZYa/r17qmq2sk0emGMwI6/umlO773HJXAOPevp5VVECqoVVGAAMAClr/9k=\n",
      "text/plain": [
       "<IPython.core.display.Image object>"
      ]
     },
     "metadata": {},
     "output_type": "display_data"
    },
    {
     "data": {
      "image/jpeg": "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\n",
      "text/plain": [
       "<IPython.core.display.Image object>"
      ]
     },
     "metadata": {},
     "output_type": "display_data"
    },
    {
     "data": {
      "image/jpeg": "/9j/4AAQSkZJRgABAQAAAQABAAD/2wBDAAgGBgcGBQgHBwcJCQgKDBQNDAsLDBkSEw8UHRofHh0aHBwgJC4nICIsIxwcKDcpLDAxNDQ0Hyc5PTgyPC4zNDL/wAALCAAfABcBAREA/8QAHwAAAQUBAQEBAQEAAAAAAAAAAAECAwQFBgcICQoL/8QAtRAAAgEDAwIEAwUFBAQAAAF9AQIDAAQRBRIhMUEGE1FhByJxFDKBkaEII0KxwRVS0fAkM2JyggkKFhcYGRolJicoKSo0NTY3ODk6Q0RFRkdISUpTVFVWV1hZWmNkZWZnaGlqc3R1dnd4eXqDhIWGh4iJipKTlJWWl5iZmqKjpKWmp6ipqrKztLW2t7i5usLDxMXGx8jJytLT1NXW19jZ2uHi4+Tl5ufo6erx8vP09fb3+Pn6/9oACAEBAAA/APSPHPxS0PwDe2dnqUF7cT3KGTbbIp2IDgE7mA5OeB6HOOM8f8YvEWmeJ/g//aGjXcV1ateQh2VsNGcE7SOzcjIOKT9nbxHf6roGq6TeSyTJprwmB5HLFUcMAgz0C+Xx9ccYrn/2lr62lv8Aw7YpMrXMEc8ksY6qrmMKT9djflXhFe//ALMv/M0/9un/ALWryf4ialqGqfEHXZdTlD3EV5LbgKcqixsUVV4HAA64Gep5Jqx45+H974IbT2lma7t7y3WUXCQMiKxz8meQWwM16F+zbq9rba1rekyFxc3sUUsOFypEe/cCex/eDH0P4+r+JvhP4T8WayurajaTLe+YjzSQzFfPVBgI4ORggAEjDcdRXR6zoGm65osul3tnBNbtE0aLImfLypXK9wQD1GDXzFpfw18S6J8WIPD9rqi2d4sbzQ6lBziIo3zbcggnlSO2T1HJ/9k=\n",
      "text/plain": [
       "<IPython.core.display.Image object>"
      ]
     },
     "metadata": {},
     "output_type": "display_data"
    },
    {
     "data": {
      "image/jpeg": "/9j/4AAQSkZJRgABAQAAAQABAAD/2wBDAAgGBgcGBQgHBwcJCQgKDBQNDAsLDBkSEw8UHRofHh0aHBwgJC4nICIsIxwcKDcpLDAxNDQ0Hyc5PTgyPC4zNDL/wAALCAAeABYBAREA/8QAHwAAAQUBAQEBAQEAAAAAAAAAAAECAwQFBgcICQoL/8QAtRAAAgEDAwIEAwUFBAQAAAF9AQIDAAQRBRIhMUEGE1FhByJxFDKBkaEII0KxwRVS0fAkM2JyggkKFhcYGRolJicoKSo0NTY3ODk6Q0RFRkdISUpTVFVWV1hZWmNkZWZnaGlqc3R1dnd4eXqDhIWGh4iJipKTlJWWl5iZmqKjpKWmp6ipqrKztLW2t7i5usLDxMXGx8jJytLT1NXW19jZ2uHi4+Tl5ufo6erx8vP09fb3+Pn6/9oACAEBAAA/AOP1G3vPgv8AFxLxYPtFllpIAMIJoHBBUddpUkj/AID6GvY7H48+BLmwjnuL64s5mBLW0trIzKQemVBU56jnvzjpW54K+Jfh7x488OlPcRXUK73trmMK+zIG4YJUjJA4OfWtTxT4R0bxjpTWGsWiyjawimAxJAxGNyN2PT2OBkGvmr4ifCaPwdpr6jpuspqMFrMtvexuoSSB2UMnAJyCCPfkdecV/gx4ffxF4tvLZLhYDHYtJuK7s/vEGOvvX1zXyT8dbm3uviheNbz20wSGONzAOVdRgq5zywP5DA6ivU/gH4JutA0i81rVLF7e9v8AasHmEbhBjPTquT1B/urxXrOpQ3VzpV5BZXItruWB0gnKhvKcqQrYPXBwce1fKng74bS6h8Tl0TWrmGSO1uHN15bM3neWfmUE4OGxjPXmvrRVVFCqoVVGAAMACv/Z\n",
      "text/plain": [
       "<IPython.core.display.Image object>"
      ]
     },
     "metadata": {},
     "output_type": "display_data"
    }
   ],
   "source": [
    "#Look for the bounding boxes over the words again to possible find characters. It will return the box of the entire word\n",
    "#when it does not find seperate characters in the word. \n",
    "#The character needs a minimum width of 15, height of 10 and maximum density of 55%\n",
    "characters = []\n",
    "temp = []\n",
    "for word in words:\n",
    "    res = wordSegmentation(word, kernelSize=3, sigma=1, theta=1, minArea=15) # fix parameters\n",
    "\n",
    "    for (j, w) in enumerate(res):\n",
    "        (charBox, charImg) = w\n",
    "        (x, y, w, h) = charBox\n",
    "        if (w > 15):\n",
    "            if( h > 15):\n",
    "                if( pixel_density(charImg) < 0.55):\n",
    "                    characters.append(charImg)\n",
    "\n",
    "for char in characters:\n",
    "    showarray(char)\n",
    "    #print(pixel_density(char))"
   ]
  },
  {
   "cell_type": "markdown",
>>>>>>> bd57b4512b97cdd941a556532deb1ef09b42dde5
   "metadata": {
    "inputHidden": false,
    "outputHidden": false
   },
   "source": [
<<<<<<< HEAD
    "word = words[1]\n",
=======
    "##### word = words[2]\n",
>>>>>>> bd57b4512b97cdd941a556532deb1ef09b42dde5
    "h, w = word.shape\n",
    "num = 3\n",
    "chars = []\n",
    "for i in range(num):\n",
    "    part = math.floor(w / num)\n",
    "    char = word[:,part * i:(part * i) + part]\n",
    "    shape = cv2.resize(char,(32,48))\n",
    "    ret,thresh1 = cv2.threshold(shape,127,255,cv2.THRESH_BINARY)\n",
    "    chars.append(thresh1)"
   ]
  },
  {
   "cell_type": "code",
<<<<<<< HEAD
   "execution_count": 183,
=======
   "execution_count": 384,
>>>>>>> bd57b4512b97cdd941a556532deb1ef09b42dde5
   "metadata": {
    "inputHidden": false,
    "outputHidden": false
   },
   "outputs": [
    {
     "data": {
<<<<<<< HEAD
      "image/jpeg": "/9j/4AAQSkZJRgABAQAAAQABAAD/2wBDAAgGBgcGBQgHBwcJCQgKDBQNDAsLDBkSEw8UHRofHh0aHBwgJC4nICIsIxwcKDcpLDAxNDQ0Hyc5PTgyPC4zNDL/wAALCAAwACABAREA/8QAHwAAAQUBAQEBAQEAAAAAAAAAAAECAwQFBgcICQoL/8QAtRAAAgEDAwIEAwUFBAQAAAF9AQIDAAQRBRIhMUEGE1FhByJxFDKBkaEII0KxwRVS0fAkM2JyggkKFhcYGRolJicoKSo0NTY3ODk6Q0RFRkdISUpTVFVWV1hZWmNkZWZnaGlqc3R1dnd4eXqDhIWGh4iJipKTlJWWl5iZmqKjpKWmp6ipqrKztLW2t7i5usLDxMXGx8jJytLT1NXW19jZ2uHi4+Tl5ufo6erx8vP09fb3+Pn6/9oACAEBAAA/APf6z9d1P+xPD2p6t5PnfYbSW58rdt37ELbc4OM4xnBr5w8KfGjxtqnj7Sba71CB7G91COGS0FrGEVJHC4Ugb/lDcZY9BnPOfp+vC/grJD428Qah4q129u9S8RWCRJHJLGIo7VWEq4jCPtYMuSQUXBJIySTXWfG/xJeeHPh5J9jjgf8AtKU6fN5yk7Y5IpNxXBGG4GCcj2r5o8F+I7fwn4otdZudIg1RbfJSGZym18fK6nkBgeRkH2AOGHYaz8e/G2oai82nXUGl2vIS3hgjlwMkgs0iklsEAkYBx0Fe1/Cb4bTfD3S74315HcahfuhmEGfKjVN2wKSASfmJJOOoAHGTw/7Sekw/Z9G1ltTkE4c2qaezgqVwWaVFzkEHarHBzlOmOfIPA3gy+8deJY9HsZI4QEM1xO/IhiBALYzljlgAB1JGSBkj6b8MfBrwf4Z+1f6F/av2jZ/yFYoZ/K25+58gxndz64HpW5428aab4I8Pz6levHJOEJtrPzlSS4bKjCg8kAsCxAOBzg9K+XPsHjX4u+KP7R+yT3LXEvkfafLZbS1UDds3chFUHOOWOf4mbn6P+Hfwy0v4fWcpik+26nPkTXzx7CUzkIq5O1eATycnknhQO4r5c1Qav8d/iQy6TJdxaHbIgV7tAFsoyo3kqpILswbAzlsDJCr8vvcdxoXwz8DafBqd9Ba2NjFHbGYRFfOkxywjXJLMdzEDJ+8T0Jrj/EP7QPhHTLMNo/n6zdN0jSN4EXBH3mdcjIJxtVumDjOa4C+/aR8SSXkjWGjaVBanGyOcSSuvAzlgyg85/hHpz1r0P45P4vk8NWmn+GrK7uLS8d49QNnE0ku3A2pheQjfPuIHYAkBsN4Jpnwr8c6v5v2bwzfR+Vjd9rUW2c5xjzSu7p2zjjPUV6B4Y/Zz1G+s4brxHqf9myGX95ZQxrK/lg/89A21WPOMBgOCcnIHZ+LfgN4bvvD8sXhixj0/Vg6tDLLdzNGRn5lfdv42kkYGcgc4zn//2Q==\n",
=======
      "image/jpeg": "/9j/4AAQSkZJRgABAQAAAQABAAD/2wBDAAgGBgcGBQgHBwcJCQgKDBQNDAsLDBkSEw8UHRofHh0aHBwgJC4nICIsIxwcKDcpLDAxNDQ0Hyc5PTgyPC4zNDL/wAALCAAyAC0BAREA/8QAHwAAAQUBAQEBAQEAAAAAAAAAAAECAwQFBgcICQoL/8QAtRAAAgEDAwIEAwUFBAQAAAF9AQIDAAQRBRIhMUEGE1FhByJxFDKBkaEII0KxwRVS0fAkM2JyggkKFhcYGRolJicoKSo0NTY3ODk6Q0RFRkdISUpTVFVWV1hZWmNkZWZnaGlqc3R1dnd4eXqDhIWGh4iJipKTlJWWl5iZmqKjpKWmp6ipqrKztLW2t7i5usLDxMXGx8jJytLT1NXW19jZ2uHi4+Tl5ufo6erx8vP09fb3+Pn6/9oACAEBAAA/APejcQC5W2M0YuGQyLFuG4qCAWA64BIGfcVLWN4s8PxeKfC2o6LK4jF1EVWTaDsfqrY9iB/9avjLxL4V1jwlqjWGsWjQS8mN+qSqDjcp7jimX3ifW9T1i21e91O4n1C22GG4dsum1ty4PsTmva/hr8cYYNLurXxrqbNNE6/ZpzAzM6kEFTsU9CAcnk7u+K8V03xPq2l+KIfEcV00mpRzecZZiW8wnqG9QQSD7Gvc739pTT0sovsOgXUt0Yx5vnyLGivxkLjcWXrycH2rkJv2h/GDau93Bb6aloY9i2TwsyA5zvLBgxbHHULj+HPNeqeC/jL4c8Y2lxZ6z9l0q5EZ8yG7lXyZkOAcM2AeuNp5x6848E+KOu6Fr/jOSfw7ZRW2nQRLbqYoljWZlLEuFAGAc4GecAfQei/AvwJpeueH9R1DXdAhuo5J1W1muA3zAAhto6YB4yO+R2q38X/hDaCDVvGOl3n2dlX7Rc2jrlWbI3FCORnrg559AePEvC+hN4m8Tafoq3At2vJfLEpXcF464yM9Kh17TE0XX7/TI7pbpbSdofOVdofacE47VnV0XhDwhqfi7W7O0tLK7eze4SK5uooiywISNzE9AQuTgnnFfaGkaVaaHpNrplhEIrW2jEcagAdO5xxknJPuTTNd0xda8P6jpbMqC8tpIN7LuCllIDY74Jz+FfDY028bVhpQt2N8Z/s4h7+Zu27frniu40j4JeOdVujC+mJp6AZM17KFQdf7u4np2HevZtA+APhCwsk/teC41K7aNPN33LJGjgfNs2bTgn+9noOlejaJoWmeHNLj03SLOO0tI8lY0yeT1JJ5J9ySa0KqaVZyafo9lZSzm4kt7eOJ5m6yFVALHk9cZ6188fHjwPcaTry+MNLWUW10ym6aMH/R5hgB8gfKG45/vZ55Ar2H4Y+L28a+CLXUpyDexMbe7wuB5q45HGOVKtxwN2O1djRRRWN4u099V8G61YRwCeWexmSKI4+Zyh2jnvuxXz7+ztrd7beMrrRg1zJYXVq8jRIu5I5VK4kb+6MZXPcsoPbHZ+P/AI8J4d1e70XRNM+0Xlq7RTXF0cRq4HRVHLYPckdD161z3hn9oy//ALSji8S6damzkYK09mrK0Q/vFSW3D2GD/I/QtvPFdW0VxC4eKVA6MP4lIyD+VSUV5F8MUVPix8RVRQqi5j4AwPvSV8vu7SOzuxZ2OWZjkk+pptfdnhv/AJFbSP8Aryh/9AFf/9k=\n",
      "text/plain": [
       "<IPython.core.display.Image object>"
      ]
     },
     "metadata": {},
     "output_type": "display_data"
    },
    {
     "data": {
      "image/jpeg": "/9j/4AAQSkZJRgABAQAAAQABAAD/2wBDAAgGBgcGBQgHBwcJCQgKDBQNDAsLDBkSEw8UHRofHh0aHBwgJC4nICIsIxwcKDcpLDAxNDQ0Hyc5PTgyPC4zNDL/wAALCAAjABoBAREA/8QAHwAAAQUBAQEBAQEAAAAAAAAAAAECAwQFBgcICQoL/8QAtRAAAgEDAwIEAwUFBAQAAAF9AQIDAAQRBRIhMUEGE1FhByJxFDKBkaEII0KxwRVS0fAkM2JyggkKFhcYGRolJicoKSo0NTY3ODk6Q0RFRkdISUpTVFVWV1hZWmNkZWZnaGlqc3R1dnd4eXqDhIWGh4iJipKTlJWWl5iZmqKjpKWmp6ipqrKztLW2t7i5usLDxMXGx8jJytLT1NXW19jZ2uHi4+Tl5ufo6erx8vP09fb3+Pn6/9oACAEBAAA/AOWPx88Wt4qN6tzEmkG4yLBoEIWLOMFwN5OOc569scVqfHXxZqq+KtGbS9WaPT/sKXdo9nMVJLsfnJXr9xcckYHHU13fwO+IF34r0e60rV7qW41Swwyyuo/eQkADJHVgQck8nIOSc45TxH8f9d0bxPq2lw6Tp7xWV7Nbo7l8sEcqCeevFeO+LNCl8M+LNU0aUEfZbhkQn+JOqN1OMqVOM96xq9q/Zx1uGy8Tapo8rIrajAjxZPLNFuO0f8Bdj/wGvWdQ+DngbVNSutQu9Id7m6meeZxdSjc7EsxwGwOSeleFfHXw3/YfxAkvIoJUtdTT7QruzMGkz+8AJ9Dg7e24dBgV7Pb+H9C+JPwntriPSdPW9utPZYJmh2eRcAbSQwG4KJE7dQOQQcV8/wDgjUIfAHxXtZtb3BNNuZ7a5MI37W2vESPUAnP0H4V9kRyJLGskbBkcBlI7g15p8c/DL6/4BkubWzSe801/tCvkBkiA/eY9eACR32juBXGfs7eMJGe88J3TsyBftNnhBhBk+YCfqVI/4FXEfHDRrnTPiZf3UsSpBfqk8LJ0I2hTn0O5G/nXpPhrUvitD4W0iKw0a1ezSyhWBn8vJjCDaTlwc4x2r20gEEEZB6g15h4U8K6JpHxe12bT7BLd0g3IEZtql9hbC5wBknjGB2xXpc9tBcqFuIY5VByBIgYA/jUoGBgV/9k=\n",
>>>>>>> bd57b4512b97cdd941a556532deb1ef09b42dde5
      "text/plain": [
       "<IPython.core.display.Image object>"
      ]
     },
     "metadata": {},
     "output_type": "display_data"
    },
    {
     "data": {
<<<<<<< HEAD
      "image/jpeg": "/9j/4AAQSkZJRgABAQAAAQABAAD/2wBDAAgGBgcGBQgHBwcJCQgKDBQNDAsLDBkSEw8UHRofHh0aHBwgJC4nICIsIxwcKDcpLDAxNDQ0Hyc5PTgyPC4zNDL/wAALCAAwACABAREA/8QAHwAAAQUBAQEBAQEAAAAAAAAAAAECAwQFBgcICQoL/8QAtRAAAgEDAwIEAwUFBAQAAAF9AQIDAAQRBRIhMUEGE1FhByJxFDKBkaEII0KxwRVS0fAkM2JyggkKFhcYGRolJicoKSo0NTY3ODk6Q0RFRkdISUpTVFVWV1hZWmNkZWZnaGlqc3R1dnd4eXqDhIWGh4iJipKTlJWWl5iZmqKjpKWmp6ipqrKztLW2t7i5usLDxMXGx8jJytLT1NXW19jZ2uHi4+Tl5ufo6erx8vP09fb3+Pn6/9oACAEBAAA/APU/GfxG8OeBURdXuZGu5U3xWdum+V13AZxkBR15YjO1sZIxVzwn400LxrpzXmi3fm+VtE8LqUkhZhkBlP4jIypIOCcGugr50+J/xp1+y8Y3WkeGLyOztNPcwSyiBZGmlGN+fMU7QrAqMDnBOSCMeL6rqt9rmqXGp6ncyXN5cPvllfqx/kABgADgAADAFeqfs4/8lD1D/sFSf+jYq+h/Fl9caZ4N1y/s5PLurXT7iaF9oO11jYqcHg4IHWvhyeea6uJbi4lkmnlcvJJIxZnYnJJJ5JJ5zXvH7QHg2207S9H1PQtAtLSzgeVL2WytkjClvL8vftAOMhgCeATjqwz5X8Or+8sfiHoH2O7nt/P1C3gm8mQp5kbSpuRsdVOBkHg19r18mfF/4Zr4F1SG+0wyPot87CJWDMbZxz5ZboQRkqSckBgc7dx9n+O+q2Nl8ML+wuLmOO7v3iS1hP3pSkqO2B6BRyenIHUgH5Y0mG+udZsYNLMg1CS4jS1McmxhKWATDZG07sc5GK+59JjvodGsYtUmjn1BLeNbqWMYV5Qo3sOBwWyeg+gqS+sLPU7OSzv7SC7tZMb4Z4xIjYIIyp4OCAfwr4U1LVtS1m4W41TULu+nVAiyXUzSsFyTgFiTjJJx7mtDwjrVj4c8S2msX+mSaiLRxNDAtz5A81SCrMdrEgEZxxk4ycZB9j/4aa/6lH/ypf8A2quA8SfGfxr4j8tf7S/suFMHy9M3QbmGeS24ueD03beAcZGa6D/hnHxh/wBBLQ/+/wDN/wDGquab+zZr0twy6prmm20GwlXtVedi2RwVYIAMZ5z2HHPG3Y/s0Wcd5G1/4nnntRnfHBZiJ24OMMXYDnH8J9OOtemaB8NPB/hfVF1PR9FjgvFQosrTSSlAeu3exAOOMjnBI6E1/9k=\n",
=======
      "image/jpeg": "/9j/4AAQSkZJRgABAQAAAQABAAD/2wBDAAgGBgcGBQgHBwcJCQgKDBQNDAsLDBkSEw8UHRofHh0aHBwgJC4nICIsIxwcKDcpLDAxNDQ0Hyc5PTgyPC4zNDL/wAALCAAqABoBAREA/8QAHwAAAQUBAQEBAQEAAAAAAAAAAAECAwQFBgcICQoL/8QAtRAAAgEDAwIEAwUFBAQAAAF9AQIDAAQRBRIhMUEGE1FhByJxFDKBkaEII0KxwRVS0fAkM2JyggkKFhcYGRolJicoKSo0NTY3ODk6Q0RFRkdISUpTVFVWV1hZWmNkZWZnaGlqc3R1dnd4eXqDhIWGh4iJipKTlJWWl5iZmqKjpKWmp6ipqrKztLW2t7i5usLDxMXGx8jJytLT1NXW19jZ2uHi4+Tl5ufo6erx8vP09fb3+Pn6/9oACAEBAAA/AMP9obxJcXvi230BHdbTT4lkZMkB5XGd2MYOFwAecZb1IrjrT4reM7Hw4mh22tSx2saGNJAB5qJ02iT7wA7Y5HGMYFdN8Mvix4ptfFel6TqF/Nqljf3cdu63cheRC7bQyucngsDg5BAxxnNfU1eRfGz4a6j4wjstW0ONZtQtEMUtuWCmWMnIKkkDKnPHcHrwAfnPVfC2v6Fbpcato19Ywu+xXuIGQM2M4BI64BrvvgR4Qh8R+MJNRu0Y22kCO4Uq2P3+/MffOPkY9COOetfVdFcR8WPCsvi7wDeWdpEsl/AVubZWIGWU8jJHBKlgOnOMnGa8C+CXiweGPHsdndyeVZaoPssxcsAkn/LMkDvu+XJ6BycgZr60orK13xLovhm1FzrWpW9lEwYp5rcvgZIVRyx9gCelfG3jW90i78cape+Gw0WmyXHmW5ClOeCWUdVBbJA4wCOB0rubT4yeNksoEOpxvtjUbnt0LHjqTjk1T8WfGLxrPq2rafBqctlai6ljjjjiWOWJAxAXeBuBA4znPFcPoXh7WfFmrfYdIs5L28cNIw3AcDqWZiAPqT1PvXsvgP8AZ/nMovPGaRrCUYCwimJcNngs6HHrwCeo/D3+1tobK0htbaJYoIUWOONBgIoGAAOwAFea6zoWkah8YLT7bpVjc+dCDL51uj7yI2Azkc9B19BXpcEENrbx29vEkUMSBI441CqigYAAHAAHapKK/9k=\n",
>>>>>>> bd57b4512b97cdd941a556532deb1ef09b42dde5
      "text/plain": [
       "<IPython.core.display.Image object>"
      ]
     },
     "metadata": {},
     "output_type": "display_data"
    },
    {
     "data": {
<<<<<<< HEAD
      "image/jpeg": "/9j/4AAQSkZJRgABAQAAAQABAAD/2wBDAAgGBgcGBQgHBwcJCQgKDBQNDAsLDBkSEw8UHRofHh0aHBwgJC4nICIsIxwcKDcpLDAxNDQ0Hyc5PTgyPC4zNDL/wAALCAAwACABAREA/8QAHwAAAQUBAQEBAQEAAAAAAAAAAAECAwQFBgcICQoL/8QAtRAAAgEDAwIEAwUFBAQAAAF9AQIDAAQRBRIhMUEGE1FhByJxFDKBkaEII0KxwRVS0fAkM2JyggkKFhcYGRolJicoKSo0NTY3ODk6Q0RFRkdISUpTVFVWV1hZWmNkZWZnaGlqc3R1dnd4eXqDhIWGh4iJipKTlJWWl5iZmqKjpKWmp6ipqrKztLW2t7i5usLDxMXGx8jJytLT1NXW19jZ2uHi4+Tl5ufo6erx8vP09fb3+Pn6/9oACAEBAAA/AO7+E3xJm+IWl3wvrOO31CwdBMYM+VIr7thUEkg/KQQc9AQecDsPEmtw+HPDWpazP5ZSzt3lCPIIxIwHypuPQs2FHB5I4NfGl9401298aSeLRd/Z9XaUSrLAoUJgBQoHdQoC4OcjrnJz9f8AgfxJ/wAJd4L0vXDH5cl1F+9QLgCRSUfaMn5dytjJzjGear/Du40K78CabP4asp7LSG837PBOSXTErhsks3Vtx6nr+FeMftCeMvt2o23hezmsbixg23U0kLb5I7hTLG0bENgYBGVIyDXh9fafwys9NsfhvocOk3cl3Zm38xZpNoYs7F3BCkhSGZhtyduMEkjNfMHgz4peJvA6PBp9xHc2bJtWzvd0kUZ3FtyAMCpyWzg4OeQSAR7HYfBTw34x0628Uaje6rFfazEmoXEdvLGsayTASMEBjJCgscAknHc1458T/A8PgHxUml299JdwT24uo2kjCsis7qEODhiAn3sDOegr6H+B08M3wk0hIpY3eF50lVWBKN5zthvQ7WU4PYg96+ZPG2laPoni++07QL/7fpkPl+Tc+cku/Mas3zIApwxYcele/wD7O2sXF94Gu9NnScx6fdkQStEBHscbiisPvMG3Mc9A684IAz/2jPDFvPodl4nigna+t5UtJnTJQQHeQWHbDkAHj7+Dn5ccB8D/ABl/wjPi86dczWNtpmp/8fdzdts8ry45GTDFgoyzY5znIxisfwX8KvEvjX7LdW1r9m0iWUxvqExUKoX7xVMhn9BgY3cEjBI+l/hx4F/4V/4euNJ/tH7f5121z5vkeVjKIu3G5v7mc5711k8EN1by29xFHNBKhSSORQyupGCCDwQRxivjD4l6BY+F/iHq+j6Ysi2cDxtEjtuKB41fbnqQCxAzk4AySea+06KKx9Q8K6FquuWGtX2mQT6lp+fs07g5TuMjo2DyM52k5GDzX//Z\n",
=======
      "image/jpeg": "/9j/4AAQSkZJRgABAQAAAQABAAD/2wBDAAgGBgcGBQgHBwcJCQgKDBQNDAsLDBkSEw8UHRofHh0aHBwgJC4nICIsIxwcKDcpLDAxNDQ0Hyc5PTgyPC4zNDL/wAALCAAfABQBAREA/8QAHwAAAQUBAQEBAQEAAAAAAAAAAAECAwQFBgcICQoL/8QAtRAAAgEDAwIEAwUFBAQAAAF9AQIDAAQRBRIhMUEGE1FhByJxFDKBkaEII0KxwRVS0fAkM2JyggkKFhcYGRolJicoKSo0NTY3ODk6Q0RFRkdISUpTVFVWV1hZWmNkZWZnaGlqc3R1dnd4eXqDhIWGh4iJipKTlJWWl5iZmqKjpKWmp6ipqrKztLW2t7i5usLDxMXGx8jJytLT1NXW19jZ2uHi4+Tl5ufo6erx8vP09fb3+Pn6/9oACAEBAAA/APULH4m+FL3xFf6EdUhtr20m8nFw4RJmGAdjE4J3HbjrkHjFeYfH/V9Y0bxJ4b1HTLma2SOJ3inic4aQMDgjG0jGOucgnIx163wZpSfEPwdpniTXDD9uuEdGNvbqgbZIybmznLEgkkYHIGOMn5y8d39tqnjzXL2zKtby3khjZSCGGcZBHBBxnPvTNU8WXureFdG0C4ji8jSTKYpRuLv5jbiGyccdBjtX0z8CWu2+FGnC5SJYlmnFsUPLR+YxJb33lx9AK+SWVkYqwKsDggjBBpK+2vh/DokHgXSl8Ou7aU0bPB5j7mG52ZlY+oYsD6YxXO618EvCOueJP7ZmiuYC7eZPbQSBYp23Elm4yM552kdPXNU/it8JbXxZpz6jodpbwa9Fg5XCC6QAjYeQobphj6AE4xjz3wF4f+JFh4ddNKsJvsjXUuNuqrCNyt5bjaCejIwz3x6c1//Z\n",
      "text/plain": [
       "<IPython.core.display.Image object>"
      ]
     },
     "metadata": {},
     "output_type": "display_data"
    },
    {
     "data": {
      "image/jpeg": "/9j/4AAQSkZJRgABAQAAAQABAAD/2wBDAAgGBgcGBQgHBwcJCQgKDBQNDAsLDBkSEw8UHRofHh0aHBwgJC4nICIsIxwcKDcpLDAxNDQ0Hyc5PTgyPC4zNDL/wAALCAAcABgBAREA/8QAHwAAAQUBAQEBAQEAAAAAAAAAAAECAwQFBgcICQoL/8QAtRAAAgEDAwIEAwUFBAQAAAF9AQIDAAQRBRIhMUEGE1FhByJxFDKBkaEII0KxwRVS0fAkM2JyggkKFhcYGRolJicoKSo0NTY3ODk6Q0RFRkdISUpTVFVWV1hZWmNkZWZnaGlqc3R1dnd4eXqDhIWGh4iJipKTlJWWl5iZmqKjpKWmp6ipqrKztLW2t7i5usLDxMXGx8jJytLT1NXW19jZ2uHi4+Tl5ufo6erx8vP09fb3+Pn6/9oACAEBAAA/APOfiRoN14D+Jk7WzJGGmGo2LoigKpcsuF5ACspXB/u9MGvo/TPip4UuvDVhq17rNlZvcqoe3aYNJE54IKjJABB5I6V0ejeI9F8QwmXSNUtL1VGWEMoYryRyOo6HrXz94K1i9+Llnc+EtetrK5vbaykltdYnUmaEbgDkfxnLIP4eAScnr5z4w8Ca74HvY7fWLdAkufJuIW3xy464PX8CAfaqHhrWdV0LX7O90Z5RerKoSKPd+++YHyyFILBiAMd69B/Z6uJofiVJHFbNMk2nyxyuDgQruRtx9RuVV+rCun/aK8W2k8dn4Tg2yXEE63dywJ/dHYwVemOQ+evp615r8PfC2u6lr2la1YaVc3On2epQmeaJQQmxkdhjqSFIP41337OOnxf27qGpbn877NJBtyNu3dE2emc5964v4oaRbW3xk1SwjaXyZ7qJ2LPuYGVUZsE+7HHpxX0n8MdPi0r4d6XZQM7Rx+bguQTzK57Aetf/2Q==\n",
      "text/plain": [
       "<IPython.core.display.Image object>"
      ]
     },
     "metadata": {},
     "output_type": "display_data"
    },
    {
     "data": {
      "image/jpeg": "/9j/4AAQSkZJRgABAQAAAQABAAD/2wBDAAgGBgcGBQgHBwcJCQgKDBQNDAsLDBkSEw8UHRofHh0aHBwgJC4nICIsIxwcKDcpLDAxNDQ0Hyc5PTgyPC4zNDL/wAALCAAfABkBAREA/8QAHwAAAQUBAQEBAQEAAAAAAAAAAAECAwQFBgcICQoL/8QAtRAAAgEDAwIEAwUFBAQAAAF9AQIDAAQRBRIhMUEGE1FhByJxFDKBkaEII0KxwRVS0fAkM2JyggkKFhcYGRolJicoKSo0NTY3ODk6Q0RFRkdISUpTVFVWV1hZWmNkZWZnaGlqc3R1dnd4eXqDhIWGh4iJipKTlJWWl5iZmqKjpKWmp6ipqrKztLW2t7i5usLDxMXGx8jJytLT1NXW19jZ2uHi4+Tl5ufo6erx8vP09fb3+Pn6/9oACAEBAAA/AOr+GHhIfDjwDd63qvm/bpYGvJ4gzp5cYQMIyhO0uNp5IBBYr06+CfED4gal461yS4lkmi09CVtrTedqJkkFgOCxzyfYDtXYfAvx3qOn+LLbw5eXc02mXqtFDHI5YQScspUYOATkEDA+bJ6V9H/23p3/AD8f+ON/hUXiPQovEuhXOkXFzPb29ypSVoNu4qeo+YED/wCtXztqX7Onii3vGTTr/T7y2xlZZGaJj9Vwcfma4XSVuPBHxJsV1KRbaTTNRQXLp84VQ43kYByNuegz+NfZn9o6Z/z+Wn/f1f8AGqup+KNA0acQanren2UxGRHcXKI35E+4ryLxP+0VbWgu7TQNL8+7inMaXFy4aBlDEFwEOWBA45HXPbB8C1XUr3xDrdxqN1iW9vJd7+WmNzH0Ar0v/hD/ABL/ANADU/8AwFf/AArifGuja3pfjLU7PXJ/tWpK/myz7wfMDDIb2yCOO3TFdN4a+CPijxLpFlqsM1hb2d2u9DLKS4XJGSoB9M9a9i8EfA7QfDLWWoakz6jq8D+bvLYhRwTt2pjtxyc8jPHSvU6//9k=\n",
      "text/plain": [
       "<IPython.core.display.Image object>"
      ]
     },
     "metadata": {},
     "output_type": "display_data"
    },
    {
     "data": {
      "image/jpeg": "/9j/4AAQSkZJRgABAQAAAQABAAD/2wBDAAgGBgcGBQgHBwcJCQgKDBQNDAsLDBkSEw8UHRofHh0aHBwgJC4nICIsIxwcKDcpLDAxNDQ0Hyc5PTgyPC4zNDL/wAALCAAUABABAREA/8QAHwAAAQUBAQEBAQEAAAAAAAAAAAECAwQFBgcICQoL/8QAtRAAAgEDAwIEAwUFBAQAAAF9AQIDAAQRBRIhMUEGE1FhByJxFDKBkaEII0KxwRVS0fAkM2JyggkKFhcYGRolJicoKSo0NTY3ODk6Q0RFRkdISUpTVFVWV1hZWmNkZWZnaGlqc3R1dnd4eXqDhIWGh4iJipKTlJWWl5iZmqKjpKWmp6ipqrKztLW2t7i5usLDxMXGx8jJytLT1NXW19jZ2uHi4+Tl5ufo6erx8vP09fb3+Pn6/9oACAEBAAA/AOZ8d/HDW9eke00RrnSLF4TDPE2wyM2Tk7sbl4wMA1R+Cera+nxB0zTtPupnsWMjXFq8zCER7TubbyNw4xxycAkAk17N4q+B3hbxLqkmpp9p0+4kX547RlSN2AwDtKnaemcdeeMkmvBvBGs3Hw0+JUb6rYy7oGa1uoQh8wK3G5QcZPQj1H1zX2NXkvjL4baFq3xV0PUrlrvzNRkd7mNJQEcwIpXtkZAAOD06YPNf/9k=\n",
      "text/plain": [
       "<IPython.core.display.Image object>"
      ]
     },
     "metadata": {},
     "output_type": "display_data"
    },
    {
     "data": {
      "image/jpeg": "/9j/4AAQSkZJRgABAQAAAQABAAD/2wBDAAgGBgcGBQgHBwcJCQgKDBQNDAsLDBkSEw8UHRofHh0aHBwgJC4nICIsIxwcKDcpLDAxNDQ0Hyc5PTgyPC4zNDL/wAALCAAsACgBAREA/8QAHwAAAQUBAQEBAQEAAAAAAAAAAAECAwQFBgcICQoL/8QAtRAAAgEDAwIEAwUFBAQAAAF9AQIDAAQRBRIhMUEGE1FhByJxFDKBkaEII0KxwRVS0fAkM2JyggkKFhcYGRolJicoKSo0NTY3ODk6Q0RFRkdISUpTVFVWV1hZWmNkZWZnaGlqc3R1dnd4eXqDhIWGh4iJipKTlJWWl5iZmqKjpKWmp6ipqrKztLW2t7i5usLDxMXGx8jJytLT1NXW19jZ2uHi4+Tl5ufo6erx8vP09fb3+Pn6/9oACAEBAAA/APf65jx94RtvGvhK50mdgkoImt5dpby5VBwcAjPBI+hNfHvh/Wr3wr4ls9WtQEurKbdskTI9GUj3BI7HnqDX2xpuu6bqugQa5bXUf9nTQ+eJnYKqLjJ3HoMYIOehBz0qaw1TT9ViaXTr+1vI0baz28yyAHrglSea5/RPiV4Q8Q6sdL0zWYprzJCxlGTzCMn5SwAboelbuo61pWj+V/aep2Vl5ufL+0zrHvxjONxGcZH5ivF/it8I5vE14fFXhL7NO1xF5tzAkn/HwcDa8WBtJYZJ5GcAjJJrwrVfDeuaGpbVdIvrNBJ5XmTwMiFueAxGD0PQ9qn8I3urWPizS5NEmki1CS5SKHy2ALFmC7Tu4wc4549a+5K+KfiRcz3PxH8Q+fNJL5d/PGm9i21RI2FGegHpVz4dePrrwZrcfn3d8dEl3C7tLcglwVIBUEja2cfMCDx1qx8SPiZqPxA1EW6oYNIgmLWlsFw7dg78nL4PQcDOB3J9d+C/wsm8N58Q67A0eqSIUt7dwp8lCAdx6kOemOMDIPXjyPxD4x8d6B4mv9IuPEmsQtbXDR4lnOduflb3ypByOoOa+mNd1vT/AAx4Vh8Raky3kNnbBRKsSmWVn2DKFmGM9SO/4c/Hrpe+KfE0v2DTwbvULhnjtLVPlUsSdqjso/QCvoLwX8AdP0q60vVtavpLu6g2zSWYQCISdQCepCnH1xyMcV7TXzb+0hpEVr4i0jVo441a9geKQrnczRleSOnRwM+3sK8z1vxt4l8TWNpp+qanJcW1quyGFY0QY4AyEA3fdGM5x+Jr3D4RfB240K8tPE+vu0d+qlrexHBh3AjdIfXBPy9s888D26uB+J/xMtvh/p8CRRJdardZMNuzYCoDy745A7D1OfQ0z4t+EdL8T+HYJ77zlnspcwyQvggPgMCCCCDhT0zx165d4E+GfhTQNL0+/t9LSfUDGkxu7k+ZIG5IK54XGcfKB0GckZrv6K5X4geFNK8V+FLuDU4Sxt43mgmTAkiYDPykg9cYI7j8K//Z\n",
      "text/plain": [
       "<IPython.core.display.Image object>"
      ]
     },
     "metadata": {},
     "output_type": "display_data"
    },
    {
     "data": {
      "image/jpeg": "/9j/4AAQSkZJRgABAQAAAQABAAD/2wBDAAgGBgcGBQgHBwcJCQgKDBQNDAsLDBkSEw8UHRofHh0aHBwgJC4nICIsIxwcKDcpLDAxNDQ0Hyc5PTgyPC4zNDL/wAALCAAhABkBAREA/8QAHwAAAQUBAQEBAQEAAAAAAAAAAAECAwQFBgcICQoL/8QAtRAAAgEDAwIEAwUFBAQAAAF9AQIDAAQRBRIhMUEGE1FhByJxFDKBkaEII0KxwRVS0fAkM2JyggkKFhcYGRolJicoKSo0NTY3ODk6Q0RFRkdISUpTVFVWV1hZWmNkZWZnaGlqc3R1dnd4eXqDhIWGh4iJipKTlJWWl5iZmqKjpKWmp6ipqrKztLW2t7i5usLDxMXGx8jJytLT1NXW19jZ2uHi4+Tl5ufo6erx8vP09fb3+Pn6/9oACAEBAAA/AJP2iNR1PSdT8PXGn6jqFr5iSnEVwUj3IVKsFByGG85Pptx0NcTH8ePGcPh2DTIriAXMQC/2g8YkmZR0zuypOOCSCT9ea9J+C/xT1fxZqV1oevulzdJEbiG6WNUJUEAqyqAvcYPH417RXK+OfAOk+PtMhtNSMkUtu++C4hxvjzjcBnjBAGR7D0r5o+IvwtvPh6IJ5tUtLy1uZTHBtBSY4XJJQ5AA6cMeo6Zrqv2b3iHjDVVdkErWPyAkbj865xX0vQSACScAV498XfH/AIHufCt3oklxBq95cQs1t9jZZVt5RnY5cHCkMOQDnGcjB5+ctC1u/wDDms22q6bMYrq3cMpBIDeqtgjKnoR3FfRX/DQOlf8AQD1v/wAB0/8Ai68P8TfEDxd4gvrkanq93ErYjks4ZWjhG3t5YOOozz3qt4T8D6940u5LfR7QuI03PNJlYl9AWxgE84HfB9K9k0b9myCG5tJ9Y8QG4iXDXFpBbbNxxyok35xnvtBI9O3uX2OD/nn+pr5d8ff8l6g/6/oP/RlfSHhb/kCJ/vt/Otmiv//Z\n",
      "text/plain": [
       "<IPython.core.display.Image object>"
      ]
     },
     "metadata": {},
     "output_type": "display_data"
    },
    {
     "data": {
      "image/jpeg": "/9j/4AAQSkZJRgABAQAAAQABAAD/2wBDAAgGBgcGBQgHBwcJCQgKDBQNDAsLDBkSEw8UHRofHh0aHBwgJC4nICIsIxwcKDcpLDAxNDQ0Hyc5PTgyPC4zNDL/wAALCAAfABUBAREA/8QAHwAAAQUBAQEBAQEAAAAAAAAAAAECAwQFBgcICQoL/8QAtRAAAgEDAwIEAwUFBAQAAAF9AQIDAAQRBRIhMUEGE1FhByJxFDKBkaEII0KxwRVS0fAkM2JyggkKFhcYGRolJicoKSo0NTY3ODk6Q0RFRkdISUpTVFVWV1hZWmNkZWZnaGlqc3R1dnd4eXqDhIWGh4iJipKTlJWWl5iZmqKjpKWmp6ipqrKztLW2t7i5usLDxMXGx8jJytLT1NXW19jZ2uHi4+Tl5ufo6erx8vP09fb3+Pn6/9oACAEBAAA/APKfE+l3PgX4j3UCRSwfYb7z7QlhuMQfdEwI4+7j6HI4xivr/QfEuk+I9Kt9Q02+gnhnwoCvyr4yUI6hgMnBGcDNa1eV/GD4WyeNYItV0jyk1e1iZCjkqLlOoXPQMOQOmd3JAAr5g1HSdR0e4EGp2F1ZTMNypcRNGSM4yARyMg816h8MfirrXh7TLnTpx/aNrF5YtkmfHkD5sgHGSPu8E4GOMV9R14b+0hriwaPpGhqlu7XUj3EhY5kiCYCkDsG3MM/7J965z4L/AA0t/E+i6hquqy3EVs0qxW32dwGYqDvJyp4+ZQMeje1fStfL/wAeNG1Kf4n2pFum3UIoobMiQfvGBCkHONvzMBzx3z6fQvhLw5aeFPDFjo9nGEWGMeYc5LyEfOx56k5Pp2HFf//Z\n",
      "text/plain": [
       "<IPython.core.display.Image object>"
      ]
     },
     "metadata": {},
     "output_type": "display_data"
    },
    {
     "data": {
      "image/jpeg": "/9j/4AAQSkZJRgABAQAAAQABAAD/2wBDAAgGBgcGBQgHBwcJCQgKDBQNDAsLDBkSEw8UHRofHh0aHBwgJC4nICIsIxwcKDcpLDAxNDQ0Hyc5PTgyPC4zNDL/wAALCAAfAC0BAREA/8QAHwAAAQUBAQEBAQEAAAAAAAAAAAECAwQFBgcICQoL/8QAtRAAAgEDAwIEAwUFBAQAAAF9AQIDAAQRBRIhMUEGE1FhByJxFDKBkaEII0KxwRVS0fAkM2JyggkKFhcYGRolJicoKSo0NTY3ODk6Q0RFRkdISUpTVFVWV1hZWmNkZWZnaGlqc3R1dnd4eXqDhIWGh4iJipKTlJWWl5iZmqKjpKWmp6ipqrKztLW2t7i5usLDxMXGx8jJytLT1NXW19jZ2uHi4+Tl5ufo6erx8vP09fb3+Pn6/9oACAEBAAA/APKNV8Wa9a+Pb7WYtVuhfx3rMJfMPO1iFUjoVA424xjjGK+vtA8S6T4gtInsdUsLq48pHmitrhJDGWGcEAkjoevpWxXDePvijo/gCW0t7yC4uru4w4hhAG2PdgsSeOzYHcjBwDmvPviF8dIJdD04+CdUmhv5Jma432qkxxgEbW3qRkkgjbnockd+7+EXjXUPHHhOa91SOJbq2uWt2eIYEg2qwOOx+bH4V8iXInW6lF0JBcBz5olzv3Z53Z5zn1qzo+s6joGpw6lpd3La3cLBlkjbHfoR3B7g8HvX114S+ItjrPw3TxVqksFmIFdbwBjtR0OMDI5LDaQoz94Dk18uePPFs/jTxde6vIZVt3bZawuxPlRDhRjJAJxkgcbiTXNV9U/s+6VPp/w5a6mKFNQu5J4gpyQoAj598oa62b4b+DrnXZ9auPD1lPfTktK0ql0diMEmMnZk9c4znJ6nNY/xM+Hlh4j8DTWmmabaQ39knm2PlRrHjaOYwQOAyjGOmQvpXyJ5kqRtDvcITlkycZ9xSwQPc3EUEQ3SSuEUepJwK2vFXg/WvBup/YdYtfLcqGSRDujcH0bv0I/CvbPhD8VPDWkeBoNF1u+WxuLF3VC8bESozM+QVB5BJB6dq91orym7+Anhm98XzazNPcGymdppNOXCoZC2ThhghOvyjn3xxXRaN8J/Beg6x/aljoyfaFKtCJnaVYWXoyBicHODk5IPTFbninw3Z+LfDl5ot8XWG5UDemNyMCCGH0IH16V8maB8LvEXibVdZ07T1thPpE/kXInl24bc68YyDyjV/9k=\n",
      "text/plain": [
       "<IPython.core.display.Image object>"
      ]
     },
     "metadata": {},
     "output_type": "display_data"
    },
    {
     "data": {
      "image/jpeg": "/9j/4AAQSkZJRgABAQAAAQABAAD/2wBDAAgGBgcGBQgHBwcJCQgKDBQNDAsLDBkSEw8UHRofHh0aHBwgJC4nICIsIxwcKDcpLDAxNDQ0Hyc5PTgyPC4zNDL/wAALCAAtACIBAREA/8QAHwAAAQUBAQEBAQEAAAAAAAAAAAECAwQFBgcICQoL/8QAtRAAAgEDAwIEAwUFBAQAAAF9AQIDAAQRBRIhMUEGE1FhByJxFDKBkaEII0KxwRVS0fAkM2JyggkKFhcYGRolJicoKSo0NTY3ODk6Q0RFRkdISUpTVFVWV1hZWmNkZWZnaGlqc3R1dnd4eXqDhIWGh4iJipKTlJWWl5iZmqKjpKWmp6ipqrKztLW2t7i5usLDxMXGx8jJytLT1NXW19jZ2uHi4+Tl5ufo6erx8vP09fb3+Pn6/9oACAEBAAA/AOBvvGWqeEvjRrmsW1xK+zVZ454i+RNCspHlnOeNoAHpgY6VN8UPio3xBisbSDT2srS1dpCHkDtIxAA7DGPm+ufau1/Z78TX6x6zYaheH+xrC2WdWmPyW3zMTg9ACCxI/wBn61y3xM+MOpeKNQNhos8llpNrOWilgdlkuSrZSQnggcAhex5POMc/D8WvHUEEcKeIrorGoUFwrHAGOSRkn3NZ3jvwzc+EfGN/pNy6ybH8yKRT9+NuVJHY46j1z161inTr0WAvzZ3AsmbYLgxN5Zb03Yxn2r1T4KRtquj+N/DkJUXWpaaPJJYDlQ64wfeQVw114A8V2eq3OmS6HdteW0InliiUSERnowK5DDORxnkEVzdfc+teE9A8RvG+saRaXskYwryxgsBzxnrjk8e9aK2dsliLJII1tRH5QhVcKExjaAOgxxivlXxJo+q/BT4jW2oaU8klmxZ7WSbGJ4+N8T464yAeB2IA4r6g0bVtN8Q6bbaxps0VzBKh8uZRyAcZXnkcgZB9K4if4F+BLi4lmOnToZHLlY7l1VcnOAOw9q9IorB8XeE9N8ZaBPpepQqwYEwy/wAUMmOHU+369DXjPwL1m/8ADvi/VPA2sPJE5LGGCQ5CSpkuF5xhly3GQduc+v0JRRRXzt8fdJn0Lxho3jGxIVpNqMMniaI7lPXOCuBgY+56mvUdN+K3hi90u0uprp4JZ4UkeHyXby2ZQSuQuDjOM13FFFfPX7SWtMbvR9B8gbVQ3hm3ckksm3GP9nOc9686sdKupNPtnXVblFaJSEHReBxX/9k=\n",
      "text/plain": [
       "<IPython.core.display.Image object>"
      ]
     },
     "metadata": {},
     "output_type": "display_data"
    },
    {
     "data": {
      "image/jpeg": "/9j/4AAQSkZJRgABAQAAAQABAAD/2wBDAAgGBgcGBQgHBwcJCQgKDBQNDAsLDBkSEw8UHRofHh0aHBwgJC4nICIsIxwcKDcpLDAxNDQ0Hyc5PTgyPC4zNDL/wAALCAAkAEYBAREA/8QAHwAAAQUBAQEBAQEAAAAAAAAAAAECAwQFBgcICQoL/8QAtRAAAgEDAwIEAwUFBAQAAAF9AQIDAAQRBRIhMUEGE1FhByJxFDKBkaEII0KxwRVS0fAkM2JyggkKFhcYGRolJicoKSo0NTY3ODk6Q0RFRkdISUpTVFVWV1hZWmNkZWZnaGlqc3R1dnd4eXqDhIWGh4iJipKTlJWWl5iZmqKjpKWmp6ipqrKztLW2t7i5usLDxMXGx8jJytLT1NXW19jZ2uHi4+Tl5ufo6erx8vP09fb3+Pn6/9oACAEBAAA/ALfxb+Mz6bNdeGvDUhW8Q7LnUEcER8DKx4z83OCeNpBA55Evwc+LGs+KNWk8Pa6Y7i4MLywXgQKxIOSrquARg8EY6d85HkvjD4ieJNa8XHUmvmsriyJgh+ws0QQKSCRyTzk5yT1x0rvvAXx81I6zDZeLWilsplWMXUUO1436bmC9Qe+Bx29K0PiZ8btV0nV73w/oVrFazW0qf8TDzVm8xCobATbgZyB1PGeh6dd8PfiyvirwlrWqapZiC50WIzXQt8lZI9rMCoPQ4RhjJ6ZzzgS+AvjLovjW9GnSwNpmpOW8qCWQOsoGPuvgfN1+XHY9a1b74peFNM8Wv4avr57e+RkQvJEREHYAhS3b7w5PA9a7PrXwnqXh/WNK1N7C/wBNu4bsZYI8LBnUEjcARkjg81u/C/xLa+E/H+n6nfymKyG+K4cIXKqykZwOeDjpzjNL8SvCo8LeKWEF0Luw1CP7dZz4ALRuSQCPUdM8Z64GcDjqK6rwR4zPg641Nn05L+31Cye0lheTYMN36EHvwRzmudsb250zULa/s5PKubaVZopAAdrqcg4PHUd6ujWLjUfFMWr6vdPPNJdJNcTSck4YZ4HYAcADgDAFfcttcQXdrDc20qS28yLJFIhyrqRkEHuCKxtBvtJ8XaXpPiWGCB5TDvicMHeAuuHj3D8iPUDjIFfPvxv8A/8ACL64nibT2JsdRuWaRGI/cznL4A7q2GI9MEeldd8YNNm8afC7QPFOn2jzy28S3MxjI/dQvGDISAedrKucZxg9s14jp/iGytPB+q6HPoVlc3V5IjwakygTW2CpYAlSSCFxgFcZbrmrfw30y11jx9pVlf6XNqVjLLsuIIg3CsCodipBCqzKxOegqLX9J1H4f+PHt3WMXWn3KXEDbS0bAEOh56jpn6EVb+Ivh6XRtbttQbUF1CLXLcaolwlsYFPmksQFJOPXHoRwKr3vgu4/4RdfEmkXH9paTDFGL+42CH7JcsVBh2s258b0+dRg7vY16/8AAPx80thdeGdUmXZZRiWyYRnPl7iHUkehZccZ5PoMZPwh1S/8DfEu/wDA2qSBbeeR41DrtzMACjjjOHUcDODkH6+5eLPCmmeMtBl0nVYy0THfHInDxOAQHU+oyfzIr5M8U6d4m+Huqah4ZOq6hHYOWA8mWSKG7jZRztzg5UgMOcHIyawtD8P6t4jv0stIsJ7uZmVT5aEhMnALHoo9zxxXY+FLLWPh58atI0y48r7WLyG1mCMxjeObapx0zgPkdtyjrivZvjB8Lrzx0+nX+jvbR39srQyiclRJGTleRnG07u3O7rxTPiD8K73xF8PvD+lafNBJqeiQRwo0uUEyiNUcDkhclFPOemM1xll8KvH1t8J9S0n7VBbme5+0yaQY0d5tu3GJlYgE7FIX26jNcV4J+HfjbVdTul02O/0d4UZJbmQPACQy5jzwSehx7V3X7Rtsum694b1uzd4L91lXzYyFIMTIyMCOcguec9hjFe96XK8+kWU0rbpJIEZm9SVBJo1DS9P1a2+zalY2t7Bnd5VzCsi59cMCKNP0vTtIt/s+m2FrZQZ3eVbQrGufXCgCuG+J+gaReN4fvZ9OtmvH1yxge4EYEjRtJgqXHJGD0zXolFFFf//Z\n",
      "text/plain": [
       "<IPython.core.display.Image object>"
      ]
     },
     "metadata": {},
     "output_type": "display_data"
    },
    {
     "data": {
      "image/jpeg": "/9j/4AAQSkZJRgABAQAAAQABAAD/2wBDAAgGBgcGBQgHBwcJCQgKDBQNDAsLDBkSEw8UHRofHh0aHBwgJC4nICIsIxwcKDcpLDAxNDQ0Hyc5PTgyPC4zNDL/wAALCAAeABYBAREA/8QAHwAAAQUBAQEBAQEAAAAAAAAAAAECAwQFBgcICQoL/8QAtRAAAgEDAwIEAwUFBAQAAAF9AQIDAAQRBRIhMUEGE1FhByJxFDKBkaEII0KxwRVS0fAkM2JyggkKFhcYGRolJicoKSo0NTY3ODk6Q0RFRkdISUpTVFVWV1hZWmNkZWZnaGlqc3R1dnd4eXqDhIWGh4iJipKTlJWWl5iZmqKjpKWmp6ipqrKztLW2t7i5usLDxMXGx8jJytLT1NXW19jZ2uHi4+Tl5ufo6erx8vP09fb3+Pn6/9oACAEBAAA/APV/G3j7RfAVlb3Orm4drlysMFugaR8Y3EZIGBkZ57iuH8e61pvxO+D+p3fhu681rAx3dxbyDZJEqgswYE8ELuORkHaQCarfs4ax9q8LarpLby9jdLKMqAoSUHAB6k5Ric+o/Dlf2ivEOlarqukabY3kdxdaabhbtEyREzeXhSemflbIHTHOK4LwD4o03w3NrkeqwXclrqmlzWBNrtLoXxz8xA7f/WNeofsy/wDM0/8Abp/7WrxTxFpOpaJr15Y6rBLFdpK+4yJt3/MRvHYqcEgjj0q/H4D8US+GpvEK6NdDTIgHaVk2koQG3hTyyYOdwGMd+K9D/Z61rStK1nW4r4Mt1NbxtDKE3AIrHeuRyMloz/wGvo270jTb+ZJrzTrS5lQYV5oVdlHXgkcVbZQylWAKkYIPQ18s6p4I1rw98VdW0zw3f2lsXha6hMgJCQO4Ij5VuQcDPcDOecV//9k=\n",
      "text/plain": [
       "<IPython.core.display.Image object>"
      ]
     },
     "metadata": {},
     "output_type": "display_data"
    },
    {
     "data": {
      "image/jpeg": "/9j/4AAQSkZJRgABAQAAAQABAAD/2wBDAAgGBgcGBQgHBwcJCQgKDBQNDAsLDBkSEw8UHRofHh0aHBwgJC4nICIsIxwcKDcpLDAxNDQ0Hyc5PTgyPC4zNDL/wAALCAAYABsBAREA/8QAHwAAAQUBAQEBAQEAAAAAAAAAAAECAwQFBgcICQoL/8QAtRAAAgEDAwIEAwUFBAQAAAF9AQIDAAQRBRIhMUEGE1FhByJxFDKBkaEII0KxwRVS0fAkM2JyggkKFhcYGRolJicoKSo0NTY3ODk6Q0RFRkdISUpTVFVWV1hZWmNkZWZnaGlqc3R1dnd4eXqDhIWGh4iJipKTlJWWl5iZmqKjpKWmp6ipqrKztLW2t7i5usLDxMXGx8jJytLT1NXW19jZ2uHi4+Tl5ufo6erx8vP09fb3+Pn6/9oACAEBAAA/APLPAnju/wDA/iQakBcXUDbjcWn2kxrOxUgFjg5IJzyDVrQb7xv41+IaajpN3cNrcsgc3CkiOBAw+91AjHHykEHpgk4Ppv7Qfic2l5odrpGstDqFq8rzx2twVeLIjKbtp4PUjP1rd8EeP/G+oeDdNuT4Pl1clGX7cL5IvO2sVyVKkg8YJ7kE968d+Mfhm48O/ES/kaILaag5u7d1TapDfeH1DZB/A967PxV8WfC+meEZtC+HtpcadPOULXVvEIAgHU5+8zkKBn0Od2Rg8Z4F+GGv+O9ShuriK5t9JkYtNqEw++AedmfvsTkZ5AOc9MV9aaVpltouk2mmWSsttaxLDEGbJCqMDJ71yvxY8OHxL8PNStobM3N7CgntlSMNJvUgkJ3yQCOOTnFeLfATwZYa/r17qmq2sk0emGMwI6/umlO773HJXAOPevp5VVECqoVVGAAMAClr/9k=\n",
      "text/plain": [
       "<IPython.core.display.Image object>"
      ]
     },
     "metadata": {},
     "output_type": "display_data"
    },
    {
     "data": {
      "image/jpeg": "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\n",
      "text/plain": [
       "<IPython.core.display.Image object>"
      ]
     },
     "metadata": {},
     "output_type": "display_data"
    },
    {
     "data": {
      "image/jpeg": "/9j/4AAQSkZJRgABAQAAAQABAAD/2wBDAAgGBgcGBQgHBwcJCQgKDBQNDAsLDBkSEw8UHRofHh0aHBwgJC4nICIsIxwcKDcpLDAxNDQ0Hyc5PTgyPC4zNDL/wAALCAAfABcBAREA/8QAHwAAAQUBAQEBAQEAAAAAAAAAAAECAwQFBgcICQoL/8QAtRAAAgEDAwIEAwUFBAQAAAF9AQIDAAQRBRIhMUEGE1FhByJxFDKBkaEII0KxwRVS0fAkM2JyggkKFhcYGRolJicoKSo0NTY3ODk6Q0RFRkdISUpTVFVWV1hZWmNkZWZnaGlqc3R1dnd4eXqDhIWGh4iJipKTlJWWl5iZmqKjpKWmp6ipqrKztLW2t7i5usLDxMXGx8jJytLT1NXW19jZ2uHi4+Tl5ufo6erx8vP09fb3+Pn6/9oACAEBAAA/APSPHPxS0PwDe2dnqUF7cT3KGTbbIp2IDgE7mA5OeB6HOOM8f8YvEWmeJ/g//aGjXcV1ateQh2VsNGcE7SOzcjIOKT9nbxHf6roGq6TeSyTJprwmB5HLFUcMAgz0C+Xx9ccYrn/2lr62lv8Aw7YpMrXMEc8ksY6qrmMKT9djflXhFe//ALMv/M0/9un/ALWryf4ialqGqfEHXZdTlD3EV5LbgKcqixsUVV4HAA64Gep5Jqx45+H974IbT2lma7t7y3WUXCQMiKxz8meQWwM16F+zbq9rba1rekyFxc3sUUsOFypEe/cCex/eDH0P4+r+JvhP4T8WayurajaTLe+YjzSQzFfPVBgI4ORggAEjDcdRXR6zoGm65osul3tnBNbtE0aLImfLypXK9wQD1GDXzFpfw18S6J8WIPD9rqi2d4sbzQ6lBziIo3zbcggnlSO2T1HJ/9k=\n",
      "text/plain": [
       "<IPython.core.display.Image object>"
      ]
     },
     "metadata": {},
     "output_type": "display_data"
    },
    {
     "data": {
      "image/jpeg": "/9j/4AAQSkZJRgABAQAAAQABAAD/2wBDAAgGBgcGBQgHBwcJCQgKDBQNDAsLDBkSEw8UHRofHh0aHBwgJC4nICIsIxwcKDcpLDAxNDQ0Hyc5PTgyPC4zNDL/wAALCAAeABYBAREA/8QAHwAAAQUBAQEBAQEAAAAAAAAAAAECAwQFBgcICQoL/8QAtRAAAgEDAwIEAwUFBAQAAAF9AQIDAAQRBRIhMUEGE1FhByJxFDKBkaEII0KxwRVS0fAkM2JyggkKFhcYGRolJicoKSo0NTY3ODk6Q0RFRkdISUpTVFVWV1hZWmNkZWZnaGlqc3R1dnd4eXqDhIWGh4iJipKTlJWWl5iZmqKjpKWmp6ipqrKztLW2t7i5usLDxMXGx8jJytLT1NXW19jZ2uHi4+Tl5ufo6erx8vP09fb3+Pn6/9oACAEBAAA/AOP1G3vPgv8AFxLxYPtFllpIAMIJoHBBUddpUkj/AID6GvY7H48+BLmwjnuL64s5mBLW0trIzKQemVBU56jnvzjpW54K+Jfh7x488OlPcRXUK73trmMK+zIG4YJUjJA4OfWtTxT4R0bxjpTWGsWiyjawimAxJAxGNyN2PT2OBkGvmr4ifCaPwdpr6jpuspqMFrMtvexuoSSB2UMnAJyCCPfkdecV/gx4ffxF4tvLZLhYDHYtJuK7s/vEGOvvX1zXyT8dbm3uviheNbz20wSGONzAOVdRgq5zywP5DA6ivU/gH4JutA0i81rVLF7e9v8AasHmEbhBjPTquT1B/urxXrOpQ3VzpV5BZXItruWB0gnKhvKcqQrYPXBwce1fKng74bS6h8Tl0TWrmGSO1uHN15bM3neWfmUE4OGxjPXmvrRVVFCqoVVGAAMACv/Z\n",
>>>>>>> bd57b4512b97cdd941a556532deb1ef09b42dde5
      "text/plain": [
       "<IPython.core.display.Image object>"
      ]
     },
     "metadata": {},
     "output_type": "display_data"
    }
   ],
   "source": [
    "chars = characters\n",
    "for char in chars:\n",
    "    showarray(char)"
   ]
  },
  {
   "cell_type": "code",
<<<<<<< HEAD
   "execution_count": 184,
   "metadata": {},
   "outputs": [],
   "source": [
    "# def get_char(word, x, y):\n",
    "#     h, w = word.shape\n",
    "#     chars = []\n",
    "#     char = word[:,x:y]\n",
    "#     char = word[:,part * i:(part * i) + part]\n",
    "#     shape = cv2.resize(char,(32,48))\n",
    "#     ret,thresh1 = cv2.threshold(shape,127,255,cv2.THRESH_BINARY)\n",
    "#     chars.append(thresh1)"
   ]
  },
  {
   "cell_type": "code",
   "execution_count": 185,
   "metadata": {},
   "outputs": [],
   "source": [
    "# chars = []\n",
    "# chars.append(get_char(word[0], num = 1))\n",
    "# chars.append(get_char(word[1], num = 1, part = 40))"
   ]
  },
  {
   "cell_type": "code",
   "execution_count": 186,
=======
   "execution_count": 385,
>>>>>>> bd57b4512b97cdd941a556532deb1ef09b42dde5
   "metadata": {
    "inputHidden": false,
    "outputHidden": false
   },
   "outputs": [],
   "source": [
    "fonts = []\n",
    "for item in class_names:\n",
    "    fonts.append(cv2.imread('habbakuk/' + item + '/standard.png'))"
   ]
  },
  {
   "cell_type": "code",
<<<<<<< HEAD
   "execution_count": 187,
=======
   "execution_count": 386,
>>>>>>> bd57b4512b97cdd941a556532deb1ef09b42dde5
   "metadata": {
    "inputHidden": false,
    "outputHidden": false
   },
   "outputs": [
    {
     "name": "stdout",
     "output_type": "stream",
     "text": [
<<<<<<< HEAD
      "(48, 32)\n",
      "Predicted:  [ 0.01420728  0.00118978  5.5830984   0.00041367  0.00004164  0.01736562\n",
      "  0.0006031   0.3919945   0.0000003   0.00023342  6.6131353   0.00494704\n",
      "  0.00001593  0.13510275  1.8558989   0.00000243  0.01419464  0.0024364\n",
      " 10.903337    0.03006569  0.19710279 74.22649     0.00000295  0.00184471\n",
      "  0.00604229  0.00023944  0.00000005]\n",
      "Index of class with highest probability:  21\n",
      "Value of highest probability:  0.74226487\n",
      "Name of predicted class:  Tet\n",
      "habbabuk/Tet/standard.png\n"
     ]
    },
    {
     "data": {
      "image/jpeg": "/9j/4AAQSkZJRgABAQAAAQABAAD/2wBDAAgGBgcGBQgHBwcJCQgKDBQNDAsLDBkSEw8UHRofHh0aHBwgJC4nICIsIxwcKDcpLDAxNDQ0Hyc5PTgyPC4zNDL/2wBDAQkJCQwLDBgNDRgyIRwhMjIyMjIyMjIyMjIyMjIyMjIyMjIyMjIyMjIyMjIyMjIyMjIyMjIyMjIyMjIyMjIyMjL/wAARCAA4ADgDASIAAhEBAxEB/8QAHwAAAQUBAQEBAQEAAAAAAAAAAAECAwQFBgcICQoL/8QAtRAAAgEDAwIEAwUFBAQAAAF9AQIDAAQRBRIhMUEGE1FhByJxFDKBkaEII0KxwRVS0fAkM2JyggkKFhcYGRolJicoKSo0NTY3ODk6Q0RFRkdISUpTVFVWV1hZWmNkZWZnaGlqc3R1dnd4eXqDhIWGh4iJipKTlJWWl5iZmqKjpKWmp6ipqrKztLW2t7i5usLDxMXGx8jJytLT1NXW19jZ2uHi4+Tl5ufo6erx8vP09fb3+Pn6/8QAHwEAAwEBAQEBAQEBAQAAAAAAAAECAwQFBgcICQoL/8QAtREAAgECBAQDBAcFBAQAAQJ3AAECAxEEBSExBhJBUQdhcRMiMoEIFEKRobHBCSMzUvAVYnLRChYkNOEl8RcYGRomJygpKjU2Nzg5OkNERUZHSElKU1RVVldYWVpjZGVmZ2hpanN0dXZ3eHl6goOEhYaHiImKkpOUlZaXmJmaoqOkpaanqKmqsrO0tba3uLm6wsPExcbHyMnK0tPU1dbX2Nna4uPk5ebn6Onq8vP09fb3+Pn6/9oADAMBAAIRAxEAPwD3+is/XtVTQvD+o6tJG0qWVvJOUXq21ScfjivIfhp8bb3xR4r/ALF122tIBd5+xyW4ZdrDnY2Sc5AOD68d+AD26iivGfiZ8b18N38uieHYobrUIjtuLmX5o4W7qAPvMO/YdOecAHs1FfJth8evHVpeia5vLa9hzzBLbIq49igB/WvoLwD8RdJ8fac0lpm3voQPtFnI2WT3B/iX3/PFAHYUUUUARzwRXNvJBPGskUqlHRhkMpGCD+FfGni/Q7r4cfEZ4LdmAtJ0u7KQ/wAUedyH8MYPuDX2fXz1+0rpe280HVlX78cls59NpDL/AOhPQB6v4z8VHS/hff8AiSwbDNZJJbP/AHTLtVG/AuD+FfNXww+H0/xB8RP9peWPTLbEl5OPvMT0QE/xHnnsAT6Z95+HcFl43+CWn6ZqStLbtAbSZVbBHlvhcHscKprsfDnhvSPB2iDTtKgFvaITI7O2SzHqzMep/oBQBmJ8MfBEen/Yh4Y04xbdu5oQZP8Av4fmz75r5/8AGmjXHwa+JVlqGgTv9lkX7RAkjZ+XOHiY9x7+hHcZr3jXfix4K8PhluNbguJl/wCWNn++Yn0+XgH6kV82fE3x0fiH4ohurS1lhtIYhBbQvgu2SSSQM8knGBnoKAPrnRdWttd0Sy1W0JNvdwrMmeoBGcH3HQ/Sisf4e6NP4f8Ah/oumXQK3ENuDKp6ozEsV/Atj8KKAOmryr9oLTvtnw1N0B81leRS59Acp/NxXqtcr8StLm1n4ca7Y28TTTPbF0jUZLMhDgD3+WgDwj4YfFnT/AngzUdPvLae6ujcma1hTAU7lAO5j90ZUdj16VxniLxn4p8f6r5d1cXNx5z4h0+2DeWD2CoOp9zk1e8D/CrxD42mWSKE2Wmg4e9uFIX32Dq5+nHqRX034M+HegeB7QJpttvu2XEt7MA0r/j/AAj2HH160AeG+Ff2fNe1QJca9cx6TbnnyRiScj6A7V/Ek+1e3eFPhl4W8HFZdO08SXij/j8uT5kv4Hov/AQK6+igAooooAKKKKACiiigAooooAKKKKAP/9k=\n",
      "text/plain": [
       "<IPython.core.display.Image object>"
      ]
     },
     "metadata": {},
     "output_type": "display_data"
    },
    {
     "data": {
      "image/jpeg": "/9j/4AAQSkZJRgABAQAAAQABAAD/2wBDAAgGBgcGBQgHBwcJCQgKDBQNDAsLDBkSEw8UHRofHh0aHBwgJC4nICIsIxwcKDcpLDAxNDQ0Hyc5PTgyPC4zNDL/wAALCAAwACABAREA/8QAHwAAAQUBAQEBAQEAAAAAAAAAAAECAwQFBgcICQoL/8QAtRAAAgEDAwIEAwUFBAQAAAF9AQIDAAQRBRIhMUEGE1FhByJxFDKBkaEII0KxwRVS0fAkM2JyggkKFhcYGRolJicoKSo0NTY3ODk6Q0RFRkdISUpTVFVWV1hZWmNkZWZnaGlqc3R1dnd4eXqDhIWGh4iJipKTlJWWl5iZmqKjpKWmp6ipqrKztLW2t7i5usLDxMXGx8jJytLT1NXW19jZ2uHi4+Tl5ufo6erx8vP09fb3+Pn6/9oACAEBAAA/APQ/jLqraT8K9ZeK5jgnuES1TdtzIHcK6KD1Jj39OQATxjNYfwH8RWc/wvNtPLBb/wBjSyrOzzDiNiZRIwONi/MwyeP3ZOeoHP8AxE+PdvHZxWXge6824kw82oPAQIgD9xUkXljjkkYAPGScr0Hwj+Jlx4j8Jazc+JLjdcaN++uLsQBQ0BVmBITqw2PnCjgL1Oa4j9onxd9s1i08KWzfubHFzd8dZmX5F5X+FGzkEg+Zg8rXh9dZqnw08YaL4fbXdS0WS109ER3kkmjDKHIC5TdvBywGCMjvipPCP9op4a8SXP8ArfD1t9il1Sz+VftmLhRHFv8Avx5BkO5f7uD1FZ7W+o+PvHN5/ZNjuvtVu57mO181RjJaQrvbaOBnk4zivQP2cf8Akoeof9gqT/0bFXr/AMbf+SQ67/27/wDpRHXB/CjwG3iH4TNBdNHaWmo6wtxcERK7X1pDtHklgQyDzFfBzkYOBhufYPDXg/QPB9vPBoOmx2aTuHlIdnZyBgZZiTgc4GcDJ9TXz5+zj/yUPUP+wVJ/6Nirp/2kfENuunaT4aVd108v2+Q5I8tAHjXtg7iz9+NnTkV7B4V8PW/hTwvp2h2rb47SIIXwR5jk5d8EnG5ixxnjOBxWxXx5b+JZvhr8RvFB0O3jVA97p0AYljAvmHy2UtnJVkQ/NnIBB65Gp8NvD3iXx/8AEW08UXbTzW9tqEdxe6jIFxvT51QAkZztVcLnYGXgDAr6D+JutzeHvhvrmo2/meetv5UbRyGNo2kYRhww5BUvu/DqOtdZXypH4Sh1j9o290HXYZBb3Op3Nw8aSAF4yrzoMjoGXbnGCAT0PT6X0Dw5pHhbS103RbGO0tA5fYpLFmPUszElj0GSTwAOgFalf//Z\n",
      "text/plain": [
       "<IPython.core.display.Image object>"
      ]
     },
     "metadata": {},
     "output_type": "display_data"
    },
    {
     "name": "stdout",
     "output_type": "stream",
     "text": [
      "(48, 32)\n",
      "Predicted:  [ 0.22505248  0.08905026 61.021286    0.00159576  0.00629121  0.00412418\n",
      "  0.00121332  1.9556638   0.00003836  0.02514305  1.5055593   0.5841329\n",
      "  0.01514809  4.4767165   4.784241    0.0002629   0.00816402  0.03320865\n",
      "  5.5144544   0.04483108  0.05197727 19.627151    0.00004885  0.00416355\n",
      "  0.00818157  0.01228288  0.00001174]\n",
      "Index of class with highest probability:  2\n",
      "Value of highest probability:  0.61021286\n",
      "Name of predicted class:  Bet\n",
      "habbabuk/Bet/standard.png\n"
     ]
    },
    {
     "data": {
      "image/jpeg": "/9j/4AAQSkZJRgABAQAAAQABAAD/2wBDAAgGBgcGBQgHBwcJCQgKDBQNDAsLDBkSEw8UHRofHh0aHBwgJC4nICIsIxwcKDcpLDAxNDQ0Hyc5PTgyPC4zNDL/2wBDAQkJCQwLDBgNDRgyIRwhMjIyMjIyMjIyMjIyMjIyMjIyMjIyMjIyMjIyMjIyMjIyMjIyMjIyMjIyMjIyMjIyMjL/wAARCAA4ADgDASIAAhEBAxEB/8QAHwAAAQUBAQEBAQEAAAAAAAAAAAECAwQFBgcICQoL/8QAtRAAAgEDAwIEAwUFBAQAAAF9AQIDAAQRBRIhMUEGE1FhByJxFDKBkaEII0KxwRVS0fAkM2JyggkKFhcYGRolJicoKSo0NTY3ODk6Q0RFRkdISUpTVFVWV1hZWmNkZWZnaGlqc3R1dnd4eXqDhIWGh4iJipKTlJWWl5iZmqKjpKWmp6ipqrKztLW2t7i5usLDxMXGx8jJytLT1NXW19jZ2uHi4+Tl5ufo6erx8vP09fb3+Pn6/8QAHwEAAwEBAQEBAQEBAQAAAAAAAAECAwQFBgcICQoL/8QAtREAAgECBAQDBAcFBAQAAQJ3AAECAxEEBSExBhJBUQdhcRMiMoEIFEKRobHBCSMzUvAVYnLRChYkNOEl8RcYGRomJygpKjU2Nzg5OkNERUZHSElKU1RVVldYWVpjZGVmZ2hpanN0dXZ3eHl6goOEhYaHiImKkpOUlZaXmJmaoqOkpaanqKmqsrO0tba3uLm6wsPExcbHyMnK0tPU1dbX2Nna4uPk5ebn6Onq8vP09fb3+Pn6/9oADAMBAAIRAxEAPwD3+iiigAopskiRRtJIwREBZmY4AA6k14H/AML11TVviXp2naLaxNokl2ttsZMyXAZgu/P8PXIH5+wB79RRWZaeItGv9UuNMtNUs5763/1tvHMpdPw9u/pQBp0UUUAFFFFAHC/GLVpNI+F2syRMVlnRbZSPR2Ct/wCOlq+e/hJrfhjwz4hudd8RTyiW0h/0KGOEuZJGyCRjgEDgZIHzdeK+mPHng+Lxz4Xl0aW7e0LSLKkqKGwy5xkdxz6ivFrD9mzV21ELqGuWKWIP37dXaRh/ukAD8z+NAGN4z+M/iTxi02n6FDPp2nbGZ0t8tPIgHJdh91cdQOOuSaP2e7IXXxKadhn7JYyyg+hJVP5Oa9E+JHh3SPh98G9QsdBtRAbp4oJrg8yygsCdzd8gEY6cnAFcf+zaF/4SvWCfvfYRj6b1z/SgD6UooooAKKK8d+MHjXxHb3ieF/CNreyXjxiS7uLOFnkjB+6ilQdpI5J64Ix3oA9VvtZ0vTP+QhqVnad/9InWP+ZFZh8deEFOD4q0MH/sIRf/ABVfK0Xwr+IGpuZz4evmkc7me4dUYn33sDUsvwa+IEK5fw7KR/sXELfyc0Aeu/G7xV4d1b4dTWmna7pt5cm5iYRW90kjYBOThSTXm/wD1ZdN+JkVu5wuoW0lsM9N3Dj/ANAx+NcxP8NvGtvnf4X1U/8AXO2Z/wD0HNen/B/4Q6tb63a+JfEEMljHat5ltaSDbLI/ZmHVQPQ8k+3UA+h6KKKACiiigAooooAKKKKACiiigD//2Q==\n",
      "text/plain": [
       "<IPython.core.display.Image object>"
      ]
     },
     "metadata": {},
     "output_type": "display_data"
    },
    {
     "data": {
      "image/jpeg": "/9j/4AAQSkZJRgABAQAAAQABAAD/2wBDAAgGBgcGBQgHBwcJCQgKDBQNDAsLDBkSEw8UHRofHh0aHBwgJC4nICIsIxwcKDcpLDAxNDQ0Hyc5PTgyPC4zNDL/wAALCAAwACABAREA/8QAHwAAAQUBAQEBAQEAAAAAAAAAAAECAwQFBgcICQoL/8QAtRAAAgEDAwIEAwUFBAQAAAF9AQIDAAQRBRIhMUEGE1FhByJxFDKBkaEII0KxwRVS0fAkM2JyggkKFhcYGRolJicoKSo0NTY3ODk6Q0RFRkdISUpTVFVWV1hZWmNkZWZnaGlqc3R1dnd4eXqDhIWGh4iJipKTlJWWl5iZmqKjpKWmp6ipqrKztLW2t7i5usLDxMXGx8jJytLT1NXW19jZ2uHi4+Tl5ufo6erx8vP09fb3+Pn6/9oACAEBAAA/APf6+f8A4qfGDxL4c+ID6PozQW1rp3lmUPGsn2osqyYbIyq4O3CkHqc8jb9AVx+g/E7wt4k8UXnh/Tr7zLu3/wBW5AEd1gfN5TZ+bb36ZGSu5QTXN/Atl1Pw1qfiW6v5L7WtUvWF/K6spQxj5I/7pAVtwKgABwv8Ix4Z4417zPjNqmrX9lBdR2mq7HtSMJNHAwQK2d33ljAPBHJ4xxVzxJ8afGHiB9SgS8js9LvUeH7CkEbhYmXaV3su4kjqcjknAHAHP/D6ea2+I3ht4JZInOp26FkYqSrSBWHHYqSCO4JFfU/w88CN4H8FNo39oyNeXDvPPcQhcRysqr+7DKRhQq43A5IJIAO0fKE+kzal46l0a31OO/nudTNrHqEjkrcM0u0SlgWOGJ3Zyevevqfwp8I/CvhrRhZXGnWmsTs/mSXN/aRSNu2qCFyuVTK5C5OMnk18ueK7F/DPj7VrWyjnsPsOoSG0AZleJA5MTKx+b7u0hs88HNfQ/wAcfiBceFNDt9J0i68jVtRyWkQjfBAOCw5yrMcBWx2fBBANY/wS+Fj6R5XizXIp4dS/eJaWciNE1uOUZ5AQCWIzgdApzySNvuFfHHxgvrfUPivr81rJ5kaypCTtIw8caRuOfRlYe+OOK9L8BWF98TPipdfEG7EY0XT7hobOCdd7EqmI1CFiEKhlkJ6bz8o5JXuPEnxp8H+H01KBLyS81Syd4fsKQSIWlVtpXey7QAepyeAcA8A+MeLfjx4m8RW8tnpyR6LaO6sHtZWNwAByplyOC3PyqpxgZIzny+AwrcRNcRySQBwZEjcIzLnkBiCAcd8HHoa9/wDj/Z+Ktc1nS9L0vR9SvNLgt/tDNaW0sitMzMuG25XKqoxxkb29a5zwn+z94i1LUW/4SX/iUWMW0nZJHNJPzyq7WIXgH5jnBI+Vucdf4x/Z8srrTtOTwg0FndQZS6a+mkb7SMDDkjcFYEHhVAO89MAVykH7N/ipriJbjVdGjgLgSPHJK7KueSFKAE47ZGfUV//Z\n",
      "text/plain": [
       "<IPython.core.display.Image object>"
      ]
     },
     "metadata": {},
     "output_type": "display_data"
    },
    {
     "name": "stdout",
     "output_type": "stream",
     "text": [
      "(48, 32)\n",
      "Predicted:  [ 0.21539286  0.02984455 87.40146     0.00107798  0.00176056  0.00815066\n",
      "  0.00270358  3.7962391   0.00002794  0.0193523   0.38006192  0.333666\n",
      "  0.0064374   1.6045581   3.768591    0.00000504  0.00907378  0.03368734\n",
      "  0.5770518   0.01460517  0.01648151  1.7594659   0.00018868  0.0056855\n",
      "  0.01190936  0.00252992  0.00001047]\n",
      "Index of class with highest probability:  2\n",
      "Value of highest probability:  0.87401456\n",
      "Name of predicted class:  Bet\n",
      "habbabuk/Bet/standard.png\n"
     ]
    },
    {
     "data": {
      "image/jpeg": "/9j/4AAQSkZJRgABAQAAAQABAAD/2wBDAAgGBgcGBQgHBwcJCQgKDBQNDAsLDBkSEw8UHRofHh0aHBwgJC4nICIsIxwcKDcpLDAxNDQ0Hyc5PTgyPC4zNDL/2wBDAQkJCQwLDBgNDRgyIRwhMjIyMjIyMjIyMjIyMjIyMjIyMjIyMjIyMjIyMjIyMjIyMjIyMjIyMjIyMjIyMjIyMjL/wAARCAA4ADgDASIAAhEBAxEB/8QAHwAAAQUBAQEBAQEAAAAAAAAAAAECAwQFBgcICQoL/8QAtRAAAgEDAwIEAwUFBAQAAAF9AQIDAAQRBRIhMUEGE1FhByJxFDKBkaEII0KxwRVS0fAkM2JyggkKFhcYGRolJicoKSo0NTY3ODk6Q0RFRkdISUpTVFVWV1hZWmNkZWZnaGlqc3R1dnd4eXqDhIWGh4iJipKTlJWWl5iZmqKjpKWmp6ipqrKztLW2t7i5usLDxMXGx8jJytLT1NXW19jZ2uHi4+Tl5ufo6erx8vP09fb3+Pn6/8QAHwEAAwEBAQEBAQEBAQAAAAAAAAECAwQFBgcICQoL/8QAtREAAgECBAQDBAcFBAQAAQJ3AAECAxEEBSExBhJBUQdhcRMiMoEIFEKRobHBCSMzUvAVYnLRChYkNOEl8RcYGRomJygpKjU2Nzg5OkNERUZHSElKU1RVVldYWVpjZGVmZ2hpanN0dXZ3eHl6goOEhYaHiImKkpOUlZaXmJmaoqOkpaanqKmqsrO0tba3uLm6wsPExcbHyMnK0tPU1dbX2Nna4uPk5ebn6Onq8vP09fb3+Pn6/9oADAMBAAIRAxEAPwD3+iiigAopskiRRtJIwREBZmY4AA6k14H/AML11TVviXp2naLaxNokl2ttsZMyXAZgu/P8PXIH5+wB79RRWZaeItGv9UuNMtNUs5763/1tvHMpdPw9u/pQBp0UUUAFFFFAHC/GLVpNI+F2syRMVlnRbZSPR2Ct/wCOlq+e/hJrfhjwz4hudd8RTyiW0h/0KGOEuZJGyCRjgEDgZIHzdeK+mPHng+Lxz4Xl0aW7e0LSLKkqKGwy5xkdxz6ivFrD9mzV21ELqGuWKWIP37dXaRh/ukAD8z+NAGN4z+M/iTxi02n6FDPp2nbGZ0t8tPIgHJdh91cdQOOuSaP2e7IXXxKadhn7JYyyg+hJVP5Oa9E+JHh3SPh98G9QsdBtRAbp4oJrg8yygsCdzd8gEY6cnAFcf+zaF/4SvWCfvfYRj6b1z/SgD6UooooAKKK8d+MHjXxHb3ieF/CNreyXjxiS7uLOFnkjB+6ilQdpI5J64Ix3oA9VvtZ0vTP+QhqVnad/9InWP+ZFZh8deEFOD4q0MH/sIRf/ABVfK0Xwr+IGpuZz4evmkc7me4dUYn33sDUsvwa+IEK5fw7KR/sXELfyc0Aeu/G7xV4d1b4dTWmna7pt5cm5iYRW90kjYBOThSTXm/wD1ZdN+JkVu5wuoW0lsM9N3Dj/ANAx+NcxP8NvGtvnf4X1U/8AXO2Z/wD0HNen/B/4Q6tb63a+JfEEMljHat5ltaSDbLI/ZmHVQPQ8k+3UA+h6KKKACiiigAooooAKKKKACiiigD//2Q==\n",
      "text/plain": [
       "<IPython.core.display.Image object>"
      ]
     },
     "metadata": {},
     "output_type": "display_data"
    },
    {
     "data": {
      "image/jpeg": "/9j/4AAQSkZJRgABAQAAAQABAAD/2wBDAAgGBgcGBQgHBwcJCQgKDBQNDAsLDBkSEw8UHRofHh0aHBwgJC4nICIsIxwcKDcpLDAxNDQ0Hyc5PTgyPC4zNDL/wAALCAAwACABAREA/8QAHwAAAQUBAQEBAQEAAAAAAAAAAAECAwQFBgcICQoL/8QAtRAAAgEDAwIEAwUFBAQAAAF9AQIDAAQRBRIhMUEGE1FhByJxFDKBkaEII0KxwRVS0fAkM2JyggkKFhcYGRolJicoKSo0NTY3ODk6Q0RFRkdISUpTVFVWV1hZWmNkZWZnaGlqc3R1dnd4eXqDhIWGh4iJipKTlJWWl5iZmqKjpKWmp6ipqrKztLW2t7i5usLDxMXGx8jJytLT1NXW19jZ2uHi4+Tl5ufo6erx8vP09fb3+Pn6/9oACAEBAAA/APf683+MPxEuPAeh20WnQ7tT1LzEt5nAKQBNu5yD95vnGBjHc9NreSeF/j/4o07VEPiCSPVdPd1EoECRyxrzkxlAoJ5Bw2c7cArkmvp+CZbm3inQSBJEDqJI2RgCM8qwBU+xAI71JXyZ8d9Vvr34n39hcXMklpYJElrCfuxB4kdsD1LHk9eAOgAGh+z7JoA8bvFqMMh1hk3aXKC21SEk81Tg4yUORuBHynkHGfpu+v7PTLOS8v7uC0tY8b5p5BGi5IAyx4GSQPxqxXk/xh+Flv4q0641/SovL121iLusaE/bUUfcIAyZABhSBzwp4wV+YLG/vNMvI7ywu57S6jzsmgkMbrkEHDDkZBI/GvZPDnxD1r4q39n4C8RJaLp+oIVuLq0jMdwxiQyhgSSgJaMZ+TGCcAcY938Hx6/F4TsF8UTRza0UZrlkCgAliVX5QFyFKg44yDyep3K8T+OvgbwzF4YuvFCRR2OrI6oghKxrdu8gLb1x87hTI2RgnBJyBx82V7//AMNNf9Sj/wCVL/7VWBrf7RPim+8+PSbOx0uF9vlvtM80eMZ+ZvkOSD1TgH1Ga87kn8R+PfEsKSy3eratdvsiVmyeSWwvZEGWOBhVGTwK9I8Nfs76/qdvPLr17Hojq4WKIIty0gxyx2uAo6AcknngcZ2/+GZf+pu/8pv/ANtruLH4FeAbSzjgm0ue9kXOZ57uQO+STyEZV46cAdPXmu80rSrHQ9Lt9M0y2jtrO3TZFEnRR/MknJJPJJJOSauV/9k=\n",
      "text/plain": [
       "<IPython.core.display.Image object>"
      ]
     },
     "metadata": {},
     "output_type": "display_data"
    },
    {
     "name": "stdout",
     "output_type": "stream",
     "text": [
      "(48, 32)\n",
      "Predicted:  [ 0.24155588  0.04803509 88.12282     0.00154742  0.01241042  0.00196485\n",
      "  0.00383266  2.4988198   0.00013782  0.04174501  0.55380744  0.08051778\n",
      "  0.00605451  0.56634456  3.1961396   0.00000994  0.0046694   0.01271001\n",
      "  0.821849    0.04598554  0.05614468  3.6215763   0.00003465  0.04812831\n",
      "  0.00504901  0.00812525  0.00000464]\n",
      "Index of class with highest probability:  2\n",
      "Value of highest probability:  0.88122815\n",
      "Name of predicted class:  Bet\n",
      "habbabuk/Bet/standard.png\n"
=======
      "(50, 45)\n"
     ]
    },
    {
     "ename": "ValueError",
     "evalue": "cannot reshape array of size 2250 into shape (48,32,1)",
     "output_type": "error",
     "traceback": [
      "\u001b[0;31m---------------------------------------------------------------------------\u001b[0m",
      "\u001b[0;31mValueError\u001b[0m                                Traceback (most recent call last)",
      "\u001b[0;32m<ipython-input-386-84d387937c79>\u001b[0m in \u001b[0;36m<module>\u001b[0;34m\u001b[0m\n\u001b[1;32m      4\u001b[0m     \u001b[0mprint\u001b[0m\u001b[0;34m(\u001b[0m\u001b[0mchar_pred\u001b[0m\u001b[0;34m.\u001b[0m\u001b[0mshape\u001b[0m\u001b[0;34m)\u001b[0m\u001b[0;34m\u001b[0m\u001b[0;34m\u001b[0m\u001b[0m\n\u001b[1;32m      5\u001b[0m     \u001b[0mchar_pred\u001b[0m \u001b[0;34m=\u001b[0m \u001b[0mnormalize\u001b[0m\u001b[0;34m(\u001b[0m\u001b[0mchar_pred\u001b[0m\u001b[0;34m)\u001b[0m\u001b[0;34m\u001b[0m\u001b[0;34m\u001b[0m\u001b[0m\n\u001b[0;32m----> 6\u001b[0;31m     \u001b[0mchar_pred\u001b[0m \u001b[0;34m=\u001b[0m \u001b[0mchar_pred\u001b[0m\u001b[0;34m.\u001b[0m\u001b[0mreshape\u001b[0m\u001b[0;34m(\u001b[0m\u001b[0;34m-\u001b[0m\u001b[0;36m1\u001b[0m\u001b[0;34m,\u001b[0m \u001b[0;36m48\u001b[0m\u001b[0;34m,\u001b[0m \u001b[0;36m32\u001b[0m\u001b[0;34m,\u001b[0m\u001b[0;36m1\u001b[0m\u001b[0;34m)\u001b[0m\u001b[0;34m\u001b[0m\u001b[0;34m\u001b[0m\u001b[0m\n\u001b[0m\u001b[1;32m      7\u001b[0m \u001b[0;34m\u001b[0m\u001b[0m\n\u001b[1;32m      8\u001b[0m     \u001b[0mprediction\u001b[0m \u001b[0;34m=\u001b[0m \u001b[0mmodel\u001b[0m\u001b[0;34m.\u001b[0m\u001b[0mpredict\u001b[0m\u001b[0;34m(\u001b[0m\u001b[0;34m[\u001b[0m\u001b[0mchar_pred\u001b[0m\u001b[0;34m]\u001b[0m\u001b[0;34m)\u001b[0m\u001b[0;34m\u001b[0m\u001b[0;34m\u001b[0m\u001b[0m\n",
      "\u001b[0;31mValueError\u001b[0m: cannot reshape array of size 2250 into shape (48,32,1)"
>>>>>>> bd57b4512b97cdd941a556532deb1ef09b42dde5
     ]
    },
    {
     "data": {
      "image/jpeg": "/9j/4AAQSkZJRgABAQAAAQABAAD/2wBDAAgGBgcGBQgHBwcJCQgKDBQNDAsLDBkSEw8UHRofHh0aHBwgJC4nICIsIxwcKDcpLDAxNDQ0Hyc5PTgyPC4zNDL/2wBDAQkJCQwLDBgNDRgyIRwhMjIyMjIyMjIyMjIyMjIyMjIyMjIyMjIyMjIyMjIyMjIyMjIyMjIyMjIyMjIyMjIyMjL/wAARCAA4ADgDASIAAhEBAxEB/8QAHwAAAQUBAQEBAQEAAAAAAAAAAAECAwQFBgcICQoL/8QAtRAAAgEDAwIEAwUFBAQAAAF9AQIDAAQRBRIhMUEGE1FhByJxFDKBkaEII0KxwRVS0fAkM2JyggkKFhcYGRolJicoKSo0NTY3ODk6Q0RFRkdISUpTVFVWV1hZWmNkZWZnaGlqc3R1dnd4eXqDhIWGh4iJipKTlJWWl5iZmqKjpKWmp6ipqrKztLW2t7i5usLDxMXGx8jJytLT1NXW19jZ2uHi4+Tl5ufo6erx8vP09fb3+Pn6/8QAHwEAAwEBAQEBAQEBAQAAAAAAAAECAwQFBgcICQoL/8QAtREAAgECBAQDBAcFBAQAAQJ3AAECAxEEBSExBhJBUQdhcRMiMoEIFEKRobHBCSMzUvAVYnLRChYkNOEl8RcYGRomJygpKjU2Nzg5OkNERUZHSElKU1RVVldYWVpjZGVmZ2hpanN0dXZ3eHl6goOEhYaHiImKkpOUlZaXmJmaoqOkpaanqKmqsrO0tba3uLm6wsPExcbHyMnK0tPU1dbX2Nna4uPk5ebn6Onq8vP09fb3+Pn6/9oADAMBAAIRAxEAPwD3+iiigAopskiRRtJIwREBZmY4AA6k14H/AML11TVviXp2naLaxNokl2ttsZMyXAZgu/P8PXIH5+wB79RRWZaeItGv9UuNMtNUs5763/1tvHMpdPw9u/pQBp0UUUAFFFFAHC/GLVpNI+F2syRMVlnRbZSPR2Ct/wCOlq+e/hJrfhjwz4hudd8RTyiW0h/0KGOEuZJGyCRjgEDgZIHzdeK+mPHng+Lxz4Xl0aW7e0LSLKkqKGwy5xkdxz6ivFrD9mzV21ELqGuWKWIP37dXaRh/ukAD8z+NAGN4z+M/iTxi02n6FDPp2nbGZ0t8tPIgHJdh91cdQOOuSaP2e7IXXxKadhn7JYyyg+hJVP5Oa9E+JHh3SPh98G9QsdBtRAbp4oJrg8yygsCdzd8gEY6cnAFcf+zaF/4SvWCfvfYRj6b1z/SgD6UooooAKKK8d+MHjXxHb3ieF/CNreyXjxiS7uLOFnkjB+6ilQdpI5J64Ix3oA9VvtZ0vTP+QhqVnad/9InWP+ZFZh8deEFOD4q0MH/sIRf/ABVfK0Xwr+IGpuZz4evmkc7me4dUYn33sDUsvwa+IEK5fw7KR/sXELfyc0Aeu/G7xV4d1b4dTWmna7pt5cm5iYRW90kjYBOThSTXm/wD1ZdN+JkVu5wuoW0lsM9N3Dj/ANAx+NcxP8NvGtvnf4X1U/8AXO2Z/wD0HNen/B/4Q6tb63a+JfEEMljHat5ltaSDbLI/ZmHVQPQ8k+3UA+h6KKKACiiigAooooAKKKKACiiigD//2Q==\n",
      "text/plain": [
       "<IPython.core.display.Image object>"
      ]
     },
     "metadata": {},
     "output_type": "display_data"
    },
    {
     "data": {
      "image/jpeg": "/9j/4AAQSkZJRgABAQAAAQABAAD/2wBDAAgGBgcGBQgHBwcJCQgKDBQNDAsLDBkSEw8UHRofHh0aHBwgJC4nICIsIxwcKDcpLDAxNDQ0Hyc5PTgyPC4zNDL/wAALCAAwACABAREA/8QAHwAAAQUBAQEBAQEAAAAAAAAAAAECAwQFBgcICQoL/8QAtRAAAgEDAwIEAwUFBAQAAAF9AQIDAAQRBRIhMUEGE1FhByJxFDKBkaEII0KxwRVS0fAkM2JyggkKFhcYGRolJicoKSo0NTY3ODk6Q0RFRkdISUpTVFVWV1hZWmNkZWZnaGlqc3R1dnd4eXqDhIWGh4iJipKTlJWWl5iZmqKjpKWmp6ipqrKztLW2t7i5usLDxMXGx8jJytLT1NXW19jZ2uHi4+Tl5ufo6erx8vP09fb3+Pn6/9oACAEBAAA/APT/AIkeOrfwH4XlvswSalL+7sbWViPNfIycDnaoO49OwyCwr481XVb7XNUuNT1O5kuby4ffLK/Vj/IADAAHAAAGAK+m/gX461Txdod9YaufPuNK8pVu2bLzI+/Af1YbD83fIzyCT6xXxJ418a6l481mHVNUgtIZ4rdbdVtUZVKhmbJ3Mxzlz39K5uvov9myCxTS9dngvZJLyR4FubZoNohA8zYyvkhwwJ7AgqeMYJ90rx//AIZx8H/9BLXP+/8AD/8AGq8c+KPw5b4e6zbRQ3Ul1p96jvbyyKqspVuYzg8lVKHdhQd3A4NdR+zv4hh0zxVqWl3VzaW8GoW6FGmcIzzI4VETJAJIlfjBJwMdDn6brP0TVf7b0eDUfsF9Yedu/wBGv4fKmTDFfmXJxnGR7EVxfxj8GWPijwVdX88kkN5o9vNd20q8ggLudGXOCGCDnqCAemQfkywvrjTNRtr+zk8u6tZUmhfaDtdSCpweDggda+v/AIZ/EC38ceHIJbm6sV1tfMN1ZQEqYwHwGCMSxXaU+bJGTjOeB3FFfOn7Qfgax0x7XxXp0UcBvbgwXsanAeUqWWQLjAJCvuOeTtOMlifK/B3jHVPA+uf2tpPkNM0TQyRzpuSRDg4OCCOQp4I6emQft+iq9/Y2+p6dc2F5H5lrdRPDMm4jcjAhhkcjIJ6VT0Dw5pHhbS103RbGO0tA5fYpLFmPUszElj0GSTwAOgFf/9k=\n",
      "text/plain": [
       "<IPython.core.display.Image object>"
      ]
     },
     "metadata": {},
     "output_type": "display_data"
    },
    {
     "name": "stdout",
     "output_type": "stream",
     "text": [
      "(48, 32)\n",
      "Predicted:  [ 0.05717266  0.00871817 29.308811    0.00259005  0.00030584  0.01746284\n",
      "  0.00105722  2.055058    0.00001179  0.00411255  6.82486     0.06578246\n",
      "  0.00010872  0.27628323  5.4560065   0.00004157  0.02168357  0.01380035\n",
      "  4.1195574   0.10547148  0.09666707 51.52461     0.00004278  0.03127867\n",
      "  0.00824278  0.00026693  0.00000029]\n",
      "Index of class with highest probability:  21\n",
      "Value of highest probability:  0.5152461\n",
      "Name of predicted class:  Tet\n",
      "habbabuk/Tet/standard.png\n"
     ]
    },
    {
     "data": {
      "image/jpeg": "/9j/4AAQSkZJRgABAQAAAQABAAD/2wBDAAgGBgcGBQgHBwcJCQgKDBQNDAsLDBkSEw8UHRofHh0aHBwgJC4nICIsIxwcKDcpLDAxNDQ0Hyc5PTgyPC4zNDL/2wBDAQkJCQwLDBgNDRgyIRwhMjIyMjIyMjIyMjIyMjIyMjIyMjIyMjIyMjIyMjIyMjIyMjIyMjIyMjIyMjIyMjIyMjL/wAARCAA4ADgDASIAAhEBAxEB/8QAHwAAAQUBAQEBAQEAAAAAAAAAAAECAwQFBgcICQoL/8QAtRAAAgEDAwIEAwUFBAQAAAF9AQIDAAQRBRIhMUEGE1FhByJxFDKBkaEII0KxwRVS0fAkM2JyggkKFhcYGRolJicoKSo0NTY3ODk6Q0RFRkdISUpTVFVWV1hZWmNkZWZnaGlqc3R1dnd4eXqDhIWGh4iJipKTlJWWl5iZmqKjpKWmp6ipqrKztLW2t7i5usLDxMXGx8jJytLT1NXW19jZ2uHi4+Tl5ufo6erx8vP09fb3+Pn6/8QAHwEAAwEBAQEBAQEBAQAAAAAAAAECAwQFBgcICQoL/8QAtREAAgECBAQDBAcFBAQAAQJ3AAECAxEEBSExBhJBUQdhcRMiMoEIFEKRobHBCSMzUvAVYnLRChYkNOEl8RcYGRomJygpKjU2Nzg5OkNERUZHSElKU1RVVldYWVpjZGVmZ2hpanN0dXZ3eHl6goOEhYaHiImKkpOUlZaXmJmaoqOkpaanqKmqsrO0tba3uLm6wsPExcbHyMnK0tPU1dbX2Nna4uPk5ebn6Onq8vP09fb3+Pn6/9oADAMBAAIRAxEAPwD3+is/XtVTQvD+o6tJG0qWVvJOUXq21ScfjivIfhp8bb3xR4r/ALF122tIBd5+xyW4ZdrDnY2Sc5AOD68d+AD26iivGfiZ8b18N38uieHYobrUIjtuLmX5o4W7qAPvMO/YdOecAHs1FfJth8evHVpeia5vLa9hzzBLbIq49igB/WvoLwD8RdJ8fac0lpm3voQPtFnI2WT3B/iX3/PFAHYUUUUARzwRXNvJBPGskUqlHRhkMpGCD+FfGni/Q7r4cfEZ4LdmAtJ0u7KQ/wAUedyH8MYPuDX2fXz1+0rpe280HVlX78cls59NpDL/AOhPQB6v4z8VHS/hff8AiSwbDNZJJbP/AHTLtVG/AuD+FfNXww+H0/xB8RP9peWPTLbEl5OPvMT0QE/xHnnsAT6Z95+HcFl43+CWn6ZqStLbtAbSZVbBHlvhcHscKprsfDnhvSPB2iDTtKgFvaITI7O2SzHqzMep/oBQBmJ8MfBEen/Yh4Y04xbdu5oQZP8Av4fmz75r5/8AGmjXHwa+JVlqGgTv9lkX7RAkjZ+XOHiY9x7+hHcZr3jXfix4K8PhluNbguJl/wCWNn++Yn0+XgH6kV82fE3x0fiH4ohurS1lhtIYhBbQvgu2SSSQM8knGBnoKAPrnRdWttd0Sy1W0JNvdwrMmeoBGcH3HQ/Sisf4e6NP4f8Ah/oumXQK3ENuDKp6ozEsV/Atj8KKAOmryr9oLTvtnw1N0B81leRS59Acp/NxXqtcr8StLm1n4ca7Y28TTTPbF0jUZLMhDgD3+WgDwj4YfFnT/AngzUdPvLae6ujcma1hTAU7lAO5j90ZUdj16VxniLxn4p8f6r5d1cXNx5z4h0+2DeWD2CoOp9zk1e8D/CrxD42mWSKE2Wmg4e9uFIX32Dq5+nHqRX034M+HegeB7QJpttvu2XEt7MA0r/j/AAj2HH160AeG+Ff2fNe1QJca9cx6TbnnyRiScj6A7V/Ek+1e3eFPhl4W8HFZdO08SXij/j8uT5kv4Hov/AQK6+igAooooAKKKKACiiigAooooAKKKKAP/9k=\n",
      "text/plain": [
       "<IPython.core.display.Image object>"
      ]
     },
     "metadata": {},
     "output_type": "display_data"
    },
    {
     "data": {
      "image/jpeg": "/9j/4AAQSkZJRgABAQAAAQABAAD/2wBDAAgGBgcGBQgHBwcJCQgKDBQNDAsLDBkSEw8UHRofHh0aHBwgJC4nICIsIxwcKDcpLDAxNDQ0Hyc5PTgyPC4zNDL/wAALCAAwACABAREA/8QAHwAAAQUBAQEBAQEAAAAAAAAAAAECAwQFBgcICQoL/8QAtRAAAgEDAwIEAwUFBAQAAAF9AQIDAAQRBRIhMUEGE1FhByJxFDKBkaEII0KxwRVS0fAkM2JyggkKFhcYGRolJicoKSo0NTY3ODk6Q0RFRkdISUpTVFVWV1hZWmNkZWZnaGlqc3R1dnd4eXqDhIWGh4iJipKTlJWWl5iZmqKjpKWmp6ipqrKztLW2t7i5usLDxMXGx8jJytLT1NXW19jZ2uHi4+Tl5ufo6erx8vP09fb3+Pn6/9oACAEBAAA/APf65/xh4w0vwZodxqGoXMCzLE721q8u17lxjCKMEnkqCQDtzk8V8+aB8f8AxRa+JVutckjvdJkciWzhgRDEpOcxtjJK9gzHIyCcncPqOqeq6rY6Hpdxqep3MdtZ26b5ZX6KP5kk4AA5JIAyTXyB8TPH03j/AMSi8WKS30+2QxWdu7kkLnJdhnAduM47BRk7cni6+3/An/JPPDX/AGCrX/0UteIftA+Ori61j/hDrMzwWtptkvfmAW5dlV0GBztUEHk8senyg1c+BnwxsdQsIfGGsxySutxu02IPtVTG4/enack71KhTgfKSQcjHP/tFQQw/Ea1eKKNHm0yJ5WVQC7eZIuW9TtVRk9gB2r2/4S6lNqvwr8P3E6xq6W5twEBA2xO0SnknnagJ989OlYd98BfB1/rkmqSyar+9lEslubvekh4LbmYGQ7jkk788nBHGPTIIIbW3it7eKOGCJAkccahVRQMAADgADjFeV/tA+HrfU/h//bDNsutJlV4zgnckjLGydcDJKNnB+5jjJrL/AGb9bmu/DWr6NL5jJYXCSxO0hYBZQfkVf4QGjZuDyXPHr7ZRWP4r0b/hIfCWraQEgeS7tJIovPGUWQqdjHg4w205AyMZHNfMHwW8af8ACJ+NEtru7gttI1LEV28y8KyhvLbd/D8xwSflwxJ6Aj63oor4w+Kmmf2R8UPENt53m77s3O7btx5wEu3GT034z3xnjpX/2Q==\n",
      "text/plain": [
       "<IPython.core.display.Image object>"
      ]
     },
     "metadata": {},
     "output_type": "display_data"
    },
    {
     "name": "stdout",
     "output_type": "stream",
     "text": [
      "(48, 32)\n",
      "Predicted:  [ 0.16300742  0.00248294 16.082386    0.0284656   0.00126507  0.7477172\n",
      "  0.00320095  3.9152405   0.00005827  0.00155028 10.254507    0.00871643\n",
      "  0.00006206  0.30431426  5.171426    0.00004542  0.10836548  0.01463108\n",
      " 20.520597    0.03458839  0.5210962  41.991646    0.00025588  0.0468896\n",
      "  0.07554489  0.00192196  0.00000055]\n",
      "Index of class with highest probability:  21\n",
      "Value of highest probability:  0.41991645\n",
      "Name of predicted class:  Tet\n",
      "habbabuk/Tet/standard.png\n"
     ]
    },
    {
     "data": {
      "image/jpeg": "/9j/4AAQSkZJRgABAQAAAQABAAD/2wBDAAgGBgcGBQgHBwcJCQgKDBQNDAsLDBkSEw8UHRofHh0aHBwgJC4nICIsIxwcKDcpLDAxNDQ0Hyc5PTgyPC4zNDL/2wBDAQkJCQwLDBgNDRgyIRwhMjIyMjIyMjIyMjIyMjIyMjIyMjIyMjIyMjIyMjIyMjIyMjIyMjIyMjIyMjIyMjIyMjL/wAARCAA4ADgDASIAAhEBAxEB/8QAHwAAAQUBAQEBAQEAAAAAAAAAAAECAwQFBgcICQoL/8QAtRAAAgEDAwIEAwUFBAQAAAF9AQIDAAQRBRIhMUEGE1FhByJxFDKBkaEII0KxwRVS0fAkM2JyggkKFhcYGRolJicoKSo0NTY3ODk6Q0RFRkdISUpTVFVWV1hZWmNkZWZnaGlqc3R1dnd4eXqDhIWGh4iJipKTlJWWl5iZmqKjpKWmp6ipqrKztLW2t7i5usLDxMXGx8jJytLT1NXW19jZ2uHi4+Tl5ufo6erx8vP09fb3+Pn6/8QAHwEAAwEBAQEBAQEBAQAAAAAAAAECAwQFBgcICQoL/8QAtREAAgECBAQDBAcFBAQAAQJ3AAECAxEEBSExBhJBUQdhcRMiMoEIFEKRobHBCSMzUvAVYnLRChYkNOEl8RcYGRomJygpKjU2Nzg5OkNERUZHSElKU1RVVldYWVpjZGVmZ2hpanN0dXZ3eHl6goOEhYaHiImKkpOUlZaXmJmaoqOkpaanqKmqsrO0tba3uLm6wsPExcbHyMnK0tPU1dbX2Nna4uPk5ebn6Onq8vP09fb3+Pn6/9oADAMBAAIRAxEAPwD3+is/XtVTQvD+o6tJG0qWVvJOUXq21ScfjivIfhp8bb3xR4r/ALF122tIBd5+xyW4ZdrDnY2Sc5AOD68d+AD26iivGfiZ8b18N38uieHYobrUIjtuLmX5o4W7qAPvMO/YdOecAHs1FfJth8evHVpeia5vLa9hzzBLbIq49igB/WvoLwD8RdJ8fac0lpm3voQPtFnI2WT3B/iX3/PFAHYUUUUARzwRXNvJBPGskUqlHRhkMpGCD+FfGni/Q7r4cfEZ4LdmAtJ0u7KQ/wAUedyH8MYPuDX2fXz1+0rpe280HVlX78cls59NpDL/AOhPQB6v4z8VHS/hff8AiSwbDNZJJbP/AHTLtVG/AuD+FfNXww+H0/xB8RP9peWPTLbEl5OPvMT0QE/xHnnsAT6Z95+HcFl43+CWn6ZqStLbtAbSZVbBHlvhcHscKprsfDnhvSPB2iDTtKgFvaITI7O2SzHqzMep/oBQBmJ8MfBEen/Yh4Y04xbdu5oQZP8Av4fmz75r5/8AGmjXHwa+JVlqGgTv9lkX7RAkjZ+XOHiY9x7+hHcZr3jXfix4K8PhluNbguJl/wCWNn++Yn0+XgH6kV82fE3x0fiH4ohurS1lhtIYhBbQvgu2SSSQM8knGBnoKAPrnRdWttd0Sy1W0JNvdwrMmeoBGcH3HQ/Sisf4e6NP4f8Ah/oumXQK3ENuDKp6ozEsV/Atj8KKAOmryr9oLTvtnw1N0B81leRS59Acp/NxXqtcr8StLm1n4ca7Y28TTTPbF0jUZLMhDgD3+WgDwj4YfFnT/AngzUdPvLae6ujcma1hTAU7lAO5j90ZUdj16VxniLxn4p8f6r5d1cXNx5z4h0+2DeWD2CoOp9zk1e8D/CrxD42mWSKE2Wmg4e9uFIX32Dq5+nHqRX034M+HegeB7QJpttvu2XEt7MA0r/j/AAj2HH160AeG+Ff2fNe1QJca9cx6TbnnyRiScj6A7V/Ek+1e3eFPhl4W8HFZdO08SXij/j8uT5kv4Hov/AQK6+igAooooAKKKKACiiigAooooAKKKKAP/9k=\n",
      "text/plain": [
       "<IPython.core.display.Image object>"
      ]
     },
     "metadata": {},
     "output_type": "display_data"
    },
    {
     "data": {
      "image/jpeg": "/9j/4AAQSkZJRgABAQAAAQABAAD/2wBDAAgGBgcGBQgHBwcJCQgKDBQNDAsLDBkSEw8UHRofHh0aHBwgJC4nICIsIxwcKDcpLDAxNDQ0Hyc5PTgyPC4zNDL/wAALCAAwACABAREA/8QAHwAAAQUBAQEBAQEAAAAAAAAAAAECAwQFBgcICQoL/8QAtRAAAgEDAwIEAwUFBAQAAAF9AQIDAAQRBRIhMUEGE1FhByJxFDKBkaEII0KxwRVS0fAkM2JyggkKFhcYGRolJicoKSo0NTY3ODk6Q0RFRkdISUpTVFVWV1hZWmNkZWZnaGlqc3R1dnd4eXqDhIWGh4iJipKTlJWWl5iZmqKjpKWmp6ipqrKztLW2t7i5usLDxMXGx8jJytLT1NXW19jZ2uHi4+Tl5ufo6erx8vP09fb3+Pn6/9oACAEBAAA/AOL8T/EPX7H4xy6pcXkl0mh6ncQWtudqKIBIysg+XALJ8pfBbpzwMfT/AIc1+x8U+H7PWtNaQ2l0hZPMXaykEqykeoYEcZHHBI5rk9b+NPgbRPPT+1/t9xDt/c2EZl35x92TiM4Byfm7EdeK6Dwd4x0vxxof9raT56wrK0Mkc6bXjcYODgkHgqeCevrkD4s1aG+ttZvoNUMh1CO4kS6Mkm9jKGIfLZO47s85Oak/t3WP7H/sj+1b7+zP+fL7Q/k/e3fczt+9z0681ck8H6/F4Th8UNpsh0WV9i3SurAHcU+ZQdyjcpGSAM49Rn1T9mvU/K8Q65pPk5+02iXPm7vu+U+3bjHOfOznPG3vnjg/itoF94f+I2rrfLHi+uJL63ZG3BopJGIPqCDkEHuDjIwT6/8As36VYr4V1PWBbR/2g961qbg8t5SpGwQeg3MScdeM5wMeoeMdAXxT4O1XRWWMvdW7LF5jMqrKPmjYlecBwp79Oh6V86fs831vafEqSGeTZJd6fLDANpO9wySEcdPlRjz6euK9H/aG8N/2n4Lt9cSTbJpEvzIWwGjlKocDHLBhHjkDG7qcVh/s3+JYfs+p+FWt5BOHbUUnBBUriONlI6gg7SOucnpjn3yviSAQ+DPiXEtxJJcwaLrAEjxoA0iwzckKTgEheme/WvVPjH8XtL1rR7zwpoSfao5JVW6vj/qyEZXAiwfm+YYLHjCnG4MGEf7OvhKG8v77xVdwyE2Ti3snEgC+YyHzSVHJIVkAzx856kcfRdfFnxO02bSvib4it52jZ3vXuAUJI2ynzVHIHO1wD7569a9n+GfwMh0Zzqvi+G0vbsoBDYECWKHK8mTIw7jJGOVGMgsSCvsljYWemWcdnYWkFpax52QwRiNFySThRwMkk/jVivH/ABj8Dv8AhL/iBPr8+ueRY3WwzwJB+8XYsaBVYnHzBWO4j5Tj5Wycf//Z\n",
      "text/plain": [
       "<IPython.core.display.Image object>"
      ]
     },
     "metadata": {},
     "output_type": "display_data"
    },
    {
     "name": "stdout",
     "output_type": "stream",
     "text": [
      "(48, 32)\n",
      "Predicted:  [ 0.620611    0.00284146 44.072426    0.02530572  0.00535911  1.2890552\n",
      "  0.00705244  1.7415776   0.00023468  0.00683591  6.074269    0.02152584\n",
      "  0.00016782  0.33019266  4.006347    0.00013302  0.2842054   0.02096236\n",
      "  6.121474    0.30898005  0.70407385 34.290234    0.0006787   0.03982369\n",
      "  0.02090354  0.00472815  0.00000517]\n",
      "Index of class with highest probability:  2\n",
      "Value of highest probability:  0.44072425\n",
      "Name of predicted class:  Bet\n",
      "habbabuk/Bet/standard.png\n"
     ]
    },
    {
     "data": {
      "image/jpeg": "/9j/4AAQSkZJRgABAQAAAQABAAD/2wBDAAgGBgcGBQgHBwcJCQgKDBQNDAsLDBkSEw8UHRofHh0aHBwgJC4nICIsIxwcKDcpLDAxNDQ0Hyc5PTgyPC4zNDL/2wBDAQkJCQwLDBgNDRgyIRwhMjIyMjIyMjIyMjIyMjIyMjIyMjIyMjIyMjIyMjIyMjIyMjIyMjIyMjIyMjIyMjIyMjL/wAARCAA4ADgDASIAAhEBAxEB/8QAHwAAAQUBAQEBAQEAAAAAAAAAAAECAwQFBgcICQoL/8QAtRAAAgEDAwIEAwUFBAQAAAF9AQIDAAQRBRIhMUEGE1FhByJxFDKBkaEII0KxwRVS0fAkM2JyggkKFhcYGRolJicoKSo0NTY3ODk6Q0RFRkdISUpTVFVWV1hZWmNkZWZnaGlqc3R1dnd4eXqDhIWGh4iJipKTlJWWl5iZmqKjpKWmp6ipqrKztLW2t7i5usLDxMXGx8jJytLT1NXW19jZ2uHi4+Tl5ufo6erx8vP09fb3+Pn6/8QAHwEAAwEBAQEBAQEBAQAAAAAAAAECAwQFBgcICQoL/8QAtREAAgECBAQDBAcFBAQAAQJ3AAECAxEEBSExBhJBUQdhcRMiMoEIFEKRobHBCSMzUvAVYnLRChYkNOEl8RcYGRomJygpKjU2Nzg5OkNERUZHSElKU1RVVldYWVpjZGVmZ2hpanN0dXZ3eHl6goOEhYaHiImKkpOUlZaXmJmaoqOkpaanqKmqsrO0tba3uLm6wsPExcbHyMnK0tPU1dbX2Nna4uPk5ebn6Onq8vP09fb3+Pn6/9oADAMBAAIRAxEAPwD3+iiigAopskiRRtJIwREBZmY4AA6k14H/AML11TVviXp2naLaxNokl2ttsZMyXAZgu/P8PXIH5+wB79RRWZaeItGv9UuNMtNUs5763/1tvHMpdPw9u/pQBp0UUUAFFFFAHC/GLVpNI+F2syRMVlnRbZSPR2Ct/wCOlq+e/hJrfhjwz4hudd8RTyiW0h/0KGOEuZJGyCRjgEDgZIHzdeK+mPHng+Lxz4Xl0aW7e0LSLKkqKGwy5xkdxz6ivFrD9mzV21ELqGuWKWIP37dXaRh/ukAD8z+NAGN4z+M/iTxi02n6FDPp2nbGZ0t8tPIgHJdh91cdQOOuSaP2e7IXXxKadhn7JYyyg+hJVP5Oa9E+JHh3SPh98G9QsdBtRAbp4oJrg8yygsCdzd8gEY6cnAFcf+zaF/4SvWCfvfYRj6b1z/SgD6UooooAKKK8d+MHjXxHb3ieF/CNreyXjxiS7uLOFnkjB+6ilQdpI5J64Ix3oA9VvtZ0vTP+QhqVnad/9InWP+ZFZh8deEFOD4q0MH/sIRf/ABVfK0Xwr+IGpuZz4evmkc7me4dUYn33sDUsvwa+IEK5fw7KR/sXELfyc0Aeu/G7xV4d1b4dTWmna7pt5cm5iYRW90kjYBOThSTXm/wD1ZdN+JkVu5wuoW0lsM9N3Dj/ANAx+NcxP8NvGtvnf4X1U/8AXO2Z/wD0HNen/B/4Q6tb63a+JfEEMljHat5ltaSDbLI/ZmHVQPQ8k+3UA+h6KKKACiiigAooooAKKKKACiiigD//2Q==\n",
      "text/plain": [
       "<IPython.core.display.Image object>"
      ]
     },
     "metadata": {},
     "output_type": "display_data"
    },
    {
     "data": {
      "image/jpeg": "/9j/4AAQSkZJRgABAQAAAQABAAD/2wBDAAgGBgcGBQgHBwcJCQgKDBQNDAsLDBkSEw8UHRofHh0aHBwgJC4nICIsIxwcKDcpLDAxNDQ0Hyc5PTgyPC4zNDL/wAALCAAwACABAREA/8QAHwAAAQUBAQEBAQEAAAAAAAAAAAECAwQFBgcICQoL/8QAtRAAAgEDAwIEAwUFBAQAAAF9AQIDAAQRBRIhMUEGE1FhByJxFDKBkaEII0KxwRVS0fAkM2JyggkKFhcYGRolJicoKSo0NTY3ODk6Q0RFRkdISUpTVFVWV1hZWmNkZWZnaGlqc3R1dnd4eXqDhIWGh4iJipKTlJWWl5iZmqKjpKWmp6ipqrKztLW2t7i5usLDxMXGx8jJytLT1NXW19jZ2uHi4+Tl5ufo6erx8vP09fb3+Pn6/9oACAEBAAA/ALfxk+Lmr+HPEEfh7w3cR209uiy3lyYg7bmGVjAdSuNpViRnO4DIwQfUPAPiWbxf4I0zXbi3jt57lHEkcZJXcjshIzyASucc4zjJxmvL/jP8VdIm8NTeHPDuqR3d3duEu5rYkokOAxAkBAYtkKQNwxvBwcV0nwB0z7B8L4LnzvM/tC7mudu3Hl4Ii25zz/qs54+9jtk/Lmq6rfa5qlxqep3MlzeXD75ZX6sf5AAYAA4AAAwBUn9u6x/Y/wDZH9q339mf8+X2h/J+9u+5nb97np15rPr7r8OTaLc+H7Ofw6LQaTIhe3FpGEjAJJOFAG07s5GAQc55zXgH7SGiQ2niXSNZi8tXv7d4pUWMKS0RHzs38RKyKvI4CDn08/8Ah54Hm8f+JW0mK+jskjt3uJZmjLkKCq4VcjJ3MvUjjJ7YPSeP/gpqngnR31mDUoNS02HYJ32eTJGWbaDsJIK5KjIbOW6YBNep/BPxfoMXwwtrK71O0s59MeUXC3U6R4VpdwcZbOzMqLk4+bI9M9Z8TvCP/CaeBr3TYl3X0X+k2XOP3yA4X7wHzAsmScDdntXgn7PupQ2PxNFvKshe/spbeIqBgMCsuW56bY2HGeSPqPpvXNGs/EOh3ukX6b7W7iaJ8AErnoy5BAYHBBxwQDXw5qulX2h6pcaZqdtJbXlu+yWJ+qn+RBGCCOCCCMg19518yeEPDUPhD9pa10K3uJLiC2eUxySABtr2jOAccEgNjPGcZwM4r6br5Y/aGsbe0+JUc0EeyS70+Kac7id7hnjB56fKijj09c19T1x//CuNH/4WP/wnH2m+/tP/AJ5b08n/AFPldNu77vP3uv5V2Fcn4i+HPhzxT4l07XdWtpJ7ixTYIi/7qZQSyiRSOQrEnAxnOG3Div/Z\n",
      "text/plain": [
       "<IPython.core.display.Image object>"
      ]
     },
     "metadata": {},
     "output_type": "display_data"
    },
    {
     "name": "stdout",
     "output_type": "stream",
     "text": [
      "(48, 32)\n",
      "Predicted:  [ 0.17041439  0.02030961 77.35689     0.00211103  0.00117025  0.01562724\n",
      "  0.00216883  3.6081903   0.00003463  0.02715132  1.8198619   0.09204005\n",
      "  0.00036673  0.47269213  5.837925    0.00000496  0.021047    0.0148131\n",
      "  1.1749916   0.09456217  0.06317846  9.125824    0.00014997  0.074485\n",
      "  0.00351071  0.00049181  0.00000077]\n",
      "Index of class with highest probability:  2\n",
      "Value of highest probability:  0.77356887\n",
      "Name of predicted class:  Bet\n",
      "habbabuk/Bet/standard.png\n"
     ]
    },
    {
     "data": {
      "image/jpeg": "/9j/4AAQSkZJRgABAQAAAQABAAD/2wBDAAgGBgcGBQgHBwcJCQgKDBQNDAsLDBkSEw8UHRofHh0aHBwgJC4nICIsIxwcKDcpLDAxNDQ0Hyc5PTgyPC4zNDL/2wBDAQkJCQwLDBgNDRgyIRwhMjIyMjIyMjIyMjIyMjIyMjIyMjIyMjIyMjIyMjIyMjIyMjIyMjIyMjIyMjIyMjIyMjL/wAARCAA4ADgDASIAAhEBAxEB/8QAHwAAAQUBAQEBAQEAAAAAAAAAAAECAwQFBgcICQoL/8QAtRAAAgEDAwIEAwUFBAQAAAF9AQIDAAQRBRIhMUEGE1FhByJxFDKBkaEII0KxwRVS0fAkM2JyggkKFhcYGRolJicoKSo0NTY3ODk6Q0RFRkdISUpTVFVWV1hZWmNkZWZnaGlqc3R1dnd4eXqDhIWGh4iJipKTlJWWl5iZmqKjpKWmp6ipqrKztLW2t7i5usLDxMXGx8jJytLT1NXW19jZ2uHi4+Tl5ufo6erx8vP09fb3+Pn6/8QAHwEAAwEBAQEBAQEBAQAAAAAAAAECAwQFBgcICQoL/8QAtREAAgECBAQDBAcFBAQAAQJ3AAECAxEEBSExBhJBUQdhcRMiMoEIFEKRobHBCSMzUvAVYnLRChYkNOEl8RcYGRomJygpKjU2Nzg5OkNERUZHSElKU1RVVldYWVpjZGVmZ2hpanN0dXZ3eHl6goOEhYaHiImKkpOUlZaXmJmaoqOkpaanqKmqsrO0tba3uLm6wsPExcbHyMnK0tPU1dbX2Nna4uPk5ebn6Onq8vP09fb3+Pn6/9oADAMBAAIRAxEAPwD3+iiigAopskiRRtJIwREBZmY4AA6k14H/AML11TVviXp2naLaxNokl2ttsZMyXAZgu/P8PXIH5+wB79RRWZaeItGv9UuNMtNUs5763/1tvHMpdPw9u/pQBp0UUUAFFFFAHC/GLVpNI+F2syRMVlnRbZSPR2Ct/wCOlq+e/hJrfhjwz4hudd8RTyiW0h/0KGOEuZJGyCRjgEDgZIHzdeK+mPHng+Lxz4Xl0aW7e0LSLKkqKGwy5xkdxz6ivFrD9mzV21ELqGuWKWIP37dXaRh/ukAD8z+NAGN4z+M/iTxi02n6FDPp2nbGZ0t8tPIgHJdh91cdQOOuSaP2e7IXXxKadhn7JYyyg+hJVP5Oa9E+JHh3SPh98G9QsdBtRAbp4oJrg8yygsCdzd8gEY6cnAFcf+zaF/4SvWCfvfYRj6b1z/SgD6UooooAKKK8d+MHjXxHb3ieF/CNreyXjxiS7uLOFnkjB+6ilQdpI5J64Ix3oA9VvtZ0vTP+QhqVnad/9InWP+ZFZh8deEFOD4q0MH/sIRf/ABVfK0Xwr+IGpuZz4evmkc7me4dUYn33sDUsvwa+IEK5fw7KR/sXELfyc0Aeu/G7xV4d1b4dTWmna7pt5cm5iYRW90kjYBOThSTXm/wD1ZdN+JkVu5wuoW0lsM9N3Dj/ANAx+NcxP8NvGtvnf4X1U/8AXO2Z/wD0HNen/B/4Q6tb63a+JfEEMljHat5ltaSDbLI/ZmHVQPQ8k+3UA+h6KKKACiiigAooooAKKKKACiiigD//2Q==\n",
      "text/plain": [
       "<IPython.core.display.Image object>"
      ]
     },
     "metadata": {},
     "output_type": "display_data"
    },
    {
     "data": {
      "image/jpeg": "/9j/4AAQSkZJRgABAQAAAQABAAD/2wBDAAgGBgcGBQgHBwcJCQgKDBQNDAsLDBkSEw8UHRofHh0aHBwgJC4nICIsIxwcKDcpLDAxNDQ0Hyc5PTgyPC4zNDL/wAALCAAwACABAREA/8QAHwAAAQUBAQEBAQEAAAAAAAAAAAECAwQFBgcICQoL/8QAtRAAAgEDAwIEAwUFBAQAAAF9AQIDAAQRBRIhMUEGE1FhByJxFDKBkaEII0KxwRVS0fAkM2JyggkKFhcYGRolJicoKSo0NTY3ODk6Q0RFRkdISUpTVFVWV1hZWmNkZWZnaGlqc3R1dnd4eXqDhIWGh4iJipKTlJWWl5iZmqKjpKWmp6ipqrKztLW2t7i5usLDxMXGx8jJytLT1NXW19jZ2uHi4+Tl5ufo6erx8vP09fb3+Pn6/9oACAEBAAA/APf68v8Ail8XrfwPt0zSkgvddbazxyZMdsh5zJggliOigjg7jxgNxHw/+O2u3/i220rxBDBc2upXYiieCMI9u0jBUUc4aMHjnLc53HGD9D15/wDFvx//AMIL4X/0OTbrN/ujssxb1XBXe5zx8oYYznLFeCM4+RJ55rq4luLiWSaeVy8kkjFmdickknkknnNbngT/AJKH4a/7Ctr/AOjVr7fr448aeM9d+KfiOBIbGd403fYdNgQTPHlF8zBVAz58vdyOPpXr9t8BNG0/wDeRXFr/AGp4mNpK8UyzvGizlDsRBuVdobHLjnknAO0fPFhdXnhzxDbXn2fZfabdpL5NwhG2SNwdrrwRyMEcGvtfwr4ht/FfhfTtctV2R3cQcpkny3Bw6ZIGdrBhnHOMjiuH+HfwZs/AmuS6vNqn9p3XlGK3zaiIQ5+8wyzHcRwCCMAsOc8eoV8sfHfwX/wj/i3+2bG0nXTdUzLLMW3ILosxdR3XIwwB65bHAwO3/Zz8T3F9o+o+HLqeAx6ftls4+BJsdnMn+8obac44L4JwVA7T4MTzXPwk0F55ZJXCSoGdixCrM6qOewUAAdgAK7yuD+MHhqHxL8OdREtxJA+mo2oxFQCGaKN/lYehUsOOhwecYPz58Ev+SvaF/wBvH/pPJX1/RRWXpvhrQdGuGuNL0TTbGdkKNJa2qRMVyDglQDjIBx7Cv//Z\n",
      "text/plain": [
       "<IPython.core.display.Image object>"
      ]
     },
     "metadata": {},
     "output_type": "display_data"
    },
    {
     "name": "stdout",
     "output_type": "stream",
     "text": [
      "(48, 32)\n",
      "Predicted:  [ 0.06445577  0.01859897 26.124786    0.00500453  0.00039679  0.02468594\n",
      "  0.00320743  2.454776    0.00007999  0.02046359 14.7673      0.06557334\n",
      "  0.00048372  0.5196882   5.9012156   0.00013732  0.05027388  0.03301363\n",
      " 12.870984    0.15665598  0.06430976 36.765514    0.00018195  0.07068402\n",
      "  0.01652569  0.00100917  0.00000405]\n",
      "Index of class with highest probability:  21\n",
      "Value of highest probability:  0.36765516\n",
      "Name of predicted class:  Tet\n",
      "habbabuk/Tet/standard.png\n"
     ]
    },
    {
     "data": {
      "image/jpeg": "/9j/4AAQSkZJRgABAQAAAQABAAD/2wBDAAgGBgcGBQgHBwcJCQgKDBQNDAsLDBkSEw8UHRofHh0aHBwgJC4nICIsIxwcKDcpLDAxNDQ0Hyc5PTgyPC4zNDL/2wBDAQkJCQwLDBgNDRgyIRwhMjIyMjIyMjIyMjIyMjIyMjIyMjIyMjIyMjIyMjIyMjIyMjIyMjIyMjIyMjIyMjIyMjL/wAARCAA4ADgDASIAAhEBAxEB/8QAHwAAAQUBAQEBAQEAAAAAAAAAAAECAwQFBgcICQoL/8QAtRAAAgEDAwIEAwUFBAQAAAF9AQIDAAQRBRIhMUEGE1FhByJxFDKBkaEII0KxwRVS0fAkM2JyggkKFhcYGRolJicoKSo0NTY3ODk6Q0RFRkdISUpTVFVWV1hZWmNkZWZnaGlqc3R1dnd4eXqDhIWGh4iJipKTlJWWl5iZmqKjpKWmp6ipqrKztLW2t7i5usLDxMXGx8jJytLT1NXW19jZ2uHi4+Tl5ufo6erx8vP09fb3+Pn6/8QAHwEAAwEBAQEBAQEBAQAAAAAAAAECAwQFBgcICQoL/8QAtREAAgECBAQDBAcFBAQAAQJ3AAECAxEEBSExBhJBUQdhcRMiMoEIFEKRobHBCSMzUvAVYnLRChYkNOEl8RcYGRomJygpKjU2Nzg5OkNERUZHSElKU1RVVldYWVpjZGVmZ2hpanN0dXZ3eHl6goOEhYaHiImKkpOUlZaXmJmaoqOkpaanqKmqsrO0tba3uLm6wsPExcbHyMnK0tPU1dbX2Nna4uPk5ebn6Onq8vP09fb3+Pn6/9oADAMBAAIRAxEAPwD3+is/XtVTQvD+o6tJG0qWVvJOUXq21ScfjivIfhp8bb3xR4r/ALF122tIBd5+xyW4ZdrDnY2Sc5AOD68d+AD26iivGfiZ8b18N38uieHYobrUIjtuLmX5o4W7qAPvMO/YdOecAHs1FfJth8evHVpeia5vLa9hzzBLbIq49igB/WvoLwD8RdJ8fac0lpm3voQPtFnI2WT3B/iX3/PFAHYUUUUARzwRXNvJBPGskUqlHRhkMpGCD+FfGni/Q7r4cfEZ4LdmAtJ0u7KQ/wAUedyH8MYPuDX2fXz1+0rpe280HVlX78cls59NpDL/AOhPQB6v4z8VHS/hff8AiSwbDNZJJbP/AHTLtVG/AuD+FfNXww+H0/xB8RP9peWPTLbEl5OPvMT0QE/xHnnsAT6Z95+HcFl43+CWn6ZqStLbtAbSZVbBHlvhcHscKprsfDnhvSPB2iDTtKgFvaITI7O2SzHqzMep/oBQBmJ8MfBEen/Yh4Y04xbdu5oQZP8Av4fmz75r5/8AGmjXHwa+JVlqGgTv9lkX7RAkjZ+XOHiY9x7+hHcZr3jXfix4K8PhluNbguJl/wCWNn++Yn0+XgH6kV82fE3x0fiH4ohurS1lhtIYhBbQvgu2SSSQM8knGBnoKAPrnRdWttd0Sy1W0JNvdwrMmeoBGcH3HQ/Sisf4e6NP4f8Ah/oumXQK3ENuDKp6ozEsV/Atj8KKAOmryr9oLTvtnw1N0B81leRS59Acp/NxXqtcr8StLm1n4ca7Y28TTTPbF0jUZLMhDgD3+WgDwj4YfFnT/AngzUdPvLae6ujcma1hTAU7lAO5j90ZUdj16VxniLxn4p8f6r5d1cXNx5z4h0+2DeWD2CoOp9zk1e8D/CrxD42mWSKE2Wmg4e9uFIX32Dq5+nHqRX034M+HegeB7QJpttvu2XEt7MA0r/j/AAj2HH160AeG+Ff2fNe1QJca9cx6TbnnyRiScj6A7V/Ek+1e3eFPhl4W8HFZdO08SXij/j8uT5kv4Hov/AQK6+igAooooAKKKKACiiigAooooAKKKKAP/9k=\n",
      "text/plain": [
       "<IPython.core.display.Image object>"
      ]
     },
     "metadata": {},
     "output_type": "display_data"
    },
    {
     "data": {
      "image/jpeg": "/9j/4AAQSkZJRgABAQAAAQABAAD/2wBDAAgGBgcGBQgHBwcJCQgKDBQNDAsLDBkSEw8UHRofHh0aHBwgJC4nICIsIxwcKDcpLDAxNDQ0Hyc5PTgyPC4zNDL/wAALCAAwACABAREA/8QAHwAAAQUBAQEBAQEAAAAAAAAAAAECAwQFBgcICQoL/8QAtRAAAgEDAwIEAwUFBAQAAAF9AQIDAAQRBRIhMUEGE1FhByJxFDKBkaEII0KxwRVS0fAkM2JyggkKFhcYGRolJicoKSo0NTY3ODk6Q0RFRkdISUpTVFVWV1hZWmNkZWZnaGlqc3R1dnd4eXqDhIWGh4iJipKTlJWWl5iZmqKjpKWmp6ipqrKztLW2t7i5usLDxMXGx8jJytLT1NXW19jZ2uHi4+Tl5ufo6erx8vP09fb3+Pn6/9oACAEBAAA/APZ/FPiSz8I+HLvXL+OeS1tdm9IFBc7nVBgEgdWHeuH+Hfxms/HeuS6RNpf9mXXlGW3zdCUTY+8oyqncByAAcgMeMc+iatqUOjaNfapcLI0FlbyXEixgFiqKWIGSBnA9RXzR4M+NutW3jx7/AMSahJJo9++25gVCyWowQjRJnKhTjOMlhkkM2DWh8ffH0Or348I2UUbwadcCW5ud4bdMEI2Lg4AUOQ2ed3GBt+byfw5r994W8QWetaa0Yu7VyyeYu5WBBVlI9CpI4weeCDzWprnxE8WeILy9mu9dvo4bzcJLSC4eOAIRjYIwcbccc5z3JJJOHpuk6lrNw1vpen3d9OqF2jtYWlYLkDJCgnGSBn3FegT/AAc+JOs6zLd3+kxrPe3BknuZLqAKGdss5CMTjJJwoPsO1dvoH7NkIRZPEeuSM5QgwacoUK27g+Y4O4beo2Dk9eOeE+NfhbRvCPjKzsNDs/slrJp6TMnmvJlzJICcuSeij8q+s4IIbW3it7eKOGCJAkccahVRQMAADgADjFSUV88ftKaNs1HQ9cRJ282J7OV8ZjTYd6DOOGO+TqeQvA4Ne1+D/EsPjDwnYa9BbyW6XaMTC5BKMrFGGR1G5Tg8ZGOB0rcori/il4Mbxx4Kn0+CSRby3f7XaKu3EkqqwCNkgYYMRnIwSDyAQfEPhl8ZYfA/hq50bUNPu71FeSe0dJxhWIXEW0/cQsGYsCeWPynJr6jorP121vL7w9qdnp1x9nvp7SWK3m3lPLkZCFbcORgkHI5FfJnwm8DL448YpBeRSNpNmnn3hUsu4dFj3AcFm7ZB2q+CCK//2Q==\n",
      "text/plain": [
       "<IPython.core.display.Image object>"
      ]
     },
     "metadata": {},
     "output_type": "display_data"
    },
    {
     "name": "stdout",
     "output_type": "stream",
     "text": [
      "(48, 32)\n",
      "Predicted:  [ 0.11974902  0.03072533 64.76683     0.00199499  0.00143608  0.01908198\n",
      "  0.00398598 13.668863    0.00001328  0.01436404  1.1488622   0.42589748\n",
      "  0.00304146  6.215601    6.598138    0.00000096  0.01373689  0.03706336\n",
      "  2.574197    0.01653207  0.02110453  4.2837744   0.00085464  0.01335422\n",
      "  0.01869954  0.00211712  0.00000605]\n",
      "Index of class with highest probability:  2\n",
      "Value of highest probability:  0.6476683\n",
      "Name of predicted class:  Bet\n",
      "habbabuk/Bet/standard.png\n"
     ]
    },
    {
     "data": {
      "image/jpeg": "/9j/4AAQSkZJRgABAQAAAQABAAD/2wBDAAgGBgcGBQgHBwcJCQgKDBQNDAsLDBkSEw8UHRofHh0aHBwgJC4nICIsIxwcKDcpLDAxNDQ0Hyc5PTgyPC4zNDL/2wBDAQkJCQwLDBgNDRgyIRwhMjIyMjIyMjIyMjIyMjIyMjIyMjIyMjIyMjIyMjIyMjIyMjIyMjIyMjIyMjIyMjIyMjL/wAARCAA4ADgDASIAAhEBAxEB/8QAHwAAAQUBAQEBAQEAAAAAAAAAAAECAwQFBgcICQoL/8QAtRAAAgEDAwIEAwUFBAQAAAF9AQIDAAQRBRIhMUEGE1FhByJxFDKBkaEII0KxwRVS0fAkM2JyggkKFhcYGRolJicoKSo0NTY3ODk6Q0RFRkdISUpTVFVWV1hZWmNkZWZnaGlqc3R1dnd4eXqDhIWGh4iJipKTlJWWl5iZmqKjpKWmp6ipqrKztLW2t7i5usLDxMXGx8jJytLT1NXW19jZ2uHi4+Tl5ufo6erx8vP09fb3+Pn6/8QAHwEAAwEBAQEBAQEBAQAAAAAAAAECAwQFBgcICQoL/8QAtREAAgECBAQDBAcFBAQAAQJ3AAECAxEEBSExBhJBUQdhcRMiMoEIFEKRobHBCSMzUvAVYnLRChYkNOEl8RcYGRomJygpKjU2Nzg5OkNERUZHSElKU1RVVldYWVpjZGVmZ2hpanN0dXZ3eHl6goOEhYaHiImKkpOUlZaXmJmaoqOkpaanqKmqsrO0tba3uLm6wsPExcbHyMnK0tPU1dbX2Nna4uPk5ebn6Onq8vP09fb3+Pn6/9oADAMBAAIRAxEAPwD3+iiigAopskiRRtJIwREBZmY4AA6k14H/AML11TVviXp2naLaxNokl2ttsZMyXAZgu/P8PXIH5+wB79RRWZaeItGv9UuNMtNUs5763/1tvHMpdPw9u/pQBp0UUUAFFFFAHC/GLVpNI+F2syRMVlnRbZSPR2Ct/wCOlq+e/hJrfhjwz4hudd8RTyiW0h/0KGOEuZJGyCRjgEDgZIHzdeK+mPHng+Lxz4Xl0aW7e0LSLKkqKGwy5xkdxz6ivFrD9mzV21ELqGuWKWIP37dXaRh/ukAD8z+NAGN4z+M/iTxi02n6FDPp2nbGZ0t8tPIgHJdh91cdQOOuSaP2e7IXXxKadhn7JYyyg+hJVP5Oa9E+JHh3SPh98G9QsdBtRAbp4oJrg8yygsCdzd8gEY6cnAFcf+zaF/4SvWCfvfYRj6b1z/SgD6UooooAKKK8d+MHjXxHb3ieF/CNreyXjxiS7uLOFnkjB+6ilQdpI5J64Ix3oA9VvtZ0vTP+QhqVnad/9InWP+ZFZh8deEFOD4q0MH/sIRf/ABVfK0Xwr+IGpuZz4evmkc7me4dUYn33sDUsvwa+IEK5fw7KR/sXELfyc0Aeu/G7xV4d1b4dTWmna7pt5cm5iYRW90kjYBOThSTXm/wD1ZdN+JkVu5wuoW0lsM9N3Dj/ANAx+NcxP8NvGtvnf4X1U/8AXO2Z/wD0HNen/B/4Q6tb63a+JfEEMljHat5ltaSDbLI/ZmHVQPQ8k+3UA+h6KKKACiiigAooooAKKKKACiiigD//2Q==\n",
      "text/plain": [
       "<IPython.core.display.Image object>"
      ]
     },
     "metadata": {},
     "output_type": "display_data"
    },
    {
     "data": {
      "image/jpeg": "/9j/4AAQSkZJRgABAQAAAQABAAD/2wBDAAgGBgcGBQgHBwcJCQgKDBQNDAsLDBkSEw8UHRofHh0aHBwgJC4nICIsIxwcKDcpLDAxNDQ0Hyc5PTgyPC4zNDL/wAALCAAwACABAREA/8QAHwAAAQUBAQEBAQEAAAAAAAAAAAECAwQFBgcICQoL/8QAtRAAAgEDAwIEAwUFBAQAAAF9AQIDAAQRBRIhMUEGE1FhByJxFDKBkaEII0KxwRVS0fAkM2JyggkKFhcYGRolJicoKSo0NTY3ODk6Q0RFRkdISUpTVFVWV1hZWmNkZWZnaGlqc3R1dnd4eXqDhIWGh4iJipKTlJWWl5iZmqKjpKWmp6ipqrKztLW2t7i5usLDxMXGx8jJytLT1NXW19jZ2uHi4+Tl5ufo6erx8vP09fb3+Pn6/9oACAEBAAA/APP/APhdPjn/AISH+1/7X/2fsXlj7Ns37tmz9N+d+ON1ez3X7QPhG38PQXsXn3WpyRKW0+GNx5UhTJVpHVV2hvlLLk85CmsfRv2kdLu9RSHV9Cn0+1fA+0Q3H2jYSQMsu1TtAySRk8cA5r3CvgixsLzU7yOzsLSe7upM7IYIzI7YBJwo5OACfwrY/wCEE8Yf9Cprn/gum/8Aia5+voP4QfGNp3m0XxlrEYIRTZXt1tQYVcMkkmQM4AIZuSd2WJKivfKK8H+L/wAHPte/xD4UsZ5b6WWSW/tEff5m7c7SrubO7PGxc5yMAYOfnivuPwf4lh8YeE7DXoLeS3S7RiYXIJRlYowyOo3KcHjIxwOlblRzzw2tvLcXEscMESF5JJGCqigZJJPAAHOa+JPHF1oV9401S58NW/kaRJLm3QIUHQbiqn7qltxA4wCBgdB1Hwn+KH/Cv7y6tr+Ce60i7w7pC2XhkAOGRSQpzwG6E4U5+XB7TVf2lpmS4j0fw3Gj78QT3dyWG3d1aNQOSvYPwT1OOfP5JviR8VnhRhqWrQI+xdsYitUdVLfMQFiD4Y8nnDAdwK9L8C/s+W8UQvfGbefMcFNPtpiEUFeRI4wSwJ6IcDb1YHA8M8OaBfeKfEFnoumrGbu6cqnmNtVQAWZifQKCeMnjgE8V9X+Hvg/4L0K3gL6JaX14tusU090rSrK2BucRuzKpJGeOmSAcV3lFf//Z\n",
      "text/plain": [
       "<IPython.core.display.Image object>"
      ]
     },
     "metadata": {},
     "output_type": "display_data"
    },
    {
     "name": "stdout",
     "output_type": "stream",
     "text": [
      "(48, 32)\n",
      "Predicted:  [ 0.21350636  0.00977686 63.399178    0.01153807  0.00165536  0.05659762\n",
      "  0.01175883  3.4121268   0.00028581  0.02897905  7.83369     0.15463303\n",
      "  0.00267041  0.5930178   3.641824    0.00034116  0.04667944  0.11639067\n",
      "  7.257394    0.09505827  0.18023586 12.853185    0.00146359  0.02842589\n",
      "  0.04715429  0.00240107  0.00001823]\n",
      "Index of class with highest probability:  2\n",
      "Value of highest probability:  0.6339918\n",
      "Name of predicted class:  Bet\n",
      "habbabuk/Bet/standard.png\n"
     ]
    },
    {
     "data": {
      "image/jpeg": "/9j/4AAQSkZJRgABAQAAAQABAAD/2wBDAAgGBgcGBQgHBwcJCQgKDBQNDAsLDBkSEw8UHRofHh0aHBwgJC4nICIsIxwcKDcpLDAxNDQ0Hyc5PTgyPC4zNDL/2wBDAQkJCQwLDBgNDRgyIRwhMjIyMjIyMjIyMjIyMjIyMjIyMjIyMjIyMjIyMjIyMjIyMjIyMjIyMjIyMjIyMjIyMjL/wAARCAA4ADgDASIAAhEBAxEB/8QAHwAAAQUBAQEBAQEAAAAAAAAAAAECAwQFBgcICQoL/8QAtRAAAgEDAwIEAwUFBAQAAAF9AQIDAAQRBRIhMUEGE1FhByJxFDKBkaEII0KxwRVS0fAkM2JyggkKFhcYGRolJicoKSo0NTY3ODk6Q0RFRkdISUpTVFVWV1hZWmNkZWZnaGlqc3R1dnd4eXqDhIWGh4iJipKTlJWWl5iZmqKjpKWmp6ipqrKztLW2t7i5usLDxMXGx8jJytLT1NXW19jZ2uHi4+Tl5ufo6erx8vP09fb3+Pn6/8QAHwEAAwEBAQEBAQEBAQAAAAAAAAECAwQFBgcICQoL/8QAtREAAgECBAQDBAcFBAQAAQJ3AAECAxEEBSExBhJBUQdhcRMiMoEIFEKRobHBCSMzUvAVYnLRChYkNOEl8RcYGRomJygpKjU2Nzg5OkNERUZHSElKU1RVVldYWVpjZGVmZ2hpanN0dXZ3eHl6goOEhYaHiImKkpOUlZaXmJmaoqOkpaanqKmqsrO0tba3uLm6wsPExcbHyMnK0tPU1dbX2Nna4uPk5ebn6Onq8vP09fb3+Pn6/9oADAMBAAIRAxEAPwD3+iiigAopskiRRtJIwREBZmY4AA6k14H/AML11TVviXp2naLaxNokl2ttsZMyXAZgu/P8PXIH5+wB79RRWZaeItGv9UuNMtNUs5763/1tvHMpdPw9u/pQBp0UUUAFFFFAHC/GLVpNI+F2syRMVlnRbZSPR2Ct/wCOlq+e/hJrfhjwz4hudd8RTyiW0h/0KGOEuZJGyCRjgEDgZIHzdeK+mPHng+Lxz4Xl0aW7e0LSLKkqKGwy5xkdxz6ivFrD9mzV21ELqGuWKWIP37dXaRh/ukAD8z+NAGN4z+M/iTxi02n6FDPp2nbGZ0t8tPIgHJdh91cdQOOuSaP2e7IXXxKadhn7JYyyg+hJVP5Oa9E+JHh3SPh98G9QsdBtRAbp4oJrg8yygsCdzd8gEY6cnAFcf+zaF/4SvWCfvfYRj6b1z/SgD6UooooAKKK8d+MHjXxHb3ieF/CNreyXjxiS7uLOFnkjB+6ilQdpI5J64Ix3oA9VvtZ0vTP+QhqVnad/9InWP+ZFZh8deEFOD4q0MH/sIRf/ABVfK0Xwr+IGpuZz4evmkc7me4dUYn33sDUsvwa+IEK5fw7KR/sXELfyc0Aeu/G7xV4d1b4dTWmna7pt5cm5iYRW90kjYBOThSTXm/wD1ZdN+JkVu5wuoW0lsM9N3Dj/ANAx+NcxP8NvGtvnf4X1U/8AXO2Z/wD0HNen/B/4Q6tb63a+JfEEMljHat5ltaSDbLI/ZmHVQPQ8k+3UA+h6KKKACiiigAooooAKKKKACiiigD//2Q==\n",
      "text/plain": [
       "<IPython.core.display.Image object>"
      ]
     },
     "metadata": {},
     "output_type": "display_data"
    },
    {
     "data": {
      "image/jpeg": "/9j/4AAQSkZJRgABAQAAAQABAAD/2wBDAAgGBgcGBQgHBwcJCQgKDBQNDAsLDBkSEw8UHRofHh0aHBwgJC4nICIsIxwcKDcpLDAxNDQ0Hyc5PTgyPC4zNDL/wAALCAAwACABAREA/8QAHwAAAQUBAQEBAQEAAAAAAAAAAAECAwQFBgcICQoL/8QAtRAAAgEDAwIEAwUFBAQAAAF9AQIDAAQRBRIhMUEGE1FhByJxFDKBkaEII0KxwRVS0fAkM2JyggkKFhcYGRolJicoKSo0NTY3ODk6Q0RFRkdISUpTVFVWV1hZWmNkZWZnaGlqc3R1dnd4eXqDhIWGh4iJipKTlJWWl5iZmqKjpKWmp6ipqrKztLW2t7i5usLDxMXGx8jJytLT1NXW19jZ2uHi4+Tl5ufo6erx8vP09fb3+Pn6/9oACAEBAAA/APc9V1Wx0PS7jU9TuY7azt03yyv0UfzJJwABySQBkmvkz4kfFPVPHOoyw28s9loS/JFZB8eaAQd8oBwzZAIHIXAxzlj6n8EPifd+IHl8Na/dyXGoInm2dzMyAyxqqgxnoWcYLZO4sNxJG3n2yvnD47fEm31jyfC+h3kFzYLsnu7q2mLLI/O2LI+VlHDH73zbehQ58Pq5pWq32h6pb6nplzJbXlu++KVOqn+RBGQQeCCQcg17v8XPjFC+lnQfDMtpdW+p2SvNfpKHKRvuVovLx8jlQM7uQGPyg4I80+Hfwy1T4g3kpik+xaZBkTXzx7wHxkIq5G5uQTyMDknlQff7H4FeAbSzjgm0ue9kXOZ57uQO+STyEZV46cAdPXmvKPjd8NdO8If2bq2gWn2bTJ8200XmM+ybllbLsWO5dwwBgeX/ALVanwY+G/hfxj4Qm1HWrGSe4g1OSPKzugeMQphGCkcbnLZGDkDnGQev/Z1gmh+HN08sUiJNqcrxMykB18uNcr6jcrDI7gjtXrlc/wCNPCdn418L3Wi3j+V5uHhnCB2hkU5VgD+IOMEqWGRnNfOnwJvJtG+LK6dcWkiz3dvPZyLJlGgZf3hypGc5i244xn2xX1PBBDa28VvbxRwwRIEjjjUKqKBgAAcAAcYqSiuf/wCEJ8O/8Jf/AMJX/Z//ABO/+frzpP8Ann5f3N237nHT3610FFFFf//Z\n",
      "text/plain": [
       "<IPython.core.display.Image object>"
      ]
     },
     "metadata": {},
     "output_type": "display_data"
    },
    {
     "name": "stdout",
     "output_type": "stream",
     "text": [
      "(48, 32)\n",
      "Predicted:  [ 0.09554826  0.02259596 18.693811    0.03672027  0.00383084  0.10578196\n",
      "  0.01946336  9.832509    0.00116549  0.04295434 20.824188    0.25227472\n",
      "  0.00718115  1.942681   11.224121    0.00062175  0.0521364   0.08616596\n",
      " 12.067389    0.0480539   0.27118844 23.988121    0.00190417  0.21808068\n",
      "  0.15080003  0.01063186  0.00008637]\n",
      "Index of class with highest probability:  21\n",
      "Value of highest probability:  0.2398812\n",
      "Name of predicted class:  Tet\n",
      "habbabuk/Tet/standard.png\n"
     ]
    },
    {
     "data": {
      "image/jpeg": "/9j/4AAQSkZJRgABAQAAAQABAAD/2wBDAAgGBgcGBQgHBwcJCQgKDBQNDAsLDBkSEw8UHRofHh0aHBwgJC4nICIsIxwcKDcpLDAxNDQ0Hyc5PTgyPC4zNDL/2wBDAQkJCQwLDBgNDRgyIRwhMjIyMjIyMjIyMjIyMjIyMjIyMjIyMjIyMjIyMjIyMjIyMjIyMjIyMjIyMjIyMjIyMjL/wAARCAA4ADgDASIAAhEBAxEB/8QAHwAAAQUBAQEBAQEAAAAAAAAAAAECAwQFBgcICQoL/8QAtRAAAgEDAwIEAwUFBAQAAAF9AQIDAAQRBRIhMUEGE1FhByJxFDKBkaEII0KxwRVS0fAkM2JyggkKFhcYGRolJicoKSo0NTY3ODk6Q0RFRkdISUpTVFVWV1hZWmNkZWZnaGlqc3R1dnd4eXqDhIWGh4iJipKTlJWWl5iZmqKjpKWmp6ipqrKztLW2t7i5usLDxMXGx8jJytLT1NXW19jZ2uHi4+Tl5ufo6erx8vP09fb3+Pn6/8QAHwEAAwEBAQEBAQEBAQAAAAAAAAECAwQFBgcICQoL/8QAtREAAgECBAQDBAcFBAQAAQJ3AAECAxEEBSExBhJBUQdhcRMiMoEIFEKRobHBCSMzUvAVYnLRChYkNOEl8RcYGRomJygpKjU2Nzg5OkNERUZHSElKU1RVVldYWVpjZGVmZ2hpanN0dXZ3eHl6goOEhYaHiImKkpOUlZaXmJmaoqOkpaanqKmqsrO0tba3uLm6wsPExcbHyMnK0tPU1dbX2Nna4uPk5ebn6Onq8vP09fb3+Pn6/9oADAMBAAIRAxEAPwD3+is/XtVTQvD+o6tJG0qWVvJOUXq21ScfjivIfhp8bb3xR4r/ALF122tIBd5+xyW4ZdrDnY2Sc5AOD68d+AD26iivGfiZ8b18N38uieHYobrUIjtuLmX5o4W7qAPvMO/YdOecAHs1FfJth8evHVpeia5vLa9hzzBLbIq49igB/WvoLwD8RdJ8fac0lpm3voQPtFnI2WT3B/iX3/PFAHYUUUUARzwRXNvJBPGskUqlHRhkMpGCD+FfGni/Q7r4cfEZ4LdmAtJ0u7KQ/wAUedyH8MYPuDX2fXz1+0rpe280HVlX78cls59NpDL/AOhPQB6v4z8VHS/hff8AiSwbDNZJJbP/AHTLtVG/AuD+FfNXww+H0/xB8RP9peWPTLbEl5OPvMT0QE/xHnnsAT6Z95+HcFl43+CWn6ZqStLbtAbSZVbBHlvhcHscKprsfDnhvSPB2iDTtKgFvaITI7O2SzHqzMep/oBQBmJ8MfBEen/Yh4Y04xbdu5oQZP8Av4fmz75r5/8AGmjXHwa+JVlqGgTv9lkX7RAkjZ+XOHiY9x7+hHcZr3jXfix4K8PhluNbguJl/wCWNn++Yn0+XgH6kV82fE3x0fiH4ohurS1lhtIYhBbQvgu2SSSQM8knGBnoKAPrnRdWttd0Sy1W0JNvdwrMmeoBGcH3HQ/Sisf4e6NP4f8Ah/oumXQK3ENuDKp6ozEsV/Atj8KKAOmryr9oLTvtnw1N0B81leRS59Acp/NxXqtcr8StLm1n4ca7Y28TTTPbF0jUZLMhDgD3+WgDwj4YfFnT/AngzUdPvLae6ujcma1hTAU7lAO5j90ZUdj16VxniLxn4p8f6r5d1cXNx5z4h0+2DeWD2CoOp9zk1e8D/CrxD42mWSKE2Wmg4e9uFIX32Dq5+nHqRX034M+HegeB7QJpttvu2XEt7MA0r/j/AAj2HH160AeG+Ff2fNe1QJca9cx6TbnnyRiScj6A7V/Ek+1e3eFPhl4W8HFZdO08SXij/j8uT5kv4Hov/AQK6+igAooooAKKKKACiiigAooooAKKKKAP/9k=\n",
      "text/plain": [
       "<IPython.core.display.Image object>"
      ]
     },
     "metadata": {},
     "output_type": "display_data"
    },
    {
     "data": {
      "image/jpeg": "/9j/4AAQSkZJRgABAQAAAQABAAD/2wBDAAgGBgcGBQgHBwcJCQgKDBQNDAsLDBkSEw8UHRofHh0aHBwgJC4nICIsIxwcKDcpLDAxNDQ0Hyc5PTgyPC4zNDL/wAALCAAwACABAREA/8QAHwAAAQUBAQEBAQEAAAAAAAAAAAECAwQFBgcICQoL/8QAtRAAAgEDAwIEAwUFBAQAAAF9AQIDAAQRBRIhMUEGE1FhByJxFDKBkaEII0KxwRVS0fAkM2JyggkKFhcYGRolJicoKSo0NTY3ODk6Q0RFRkdISUpTVFVWV1hZWmNkZWZnaGlqc3R1dnd4eXqDhIWGh4iJipKTlJWWl5iZmqKjpKWmp6ipqrKztLW2t7i5usLDxMXGx8jJytLT1NXW19jZ2uHi4+Tl5ufo6erx8vP09fb3+Pn6/9oACAEBAAA/AMP9oeea1+Jel3FvLJDPFpkTxyRsVZGE0pBBHIIPOa+g9Y8VaFoOhprWpanBDpsmzy51JkEu7ldgXJfI5+XPAJ6AmvN/En7Q3hrTPLTQ7WfWpGwWb5raNRzkZddxYYHG3GD1yMV6R4Y8T6X4u0OHV9In823k4ZW4eJx1Rx2YZH5ggkEE/InxD8cTeP8AxKurS2MdkkdulvFCshchQWbLNgZO5m6AcYHbJ9A1b4YeP/EujeDrC71COcLZSFYp7byI9MjCxhUkcLuZ2GwYK5BVuoDNXB/EH4f3nw/1HT7O6uPtX2q0ExmSEpGJMkPGrH7235Tng4YZAzW58DtW1KH4laRpcWoXaafM87y2izMInbyH5ZM4J+VeSOw9K+m7fwp4ftdck1u30Wxi1OTlrpIFD5O7LA44Y72yw5bOCTgY2K8X/aP0b7X4S0zV0Sd5LC7MTbBlEjlXlm44+ZIwDkD5sckiuI/Z21v7D45u9JkuNkOpWh2RbM+ZNGdy844whlPUA/XFfT9FZ+uaNZ+IdDvdIv032t3E0T4AJXPRlyCAwOCDjggGvkD4V6Z/a/xQ8PW3neVsuxc7tu7Pkgy7cZHXZjPbOeelfZ9FFc3ofgHwv4a1m51bRtJjs7y4RkkaOR9u1mDEBC21RlRwAMYwMCukooor/9k=\n",
      "text/plain": [
       "<IPython.core.display.Image object>"
      ]
     },
     "metadata": {},
     "output_type": "display_data"
    }
   ],
   "source": [
<<<<<<< HEAD
    "for character in single_characters:\n",
    "#     char_pred = cv2.cvtColor(char, cv2.COLOR_BGR2GRAY)\n",
    "    shape = cv2.resize(character,(32,48))\n",
    "    ret, thresh1 = cv2.threshold(shape,127,255,cv2.THRESH_BINARY)\n",
    "    \n",
    "    char = thresh1\n",
=======
    "for char in chars:\n",
    "#     char_pred = cv2.cvtColor(char, cv2.COLOR_BGR2GRAY)\n",
>>>>>>> bd57b4512b97cdd941a556532deb1ef09b42dde5
    "    char_pred = np.asarray(char[:], dtype='float32')\n",
    "    print(char_pred.shape)\n",
    "    char_pred = normalize(char_pred)\n",
    "    char_pred = char_pred.reshape(-1, 48, 32,1)\n",
    "\n",
    "    prediction = model.predict([char_pred])\n",
    "    for i in range(len(prediction)):\n",
    "        print('Predicted: ', prediction[i] * 100)\n",
    "    highest_index = np.argmax(prediction)\n",
    "    print('Index of class with highest probability: ',highest_index)\n",
    "    print('Value of highest probability: ', prediction[0][highest_index])\n",
    "    print('Name of predicted class: ', class_names[highest_index])\n",
    "    print('habbabuk/' + class_names[highest_index] + '/standard.png')\n",
    "    character_example = cv2.imread('habbakuk/' + str(class_names[highest_index]) + '/standard.png')\n",
    "    showarray(character_example)\n",
    "    showarray(char)"
   ]
  },
  {
   "cell_type": "code",
   "execution_count": 188,
   "metadata": {
    "inputHidden": false,
    "outputHidden": false
   },
   "outputs": [],
   "source": [
    "# for box in bounding_boxes:\n",
    "#     xStart = box[2]\n",
    "#     xEnd = box[0]\n",
    "#     y = box[1]\n",
    "#     winH = box[3] - y\n",
    "#     winWidth = 5\n",
    "#     while(xStart-winWidth >= xEnd) :\n",
    "#         hit = False\n",
    "#         winW = winWidth\n",
    "#         a = 0\n",
    "#         # While the image is not classified and the box has not reached the edge,\n",
    "#         # increase window size\n",
    "#         while(not hit and xStart-winW >= xEnd) :\n",
    "#             newX = xStart - winW\n",
    "#             # Draw the window\n",
    "#             clone = img.copy()\n",
    "#             cv2.rectangle(clone, (xStart, y), (newX, y + winH), (255, 0, 0), 2)\n",
    "#             cv2.rectangle(clone, (xStart,y),(xEnd,y + winH), (0,255,0), 2)\n",
    "#             cv2.imshow(\"Window\", clone)\n",
    "#             cv2.waitKey(0)\n",
    "#             # Check if the CNN returns a high probability for a letter\n",
    "#             # for prob in probabilities :\n",
    "#             #     if prob >= 0.75 :\n",
    "#             #         hit = True\n",
    "#             #         xStart = newX\n",
    "#             # # Increase size of window if nothing has been found\n",
    "#             winW += 5\n",
    "#             # this is done to ensure that the loop ends for now, because not\n",
    "#             # connected to cnn yet.\n",
    "#             hit = True\n",
    "#             xStart = newX"
   ]
  },
  {
   "cell_type": "code",
   "execution_count": 189,
   "metadata": {
    "inputHidden": false,
    "outputHidden": false
   },
   "outputs": [],
   "source": [
    "# def get_resized_img(img, video_size):\n",
    "#     width, height = video_size  # these are the MAX dimensions\n",
    "#     video_ratio = width / height\n",
    "#     img_ratio = img.size[0] / img.size[1]\n",
    "#     if video_ratio >= 1:  # the video is wide\n",
    "#         if img_ratio <= video_ratio:  # image is not wide enough\n",
    "#             width_new = int(height * img_ratio)\n",
    "#             size_new = width_new, height\n",
    "#         else:  # image is wider than video\n",
    "#             height_new = int(width / img_ratio)\n",
    "#             size_new = width, height_new\n",
    "#     else:  # the video is tall\n",
    "#         if img_ratio >= video_ratio:  # image is not tall enough\n",
    "#             height_new = int(width / img_ratio)\n",
    "#             size_new = width, height_new\n",
    "#         else:  # image is taller than video\n",
    "#             width_new = int(height * img_ratio)\n",
    "#             size_new = width_new, height\n",
    "#     return np.asarray(img.resize(size_new, resample=Image.LANCZOS))"
   ]
  },
  {
   "cell_type": "code",
   "execution_count": 190,
   "metadata": {
    "inputHidden": false,
    "lines_to_next_cell": 2,
    "outputHidden": false
   },
   "outputs": [],
   "source": [
    "# char = cv2.cvtColor(char, char, cv2.COLOR_BGR2GRAY)"
   ]
  },
  {
   "cell_type": "code",
   "execution_count": 7,
   "metadata": {
    "inputHidden": false,
    "lines_to_next_cell": 2,
    "outputHidden": false
   },
   "outputs": [
    {
     "ename": "NameError",
     "evalue": "name 'python' is not defined",
     "output_type": "error",
     "traceback": [
      "\u001b[0;31m---------------------------------------------------------------------------\u001b[0m",
      "\u001b[0;31mNameError\u001b[0m                                 Traceback (most recent call last)",
      "\u001b[0;32m<ipython-input-7-a4637bbefc43>\u001b[0m in \u001b[0;36m<module>\u001b[0;34m\u001b[0m\n\u001b[0;32m----> 1\u001b[0;31m \u001b[0mpython\u001b[0m \u001b[0;34m-\u001b[0m\u001b[0;34m-\u001b[0m\u001b[0mversion\u001b[0m\u001b[0;34m\u001b[0m\u001b[0;34m\u001b[0m\u001b[0m\n\u001b[0m",
      "\u001b[0;31mNameError\u001b[0m: name 'python' is not defined"
     ]
    }
   ],
   "source": []
  },
  {
   "cell_type": "code",
   "execution_count": null,
   "metadata": {
    "inputHidden": false,
    "lines_to_next_cell": 2,
    "outputHidden": false
   },
   "outputs": [],
   "source": []
  },
  {
   "cell_type": "code",
   "execution_count": null,
   "metadata": {
    "inputHidden": false,
    "outputHidden": false
   },
   "outputs": [],
   "source": []
  }
 ],
 "metadata": {
  "kernel_info": {
   "name": "python3"
  },
  "kernelspec": {
   "display_name": "hwr",
   "language": "python",
   "name": "hwr"
  },
  "language_info": {
   "codemirror_mode": {
    "name": "ipython",
    "version": 3
   },
   "file_extension": ".py",
   "mimetype": "text/x-python",
   "name": "python",
   "nbconvert_exporter": "python",
   "pygments_lexer": "ipython3",
   "version": "3.7.3"
  }
 },
 "nbformat": 4,
 "nbformat_minor": 2
}
